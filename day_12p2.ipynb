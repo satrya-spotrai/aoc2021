{
 "cells": [
  {
   "cell_type": "code",
   "execution_count": 254,
   "id": "bd71ae5f-70a4-479d-9b3b-ce10dcbec514",
   "metadata": {},
   "outputs": [],
   "source": [
    "nodesmap = {'A': ['c', 'b', 'end'],\n",
    " 'b': ['A', 'd', 'end'],\n",
    " 'c': ['A'],\n",
    " 'd': ['b'],\n",
    " 'end': ['A', 'b'],\n",
    " 'start': ['A', 'b']}"
   ]
  },
  {
   "cell_type": "code",
   "execution_count": 255,
   "id": "bffca773-7046-4563-a7a5-46bce4a088bd",
   "metadata": {},
   "outputs": [
    {
     "data": {
      "text/plain": [
       "{'A': ['c', 'b', 'end'],\n",
       " 'b': ['A', 'd', 'end'],\n",
       " 'c': ['A'],\n",
       " 'd': ['b'],\n",
       " 'end': ['A', 'b'],\n",
       " 'start': ['A', 'b']}"
      ]
     },
     "execution_count": 255,
     "metadata": {},
     "output_type": "execute_result"
    }
   ],
   "source": [
    "nodesmap"
   ]
  },
  {
   "cell_type": "code",
   "execution_count": 290,
   "id": "48d9b6de-edb0-4901-bcd7-9a487defca89",
   "metadata": {},
   "outputs": [],
   "source": [
    "def check_done_bases(bases):\n",
    "    \n",
    "    unfinished_stacks = []\n",
    "    \n",
    "    for base in bases:\n",
    "        lastnode = base[-1]\n",
    "        if lastnode == 'end':\n",
    "            done_stacks.append(base)\n",
    "            continue\n",
    "        \n",
    "        unfinished_stacks.append(base)\n",
    "    \n",
    "    return unfinished_stacks"
   ]
  },
  {
   "cell_type": "code",
   "execution_count": 291,
   "id": "5ff8b041-6549-4687-a002-b73a581882d5",
   "metadata": {},
   "outputs": [],
   "source": [
    "# test check_bases\n",
    "testbases = [['start', 'A', 'c'], ['start', 'A', 'b'], ['start', 'A', 'end'], ['start', 'b', 'A'], ['start', 'b', 'd'], ['start', 'b', 'end']]\n",
    "remaining = check_done_bases(testbases)\n",
    "assert remaining == [['start', 'A', 'c'],\n",
    " ['start', 'A', 'b'],\n",
    " ['start', 'b', 'A'],\n",
    " ['start', 'b', 'd']]"
   ]
  },
  {
   "cell_type": "code",
   "execution_count": 297,
   "id": "dcf7c09d-f08c-4f79-8cf5-096958b08729",
   "metadata": {},
   "outputs": [],
   "source": [
    "def filter_base_options(base, next_options):\n",
    "    checked_options = []\n",
    "    \n",
    "    for option in next_options:\n",
    "        \n",
    "        if has_two_lower(base):\n",
    "            # already taken lower\n",
    "            if option.islower():\n",
    "                if option in base:\n",
    "                    continue\n",
    "\n",
    "        checked_options.append(option)\n",
    "    \n",
    "    return checked_options"
   ]
  },
  {
   "cell_type": "code",
   "execution_count": 298,
   "id": "a7538e95-0f34-492a-b321-6c324029c161",
   "metadata": {},
   "outputs": [],
   "source": [
    "testbase2 = ['start', 'A', 'c', 'A']\n",
    "testoptions2 = ['c', 'b', 'end']\n",
    "filteredtest = filter_base_options(testbase2, testoptions2)\n",
    "assert filteredtest == ['c', 'b', 'end'], filteredtest\n",
    "\n",
    "testbase5 = ['start','A','b','d']\n",
    "testoptions5 = ['b']\n",
    "filteredtest = filter_base_options(testbase5, testoptions5)\n",
    "assert filteredtest == ['b'], filteredtest\n",
    "\n",
    "testbase6 = ['start','A','b','d', 'b']\n",
    "testoptions6 = ['A', 'd', 'end']\n",
    "filteredtest = filter_base_options(testbase6, testoptions6)\n",
    "assert filteredtest == ['A', 'end'], filteredtest"
   ]
  },
  {
   "cell_type": "code",
   "execution_count": 299,
   "id": "409f2d4d-0ad3-4027-81da-aae7eb3ac992",
   "metadata": {},
   "outputs": [],
   "source": [
    "def has_two_lower(base):\n",
    "    lowers = {char: 0 for char in base if char.islower()}\n",
    "    \n",
    "    for char in base:\n",
    "        if char.islower():\n",
    "            lowers[char] += 1\n",
    "    \n",
    "    if max(lowers.values()) >= 2:\n",
    "        return True\n",
    "    else:\n",
    "        return False"
   ]
  },
  {
   "cell_type": "code",
   "execution_count": 300,
   "id": "9f110bc1-5a03-4f1b-b4e4-5a3f903e6d05",
   "metadata": {},
   "outputs": [],
   "source": [
    "testbase3 =  ['start', 'A', 'c', 'A', 'b', 'A', 'b']\n",
    "assert has_two_lower(testbase3) == True\n",
    "\n",
    "testbase4 =  ['start', 'A', 'c', 'A', 'b', 'A']\n",
    "assert has_two_lower(testbase4) == False"
   ]
  },
  {
   "cell_type": "code",
   "execution_count": 153,
   "id": "3d105f85-7ba5-4e47-9275-42fb424718e1",
   "metadata": {
    "jupyter": {
     "source_hidden": true
    },
    "tags": []
   },
   "outputs": [
    {
     "name": "stdout",
     "output_type": "stream",
     "text": [
      "['start']\n",
      "A\n",
      "b\n",
      "[['start', 'A'], ['start', 'b']]\n",
      "-------------------------\n",
      "[['start', 'A', 'c'], ['start', 'A', 'b'], ['start', 'A', 'end'], ['start', 'b', 'A'], ['start', 'b', 'd'], ['start', 'b', 'end']]\n",
      "{'c': ['A'], 'b': ['A', 'd', 'end'], 'end': ['A', 'b'], 'A': ['c', 'b', 'end'], 'd': ['b']}\n",
      "-------------------------\n",
      "[['start', 'A', 'c', 'A'], ['start', 'A', 'b', 'A'], ['start', 'A', 'b', 'd'], ['start', 'A', 'b', 'end'], ['start', 'b', 'A', 'c'], ['start', 'b', 'A', 'end']]\n",
      "{'A': ['c', 'b', 'end'], 'd': ['b'], 'end': ['A', 'b'], 'c': ['A']}\n",
      "------------------------------\n",
      "['start', 'A', 'c', 'A']\n",
      "b\n",
      "end\n",
      "['start', 'A', 'b', 'A']\n",
      "c\n",
      "end\n",
      "['start', 'A', 'b', 'd']\n",
      "['start', 'b', 'A', 'c']\n",
      "A\n"
     ]
    }
   ],
   "source": [
    "# initial globals\n",
    "options = {'start': ['A', 'b']}\n",
    "tr = 0\n",
    "bases = [['start']]\n",
    "done_stacks = []\n",
    "\n",
    "\n",
    "new_bases = []\n",
    "next_options = {}\n",
    "\n",
    "for base in bases:\n",
    "    print(base)\n",
    "    last_node = base[-1]\n",
    "    base_options = filter_base_options(base, options[last_node])\n",
    "    \n",
    "    for option in base_options:\n",
    "        print(option)\n",
    "        new_bases.append(base + [option])\n",
    "        next_options[option] = nodesmap[option]\n",
    "        \n",
    "print(new_bases)\n",
    "tr+= 1\n",
    "\n",
    "print('-------------------------')\n",
    "\n",
    "options = next_options\n",
    "bases = new_bases\n",
    "\n",
    "next_options = {}\n",
    "new_bases = []\n",
    "\n",
    "for base in bases:\n",
    "    last_node = base[-1]\n",
    "    base_options = filter_base_options(base, options[last_node])\n",
    "    \n",
    "    for option in base_options:\n",
    "        new_bases.append(base + [option])\n",
    "        next_options[option] = nodesmap[option]\n",
    "\n",
    "print(new_bases)\n",
    "print(next_options)\n",
    "tr+=1\n",
    "\n",
    "print('-------------------------')\n",
    "\n",
    "options = next_options\n",
    "bases = new_bases\n",
    "\n",
    "next_options = {}\n",
    "new_bases = []\n",
    "\n",
    "# retire done bases\n",
    "bases = check_done_bases(bases)\n",
    "\n",
    "for base in bases:\n",
    "    last_node = base[-1]\n",
    "    base_options = filter_base_options(base, options[last_node])\n",
    "    \n",
    "    for option in base_options:\n",
    "        new_bases.append(base + [option])\n",
    "        next_options[option] = nodesmap[option]\n",
    "\n",
    "print(new_bases)\n",
    "print(next_options)\n",
    "tr+=1\n",
    "\n",
    "print('------------------------------')\n",
    "options = next_options\n",
    "bases = new_bases\n",
    "\n",
    "next_options = {}\n",
    "new_bases = []\n",
    "\n",
    "# retire done bases\n",
    "bases = check_done_bases(bases)\n",
    "\n",
    "for base in bases:\n",
    "    print(base)\n",
    "    last_node = base[-1]\n",
    "    base_options = filter_base_options(base, options[last_node])\n",
    "    \n",
    "    for option in base_options:\n",
    "        print(option)\n",
    "        new_bases.append(base + [option])\n",
    "        next_options[option] = nodesmap[option]"
   ]
  },
  {
   "cell_type": "code",
   "execution_count": 260,
   "id": "64dd337b-656d-460e-97c7-391ee24b03cd",
   "metadata": {},
   "outputs": [],
   "source": [
    "def base_iteration(bases, options):\n",
    "    \n",
    "    next_bases = []\n",
    "    next_options = {}\n",
    "    \n",
    "    # retire done bases &  and dead bases\n",
    "    bases = check_done_bases(bases)\n",
    "\n",
    "    for base in bases:\n",
    "        last_node = base[-1]\n",
    "        base_options = filter_base_options(base, options[last_node])\n",
    "\n",
    "        for option in base_options:\n",
    "            next_bases.append(base + [option])\n",
    "            next_options[option] = nodesmap[option]\n",
    "    \n",
    "    return next_bases, next_options"
   ]
  },
  {
   "cell_type": "code",
   "execution_count": 304,
   "id": "59f3488f-5f1e-436a-af7b-27e1a4ffd920",
   "metadata": {},
   "outputs": [
    {
     "name": "stdout",
     "output_type": "stream",
     "text": [
      "[['start', 'A', 'c', 'A', 'c', 'A'], ['start', 'A', 'c', 'A', 'b', 'A'], ['start', 'A', 'c', 'A', 'b', 'd'], ['start', 'A', 'c', 'A', 'b', 'end'], ['start', 'A', 'b', 'A', 'c', 'A'], ['start', 'A', 'b', 'A', 'b', 'A'], ['start', 'A', 'b', 'A', 'b', 'd'], ['start', 'A', 'b', 'A', 'b', 'end'], ['start', 'A', 'b', 'd', 'b', 'A'], ['start', 'A', 'b', 'd', 'b', 'end'], ['start', 'b', 'A', 'c', 'A', 'c'], ['start', 'b', 'A', 'c', 'A', 'b'], ['start', 'b', 'A', 'c', 'A', 'end'], ['start', 'b', 'A', 'b', 'A', 'c'], ['start', 'b', 'A', 'b', 'A', 'end'], ['start', 'b', 'd', 'b', 'A', 'c'], ['start', 'b', 'd', 'b', 'A', 'end']]\n",
      "{'A': ['c', 'b', 'end'], 'd': ['b'], 'end': ['A', 'b'], 'c': ['A'], 'b': ['A', 'd', 'end']}\n"
     ]
    }
   ],
   "source": [
    "# initial globals\n",
    "options = {'start': ['A', 'b']}\n",
    "tr = 0\n",
    "bases = [['start']]\n",
    "done_stacks = []\n",
    "\n",
    "tr = 0\n",
    "\n",
    "while tr < 20 and (len(bases) > 0):\n",
    "    # print(tr)\n",
    "    # print(bases)\n",
    "    # print('----------------------')\n",
    "    \n",
    "    new_bases, new_options = base_iteration(bases, options)\n",
    "    \n",
    "    bases = new_bases\n",
    "    options = new_options\n",
    "    \n",
    "    tr += 1"
   ]
  },
  {
   "cell_type": "code",
   "execution_count": 305,
   "id": "fa38a61b-2100-49b1-b624-980564c79bfb",
   "metadata": {},
   "outputs": [
    {
     "data": {
      "text/plain": [
       "[['start', 'A', 'b', 'A', 'b', 'A', 'c', 'A', 'end'],\n",
       " ['start', 'A', 'b', 'A', 'b', 'A', 'end'],\n",
       " ['start', 'A', 'b', 'A', 'b', 'end'],\n",
       " ['start', 'A', 'b', 'A', 'c', 'A', 'b', 'A', 'end'],\n",
       " ['start', 'A', 'b', 'A', 'c', 'A', 'b', 'end'],\n",
       " ['start', 'A', 'b', 'A', 'c', 'A', 'c', 'A', 'end'],\n",
       " ['start', 'A', 'b', 'A', 'c', 'A', 'end'],\n",
       " ['start', 'A', 'b', 'A', 'end'],\n",
       " ['start', 'A', 'b', 'd', 'b', 'A', 'c', 'A', 'end'],\n",
       " ['start', 'A', 'b', 'd', 'b', 'A', 'end'],\n",
       " ['start', 'A', 'b', 'd', 'b', 'end'],\n",
       " ['start', 'A', 'b', 'end'],\n",
       " ['start', 'A', 'c', 'A', 'b', 'A', 'b', 'A', 'end'],\n",
       " ['start', 'A', 'c', 'A', 'b', 'A', 'b', 'end'],\n",
       " ['start', 'A', 'c', 'A', 'b', 'A', 'c', 'A', 'end'],\n",
       " ['start', 'A', 'c', 'A', 'b', 'A', 'end'],\n",
       " ['start', 'A', 'c', 'A', 'b', 'd', 'b', 'A', 'end'],\n",
       " ['start', 'A', 'c', 'A', 'b', 'd', 'b', 'end'],\n",
       " ['start', 'A', 'c', 'A', 'b', 'end'],\n",
       " ['start', 'A', 'c', 'A', 'c', 'A', 'b', 'A', 'end'],\n",
       " ['start', 'A', 'c', 'A', 'c', 'A', 'b', 'end'],\n",
       " ['start', 'A', 'c', 'A', 'c', 'A', 'end'],\n",
       " ['start', 'A', 'c', 'A', 'end'],\n",
       " ['start', 'A', 'end'],\n",
       " ['start', 'b', 'A', 'b', 'A', 'c', 'A', 'end'],\n",
       " ['start', 'b', 'A', 'b', 'A', 'end'],\n",
       " ['start', 'b', 'A', 'b', 'end'],\n",
       " ['start', 'b', 'A', 'c', 'A', 'b', 'A', 'end'],\n",
       " ['start', 'b', 'A', 'c', 'A', 'b', 'end'],\n",
       " ['start', 'b', 'A', 'c', 'A', 'c', 'A', 'end'],\n",
       " ['start', 'b', 'A', 'c', 'A', 'end'],\n",
       " ['start', 'b', 'A', 'end'],\n",
       " ['start', 'b', 'd', 'b', 'A', 'c', 'A', 'end'],\n",
       " ['start', 'b', 'd', 'b', 'A', 'end'],\n",
       " ['start', 'b', 'd', 'b', 'end'],\n",
       " ['start', 'b', 'end']]"
      ]
     },
     "execution_count": 305,
     "metadata": {},
     "output_type": "execute_result"
    }
   ],
   "source": [
    "sorted(done_stacks)"
   ]
  },
  {
   "cell_type": "code",
   "execution_count": 308,
   "id": "c5cb3e7f-4e53-4fab-8952-90118f225ae2",
   "metadata": {},
   "outputs": [
    {
     "data": {
      "text/plain": [
       "36"
      ]
     },
     "execution_count": 308,
     "metadata": {},
     "output_type": "execute_result"
    }
   ],
   "source": [
    "len(done_stacks)"
   ]
  },
  {
   "cell_type": "code",
   "execution_count": 210,
   "id": "c883b8d1-988a-498b-ac05-33d822949a4e",
   "metadata": {},
   "outputs": [
    {
     "data": {
      "text/plain": [
       "{}"
      ]
     },
     "execution_count": 210,
     "metadata": {},
     "output_type": "execute_result"
    }
   ],
   "source": [
    "new_options"
   ]
  },
  {
   "cell_type": "code",
   "execution_count": 307,
   "id": "b0a12ed8-1f46-46a3-80b3-917fb5091e36",
   "metadata": {},
   "outputs": [
    {
     "data": {
      "text/plain": [
       "9"
      ]
     },
     "execution_count": 307,
     "metadata": {},
     "output_type": "execute_result"
    }
   ],
   "source": [
    "tr"
   ]
  },
  {
   "cell_type": "code",
   "execution_count": null,
   "id": "28ab78dc-dc9a-4304-b5c8-48b05be182af",
   "metadata": {},
   "outputs": [],
   "source": []
  },
  {
   "cell_type": "markdown",
   "id": "851f546b-4619-4915-afa1-44259079d7f9",
   "metadata": {},
   "source": [
    "## example 2"
   ]
  },
  {
   "cell_type": "code",
   "execution_count": 318,
   "id": "7982f78b-1af7-464c-958a-27e655d215b8",
   "metadata": {},
   "outputs": [],
   "source": [
    "nodesmap = {'AN': ['gn', 'sp', 'end', 'dw'],\n",
    " 'FK': ['gc', 'dw', 'yh', 'gn', 'sp'],\n",
    " 'FN': ['sp'],\n",
    " 'dw': ['gc', 'end', 'gn', 'ik', 'FK', 'AN'],\n",
    " 'end': ['dw', 'sp', 'AN'],\n",
    " 'gc': ['FK', 'dw', 'gn', 'yh'],\n",
    " 'gn': ['dw', 'AN', 'yh', 'gc', 'sp', 'FK'],\n",
    " 'ik': ['dw'],\n",
    " 'sp': ['FN', 'AN', 'end', 'gn', 'FK'],\n",
    " 'start': ['gc', 'FK', 'yh'],\n",
    " 'yh': ['gn', 'FK', 'gc']}"
   ]
  },
  {
   "cell_type": "code",
   "execution_count": 319,
   "id": "f514fe07-8910-4250-b0a1-4b89e0ab9e68",
   "metadata": {},
   "outputs": [],
   "source": [
    "# initial globals\n",
    "options = {'start': ['gc', 'FK', 'yh']}\n",
    "tr = 0\n",
    "bases = [['start']]\n",
    "done_stacks = []\n",
    "\n",
    "tr = 0\n",
    "\n",
    "while tr < 200 and (len(bases) > 0):\n",
    "    # print(tr)\n",
    "    # print(bases)\n",
    "    # print(options)\n",
    "    # print('----------------------')\n",
    "    \n",
    "    new_bases, new_options = base_iteration(bases, options)\n",
    "    \n",
    "    bases = new_bases\n",
    "    options = new_options\n",
    "    \n",
    "    tr += 1"
   ]
  },
  {
   "cell_type": "code",
   "execution_count": 320,
   "id": "369ae876-c135-4a7d-aad9-d78681311406",
   "metadata": {},
   "outputs": [
    {
     "data": {
      "text/plain": [
       "15"
      ]
     },
     "execution_count": 320,
     "metadata": {},
     "output_type": "execute_result"
    }
   ],
   "source": [
    "tr"
   ]
  },
  {
   "cell_type": "code",
   "execution_count": 321,
   "id": "94eba4f9-c770-46be-8228-5561a8a1aa9c",
   "metadata": {},
   "outputs": [
    {
     "data": {
      "text/plain": [
       "91292"
      ]
     },
     "execution_count": 321,
     "metadata": {},
     "output_type": "execute_result"
    }
   ],
   "source": [
    "len(done_stacks)"
   ]
  },
  {
   "cell_type": "code",
   "execution_count": null,
   "id": "8b15158a-88d5-44da-8fb4-3db9ba9cf8e2",
   "metadata": {},
   "outputs": [],
   "source": []
  }
 ],
 "metadata": {
  "kernelspec": {
   "display_name": "womt-env",
   "language": "python",
   "name": "womt-env"
  },
  "language_info": {
   "codemirror_mode": {
    "name": "ipython",
    "version": 3
   },
   "file_extension": ".py",
   "mimetype": "text/x-python",
   "name": "python",
   "nbconvert_exporter": "python",
   "pygments_lexer": "ipython3",
   "version": "3.8.6"
  }
 },
 "nbformat": 4,
 "nbformat_minor": 5
}
