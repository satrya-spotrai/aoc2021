{
 "cells": [
  {
   "cell_type": "code",
   "execution_count": 16,
   "id": "8dfda440-d4b6-4678-a12c-226801543aa6",
   "metadata": {},
   "outputs": [],
   "source": [
    "import numpy as np\n",
    "from collections import defaultdict"
   ]
  },
  {
   "cell_type": "code",
   "execution_count": 57,
   "id": "1eb757ec-3f6b-431a-8acb-410479d4b427",
   "metadata": {},
   "outputs": [],
   "source": [
    "mapping = np.array([\n",
    "    [0, 1, 6, 9],\n",
    "    [1, 5, 4, 3],\n",
    "    [2, 8, 3, 2],\n",
    "    [2, 9, 1, 0]\n",
    "])\n",
    "\n",
    "test = np.ones((4, 4), dtype='uint64')\n",
    "test[test == 1] = 9999\n",
    "test[0, 0] = 0"
   ]
  },
  {
   "cell_type": "code",
   "execution_count": 154,
   "id": "ce2031a8-319e-4f3b-9e5a-b05ceca9a6a2",
   "metadata": {},
   "outputs": [],
   "source": [
    "def explore(basestack):\n",
    "    \"\"\"check next directions\"\"\"\n",
    "    global stacks\n",
    "    r, c = basestack[-1] # last pos of stack?\n",
    "\n",
    "    up = (r-1, c)\n",
    "    right = (r, c+1)\n",
    "    down = (r+1, c)\n",
    "    left = (r, c-1)\n",
    "    \n",
    "    # TODO check also out of bound over max mapping rows, cols\n",
    "    directions = [down, right, up, left]\n",
    "    to_check = [dir_ for dir_ in directions if (dir_[0] >= 0 and dir_[1] >= 0) and (dir_ not in basestack)] # and not in stack\n",
    "        \n",
    "    updated_stacks = []\n",
    "    for check in to_check:\n",
    "        updated_stacks.append(basestack + [check])\n",
    "\n",
    "    stacks.remove(basestack)\n",
    "    stacks += updated_stacks"
   ]
  },
  {
   "cell_type": "code",
   "execution_count": 156,
   "id": "173ba721-00b2-4f2c-a9e9-9645855bedee",
   "metadata": {},
   "outputs": [],
   "source": [
    "# test explore\n",
    "stacks = [[(0, 0)]]\n",
    "explore(stacks[0])\n",
    "assert stacks == [[(0, 0), (1, 0)], [(0, 0), (0, 1)]]"
   ]
  },
  {
   "cell_type": "code",
   "execution_count": null,
   "id": "021b207d-0a41-4c4a-8a16-c32144ac6d5e",
   "metadata": {},
   "outputs": [],
   "source": []
  },
  {
   "cell_type": "code",
   "execution_count": 157,
   "id": "c2c7f22f-ea50-4063-8258-489dc89d25fb",
   "metadata": {},
   "outputs": [],
   "source": [
    "# stack handler\n",
    "# order stack, low-high total cost\n",
    "# explore step on lowest cost stack\n",
    "# check if last pos on stack is finish\n",
    "def total_path_check(stack):\n",
    "    total_cost = sum([mapping[pos] for pos in stack])\n",
    "    return total_cost\n",
    "\n",
    "stacks_test = [[(0,0),(1,0),(2,0)], [(0,0),(1,0),(1,1)], [(0,0),(0,1)]]\n",
    "stacks_sorted = sorted(stacks_test, key=total_path_check)\n",
    "assert stacks_sorted == [[(0,0),(0,1)],[(0,0),(1,0),(2,0)],[(0,0),(1,0),(1,1)]]\n",
    "\n",
    "stacks = stacks_sorted\n",
    "explore(stacks[0])\n",
    "assert stacks == [\n",
    "    [(0, 0), (1, 0), (2, 0)],\n",
    "    [(0, 0), (1, 0), (1, 1)],\n",
    "    [(0, 0), (0, 1), (1, 1)],\n",
    "    [(0, 0), (0, 1), (0, 2)]\n",
    "]"
   ]
  },
  {
   "cell_type": "code",
   "execution_count": 204,
   "id": "3dccdbc3-6d4d-4ce6-995b-b53dfe694f81",
   "metadata": {},
   "outputs": [
    {
     "name": "stdout",
     "output_type": "stream",
     "text": [
      "[(0, (0, 0))] -> 0\n",
      "-----------\n",
      "[(0, (0, 0)), (1, (1, 0))] -> 1\n",
      "[(0, (0, 0)), (1, (0, 1))] -> 1\n",
      "-----------\n",
      "[(0, (0, 0)), (1, (0, 1))] -> 1\n",
      "[(0, (0, 0)), (1, (1, 0)), (2, (2, 0))] -> 3\n",
      "[(0, (0, 0)), (1, (1, 0)), (5, (1, 1))] -> 6\n",
      "-----------\n",
      "[(0, (0, 0)), (1, (1, 0)), (2, (2, 0))] -> 3\n",
      "[(0, (0, 0)), (1, (1, 0)), (5, (1, 1))] -> 6\n",
      "[(0, (0, 0)), (1, (0, 1)), (5, (1, 1))] -> 6\n",
      "[(0, (0, 0)), (1, (0, 1)), (6, (0, 2))] -> 7\n",
      "-----------\n",
      "[(0, (0, 0)), (1, (1, 0)), (2, (2, 0)), (2, (3, 0))] -> 5\n",
      "[(0, (0, 0)), (1, (1, 0)), (5, (1, 1))] -> 6\n",
      "[(0, (0, 0)), (1, (0, 1)), (5, (1, 1))] -> 6\n",
      "[(0, (0, 0)), (1, (0, 1)), (6, (0, 2))] -> 7\n",
      "[(0, (0, 0)), (1, (1, 0)), (2, (2, 0)), (8, (2, 1))] -> 11\n",
      "-----------\n"
     ]
    },
    {
     "ename": "IndexError",
     "evalue": "index 4 is out of bounds for axis 0 with size 4",
     "output_type": "error",
     "traceback": [
      "\u001b[0;31m---------------------------------------------------------------------------\u001b[0m",
      "\u001b[0;31mIndexError\u001b[0m                                Traceback (most recent call last)",
      "Input \u001b[0;32mIn [204]\u001b[0m, in \u001b[0;36m<module>\u001b[0;34m\u001b[0m\n\u001b[1;32m      4\u001b[0m \u001b[38;5;66;03m# def stack_handler():\u001b[39;00m\n\u001b[1;32m      6\u001b[0m \u001b[38;5;28;01mfor\u001b[39;00m i \u001b[38;5;129;01min\u001b[39;00m \u001b[38;5;28mrange\u001b[39m(\u001b[38;5;241m6\u001b[39m):\n\u001b[0;32m----> 7\u001b[0m     stacks \u001b[38;5;241m=\u001b[39m \u001b[38;5;28;43msorted\u001b[39;49m\u001b[43m(\u001b[49m\u001b[43mstacks\u001b[49m\u001b[43m,\u001b[49m\u001b[43m \u001b[49m\u001b[43mkey\u001b[49m\u001b[38;5;241;43m=\u001b[39;49m\u001b[43mtotal_path_check\u001b[49m\u001b[43m)\u001b[49m\n\u001b[1;32m      8\u001b[0m     print_stacks(stacks)\n\u001b[1;32m     10\u001b[0m     explore(stacks[\u001b[38;5;241m0\u001b[39m])\n",
      "Input \u001b[0;32mIn [157]\u001b[0m, in \u001b[0;36mtotal_path_check\u001b[0;34m(stack)\u001b[0m\n\u001b[1;32m      5\u001b[0m \u001b[38;5;28;01mdef\u001b[39;00m \u001b[38;5;21mtotal_path_check\u001b[39m(stack):\n\u001b[0;32m----> 6\u001b[0m     total_cost \u001b[38;5;241m=\u001b[39m \u001b[38;5;28msum\u001b[39m([mapping[pos] \u001b[38;5;28;01mfor\u001b[39;00m pos \u001b[38;5;129;01min\u001b[39;00m stack])\n\u001b[1;32m      7\u001b[0m     \u001b[38;5;28;01mreturn\u001b[39;00m total_cost\n",
      "Input \u001b[0;32mIn [157]\u001b[0m, in \u001b[0;36m<listcomp>\u001b[0;34m(.0)\u001b[0m\n\u001b[1;32m      5\u001b[0m \u001b[38;5;28;01mdef\u001b[39;00m \u001b[38;5;21mtotal_path_check\u001b[39m(stack):\n\u001b[0;32m----> 6\u001b[0m     total_cost \u001b[38;5;241m=\u001b[39m \u001b[38;5;28msum\u001b[39m([\u001b[43mmapping\u001b[49m\u001b[43m[\u001b[49m\u001b[43mpos\u001b[49m\u001b[43m]\u001b[49m \u001b[38;5;28;01mfor\u001b[39;00m pos \u001b[38;5;129;01min\u001b[39;00m stack])\n\u001b[1;32m      7\u001b[0m     \u001b[38;5;28;01mreturn\u001b[39;00m total_cost\n",
      "\u001b[0;31mIndexError\u001b[0m: index 4 is out of bounds for axis 0 with size 4"
     ]
    }
   ],
   "source": [
    "stacks = [[(0,0)]]\n",
    "\n",
    "final_pos = (mapping.shape[0]-1, mapping.shape[1]-1)\n",
    "# def stack_handler():\n",
    "\n",
    "for i in range(6):\n",
    "    stacks = sorted(stacks, key=total_path_check)\n",
    "    print_stacks(stacks)\n",
    "    \n",
    "    explore(stacks[0])\n",
    "\n",
    "    print('-----------')"
   ]
  },
  {
   "cell_type": "code",
   "execution_count": 177,
   "id": "c4e47263-52e9-4e52-9867-bc765b0233eb",
   "metadata": {},
   "outputs": [
    {
     "data": {
      "text/plain": [
       "[[(0, 0), (0, 1), (1, 1)],\n",
       " [(0, 0), (1, 0)],\n",
       " [(0, 0), (0, 1), (0, 2), (1, 2)],\n",
       " [(0, 0), (0, 1), (0, 2), (0, 3)]]"
      ]
     },
     "execution_count": 177,
     "metadata": {},
     "output_type": "execute_result"
    }
   ],
   "source": [
    "stacks"
   ]
  },
  {
   "cell_type": "code",
   "execution_count": 178,
   "id": "7a8acc61-cc3c-409e-9a03-47b649b2b7c9",
   "metadata": {},
   "outputs": [
    {
     "data": {
      "text/plain": [
       "[[(0, 0), (0, 1), (0, 2), (0, 3)],\n",
       " [(0, 0), (0, 1), (0, 2), (1, 2)],\n",
       " [(0, 0), (0, 1), (1, 1)],\n",
       " [(0, 0), (1, 0)]]"
      ]
     },
     "execution_count": 178,
     "metadata": {},
     "output_type": "execute_result"
    }
   ],
   "source": [
    "sorted(stacks)"
   ]
  },
  {
   "cell_type": "code",
   "execution_count": 196,
   "id": "c9395fb0-0a18-4f40-87bb-c8615ae9059e",
   "metadata": {},
   "outputs": [],
   "source": [
    "def print_stacks(stacks):\n",
    "    for stack in stacks:\n",
    "        vals = [(mapping[pos],pos) for pos in stack]\n",
    "        print(f'{vals} -> {total_path_check(stack)}')     "
   ]
  },
  {
   "cell_type": "code",
   "execution_count": 197,
   "id": "1093902b-eff6-4fe1-a6bc-a53207b5d18f",
   "metadata": {},
   "outputs": [
    {
     "name": "stdout",
     "output_type": "stream",
     "text": [
      "[(0, (0, 0)), (1, (0, 1)), (5, (1, 1))] -> 6\n",
      "[(0, (0, 0)), (1, (1, 0))] -> 1\n",
      "[(0, (0, 0)), (1, (0, 1)), (6, (0, 2)), (4, (1, 2))] -> 11\n",
      "[(0, (0, 0)), (1, (0, 1)), (6, (0, 2)), (9, (0, 3))] -> 16\n"
     ]
    }
   ],
   "source": [
    "print_stacks(stacks)"
   ]
  },
  {
   "cell_type": "code",
   "execution_count": 87,
   "id": "d6ca32ee-0002-4f60-8ac8-9cda6ce812bc",
   "metadata": {},
   "outputs": [],
   "source": [
    "# [(0,0)]\n",
    "# 0\n",
    "\n",
    "#[(0,0)-(1,0), (0,0)-(0,1)]\n",
    "# 1, 1\n",
    "\n",
    "#[(0,0)-(1,0)-(2,0), (0,0)-(1,0)-(1,1), (0,0)-(0,1)]\n",
    "# 3, 6, 1\n",
    "\n",
    "#[(0,0)-(1,0)-(2,0), (0,0)-(1,0)-(1,1), (0,0)-(0,1)-(1,1), (0,0)-(0,1)-(0,2)]\n",
    "# 3, 6, 6, 7"
   ]
  },
  {
   "cell_type": "code",
   "execution_count": 64,
   "id": "47722f25-4124-4b8d-ac37-72b9857b3ded",
   "metadata": {},
   "outputs": [],
   "source": [
    "a = [[(0, 0)],]"
   ]
  },
  {
   "cell_type": "code",
   "execution_count": null,
   "id": "f781d991-99a4-4679-ba10-f0a73cc34b84",
   "metadata": {},
   "outputs": [
    {
     "data": {
      "text/plain": [
       "array([[   0,    1, 9999, 9999],\n",
       "       [   1, 9999, 9999, 9999],\n",
       "       [9999, 9999, 9999, 9999],\n",
       "       [9999, 9999, 9999, 9999]], dtype=uint64)"
      ]
     },
     "execution_count": 61,
     "metadata": {},
     "output_type": "execute_result"
    }
   ],
   "source": [
    "test"
   ]
  },
  {
   "cell_type": "code",
   "execution_count": null,
   "id": "d7dff98d-fdb5-4adf-892e-5d8577e6c6b2",
   "metadata": {},
   "outputs": [],
   "source": [
    "# [0, 1, 1]\n",
    "\n",
    "    [0, 1, 6, 9],\n",
    "    [1, 5, 4, 3],\n",
    "    [2, 8, 3, 2],\n",
    "    [2, 9, 1, 0]\n",
    "\n",
    "# paths\n",
    "[\n",
    "    \n",
    "    [(0, 0), (1, 0), (2, 0)], # 0->1->2 = 3\n",
    "    [(0, 0), (1, 0), (2, 0), (2, 1)], # 0->1->2->8 = 11\n",
    "    [(0, 0), (1, 0), (2, 0), (3, 0)], # 0->1->2->2 = 5\n",
    "    [(0, 0), (1, 0), (2, 0), (3, 0), (3, 1)], # 0->1->2->2->9 = 14\n",
    "    \n",
    "    [(0, 0), (0, 1), (1, 1)], # 0->1->5 = 6\n",
    "    [(0, 0), (0, 1), (1, 1), (1, 0)], # 0->1->5->1 = 7\n",
    "    [(0, 0), (0, 1), (1, 1), (1, 0), (2, 0)], # 0->1->5->1-> = 9\n",
    "    \n",
    "    [(0, 0), (0, 1), (1, 1), (2, 1)] # 0->1->5->8 = 14\n",
    "    [(0, 0), (0, 1), (1, 1), (2, 1), (3, 1)] # 0->1->5->8->9 = 23\n",
    "    \n",
    "    [(0, 0), (0, 1), (0, 2)]  # 0->1->6 = 7\n",
    "    [(0, 0), (0, 1), (0, 2), (1, 2)] # 0->1->6->4 = 11\n",
    "    [(0, 0), (0, 1), (0, 2), (1, 2), (2, 2)] # 0->1->6->4->3 = 14\n",
    "    [(0, 0), (0, 1), (0, 2), (1, 2), (2, 2), (3, 2)] # 0->1->6->4->3->1 = 15\n",
    "    \n",
    "    [(0, 0), (0, 1), (0, 2), (0, 3)] # 0->1->6->9 = 16\n",
    "    \n",
    "    [(0, 0), (0, 1), (1, 1), (1, 2)] # 0->1->5->4 = 10\n",
    "    [(0, 0), (0, 1), (1, 1), (1, 2), (2, 2)] # 0->1->5->4->3 = 13\n",
    "    [(0, 0), (0, 1), (1, 1), (1, 2), (2, 2), (3,2)] # 0->1->5->4->3->1 = 14\n",
    "    [(0, 0), (0, 1), (1, 1), (1, 2), (2, 2), (3,2), (3, 3)] # 0->1->5->4->3->1-> = 14 finish\n",
    "]"
   ]
  }
 ],
 "metadata": {
  "kernelspec": {
   "display_name": "womt-env",
   "language": "python",
   "name": "womt-env"
  },
  "language_info": {
   "codemirror_mode": {
    "name": "ipython",
    "version": 3
   },
   "file_extension": ".py",
   "mimetype": "text/x-python",
   "name": "python",
   "nbconvert_exporter": "python",
   "pygments_lexer": "ipython3",
   "version": "3.9.7"
  }
 },
 "nbformat": 4,
 "nbformat_minor": 5
}
