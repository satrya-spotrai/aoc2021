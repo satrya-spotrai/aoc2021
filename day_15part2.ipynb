{
 "cells": [
  {
   "cell_type": "code",
   "execution_count": 16,
   "id": "8dfda440-d4b6-4678-a12c-226801543aa6",
   "metadata": {},
   "outputs": [],
   "source": [
    "import numpy as np\n",
    "from collections import defaultdict"
   ]
  },
  {
   "cell_type": "code",
   "execution_count": 57,
   "id": "1eb757ec-3f6b-431a-8acb-410479d4b427",
   "metadata": {},
   "outputs": [],
   "source": [
    "mapping = np.array([\n",
    "    [0, 1, 6, 9],\n",
    "    [1, 5, 4, 3],\n",
    "    [2, 8, 3, 2],\n",
    "    [2, 9, 1, 0]\n",
    "])\n",
    "\n",
    "test = np.ones((4, 4), dtype='uint64')\n",
    "test[test == 1] = 9999\n",
    "test[0, 0] = 0"
   ]
  },
  {
   "cell_type": "code",
   "execution_count": 103,
   "id": "9b39b8fe-a78c-4a70-9035-5b6ff3797f0a",
   "metadata": {},
   "outputs": [],
   "source": [
    "#stacks = defaultdict(lambda: [(0, 0)])\n",
    "stacks = [[(0, 0)]]"
   ]
  },
  {
   "cell_type": "code",
   "execution_count": 104,
   "id": "ce2031a8-319e-4f3b-9e5a-b05ceca9a6a2",
   "metadata": {},
   "outputs": [],
   "source": [
    "def explore(basestack):\n",
    "    \"\"\"check next directions\"\"\"\n",
    "    global stacks\n",
    "    \n",
    "    r, c = basestack[-1] # last pos of stack?\n",
    "\n",
    "    up = (r-1, c)\n",
    "    right = (r, c+1)\n",
    "    down = (r+1, c)\n",
    "    left = (r, c-1)\n",
    "\n",
    "    directions = [down, right, up, left]\n",
    "    to_check = [dir_ for dir_ in directions if (dir_[0] >= 0 and dir_[1] >= 0) and (dir_ not in basestack)] # and not in stack\n",
    "        \n",
    "    updated_stacks = []\n",
    "    for check in to_check:\n",
    "        updated_stacks.append(basestack + [check])\n",
    "\n",
    "    stacks.remove(basestack)\n",
    "    stacks += updated_stacks"
   ]
  },
  {
   "cell_type": "code",
   "execution_count": 105,
   "id": "173ba721-00b2-4f2c-a9e9-9645855bedee",
   "metadata": {},
   "outputs": [],
   "source": [
    "# test explore\n",
    "explore([(0, 0)])"
   ]
  },
  {
   "cell_type": "code",
   "execution_count": 106,
   "id": "021b207d-0a41-4c4a-8a16-c32144ac6d5e",
   "metadata": {},
   "outputs": [
    {
     "data": {
      "text/plain": [
       "[[(0, 0), (1, 0)], [(0, 0), (0, 1)]]"
      ]
     },
     "execution_count": 106,
     "metadata": {},
     "output_type": "execute_result"
    }
   ],
   "source": [
    "stacks"
   ]
  },
  {
   "cell_type": "code",
   "execution_count": 87,
   "id": "d6ca32ee-0002-4f60-8ac8-9cda6ce812bc",
   "metadata": {},
   "outputs": [],
   "source": [
    "# [(0,0)]\n",
    "# 0\n",
    "\n",
    "#[(0,0)-(1,0), (0,0)-(0,1)]\n",
    "# 1, 1\n",
    "\n",
    "#[(0,0)-(1,0)-(2,0), (0,0)-(1,0)-(1,1), (0,0)-(0,1)]\n",
    "# 3, 6, 1\n",
    "\n",
    "#[(0,0)-(1,0)-(2,0), (0,0)-(1,0)-(1,1), (0,0)-(0,1)-(1,1), (0,0)-(0,1)-(0,2)]\n",
    "# 3, 6, 6, 7"
   ]
  },
  {
   "cell_type": "code",
   "execution_count": 64,
   "id": "47722f25-4124-4b8d-ac37-72b9857b3ded",
   "metadata": {},
   "outputs": [],
   "source": [
    "a = [[(0, 0)],]"
   ]
  },
  {
   "cell_type": "code",
   "execution_count": null,
   "id": "f781d991-99a4-4679-ba10-f0a73cc34b84",
   "metadata": {},
   "outputs": [
    {
     "data": {
      "text/plain": [
       "array([[   0,    1, 9999, 9999],\n",
       "       [   1, 9999, 9999, 9999],\n",
       "       [9999, 9999, 9999, 9999],\n",
       "       [9999, 9999, 9999, 9999]], dtype=uint64)"
      ]
     },
     "execution_count": 61,
     "metadata": {},
     "output_type": "execute_result"
    }
   ],
   "source": [
    "test"
   ]
  },
  {
   "cell_type": "code",
   "execution_count": null,
   "id": "d7dff98d-fdb5-4adf-892e-5d8577e6c6b2",
   "metadata": {},
   "outputs": [],
   "source": [
    "# [0, 1, 1]\n",
    "\n",
    "    [0, 1, 6, 9],\n",
    "    [1, 5, 4, 3],\n",
    "    [2, 8, 3, 2],\n",
    "    [2, 9, 1, 0]\n",
    "\n",
    "# paths\n",
    "[\n",
    "    \n",
    "    [(0, 0), (1, 0), (2, 0)], # 0->1->2 = 3\n",
    "    [(0, 0), (1, 0), (2, 0), (2, 1)], # 0->1->2->8 = 11\n",
    "    [(0, 0), (1, 0), (2, 0), (3, 0)], # 0->1->2->2 = 5\n",
    "    [(0, 0), (1, 0), (2, 0), (3, 0), (3, 1)], # 0->1->2->2->9 = 14\n",
    "    \n",
    "    [(0, 0), (0, 1), (1, 1)], # 0->1->5 = 6\n",
    "    [(0, 0), (0, 1), (1, 1), (1, 0)], # 0->1->5->1 = 7\n",
    "    [(0, 0), (0, 1), (1, 1), (1, 0), (2, 0)], # 0->1->5->1-> = 9\n",
    "    \n",
    "    [(0, 0), (0, 1), (1, 1), (2, 1)] # 0->1->5->8 = 14\n",
    "    [(0, 0), (0, 1), (1, 1), (2, 1), (3, 1)] # 0->1->5->8->9 = 23\n",
    "    \n",
    "    [(0, 0), (0, 1), (0, 2)]  # 0->1->6 = 7\n",
    "    [(0, 0), (0, 1), (0, 2), (1, 2)] # 0->1->6->4 = 11\n",
    "    [(0, 0), (0, 1), (0, 2), (1, 2), (2, 2)] # 0->1->6->4->3 = 14\n",
    "    [(0, 0), (0, 1), (0, 2), (1, 2), (2, 2), (3, 2)] # 0->1->6->4->3->1 = 15\n",
    "    \n",
    "    [(0, 0), (0, 1), (0, 2), (0, 3)] # 0->1->6->9 = 16\n",
    "    \n",
    "    [(0, 0), (0, 1), (1, 1), (1, 2)] # 0->1->5->4 = 10\n",
    "    [(0, 0), (0, 1), (1, 1), (1, 2), (2, 2)] # 0->1->5->4->3 = 13\n",
    "    [(0, 0), (0, 1), (1, 1), (1, 2), (2, 2), (3,2)] # 0->1->5->4->3->1 = 14\n",
    "    [(0, 0), (0, 1), (1, 1), (1, 2), (2, 2), (3,2), (3, 3)] # 0->1->5->4->3->1-> = 14 finish\n",
    "]"
   ]
  }
 ],
 "metadata": {
  "kernelspec": {
   "display_name": "womt-env",
   "language": "python",
   "name": "womt-env"
  },
  "language_info": {
   "codemirror_mode": {
    "name": "ipython",
    "version": 3
   },
   "file_extension": ".py",
   "mimetype": "text/x-python",
   "name": "python",
   "nbconvert_exporter": "python",
   "pygments_lexer": "ipython3",
   "version": "3.9.7"
  }
 },
 "nbformat": 4,
 "nbformat_minor": 5
}
