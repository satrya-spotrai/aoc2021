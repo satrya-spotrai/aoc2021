{
 "cells": [
  {
   "cell_type": "code",
   "execution_count": null,
   "id": "5a28466a-85ee-408c-a23e-1c04e4989c66",
   "metadata": {},
   "outputs": [],
   "source": []
  },
  {
   "cell_type": "code",
   "execution_count": 6,
   "id": "70c723d5-9acb-47f0-b779-af57bb9501c4",
   "metadata": {},
   "outputs": [],
   "source": [
    "with open('./input/input_8.txt') as file:\n",
    "    listo = [line.rstrip('\\n') for line in file]"
   ]
  },
  {
   "cell_type": "code",
   "execution_count": 26,
   "id": "c8e851a9-283e-4b13-9971-a8edf518f3ae",
   "metadata": {
    "collapsed": true,
    "jupyter": {
     "outputs_hidden": true
    },
    "tags": []
   },
   "outputs": [
    {
     "name": "stdout",
     "output_type": "stream",
     "text": [
      "['eacfd', 'acdfbe', 'cbdegf', 'fcbaedg']\n",
      "[7]\n",
      "['dcf', 'cfbad', 'gbafced', 'fcd']\n",
      "[3, 7, 3]\n",
      "['efdcb', 'adcfeb', 'fbdcg', 'gbc']\n",
      "[3]\n",
      "['eadf', 'ceadbg', 'abfge', 'fecdbga']\n",
      "[4, 7]\n",
      "['ebfcd', 'cefdab', 'bdfgeca', 'egbdacf']\n",
      "[7, 7]\n",
      "['afgce', 'cfbd', 'bdcf', 'geafdbc']\n",
      "[4, 4, 7]\n",
      "['dgbac', 'db', 'caegbdf', 'gcbfa']\n",
      "[2, 7]\n",
      "['gef', 'eg', 'bfcdag', 'ge']\n",
      "[3, 2, 2]\n",
      "['bae', 'aeb', 'agfceb', 'afceg']\n",
      "[3, 3]\n",
      "['ceabgd', 'fbeacdg', 'aged', 'aged']\n",
      "[7, 4, 4]\n",
      "['bcdegaf', 'dfeb', 'bcegad', 'df']\n",
      "[7, 4, 2]\n",
      "['abcdf', 'cefdab', 'ga', 'ga']\n",
      "[2, 2]\n",
      "['degac', 'egcf', 'geacfbd', 'afc']\n",
      "[4, 7, 3]\n",
      "['cafbged', 'edfa', 'fcd', 'dabgc']\n",
      "[7, 4, 3]\n",
      "['fadbe', 'efbdgc', 'fadbe', 'edcba']\n",
      "[]\n",
      "['eg', 'abge', 'fadgceb', 'abge']\n",
      "[2, 4, 7, 4]\n",
      "['defcg', 'cbgdfea', 'gcbd', 'ecfgd']\n",
      "[7, 4]\n",
      "['dacg', 'acbgf', 'cedfgab', 'caefdgb']\n",
      "[4, 7, 7]\n",
      "['fedcg', 'fdagec', 'cea', 'ac']\n",
      "[3, 2]\n",
      "['dgcbea', 'fc', 'dcgeaf', 'cdaeg']\n",
      "[2]\n",
      "['fcgdbe', 'de', 'cgbeaf', 'ed']\n",
      "[2, 2]\n",
      "['abfcged', 'agc', 'acfgd', 'cbfaeg']\n",
      "[7, 3]\n",
      "['fcbdga', 'gcbade', 'aegdcf', 'fbcgda']\n",
      "[]\n",
      "['befc', 'bc', 'abegd', 'ebcdfga']\n",
      "[4, 2, 7]\n",
      "['bf', 'fdbg', 'efdab', 'gefda']\n",
      "[2, 4]\n",
      "['gb', 'cdebfa', 'deagfcb', 'bg']\n",
      "[2, 7, 2]\n",
      "['gd', 'geafb', 'cabed', 'dbg']\n",
      "[2, 3]\n",
      "['gabfed', 'cdebag', 'dafegb', 'cd']\n",
      "[2]\n",
      "['acedf', 'afe', 'fae', 'afdg']\n",
      "[3, 3, 4]\n",
      "['gdabce', 'fdeb', 'ebdf', 'ecf']\n",
      "[4, 4, 3]\n",
      "['fbcd', 'afdgbe', 'fabedg', 'dcfb']\n",
      "[4, 4]\n",
      "['be', 'be', 'ebfdca', 'abgfcd']\n",
      "[2, 2]\n",
      "['bcafeg', 'fcgb', 'gfdeac', 'eagcf']\n",
      "[4]\n",
      "['fabde', 'eb', 'ecdgfb', 'eabg']\n",
      "[2, 4]\n",
      "['ecfg', 'fc', 'cfge', 'efgcdab']\n",
      "[4, 2, 4, 7]\n",
      "['agcbde', 'bgad', 'gdbfec', 'gcfabe']\n",
      "[4]\n",
      "['gabfdec', 'acd', 'dc', 'dc']\n",
      "[7, 3, 2, 2]\n",
      "['ebcfg', 'gafd', 'ebacfd', 'fgbdace']\n",
      "[4, 7]\n",
      "['cdagf', 'cfdgbae', 'fdeab', 'eag']\n",
      "[7, 3]\n",
      "['bdcafe', 'agdc', 'ebdcg', 'cdga']\n",
      "[4, 4]\n",
      "['bafcd', 'ade', 'bacefg', 'fdbac']\n",
      "[3]\n",
      "['faedgc', 'ef', 'gabfcd', 'fe']\n",
      "[2, 2]\n",
      "['abgfe', 'eb', 'gfdaeb', 'efdcga']\n",
      "[2]\n",
      "['dcgf', 'bdcgaef', 'gdcf', 'cfdg']\n",
      "[4, 7, 4, 4]\n",
      "['ce', 'edgaf', 'dgbceaf', 'fce']\n",
      "[2, 7, 3]\n",
      "['fged', 'gedf', 'cefdga', 'cabge']\n",
      "[4, 4]\n",
      "['begdf', 'cfgd', 'eadbc', 'gbfde']\n",
      "[4]\n",
      "['age', 'fcbdaeg', 'gea', 'bcfegda']\n",
      "[3, 7, 3, 7]\n",
      "['bcagd', 'cfba', 'gedfc', 'af']\n",
      "[4, 2]\n",
      "['aecdb', 'febgcad', 'bgcaf', 'fadcgbe']\n",
      "[7, 7]\n",
      "['gefbacd', 'dbgf', 'geb', 'adgbfe']\n",
      "[7, 4, 3]\n",
      "['fcdba', 'ced', 'egfcba', 'dega']\n",
      "[3, 4]\n",
      "['fage', 'fec', 'dcafeg', 'ecagfdb']\n",
      "[4, 3, 7]\n",
      "['gbf', 'dfgec', 'bedg', 'cfdgae']\n",
      "[3, 4]\n",
      "['efagb', 'gbefa', 'dbcfgae', 'eadc']\n",
      "[7, 4]\n",
      "['bface', 'cdafebg', 'gadcefb', 'fedab']\n",
      "[7, 7]\n",
      "['cbegd', 'beac', 'dgbce', 'ac']\n",
      "[4, 2]\n",
      "['bdafe', 'abgcfe', 'gbecfad', 'abdgefc']\n",
      "[7, 7]\n",
      "['fadecbg', 'cb', 'cdgeaf', 'bfade']\n",
      "[7, 2]\n",
      "['bcfadeg', 'edbgaf', 'fcgaed', 'ge']\n",
      "[7, 2]\n",
      "['decfagb', 'bdf', 'gfcd', 'fd']\n",
      "[7, 3, 4, 2]\n",
      "['daegcf', 'eagdfb', 'adgcb', 'bagfed']\n",
      "[]\n",
      "['ba', 'bgcead', 'bad', 'ab']\n",
      "[2, 3, 2]\n",
      "['bc', 'gdebcf', 'gecdb', 'bagdcf']\n",
      "[2]\n",
      "['fgbae', 'gbedcf', 'degfb', 'agdebc']\n",
      "[]\n",
      "['cafde', 'fabedc', 'debac', 'eacfd']\n",
      "[]\n",
      "['dc', 'beagfc', 'aebcfg', 'gcfeabd']\n",
      "[2, 7]\n",
      "['efb', 'ebcgd', 'gbdcaef', 'fb']\n",
      "[3, 7, 2]\n",
      "['gfdcae', 'gfdb', 'dg', 'afgdce']\n",
      "[4, 2]\n",
      "['fbe', 'cbdegf', 'bfe', 'gedfc']\n",
      "[3, 3]\n",
      "['afgcb', 'gbdecf', 'efdbcg', 'fag']\n",
      "[3]\n",
      "['dabefg', 'egdbaf', 'gaebdf', 'dc']\n",
      "[2]\n",
      "['dafbeg', 'cab', 'cdagbe', 'debfga']\n",
      "[3]\n",
      "['dabcgef', 'bcagfed', 'gcfea', 'bea']\n",
      "[7, 7, 3]\n",
      "['gead', 'gcafb', 'ecfdab', 'egfbdac']\n",
      "[4, 7]\n",
      "['gdcef', 'cgbead', 'gd', 'gefacbd']\n",
      "[2, 7]\n",
      "['gbac', 'fcdbge', 'agcb', 'aecgdfb']\n",
      "[4, 4, 7]\n",
      "['efcba', 'fabecd', 'dgcbfae', 'eagcfd']\n",
      "[7]\n",
      "['cedgbf', 'fced', 'agfcdeb', 'cgfbed']\n",
      "[4, 7]\n",
      "['dfgeabc', 'bfgcde', 'faceb', 'fbecag']\n",
      "[7]\n",
      "['gf', 'abdgcf', 'dcbfag', 'fgb']\n",
      "[2, 3]\n",
      "['dceba', 'fdbeg', 'edbac', 'dbacfge']\n",
      "[7]\n",
      "['cgfdba', 'gcafde', 'agfcedb', 'fdacbge']\n",
      "[7, 7]\n",
      "['eb', 'dbegc', 'dfecg', 'dbecag']\n",
      "[2]\n",
      "['cgb', 'gbc', 'egcfad', 'degbc']\n",
      "[3, 3]\n",
      "['dabgfe', 'fde', 'adfcg', 'bfgead']\n",
      "[3]\n",
      "['gdecb', 'dgcfba', 'gcdafe', 'afbedgc']\n",
      "[7]\n",
      "['edabc', 'ebdca', 'edbcg', 'ecgf']\n",
      "[4]\n",
      "['fedagc', 'bcag', 'bdegc', 'gaebfdc']\n",
      "[4, 7]\n",
      "['def', 'gdefb', 'fgedb', 'edcagf']\n",
      "[3]\n",
      "['defbg', 'aecbfdg', 'cadbegf', 'adgfbe']\n",
      "[7, 7]\n",
      "['fbdgce', 'gc', 'dbfegca', 'cg']\n",
      "[2, 7, 2]\n",
      "['badefc', 'gbfe', 'cbegd', 'fdagbce']\n",
      "[4, 7]\n",
      "['edbgcf', 'abecfd', 'ebgfcd', 'fgbc']\n",
      "[4]\n",
      "['cdabgf', 'ead', 'afgbcd', 'edbf']\n",
      "[3, 4]\n",
      "['bacfe', 'fgc', 'gcf', 'cg']\n",
      "[3, 3, 2]\n",
      "['eabdc', 'badec', 'cdaeg', 'dagb']\n",
      "[4]\n",
      "['fecbd', 'adeb', 'be', 'bfe']\n",
      "[4, 2, 3]\n",
      "['ecbgd', 'cagfdeb', 'dcbfeg', 'gd']\n",
      "[7, 2]\n",
      "['cfegd', 'de', 'gcafd', 'gefdc']\n",
      "[2]\n",
      "['becag', 'edgab', 'cbadgfe', 'edbc']\n",
      "[7, 4]\n",
      "['de', 'gdecfba', 'edbf', 'cdegb']\n",
      "[2, 7, 4]\n",
      "['acdfg', 'fagbce', 'adcfg', 'abgfd']\n",
      "[]\n",
      "['ecbfg', 'agbd', 'dabg', 'bfeacd']\n",
      "[4, 4]\n",
      "['eda', 'eagcbf', 'agfec', 'debfc']\n",
      "[3]\n",
      "['abgdf', 'eda', 'agbfce', 'ead']\n",
      "[3, 3]\n",
      "['abdfg', 'dceagb', 'decfagb', 'fagcedb']\n",
      "[7, 7]\n",
      "['fcadgb', 'cdefgba', 'agbfd', 'cgfb']\n",
      "[7, 4]\n",
      "['abcedf', 'bca', 'gfcda', 'bcge']\n",
      "[3, 4]\n",
      "['dbgce', 'dbfa', 'fgebadc', 'acedb']\n",
      "[4, 7]\n",
      "['cbdfag', 'ebgfc', 'fgcbe', 'agbfdc']\n",
      "[]\n",
      "['fgecb', 'eacdfgb', 'ceabf', 'cgfa']\n",
      "[7, 4]\n",
      "['becdfga', 'bf', 'fbadec', 'bgfd']\n",
      "[7, 2, 4]\n",
      "['fedbc', 'dfecag', 'afdcge', 'becfd']\n",
      "[]\n",
      "['fcgdea', 'geadcfb', 'efbdg', 'fa']\n",
      "[7, 2]\n",
      "['db', 'ebcgf', 'fgcbe', 'edgfa']\n",
      "[2]\n",
      "['febgad', 'cgfaeb', 'fadbg', 'gc']\n",
      "[2]\n",
      "['bgefcad', 'bgdfe', 'dafc', 'ebagfc']\n",
      "[7, 4]\n",
      "['cgfb', 'gecfd', 'gefacdb', 'fbcg']\n",
      "[4, 7, 4]\n",
      "['eadfb', 'fcgeb', 'cbedga', 'bdacge']\n",
      "[]\n",
      "['gbcafd', 'dgac', 'dgcafb', 'cbfgae']\n",
      "[4]\n",
      "['bcf', 'dbfea', 'ebagcf', 'gadfcbe']\n",
      "[3, 7]\n",
      "['ebagfcd', 'acgefdb', 'fagec', 'gbdaec']\n",
      "[7, 7]\n",
      "['afgced', 'fb', 'dcafg', 'feabcd']\n",
      "[2]\n",
      "['egf', 'gaebf', 'dfeba', 'gadbce']\n",
      "[3]\n",
      "['debac', 'eadbc', 'bgaecdf', 'cgbaedf']\n",
      "[7, 7]\n",
      "['adbf', 'eagfd', 'eabcfgd', 'ecagfb']\n",
      "[4, 7]\n",
      "['fedbcga', 'bgafd', 'fcde', 'cfed']\n",
      "[7, 4, 4]\n",
      "['gcadef', 'efadg', 'egf', 'eg']\n",
      "[3, 2]\n",
      "['eb', 'be', 'be', 'fbe']\n",
      "[2, 2, 2, 3]\n",
      "['ce', 'ce', 'ce', 'gbce']\n",
      "[2, 2, 2, 4]\n",
      "['ge', 'agfdcbe', 'bdace', 'fdeg']\n",
      "[2, 7, 4]\n",
      "['gbea', 'eacgd', 'gb', 'cgaebd']\n",
      "[4, 2]\n",
      "['fgeadb', 'dacge', 'fdagceb', 'egafbd']\n",
      "[7]\n",
      "['ebfgd', 'gbe', 'begdf', 'eg']\n",
      "[3, 2]\n",
      "['bcadgf', 'cbfda', 'cdgfab', 'agdb']\n",
      "[4]\n",
      "['dcfabge', 'edga', 'ad', 'gcfea']\n",
      "[7, 4, 2]\n",
      "['ceaf', 'ce', 'bfgce', 'ce']\n",
      "[4, 2, 2]\n",
      "['fbgad', 'bged', 'gd', 'cfebda']\n",
      "[4, 2]\n",
      "['acge', 'dacgf', 'facdg', 'cgea']\n",
      "[4, 4]\n",
      "['aebgd', 'cgdea', 'adbge', 'eabc']\n",
      "[4]\n",
      "['ecbdg', 'efcgab', 'ebagc', 'bgadfec']\n",
      "[7]\n",
      "['dbc', 'fcbe', 'fbedacg', 'cabfd']\n",
      "[3, 4, 7]\n",
      "['cbagdfe', 'gfc', 'fgbac', 'cgbaed']\n",
      "[7, 3]\n",
      "['ba', 'fgcebd', 'efgda', 'gadfecb']\n",
      "[2, 7]\n",
      "['fgcab', 'fdgcba', 'bgacf', 'bfedga']\n",
      "[]\n",
      "['gbdace', 'baefc', 'fdcagb', 'cdgab']\n",
      "[]\n",
      "['fgedb', 'bgefadc', 'fc', 'cf']\n",
      "[7, 2, 2]\n",
      "['abgdf', 'dbcgef', 'geabfc', 'fcb']\n",
      "[3]\n",
      "['fgbaed', 'cdegbf', 'dacfbge', 'gdcfbe']\n",
      "[7]\n",
      "['ca', 'bcged', 'abgfd', 'bca']\n",
      "[2, 3]\n",
      "['cgdbafe', 'cea', 'adfe', 'aec']\n",
      "[7, 3, 4, 3]\n",
      "['deagcb', 'agecdf', 'caefdg', 'cegad']\n",
      "[]\n",
      "['gadf', 'gaedc', 'age', 'cabedgf']\n",
      "[4, 3, 7]\n",
      "['agefdc', 'dga', 'bgfea', 'dafcgbe']\n",
      "[3, 7]\n",
      "['acefb', 'acbgde', 'deb', 'ed']\n",
      "[3, 2]\n",
      "['bfgda', 'eb', 'gbe', 'bdgaf']\n",
      "[2, 3]\n",
      "['efbac', 'ega', 'fecab', 'dgba']\n",
      "[3, 4]\n",
      "['cf', 'deabgfc', 'efgdbc', 'fgbcda']\n",
      "[2, 7]\n",
      "['bcedafg', 'cbeg', 'bg', 'gb']\n",
      "[7, 4, 2, 2]\n",
      "['baedc', 'egca', 'dgacbe', 'cedfb']\n",
      "[4]\n",
      "['gdcfba', 'eagdb', 'fe', 'cfeg']\n",
      "[2, 4]\n",
      "['afdcge', 'gaef', 'aefgcd', 'geacfd']\n",
      "[4]\n",
      "['efgcd', 'dcefg', 'cdgfe', 'bd']\n",
      "[2]\n",
      "['gae', 'cbegf', 'afgdb', 'ea']\n",
      "[3, 2]\n",
      "['ag', 'bagd', 'bdfgca', 'fbadgc']\n",
      "[2, 4]\n",
      "['cg', 'agcf', 'befgc', 'bgc']\n",
      "[2, 4, 3]\n",
      "['ebafgcd', 'afdgceb', 'ebc', 'be']\n",
      "[7, 7, 3, 2]\n",
      "['badg', 'badg', 'dbag', 'aegbc']\n",
      "[4, 4, 4]\n",
      "['gebdaf', 'edcfag', 'ab', 'ba']\n",
      "[2, 2]\n",
      "['gfaec', 'gface', 'fdac', 'ecadgf']\n",
      "[4]\n",
      "['dbfe', 'bd', 'agfde', 'agdef']\n",
      "[4, 2]\n",
      "['cdfbg', 'aefb', 'dcagef', 'edfga']\n",
      "[4]\n",
      "['cfe', 'dcbf', 'cgebdf', 'dbecag']\n",
      "[3, 4]\n",
      "['afgbcd', 'cfega', 'gbfcda', 'gdebcf']\n",
      "[]\n",
      "['cfdegb', 'dc', 'abcgd', 'cbfedag']\n",
      "[2, 7]\n",
      "['cfedgb', 'dgcfab', 'gbfcead', 'dcbga']\n",
      "[7]\n",
      "['ebcdf', 'afeb', 'ef', 'befa']\n",
      "[4, 2, 4]\n",
      "['gfceda', 'bc', 'bdfgaec', 'bdgef']\n",
      "[2, 7]\n",
      "['febgac', 'fcea', 'fbcged', 'baecgd']\n",
      "[4]\n",
      "['fcgdeba', 'afdeb', 'ef', 'fae']\n",
      "[7, 2, 3]\n",
      "['fgcbd', 'bgcad', 'agb', 'bdefga']\n",
      "[3]\n",
      "['gebacf', 'ecgafb', 'gfceab', 'cefag']\n",
      "[]\n",
      "['dbg', 'gacbfd', 'egcdfb', 'gfebcd']\n",
      "[3]\n",
      "['adbgcef', 'dgafb', 'abd', 'cfbgeda']\n",
      "[7, 3, 7]\n",
      "['cg', 'gfc', 'gdcb', 'gcf']\n",
      "[2, 3, 4, 3]\n",
      "['bafeg', 'aebfd', 'gcab', 'fbecdag']\n",
      "[4, 7]\n",
      "['cfbd', 'gabdce', 'dbgcaf', 'egfda']\n",
      "[4]\n",
      "['feag', 'cdabef', 'bgdacf', 'gfea']\n",
      "[4, 4]\n",
      "['ed', 'eabdgf', 'eadc', 'dbafge']\n",
      "[2, 4]\n",
      "['cge', 'ecg', 'cabeg', 'efdcgba']\n",
      "[3, 3, 7]\n",
      "['ecbgfd', 'gdef', 'bacdeg', 'bcdeg']\n",
      "[4]\n",
      "['ecfbag', 'gebcaf', 'baecd', 'dfeg']\n",
      "[4]\n",
      "['abcfe', 'agdce', 'db', 'adecg']\n",
      "[2]\n",
      "['defgcb', 'ceagbd', 'bdgca', 'afedcg']\n",
      "[]\n",
      "['af', 'gedabfc', 'af', 'ebgdfac']\n",
      "[2, 7, 2, 7]\n",
      "['aecd', 'cade', 'deac', 'fbged']\n",
      "[4, 4, 4]\n",
      "['dcgbeaf', 'db', 'gfbed', 'efdag']\n",
      "[7, 2]\n",
      "['gdfc', 'gadcfeb', 'cfgd', 'fgacb']\n",
      "[4, 7, 4]\n",
      "['egdca', 'dcbea', 'bdfcgea', 'be']\n",
      "[7, 2]\n"
     ]
    }
   ],
   "source": [
    "all_outputs = []\n",
    "\n",
    "for line in listo:\n",
    "    line_s = (line.split(' | '))[1]\n",
    "    outputs = line_s.split(' ')\n",
    "    outputs_len = [len(word) for word in outputs if len(word) in [2, 4, 3, 7]]\n",
    "    \n",
    "    print(outputs)\n",
    "    print(outputs_len)\n",
    "    \n",
    "    all_outputs += outputs_len\n",
    "\n",
    "    #print(outputs)"
   ]
  },
  {
   "cell_type": "code",
   "execution_count": 27,
   "id": "c21085f3-9d97-4bd9-9058-74cc50888cbb",
   "metadata": {},
   "outputs": [
    {
     "data": {
      "text/plain": [
       "387"
      ]
     },
     "execution_count": 27,
     "metadata": {},
     "output_type": "execute_result"
    }
   ],
   "source": [
    "len(all_outputs)"
   ]
  },
  {
   "cell_type": "markdown",
   "id": "194f60ed-4278-42aa-af70-754cae4e4ab9",
   "metadata": {},
   "source": [
    "## part 2"
   ]
  },
  {
   "cell_type": "code",
   "execution_count": null,
   "id": "09045ab2-1005-4d7d-8b15-a6128ecbc705",
   "metadata": {},
   "outputs": [],
   "source": [
    "0:      1:      2:      3:      4:\n",
    " aaaa    ....    aaaa    aaaa    ....\n",
    "b    c  .    c  .    c  .    c  b    c\n",
    "b    c  .    c  .    c  .    c  b    c\n",
    " ....    ....    dddd    dddd    dddd\n",
    "e    f  .    f  e    .  .    f  .    f\n",
    "e    f  .    f  e    .  .    f  .    f\n",
    " gggg    ....    gggg    gggg    ....\n",
    "\n",
    "  5:      6:      7:      8:      9:\n",
    " aaaa    aaaa    aaaa    aaaa    aaaa\n",
    "b    .  b    .  .    c  b    c  b    c\n",
    "b    .  b    .  .    c  b    c  b    c\n",
    " dddd    dddd    ....    dddd    dddd\n",
    ".    f  e    f  .    f  e    f  .    f\n",
    ".    f  e    f  .    f  e    f  .    f\n",
    " gggg    gggg    ....    gggg    gggg\n"
   ]
  },
  {
   "cell_type": "code",
   "execution_count": 29,
   "id": "1ea57584-ba7a-42fd-901c-804889b51a34",
   "metadata": {},
   "outputs": [],
   "source": [
    "mapping = {\n",
    "    0: ['a','b','c', 'e', 'f', 'g'],\n",
    "    1: ['c', 'f'],\n",
    "    2: ['a', 'c', 'd', 'e', 'g'],\n",
    "    3: ['a', 'c', 'd', 'f', 'g'],\n",
    "    4: ['b', 'c', 'd', 'f'],\n",
    "    5: ['a', 'b', 'd', 'f', 'g'],\n",
    "    6: ['a', 'b', 'd', 'e', 'f', 'g'],\n",
    "    7: ['a', 'c','f'],\n",
    "    8: ['a', 'b', 'c', 'd', 'e', 'f', 'g'],\n",
    "    9: ['a', 'b', 'c', 'd', 'f', 'g']\n",
    "}"
   ]
  },
  {
   "cell_type": "code",
   "execution_count": 50,
   "id": "90737c75-2fc4-48fd-bdb0-4ba7bd0dcd29",
   "metadata": {},
   "outputs": [
    {
     "data": {
      "text/plain": [
       "dict_items([(0, ['a', 'b', 'c', 'e', 'f', 'g']), (1, ['c', 'f']), (2, ['a', 'c', 'd', 'e', 'g']), (3, ['a', 'c', 'd', 'f', 'g']), (4, ['b', 'c', 'd', 'f']), (5, ['a', 'b', 'd', 'f', 'g']), (6, ['a', 'b', 'd', 'e', 'f', 'g']), (7, ['a', 'c', 'f']), (8, ['a', 'b', 'c', 'd', 'e', 'f', 'g']), (9, ['a', 'b', 'c', 'd', 'f', 'g'])])"
      ]
     },
     "execution_count": 50,
     "metadata": {},
     "output_type": "execute_result"
    }
   ],
   "source": [
    "mapping.items()"
   ]
  },
  {
   "cell_type": "code",
   "execution_count": 54,
   "id": "983989a1-6dcf-4f84-8690-9a12aa8c7fd5",
   "metadata": {},
   "outputs": [],
   "source": [
    "combo_map = {}\n",
    "\n",
    "for segment, segset in mapping.items(): # 7\n",
    "    \n",
    "    combinations = {}\n",
    "    \n",
    "    count = 0\n",
    "    for j in range(10):            \n",
    "        map_ = mapping[j]\n",
    "        \n",
    "        combinations[j] = len(set(segset).intersection(map_))\n",
    "    \n",
    "    combo_map[segment] = combinations\n",
    "        \n",
    "        \n",
    "        #if i in mapping[j]:\n",
    "        #    combinations[i].append(j)\n",
    "            "
   ]
  },
  {
   "cell_type": "code",
   "execution_count": 56,
   "id": "df42caed-4de5-4233-a349-961066d258b2",
   "metadata": {},
   "outputs": [
    {
     "data": {
      "text/plain": [
       "{0: {0: 6, 1: 2, 2: 4, 3: 4, 4: 3, 5: 4, 6: 5, 7: 3, 8: 6, 9: 5},\n",
       " 1: {0: 2, 1: 2, 2: 1, 3: 2, 4: 2, 5: 1, 6: 1, 7: 2, 8: 2, 9: 2},\n",
       " 2: {0: 4, 1: 1, 2: 5, 3: 4, 4: 2, 5: 3, 6: 4, 7: 2, 8: 5, 9: 4},\n",
       " 3: {0: 4, 1: 2, 2: 4, 3: 5, 4: 3, 5: 4, 6: 4, 7: 3, 8: 5, 9: 5},\n",
       " 4: {0: 3, 1: 2, 2: 2, 3: 3, 4: 4, 5: 3, 6: 3, 7: 2, 8: 4, 9: 4},\n",
       " 5: {0: 4, 1: 1, 2: 3, 3: 4, 4: 3, 5: 5, 6: 5, 7: 2, 8: 5, 9: 5},\n",
       " 6: {0: 5, 1: 1, 2: 4, 3: 4, 4: 3, 5: 5, 6: 6, 7: 2, 8: 6, 9: 5},\n",
       " 7: {0: 3, 1: 2, 2: 2, 3: 3, 4: 2, 5: 2, 6: 2, 7: 3, 8: 3, 9: 3},\n",
       " 8: {0: 6, 1: 2, 2: 5, 3: 5, 4: 4, 5: 5, 6: 6, 7: 3, 8: 7, 9: 6},\n",
       " 9: {0: 5, 1: 2, 2: 4, 3: 5, 4: 4, 5: 5, 6: 5, 7: 3, 8: 6, 9: 6}}"
      ]
     },
     "execution_count": 56,
     "metadata": {},
     "output_type": "execute_result"
    }
   ],
   "source": [
    "combo_map"
   ]
  },
  {
   "cell_type": "code",
   "execution_count": 58,
   "id": "c2da039c-70a1-450e-8138-8f744f67cb7e",
   "metadata": {},
   "outputs": [
    {
     "name": "stdout",
     "output_type": "stream",
     "text": [
      "1 {0: 2, 1: 2, 2: 1, 3: 2, 4: 2, 5: 1, 6: 1, 7: 2, 8: 2, 9: 2}\n",
      "4 {0: 3, 1: 2, 2: 2, 3: 3, 4: 4, 5: 3, 6: 3, 7: 2, 8: 4, 9: 4}\n",
      "7 {0: 3, 1: 2, 2: 2, 3: 3, 4: 2, 5: 2, 6: 2, 7: 3, 8: 3, 9: 3}\n",
      "8 {0: 6, 1: 2, 2: 5, 3: 5, 4: 4, 5: 5, 6: 6, 7: 3, 8: 7, 9: 6}\n"
     ]
    }
   ],
   "source": [
    "for s, v in combo_map.items():\n",
    "    if s in [1,4,7,8]:\n",
    "        print(s, v)"
   ]
  },
  {
   "cell_type": "code",
   "execution_count": null,
   "id": "cdb5ddff-1eb0-4695-8d82-0ee904b01fd9",
   "metadata": {},
   "outputs": [],
   "source": []
  },
  {
   "cell_type": "code",
   "execution_count": 59,
   "id": "81132a1c-05a4-4836-ac9b-99cdbb4cf8d1",
   "metadata": {},
   "outputs": [
    {
     "name": "stdout",
     "output_type": "stream",
     "text": [
      "5 {0: 4, 1: 1, 2: 3, 3: 4, 4: 3, 5: 5, 6: 5, 7: 2, 8: 5, 9: 5}\n",
      "6 {0: 5, 1: 1, 2: 4, 3: 4, 4: 3, 5: 5, 6: 6, 7: 2, 8: 6, 9: 5}\n"
     ]
    }
   ],
   "source": [
    "for s, v in combo_map.items():\n",
    "    if s in [5, 6]:\n",
    "        print(s, v)"
   ]
  },
  {
   "cell_type": "code",
   "execution_count": null,
   "id": "4fd5271e-40bc-4ce5-8fec-ba66f9fef50a",
   "metadata": {},
   "outputs": [],
   "source": []
  },
  {
   "cell_type": "code",
   "execution_count": null,
   "id": "2b57bec0-980c-42c3-b7d5-7deae827df83",
   "metadata": {},
   "outputs": [],
   "source": []
  },
  {
   "cell_type": "code",
   "execution_count": null,
   "id": "6fe43d3f-7cec-4c34-8eed-73e82126ee32",
   "metadata": {},
   "outputs": [],
   "source": []
  },
  {
   "cell_type": "code",
   "execution_count": 89,
   "id": "91c8f3c6-8c72-4f50-9e78-735745dcee01",
   "metadata": {},
   "outputs": [],
   "source": [
    "len_map = {\n",
    "    2: 1,\n",
    "    4: 4,\n",
    "    3: 7,\n",
    "    7: 8\n",
    "}"
   ]
  },
  {
   "cell_type": "code",
   "execution_count": 125,
   "id": "3531b459-cf6b-4bc9-8bcd-0f4b401df08f",
   "metadata": {},
   "outputs": [],
   "source": [
    "inp = 'acedgfb cdfbe gcdfa fbcad dab cefabd cdfgeb eafb cagedb ab'\n",
    "s_inp = inp.split(' ')"
   ]
  },
  {
   "cell_type": "code",
   "execution_count": 212,
   "id": "4ebde094-aa65-4adc-8de8-4c99269dca88",
   "metadata": {},
   "outputs": [],
   "source": [
    "def get_bases(inp):\n",
    "    inputp = inp.split(' ')\n",
    "    \n",
    "    mapping = {}\n",
    "    \n",
    "    for ip in inputp:\n",
    "        if len(ip) in [2, 4, 3, 7]:\n",
    "            mapping[len_map[len(ip)]] = ip\n",
    "    \n",
    "        \n",
    "    return inputp, mapping"
   ]
  },
  {
   "cell_type": "code",
   "execution_count": 216,
   "id": "288cb323-f047-4e16-a47b-968ac30c2421",
   "metadata": {},
   "outputs": [],
   "source": [
    "# test get_bases\n",
    "inputp, bases = get_bases(inp)\n",
    "assert inputp == ['acedgfb','cdfbe','gcdfa', 'fbcad', 'dab', 'cefabd', 'cdfgeb', 'eafb', 'cagedb', 'ab']\n",
    "assert bases == {8: 'acedgfb', 7: 'dab', 4: 'eafb', 1: 'ab'}"
   ]
  },
  {
   "cell_type": "code",
   "execution_count": 203,
   "id": "a2690965-fe53-4595-81e0-0640ac93cd9b",
   "metadata": {},
   "outputs": [],
   "source": [
    "def run_diff(todo, bases):\n",
    "    \n",
    "    combos_list = {}\n",
    "    for segment, segset in bases.items():\n",
    "        \n",
    "        combinations = {}\n",
    "        for to in todo:\n",
    "            combinations[to] = len(set(to).intersection(set(segset)))\n",
    "        \n",
    "        combos_list[segment] = combinations\n",
    "    \n",
    "    return combos_list"
   ]
  },
  {
   "cell_type": "code",
   "execution_count": 204,
   "id": "68a0d53c-21f0-475a-bc63-5f7ea2b3b38e",
   "metadata": {},
   "outputs": [],
   "source": [
    "# test run_diff\n",
    "todo_ = {'cagedb', 'cdfbe', 'cdfgeb', 'cefabd', 'fbcad', 'gcdfa'}\n",
    "combos_per_base = run_diff(todo_, bases)\n",
    "\n",
    "assert combos_per_base == {8: {'fbcad': 5,\n",
    "  'cdfbe': 5,\n",
    "  'gcdfa': 5,\n",
    "  'cdfgeb': 6,\n",
    "  'cagedb': 6,\n",
    "  'cefabd': 6},\n",
    " 7: {'fbcad': 3,\n",
    "  'cdfbe': 2,\n",
    "  'gcdfa': 2,\n",
    "  'cdfgeb': 2,\n",
    "  'cagedb': 3,\n",
    "  'cefabd': 3},\n",
    " 4: {'fbcad': 3,\n",
    "  'cdfbe': 3,\n",
    "  'gcdfa': 2,\n",
    "  'cdfgeb': 3,\n",
    "  'cagedb': 3,\n",
    "  'cefabd': 4},\n",
    " 1: {'fbcad': 2,\n",
    "  'cdfbe': 1,\n",
    "  'gcdfa': 1,\n",
    "  'cdfgeb': 1,\n",
    "  'cagedb': 2,\n",
    "  'cefabd': 2}}"
   ]
  },
  {
   "cell_type": "code",
   "execution_count": 195,
   "id": "5aacee55-f41f-4b01-96a5-d1f324aaaac0",
   "metadata": {},
   "outputs": [],
   "source": [
    "def combinations_per_todo(todo_, combos_per_base):\n",
    "    counts = {to: set() for to in todo_}\n",
    "\n",
    "    for todo_counts in combos_per_base.values():\n",
    "\n",
    "        for idx, cnt in todo_counts.items():\n",
    "            counts[idx].add(cnt)\n",
    "    \n",
    "    return counts"
   ]
  },
  {
   "cell_type": "code",
   "execution_count": 200,
   "id": "42c29fc3-00a8-4d56-a01a-cc2a851433a9",
   "metadata": {},
   "outputs": [],
   "source": [
    "# test combinations_per_todo\n",
    "agg_counts = combinations_per_todo(todo_, combos_per_base)\n",
    "assert agg_counts == {'fbcad': {2, 3, 5},\n",
    " 'cdfbe': {1, 2, 3, 5},\n",
    " 'gcdfa': {1, 2, 5},\n",
    " 'cdfgeb': {1, 2, 3, 6},\n",
    " 'cagedb': {2, 3, 6},\n",
    " 'cefabd': {2, 3, 4, 6}}"
   ]
  },
  {
   "cell_type": "code",
   "execution_count": 201,
   "id": "b873eb7d-267e-424b-b531-970d9d3f6f31",
   "metadata": {},
   "outputs": [
    {
     "data": {
      "text/plain": [
       "{'fbcad': {2, 3, 5},\n",
       " 'cdfbe': {1, 2, 3, 5},\n",
       " 'gcdfa': {1, 2, 5},\n",
       " 'cdfgeb': {1, 2, 3, 6},\n",
       " 'cagedb': {2, 3, 6},\n",
       " 'cefabd': {2, 3, 4, 6}}"
      ]
     },
     "execution_count": 201,
     "metadata": {},
     "output_type": "execute_result"
    }
   ],
   "source": [
    "agg_counts"
   ]
  },
  {
   "cell_type": "code",
   "execution_count": 317,
   "id": "effdd265-a281-40ee-bdaf-0c3970ae7614",
   "metadata": {},
   "outputs": [],
   "source": [
    "def get_difference(inp, base_map):\n",
    "    full = set(inp)\n",
    "    base = set(list(base_map.values()))\n",
    "    \n",
    "    #print(full)\n",
    "    #print(base)\n",
    "    \n",
    "    todo = full.difference(base)\n",
    "    \n",
    "    combos_per_base = run_diff(todo, base_map)\n",
    "    \n",
    "    agg_counts = combinations_per_todo(todo, combos_per_base)\n",
    "    \n",
    "    return agg_counts"
   ]
  },
  {
   "cell_type": "code",
   "execution_count": 242,
   "id": "2d656395-db51-4132-8f7e-49346bae6093",
   "metadata": {},
   "outputs": [
    {
     "name": "stdout",
     "output_type": "stream",
     "text": [
      "{'fbcad', 'acedgfb', 'cdfbe', 'gcdfa', 'cdfgeb', 'dab', 'cagedb', 'eafb', 'ab', 'cefabd'}\n",
      "{'dab', 'acedgfb', 'eafb', 'ab'}\n"
     ]
    },
    {
     "data": {
      "text/plain": [
       "{'fbcad': {2, 3, 5},\n",
       " 'cdfbe': {1, 2, 3, 5},\n",
       " 'gcdfa': {1, 2, 5},\n",
       " 'cdfgeb': {1, 2, 3, 6},\n",
       " 'cagedb': {2, 3, 6},\n",
       " 'cefabd': {2, 3, 4, 6}}"
      ]
     },
     "execution_count": 242,
     "metadata": {},
     "output_type": "execute_result"
    }
   ],
   "source": [
    "diff_count = get_difference(inputp, bases)\n",
    "diff_count"
   ]
  },
  {
   "cell_type": "code",
   "execution_count": 227,
   "id": "e9f4e1ce-05bd-40f8-93d7-bcad4d54b135",
   "metadata": {
    "collapsed": true,
    "jupyter": {
     "outputs_hidden": true,
     "source_hidden": true
    },
    "tags": []
   },
   "outputs": [
    {
     "name": "stdout",
     "output_type": "stream",
     "text": [
      "{'cefdbg', 'dgbfe', 'dbaf', 'bdfgea', 'ecbgfa', 'fdgea', 'fa', 'edacg', 'agcfdbe', 'fag'}\n",
      "{'agcfdbe', 'dbaf', 'fa', 'fag'}\n"
     ]
    },
    {
     "data": {
      "text/plain": [
       "{'cefdbg': {1, 2, 3, 6},\n",
       " 'dgbfe': {1, 2, 3, 5},\n",
       " 'bdfgea': {2, 3, 4, 6},\n",
       " 'ecbgfa': {2, 3, 6},\n",
       " 'fdgea': {2, 3, 5},\n",
       " 'edacg': {1, 2, 5}}"
      ]
     },
     "execution_count": 227,
     "metadata": {},
     "output_type": "execute_result"
    }
   ],
   "source": [
    "inp2, bases2 = get_bases('dbaf fag bdfgea ecbgfa dgbfe fa edacg agcfdbe cefdbg fdgea')\n",
    "get_difference(inp2, bases2)"
   ]
  },
  {
   "cell_type": "code",
   "execution_count": 241,
   "id": "e8147ff8-d1c8-45a9-a502-f96dbbec284a",
   "metadata": {},
   "outputs": [
    {
     "data": {
      "text/plain": [
       "{8: 'acedgfb', 7: 'dab', 4: 'eafb', 1: 'ab'}"
      ]
     },
     "execution_count": 241,
     "metadata": {},
     "output_type": "execute_result"
    }
   ],
   "source": [
    "bases"
   ]
  },
  {
   "cell_type": "code",
   "execution_count": 244,
   "id": "7cd1e634-9364-44e1-8af7-64cbda79b22f",
   "metadata": {},
   "outputs": [
    {
     "data": {
      "text/plain": [
       "{'fbcad': {2, 3, 5},\n",
       " 'cdfbe': {1, 2, 3, 5},\n",
       " 'gcdfa': {1, 2, 5},\n",
       " 'cdfgeb': {1, 2, 3, 6},\n",
       " 'cagedb': {2, 3, 6},\n",
       " 'cefabd': {2, 3, 4, 6}}"
      ]
     },
     "execution_count": 244,
     "metadata": {},
     "output_type": "execute_result"
    }
   ],
   "source": [
    "diff_count"
   ]
  },
  {
   "cell_type": "code",
   "execution_count": 295,
   "id": "37f868ac-3df9-4558-90a2-f600c14eaffd",
   "metadata": {},
   "outputs": [],
   "source": [
    "def get_final_numbers(diff_count, bases):\n",
    "    way_3 = [k for k, v in diff_count.items() if len(v) == 3]\n",
    "    way_4 = [k for k, v in diff_count.items() if len(v) == 4]\n",
    "    \n",
    "    remaining = {}\n",
    "    \n",
    "    # handle way 3\n",
    "    remaining[0] = max(way_3, key=len)\n",
    "    way_3.remove(remaining[0])\n",
    "        \n",
    "    if substract_d(way_3[0], bases[1]) == 3:\n",
    "        remaining[3] = way_3[0]\n",
    "        way_3.pop(0)\n",
    "        remaining[2] = way_3[0]\n",
    "    else:\n",
    "        remaining[2] = way_3[0]\n",
    "        way_3.pop(0)\n",
    "        remaining[3] = way_3[0]\n",
    "    \n",
    "    # handle way 4\n",
    "    remaining[5] = min(way_4, key=len)\n",
    "    way_4.remove(remaining[5])\n",
    "    \n",
    "    if substract_d(way_4[0], bases[4]) == 3:\n",
    "        remaining[6] = way_4[0]\n",
    "        way_4.pop(0)\n",
    "        remaining[9] = way_4[0]\n",
    "    else:\n",
    "        remaining[9] = way_4[0]\n",
    "        way_4.pop(0)\n",
    "        remaining[6] = way_4[0]\n",
    "    \n",
    "    full_line = {**bases, **remaining}\n",
    "    \n",
    "    # print(way_3)\n",
    "    # print(way_4)\n",
    "    # print(bases)\n",
    "    # print(full_line)\n",
    "    return full_line"
   ]
  },
  {
   "cell_type": "code",
   "execution_count": 281,
   "id": "eaf06e6c-a8ed-498f-84ce-5e86e8e2592c",
   "metadata": {},
   "outputs": [],
   "source": [
    "def substract_d(inp, sub):\n",
    "    for s in sub:\n",
    "        inp = inp.replace(s, '')\n",
    "    \n",
    "    return len(inp)"
   ]
  },
  {
   "cell_type": "code",
   "execution_count": null,
   "id": "da62c034-31f6-4e41-aaf1-ab272c1a8805",
   "metadata": {},
   "outputs": [],
   "source": []
  },
  {
   "cell_type": "code",
   "execution_count": 297,
   "id": "289024e9-31d9-44fe-8eb0-84ab0240b9e6",
   "metadata": {},
   "outputs": [
    {
     "name": "stdout",
     "output_type": "stream",
     "text": [
      "{'fbcad', 'acedgfb', 'cdfbe', 'gcdfa', 'cdfgeb', 'dab', 'cagedb', 'eafb', 'ab', 'cefabd'}\n",
      "{'dab', 'acedgfb', 'eafb', 'ab'}\n"
     ]
    }
   ],
   "source": [
    "inp\n",
    "inputp, bases = get_bases(inp)\n",
    "diff_count = get_difference(inputp, bases)\n",
    "full_map =get_final_numbers(diff_count, bases)"
   ]
  },
  {
   "cell_type": "code",
   "execution_count": 298,
   "id": "7fa1c865-c9a6-44b8-965f-c0f0d237ab9a",
   "metadata": {},
   "outputs": [
    {
     "name": "stdout",
     "output_type": "stream",
     "text": [
      "{8: 'acedgfb', 7: 'dab', 4: 'eafb', 1: 'ab', 0: 'cagedb', 3: 'fbcad', 2: 'gcdfa', 5: 'cdfbe', 6: 'cdfgeb', 9: 'cefabd'}\n"
     ]
    }
   ],
   "source": [
    "print(full_map)"
   ]
  },
  {
   "cell_type": "code",
   "execution_count": 320,
   "id": "24c32f08-05c9-4934-8299-4b1d120ed1bb",
   "metadata": {},
   "outputs": [
    {
     "name": "stdout",
     "output_type": "stream",
     "text": [
      "[5908, 7387, 5637, 4038, 5988, 2448, 3182, 7161, 7795, 9844, 8461, 5611, 5487, 8472, 3035, 1484, 3843, 4588, 5971, 6195, 161, 8730, 6096, 4128, 1435, 1681, 1527, 6061, 3774, 6447, 4664, 1106, 9465, 3104, 4148, 9406, 8711, 2408, 2857, 454, 2762, 9161, 3196, 4844, 1287, 4492, 5425, 7878, 5421, 2858, 8479, 2764, 4798, 7546, 2284, 2883, 5451, 5088, 8162, 8901, 8741, 929, 1071, 1930, 3650, 3953, 1668, 7281, 410, 7975, 3667, 6661, 6706, 8857, 4268, 3018, 4048, 5680, 9489, 8639, 1007, 5258, 6088, 1329, 7763, 720, 2968, 2234, 458, 7330, 5886, 9181, 6438, 9094, 6764, 5771, 3354, 3417, 3891, 3153, 3584, 1843, 2623, 2446, 7652, 2767, 3688, 9854, 724, 2483, 6336, 5834, 8104, 2662, 851, 1225, 6051, 8240, 4584, 5200, 9496, 7208, 8826, 6150, 7326, 2288, 4386, 8244, 9371, 1117, 1114, 1824, 4519, 380, 3731, 9594, 8415, 4131, 3416, 4554, 3534, 2938, 7483, 8736, 1628, 5950, 9265, 2811, 2097, 9686, 1527, 8747, 9665, 4378, 758, 2971, 2172, 2724, 1890, 8411, 3492, 6214, 9499, 2221, 7251, 1499, 1437, 8871, 4443, 611, 5549, 4155, 2465, 7496, 9296, 138, 985, 3414, 6182, 9406, 8317, 5370, 9993, 7099, 8378, 1747, 3248, 4092, 4604, 1040, 7738, 9465, 24, 5212, 6930, 1818, 4442, 8132, 4845, 5381]\n"
     ]
    }
   ],
   "source": [
    "all_digits = []\n",
    "\n",
    "for line in listo:\n",
    "    inp = (line.split(' | '))[0]\n",
    "    req = (line.split(' | '))[1]\n",
    "    \n",
    "    inputp, bases = get_bases(inp)\n",
    "    diff_count = get_difference(inputp, bases)\n",
    "    full_map = get_final_numbers(diff_count, bases)\n",
    "    \n",
    "    rev_fmap = {v: k for k, v in full_map.items()}\n",
    "    \n",
    "    #print(rev_fmap)\n",
    "    \n",
    "    digits = ''\n",
    "    for rq in req.split(' '):\n",
    "        for idx in rev_fmap.keys():\n",
    "            if sorted(idx) == sorted(rq):\n",
    "                match = idx\n",
    "                break\n",
    "        digits += str(rev_fmap[match])\n",
    "    \n",
    "    all_digits.append(int(digits))\n",
    "\n",
    "print(all_digits)"
   ]
  },
  {
   "cell_type": "code",
   "execution_count": 321,
   "id": "86071d94-62d2-40d2-a821-dc4aaab15c0a",
   "metadata": {},
   "outputs": [
    {
     "data": {
      "text/plain": [
       "986034"
      ]
     },
     "execution_count": 321,
     "metadata": {},
     "output_type": "execute_result"
    }
   ],
   "source": [
    "sum(all_digits)"
   ]
  },
  {
   "cell_type": "code",
   "execution_count": 309,
   "id": "783d099f-df3f-4af7-84e5-7a24be741927",
   "metadata": {},
   "outputs": [
    {
     "data": {
      "text/plain": [
       "['badc bd dbeaf cfdbge dfb cfbdea efbag edcfgab dcafe degfca | eacfd acdfbe cbdegf fcbaedg',\n",
       " 'cd fdbac egcfab gbadcfe cfgdeb cbadfe deca cdf dfabg abefc | dcf cfbad gbafced fcd',\n",
       " 'cg agecfb cbg eabgfdc egdc fdgba bafecd cbdfe bfcdeg cfgdb | efdcb adcfeb fbdcg gbc',\n",
       " 'bfceg gfadb dbcfgea bgaef efad abe bcdgfa ea fbdgea agecbd | eadf ceadbg abfge fecdbga',\n",
       " 'gdcafe eacb adc gbfda afdceb edgbcf badfc ecgbafd ac fdbce | ebfcd cefdab bdfgeca egbdacf',\n",
       " 'aefbgd fbdc fbecg egdcb edcbag bf gcefa fbedcg bagfced fbg | afgce cfbd bdcf geafdbc',\n",
       " 'ebgacd edacg gcdeaf cabfg dbc bd cdbgaef ebad fecgbd acbgd | dgbac db caegbdf gcbfa',\n",
       " 'defbga gead ge efagcb gdafbc cegbdfa egf bfdce bgdef dgabf | gef eg bfcdag ge',\n",
       " 'bae adcgfbe cdfeag ab dcgeb bfdage agecb cagfe abcf bfcaeg | bae aeb agfceb afceg',\n",
       " 'ae adefcb gaceb gadceb edag efadcgb badgc cfgbe cadbfg cea | ceabgd fbeacdg aged aged',\n",
       " 'aegbdc dbegfac gcbaf df febd egdafc deabg gdf gdfeab adfbg | bcdegaf dfeb bcegad df',\n",
       " 'aegcdfb becdaf gdecf ag fag dcfgba badg fcbad cdgaf acefgb | abcdf cefdab ga ga',\n",
       " 'gbcfad cefadg cegad aefdb gedacb gcfe fc cfbgead cfade caf | degac egcf geacfbd afc',\n",
       " 'bcfad afcdbe fd ecfba cfd afde cfeabg gcbfed dacbg fdgabec | cafbged edfa fcd dabgc',\n",
       " 'afdc adbfe bgecfad ecagdb dbcafe dfe fd agbfe bdace gdbfec | fadbe efbdgc fadbe edcba',\n",
       " 'bdface geba ecbdag acegd afcdg ge eadbc bfecgda edg fgbdce | eg abge fadgceb abge',\n",
       " 'fagbde fcegbd gec efcdg fdgbe ebfcag gc adcfe cgdb cagbdfe | defcg cbgdfea gcbd ecfgd',\n",
       " 'acfbg debgf gfcdba edcbfa fbdag fgbeca cfbagde gadc da bda | dacg acbgf cedfgab caefdgb',\n",
       " 'ca dfegca edcbgf gfcde aedbg gfdeacb dcbfea facg dgcea ace | fedcg fdagec cea ac',\n",
       " 'acdf gcfde debcga ecbgaf cf ebgdf bagfdce cedag cef gedafc | dgcbea fc dcgeaf cdaeg',\n",
       " 'ebagf cabgfed ed cbgad afcbge afdbge edg eagbd cedgfb aefd | fcgdbe de cgbeaf ed',\n",
       " 'fbcdeag cafbd fgcbea fdgacb daecfb cg gca defga gbdc fdcga | abfcged agc acfgd cbfaeg',\n",
       " 'dacfe ed ebdcag gcadfe dfbcaeg dce dfeg fbcadg bfeca acdfg | fcbdga gcbade aegdcf fbcgda',\n",
       " 'cfdegb cbef fgdec gdfbca gdecbfa egfdca bc gbc cbegd aedgb | befc bc abegd ebcdfga',\n",
       " 'agcefdb fdbg bf bdafe gdebaf eafdg acdbe gcebaf bef edcfga | bf fdbg efdab gefda',\n",
       " 'gcb bdcgef dcbfg bg edbg facegb cbedf edgafbc dfgca edacbf | gb cdebfa deagfcb bg',\n",
       " 'eafbg gfad afegbd caefbg befdgc ebagd gd bdg cfbdage acdeb | gd geafb cabed dbg',\n",
       " 'bcedfg dc dgc aedfbcg acgbed bgfead gedbf bfdcg cedf facbg | gabfed cdebag dafegb cd',\n",
       " 'fa adbceg afecd cafdbge eacgfb daegcf aef bcdfe fdga daceg | acedf afe fae afdg',\n",
       " 'cdfaeg agcfb bcdgea dcafeb cef fabec ef dfgcbae defb eabcd | gdabce fdeb ebdf ecf',\n",
       " 'cdefg ceafg gebfd cdg dc efbcdg cdgbea cfedbga cbfd fdagbe | fbcd afdgbe fabedg dcfb',\n",
       " 'cdafgb egdb fecgabd cbfdg fcbedg feb acefg begcf be dacebf | be be ebfdca abgfcd',\n",
       " 'eafgcd facegb acb cdbfaeg fagec dgcabe baefd cgbf cb afecb | bcafeg fcgb gfdeac eagcf',\n",
       " 'ecgdfb deb edfgab eb faedcg agfed bfaed dbacf gbae efgdcba | fabde eb ecdgfb eabg',\n",
       " 'aefbg bdegfa gacdb gefc fbc fc bfdcae gefbac cbfag dbgefac | ecfg fc cfge efgcdab',\n",
       " 'gcfbed gcbae dcaef cbegad bdag bgeacf adefgcb deg adgec gd | agcbde bgad gdbfec gcfabe',\n",
       " 'dfacb egbcda dac agdcfb fecab adecfgb bgadf cd fgeabd cgfd | gabfdec acd dc dc',\n",
       " 'bfecg dcgeab af gadf aedbg caefdbg bgfade bafeg abf eabdcf | ebcfg gafd ebacfd fgbdace',\n",
       " 'ge fdeab gcebfda fadcg fgead abcdef eag ebdgfa acgbef dgeb | cdagf cfdgbae fdeab eag',\n",
       " 'dba dgfceb fbcegad bagde bcdeag bcedg bdafce agfbe ad cgad | bdcafe agdc ebdcg cdga',\n",
       " 'edfg fedac fbegcad acgfe fabcd ead bgefac de daecgf bcaged | bafcd ade bacefg fdbac',\n",
       " 'gdecbf edabc ef fcgead fcadg bdcfga fec ceadf dgaefbc agfe | faedgc ef gabfcd fe',\n",
       " 'deafg eb egbaf cadegf fcdeab degb bcgaf bfe bfcdega gefdba | abgfe eb gfdaeb efdcga',\n",
       " 'fabcd beadf efabgc fc cafdgb gcfd adfcgeb abgdce cfb dgcba | dcgf bdcgaef gdcf cfdg',\n",
       " 'ebac acedf ceadfb cfe dbcgaf ec efcgdab degaf abfcd edgbcf | ce edgaf dgbceaf fce',\n",
       " 'ecbag fg gacdfe edafgcb cgefa eacdfb deafc bdagcf gcf dgef | fged gedf cefdga cabge',\n",
       " 'dgebc bcg cg gdeabf cgfeba gdfc gefbdc adbec bdefg fgcdbae | begdf cfgd eadbc gbfde',\n",
       " 'aefdb ecgb dgaeb agdbce ega fgdacb bcadg cbdeafg ge edacfg | age fcbdaeg gea bcfegda',\n",
       " 'cdeabg fcgda bdagc acfb dfa af cdeabfg efdgab fbcgda decgf | bcagd cfba gedfc af',\n",
       " 'ceadb caebgfd bdfaeg cbgaf ge ega gadcbf gfce ebgcfa gebca | aecdb febgcad bgcaf fadcgbe',\n",
       " 'daegb gfdae ceagfd bgfade feagcb fbgd bg cbagdfe ebdac ebg | gefbacd dbgf geb adgbfe',\n",
       " 'ecadfg acdfb aefgc ecbfdag dce cfbega fcdae edga gbecdf ed | fcdba ced egfcba dega',\n",
       " 'defgbc cgdea efag fdbcgae acbdf gcdaeb fe dfcega efc defca | fage fec dcafeg ecagfdb',\n",
       " 'bg dbcafg gdafecb dgfcae defcg gebd cefgb bgfecd fbaec fbg | gbf dfgec bedg cfdgae',\n",
       " 'ebgda ebd adce cdgaeb edfcgb bcagd agdcebf ed agbef gcbfda | efagb gbefa dbcfgae eadc',\n",
       " 'ebcfdg dbe de cdabgf fgdab dgae aecbf abfgced edbaf eagdfb | bface cdafebg gadcefb fedab',\n",
       " 'agc dabcge agbcd cabe dbagf cfgeadb gecafd gbcdfe ac gbced | cbegd beac dgbce ac',\n",
       " 'fdagb bdeacf fga eagd gcfdb gecafb ga feabd abfgde dcbfega | bdafe abgcfe gbecfad abdgefc',\n",
       " 'fbecd dbaef bdgc debafgc daecgf ebfcgd ebc abegfc bc gfced | fadecbg cb cdgeaf bfade',\n",
       " 'fagbe aebfgcd gef bgadf cbagfd deafbg cfdeag ge begd beafc | bcfadeg edbgaf fcgaed ge',\n",
       " 'gabfc gabde fbdga bfegca agfbcd df cdfagbe dcfg caefbd dbf | decfagb bdf gfcd fd',\n",
       " 'bdafeg gf gbadf gefb cgefda daecbfg bacfed cdagb fdg fdaeb | daegcf eagdfb adgcb bagfed',\n",
       " 'dafegb efdac bda fgedbac egfcdb bgfa fbaed bgdef debagc ba | ba bgcead bad ab',\n",
       " 'cfged cbegdf cb ecgdb adefbcg fdcabg cdb cdagef efbc gedab | bc gdebcf gecdb bagdcf',\n",
       " 'fbegcd gcedba eba acegf dbfa efbgd ebfadg ab fgceadb bgfea | fgbae gbedcf degfb agdebc',\n",
       " 'ceadf fdacbe ef edgafb dfe bgaedc cadfg bcef cfebgad ecabd | cafde fabedc debac eacfd',\n",
       " 'cd dgafe cbgfae decfg cfebg cfd gdbc febgdc fbegacd fceadb | dc beagfc aebcfg gcfeabd',\n",
       " 'adcefbg caefgb bafd dface bdcfe cegbd fbe gdfcae dceabf fb | efb ebcgd gbdcaef fb',\n",
       " 'fbdg gebac degbfc gd dfeagbc decfb gcd dafgce faecbd bdgec | gfdcae gfdb dg afgdce',\n",
       " 'fb fgedca fbe gfcde gcbfde dbceaf bgeca eafbdcg dgfb fbegc | fbe cbdegf bfe gedfc',\n",
       " 'acfbe fcbaged bgdcf cabgfd ag cagd fcbga bcfegd gfa eadbfg | afgcb gbdecf efdbcg fag',\n",
       " 'fbegc dgca dfc fagbedc bfadcg dc ebdfca fadbg cgbfd gfdbae | dabefg egdbaf gaebdf dc',\n",
       " 'cdbgf bdfaeg ca fgcab dgacfbe feac facgbe ebgcad bca gfbea | dafbeg cab cdagbe debfga',\n",
       " 'gfbe ebcfag bcedaf be egfac fegdca gebca eab cbgad gfacdbe | dabcgef bcagfed gcfea bea',\n",
       " 'bdefacg fbgedc efdagb beg geabf eg dafbce dage gfabc eabdf | gead gcafb ecfdab egfbdac',\n",
       " 'gd gfecbd dacefb dgbf cdegf acfge agbfced becdf aedbgc gdc | gdcef cgbead gd gefacbd',\n",
       " 'cgbfea cafed dbgefac gacb bc afbge fdabge efbac bcfgde cbe | gbac fcdbge agcb aecgdfb',\n",
       " 'abgefc cfeba gcdba fgdcea gf fcbgaed eadfcb gbfe fga bacgf | efcba fabecd dgcbfae eagcfd',\n",
       " 'gcdbfe fdec gcfdb bdfeg de efgba cbgdafe afgcbd cgdbea ged | cedgbf fced agfcdeb cgfbed',\n",
       " 'dbacfge cafdb gbcfea aegc afbec ea bae bgcedf befgc edgafb | dfgeabc bfgcde faceb fbecag',\n",
       " 'bfcgad bfegd fg dcgeb egaf bfedcag efabdc dfegba gfb abefd | gf abdgcf dcbfag fgb',\n",
       " 'degab dgebac bfdeacg cadeb fbdeac bag debgf cgda abgecf ga | dceba fdbeg edbac dbacfge',\n",
       " 'abdef gcbead bgce cgdab deg dgcbfa aedbg fbacdge eadcfg ge | cgfdba gcafde agfcedb fdacbge',\n",
       " 'defabg cabdg gcfed cabe gbeacd fgadbc eb geb aedcfgb bdgce | eb dbegc dfecg dbecag',\n",
       " 'egdabcf edcgb bcedgf cgb bgfe fcgabd bg acgfed cbaed dfegc | cgb gbc egcfad degbc',\n",
       " 'fe agebdc gfbead fcdea abecgfd bafcde beacd cbef def cgfad | dabgfe fde adfcg bfgead',\n",
       " 'ba fcabed bad dgacf dfgecab dcgba gdecb bdgcfa abgf caegfd | gdecb dgcfba gcdafe afbedgc',\n",
       " 'bdgef cdbgfa acbed gedcfb efdgba cg abcgedf cgb cgdbe cfeg | edabc ebdca edbcg ecgf',\n",
       " 'edfba bcfgead cbged defbcg ag gfadce gcaebd edabg cabg dga | fedagc bcag bdegc gaebfdc',\n",
       " 'edab fed egcfb ecgbfad fegbd fagdcb degcaf afgebd gabdf ed | def gdefb fgedb edcagf',\n",
       " 'fc ebfgda ebcfd cabed gcadbf baecfdg cgfe fdc egdfb gdecbf | defbg aecbfdg cadbegf adgfbe',\n",
       " 'bgdfc fgc fdegb dgecfb fcabd egbafdc gc dgce gabefc gedbfa | fbdgce gc dbfegca cg',\n",
       " 'bgedc ged gdfcea dcefb cdabg bgfe defbgc bdecaf dcgbfae ge | badefc gbfe cbegd fdagbce',\n",
       " 'cdefga cgdafeb cbe becdg gdefc cfbg cfdbeg cb febdac edgba | edbgcf abecfd ebgfcd fgbc',\n",
       " 'de aegcf agedcb afegbdc edbf fbdga facgdb gdaef dbaegf dea | cdabgf ead afgbcd edbf',\n",
       " 'cfagde eagfbc cbegf cg fcaegdb ebgfd gcf dafebc efabc acbg | bacfe fgc gcf cg',\n",
       " 'gadfce fbcaeg bdag eba bedcgfa dcfbe ab ebdgca ceagd ecabd | eabdc badec cdaeg dagb',\n",
       " 'aedb ebcagf fdeac be bdgfc eafbdc abcfegd aefgcd feb ecdfb | fecbd adeb be bfe',\n",
       " 'dg fgdecb dfecb fdcgeba gedcb gceab fdge cgd cgdbfa baedcf | ecbgd cagfdeb dcbfeg gd',\n",
       " 'fgcead bfdcag gecdf dfeacb dce aged gcbfe dcfgeab ed fgcda | cfegd de gcafd gefdc',\n",
       " 'dbec eafbdg dafegc eac gbacf decagb bcgae bdgea gbcefad ce | becag edgab cbadgfe edbc',\n",
       " 'gefcab agbdc febd bcegd de ecbfg afgdce ebafgdc dfebgc egd | de gdecfba edbf cdegb',\n",
       " 'abdcefg fbdega dcfag bd fegba badgec fgadb edbf fgaceb bdg | acdfg fagbce adcfg abgfd',\n",
       " 'ag agdb bfeag fbgdace bcfeda dgafeb egafdc begfc dfeba eag | ecbfg agbd dabg bfeacd',\n",
       " 'dagc dae fdaec edcafg fbadeg cgefa abcgef ad dfecb fdgcbae | eda eagcbf agfec debfc',\n",
       " 'ead beafd dfagb faceb bfedca facegd aefcbg cbed ed gfcbaed | abgdf eda agbfce ead',\n",
       " 'afdgb eabcgf dfgbe fecdgba dagceb gfa cafgdb af cdfa abdcg | abdfg dceagb decfagb fagcedb',\n",
       " 'dbcfga cb acb gcbafde fcbg egbfda dceaf gbfda dcfba cdbgae | fcadgb cdefgba agbfd cgfb',\n",
       " 'gceb fcgba cefdba caebfdg egfadb eagfcb cb beafg acb gfacd | abcedf bca gfcda bcge',\n",
       " 'eabdc caebf ad dgabcef fcaedg cfegba deacbf dabf dca begdc | dbgce dbfa fgebadc acedb',\n",
       " 'fbgce ec gcea dafcgeb fgbed fec adgbcf abcfeg fcbga cfbade | cbdfag ebgfc fgcbe agbfdc',\n",
       " 'afcg afebcg becgf fgadeb bdgaefc fa afe acedb abecf gdfebc | fgecb eacdfgb ceabf cgfa',\n",
       " 'fb gadeb aegdfb abgfe fab dfgb adfecbg bcaegd ebdafc cafeg | becdfga bf fbadec bgfd',\n",
       " 'ab dgafe fdaeb adb agcedf ecbfd agfb caedgb bdfage egfabdc | fedbc dfecag afdcge becfd',\n",
       " 'bgedf dgecfb fae gbaec fa cedafg dcabfge gedfab gafbe fbda | fcgdea geadcfb efbdg fa',\n",
       " 'cgfaed fdebg fcgabd fcegb bd dfaeg gfbeda fgdceba edba dgb | db ebcgf fgcbe edgfa',\n",
       " 'fgc egcafb dcgb fagdb bedafgc cdbgaf fedac cg gacfd dfbage | febgad cgfaeb fadbg gc',\n",
       " 'fdaebcg deabgc bfdeg dfcaeg efcgd cdaf cfbeag fcg cf cgeda | bgefcad bgdfe dafc ebagfc',\n",
       " 'egcfad dbecf cbgf fbe aecbd bcfdge dfbgea aebgdcf ecfdg fb | cgfb gecfd gefacdb fbcg',\n",
       " 'cdb adcf gbcdae bdceaf dfaeb cdfeb febgc fgedba cd cgdafeb | eadfb fcgeb cbedga bdacge',\n",
       " 'gd dacg gbdafc gfbdc bdegaf fbgca cbgdefa cbafge edfcb dfg | gbcafd dgac dgcafb cbfgae',\n",
       " 'cbf dafeb fbceag bc egbdfc edbgafc fbced ecdfg cdgb gdafec | bcf dbfea ebagcf gadfcbe',\n",
       " 'dcebgf eagfc aebfcd edcbg baefgdc fd cdefg dgaebc fde bfgd | ebagfcd acgefdb fagec gbdaec',\n",
       " 'afgdc bagec bdfg fb ecgdbfa fab dfecga bcgadf dcafbe bgafc | afgced fb dcafg feabcd',\n",
       " 'gef febag ebagc egcfbd fg cafg abfde abcfge afcgebd ebcgda | egf gaebf dfeba gadbce',\n",
       " 'ag cdeafg gdbfce daceb acgf efgbda adg cegda gaedbfc efcgd | debac eadbc bgaecdf cgbaedf',\n",
       " 'acefdbg debgac ecdgf ead facebg eafgb ad fedbga bfda eafgd | adbf eagfd eabcfgd ecagfb',\n",
       " 'cd bafegc fgcaed fcaeg dgc fdcag agdbf fedc gbadce egdabcf | fedbcga bgafd fcde cfed',\n",
       " 'decg egf ecgbfa degfa edbagfc dgcabf cdfag eg fcaedg faebd | gcadef efadg egf eg',\n",
       " 'feacbg cgfadbe efb efbga dfagb eb aefgc bgec cgedaf dcebfa | eb be be fbe',\n",
       " 'begc eacfdb dfacg agcfe ce eagbf eac eafdgb aefbcg dfgaecb | ce ce ce gbce',\n",
       " 'dfeagb dgaeb dbagefc gbcfae degf decba cbgdfa bgfda eg gae | ge agfdcbe bdace fdeg',\n",
       " 'cgdab cegdbf cfbad bg aegb caedfg eacgbfd dgb dgaec gdbaec | gbea eacgd gb cgaebd',\n",
       " 'ag ecdgbaf edcba eagcd aeg gcfa dfcgae egcdf gfdeba fcgbde | fgeadb dacge fdagceb egafbd',\n",
       " 'fdbgec bge fdacbe bfdga edfgb cbgaed gefc cefdb ge baegdfc | ebfgd gbe begdf eg',\n",
       " 'cedafb gdab fgced cabdf fgbaecd dcbgf gb bgc gabfdc ebfgca | bcadgf cbfda cdgfab agdb',\n",
       " 'fdcbg bgface ecdabf ad fgcbaed gcefad dac efgac cfagd daeg | dcfabge edga ad gcfea',\n",
       " 'bce gaecdb aefc bedfgca acbfge aebgf fbceg defgba dgfcb ce | ceaf ce bfgce ce',\n",
       " 'gefadc gefadb agd ebfcdag dbeg dfagb abfed gafcb dg adbcef | fbgad bged gd cfebda',\n",
       " 'dcfge egdbf adcgf bafecgd ecd gdfeac bdecaf ec cfgdab cage | acge dacgf facdg cgea',\n",
       " 'bagdec gecdfba gdabe deb eabc be acdgfe afgdb deagc gdecfb | aebgd cgdea adbge eabc',\n",
       " 'gebca bedgaf ac gcbeaf bcagedf bafge egcfda bedgc cabf cea | ecbdg efcgab ebagc bgadfec',\n",
       " 'edacbg gcfad efdabg bc cgfdbae bdc cfedab efbc beadf fadbc | dbc fcbe fbedacg cabfd',\n",
       " 'adfgce acgfb bgfadc dgbca fc gfc fgacdbe fagbe bcdf ebagcd | cbagdfe gfc fgbac cgbaed',\n",
       " 'gdbfec bea acdb ba bcged edabgc gcfaebd afebcg gedba gdeaf | ba fgcebd efgda gadfecb',\n",
       " 'gd gcda bgd gafbcde bdcfag bcgdf cedfb bgefda eacfbg cfbga | fgcab fdgcba bgacf bfedga',\n",
       " 'fgcadeb abdgc gce bagec fcbea ge aebcgd gead cedfgb bagdfc | gbdace baefc fdcagb cdgab',\n",
       " 'fbca aedfcg eagcbd fadbec bdgef fec cf bgcfade dbcef cbade | fgedb bgefadc fc cf',\n",
       " 'dbgfa feca gfbced cf abfgce fcb cafbg eabgc acdbge edafcbg | abgdf dbcgef geabfc fcb',\n",
       " 'dbaf fag bdfgea ecbgfa dgbfe fa edacg agcfdbe cefdbg fdgea | fgbaed cdegbf dacfbge gdcfbe',\n",
       " 'abc acefbd gacedbf gbcde dgabf ca fgcedb cega dgbca cgeadb | ca bcged abgfd bca',\n",
       " 'ceabgd cgfeb ea aedf gcbdfa cadbf acdfeb abfec eac dgcefba | cgdbafe cea adfe aec',\n",
       " 'dbcfgae agebc ebgd cebdfa ebacdg deagc be fdecga gbacf bce | deagcb agecdf caefdg cegad',\n",
       " 'dcaeg gea gdaf befgac cefgd facbdeg dcgbfe ga dagfec adecb | gadf gaedc age cabedgf',\n",
       " 'bead dagfbe gda bagfec ad egfba ecgfad fdcgb ecfabdg dfgab | agefdc dga bgfea dafcgbe',\n",
       " 'abcgd gecbfda cegd badfge bcaed fcaeb ed adcgfb gcabed edb | acefb acbgde deb ed',\n",
       " 'cgefdab dgbcfe gbe beca be fdecga bgcafe bfgda abgfe fgace | bfgda eb gbe bdgaf',\n",
       " 'age cefbadg bcfea cdagbe begca ag gedfca cbfdeg ebcgd dbga | efbac ega fecab dgba',\n",
       " 'cgedf fc defbgc cdf fceb dgebf bafgdce eadbgf ecgad gcfadb | cf deabgfc efgdbc fgbcda',\n",
       " 'bdgeacf bagdef gb becg bcfage cafbg bga fdbac caefdg eafcg | bcedafg cbeg bg gb',\n",
       " 'dfceb gcdab ecbad gfbdea eab gcbeda bgcdeaf ea abfgdc cgea | baedc egca dgacbe cedfb',\n",
       " 'gdaeb dgfbc cefg fe cfbgaed gdfeb fadcbg defgcb abcdfe dfe | gdcfba eagdb fe cfeg',\n",
       " 'abfcedg afgcde acgfd ae bdecga efbcd dea fdgabc feacd gfae | afdcge gaef aefgcd geacfd',\n",
       " 'beadfg cfdgb fdb agfcbde db abcgfd ecdgf cbagf bafgce bdca | efgcd dcefg cdgfe bd',\n",
       " 'fagbe fedbcag afbgcd agdfbe age adgcbe ea fead egbcf abgdf | gae cbegf afgdb ea',\n",
       " 'badfcg fagdc gaf fedcgba dagb acefd dbgcf cgfdbe ag gbecfa | ag bagd bdfgca fbadgc',\n",
       " 'cfebg gc fcbea dcbafe gbc gcedafb cegdba cagf fbgde baecgf | cg agcf befgc bgc',\n",
       " 'fegb ecdaf ecb gacefdb eb gdacbf cdegba abgfc afceb acegfb | ebafgcd afdgceb ebc be',\n",
       " 'adgb cgbae bg abecdg gcefa ecbad dbgfec gbe cbfdega baecfd | badg badg dbag aegbc',\n",
       " 'ab bfa gbedcaf adbgfe bfecg acefb fgdcae bcad fceda ebafdc | gebdaf edcfag ab ba',\n",
       " 'ceadbg cd gfdeca ebgfd gdfec dce fegbca ecfag fadc gdeabfc | gfaec gface fdac ecadgf',\n",
       " 'fbagd egdafb bdg adcefg gbfac daegbcf eadgf bd bfde dgceab | dbfe bd agfde agdef',\n",
       " 'ebg bgdfe acebdg dcfage abfdge agefd dgbcf eb bdfegac afbe | cdfbg aefb dcagef edfga',\n",
       " 'bfcd efc bfdcge gbdec bagfe agdceb cf dacgbef bfgec eadgfc | cfe dcbf cgebdf dbecag',\n",
       " 'cda cefdbg fgeca fdgbeca acgdf bdcgf da deafcb fbgcad bdga | afgbcd cfega gbfcda gdebcf',\n",
       " 'dcaf cagfb gdacb bgdfca fgaecb ebdag cd fdgcbae dbc bcfegd | cfdegb dc abcgd cbfedag',\n",
       " 'gabedc dgfab ecdfbg adegf afbc dbagc bacedgf bf fdb fdcbag | cfedgb dgcfab gbfcead dcbga',\n",
       " 'bcagde efd bgfcd fdecb aefb fe dcfbae gacfebd caebd afecgd | ebcdf afeb ef befa',\n",
       " 'abfc gcdaef agecdfb cb gacedb cgb gcbdf bdgfac gedfb gcdaf | gfceda bc bdfgaec bdgef',\n",
       " 'geabc gcebad cgbeaf begdcf gfabe fe bfgda gfe afce ebcfagd | febgac fcea fbcged baecgd',\n",
       " 'aedfb gbfe acbgde fe fcedgba aef fcadge bacdf fegdab ebdga | fcgdeba afdeb ef fae',\n",
       " 'gbcfd adfgcb gba dgcbafe agbfde ag cfag fecdbg gbdac edcab | fgcbd bgcad agb bdefga',\n",
       " 'agfde efgcba gaefc bdcfeg cfe bafc bgcedaf egbac agcedb cf | gebacf ecgafb gfceab cefag',\n",
       " 'febdc begcd ecgbdf dbacfe bdfagc adgec gbd gb afbdceg gefb | dbg gacbfd egcdfb gfebcd',\n",
       " 'decfbg dagfb afcgbd gdcfb cbaedf caefgdb da gdca gafeb abd | adbgcef dgafb abd cfbgeda',\n",
       " 'begcfd bgeaf dcfaeb cadfeg gcdb cadbgfe cg ecfbd cfbge cgf | cg gfc gdcb gcf',\n",
       " 'ecagdf dfcebg fgbea bg cbeadgf egb ebcafg edfab gbca fegac | bafeg aebfd gcab fbecdag',\n",
       " 'dgacf abfecg fcgadeb cgd gdbace cgbfa egfda dbfc cdbfga dc | cfbd gabdce dbgcaf egfda',\n",
       " 'afedcgb afge bfead gf gdfbe fgabed dgcbe dfceab dgf fabgdc | feag cdabef bgdacf gfea',\n",
       " 'adebgc de bfgacde beafdg egabc egcabf deg cead cbdeg dcgfb | ed eabdgf eadc dbafge',\n",
       " 'fcdbgae gbacf ebgdfc bcadeg bdgea fagdbe gce aecgb acde ce | cge ecg cabeg efdcgba',\n",
       " 'aefgcb fedagcb cefbdg ef dcbeg bacdge fegd edbfc fabdc cef | ecbgfd gdef bacdeg bcdeg',\n",
       " 'geadc gecfad gfcadb eg agdcf bgafce gdef acdbe gea dabegcf | ecfbag gebcaf baecd dfeg',\n",
       " 'cdeba bd aegcd bfadec ecfab bafd agbfce bfdcge bdc cgebdfa | abcfe agdce db adecg',\n",
       " 'fbadg faedgc bgdac bcegd bcadge agc gdefcb cbae gdfbace ca | defgcb ceagbd bdgca afedcg',\n",
       " 'acgfd cbdage agcbd dfa edcfg fa dbcfeag fabc dbaefg gdbcfa | af gedabfc af ebgdfac',\n",
       " 'dafgbc dfegc dc cgfae cgeafd cdf cagefb ceda bfged fdegcba | aecd cade deac fbged',\n",
       " 'cbegda dgfeb gefcb aefbgc fdgceb agdfe dgb bd fdbc bdgfaec | dcgbeaf db gfbed efdag',\n",
       " 'aefbd cdbeagf gd fdgc fgcdab afbcg bdg egfabc bfgad aebgcd | gdfc gadcfeb cfgd fgacb',\n",
       " 'eb gcbaed aeb fgdecba begd eagdc cadfb eabdc cfgade gacfeb | egdca dcbea bdfcgea be']"
      ]
     },
     "execution_count": 309,
     "metadata": {},
     "output_type": "execute_result"
    }
   ],
   "source": [
    "listo"
   ]
  },
  {
   "cell_type": "code",
   "execution_count": null,
   "id": "0e46da41-f7d2-45ed-b53e-9d846c9f9918",
   "metadata": {},
   "outputs": [],
   "source": []
  },
  {
   "cell_type": "code",
   "execution_count": null,
   "id": "5a916a20-c28f-433c-ad24-c50c89cbdd83",
   "metadata": {},
   "outputs": [],
   "source": []
  },
  {
   "cell_type": "code",
   "execution_count": null,
   "id": "fb2296f2-f125-489d-8003-368f45df9f9c",
   "metadata": {},
   "outputs": [],
   "source": []
  },
  {
   "cell_type": "code",
   "execution_count": null,
   "id": "edaa5c30-d47f-424a-993a-c3dea3b70a62",
   "metadata": {},
   "outputs": [],
   "source": []
  },
  {
   "cell_type": "code",
   "execution_count": null,
   "id": "27980c7e-2870-4738-a26b-5f5c21ad3152",
   "metadata": {},
   "outputs": [],
   "source": [
    "'''\n",
    "0:abc-efg\n",
    "1:--c--f-\n",
    "2:a-cde-g\n",
    "3:a-cd-fg\n",
    "4:-bcd-f-\n",
    "5:ab-d-fg\n",
    "6:ab-defg\n",
    "7:a-c--f-\n",
    "8:abcdefg\n",
    "9:abcd-fg\n",
    "'''"
   ]
  },
  {
   "cell_type": "code",
   "execution_count": null,
   "id": "70390937-519d-4fb8-8870-ccf77920b5ef",
   "metadata": {},
   "outputs": [],
   "source": [
    "''''\n",
    "0:abc-efg\n",
    "2:a-cde-g\n",
    "3:a-cd-fg\n",
    "5:ab-d-fg\n",
    "6:ab-defg\n",
    "9:abcd-fg\n",
    "'''"
   ]
  }
 ],
 "metadata": {
  "kernelspec": {
   "display_name": "womt-env",
   "language": "python",
   "name": "womt-env"
  },
  "language_info": {
   "codemirror_mode": {
    "name": "ipython",
    "version": 3
   },
   "file_extension": ".py",
   "mimetype": "text/x-python",
   "name": "python",
   "nbconvert_exporter": "python",
   "pygments_lexer": "ipython3",
   "version": "3.8.6"
  }
 },
 "nbformat": 4,
 "nbformat_minor": 5
}
