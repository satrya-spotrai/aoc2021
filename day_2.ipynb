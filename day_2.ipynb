{
 "cells": [
  {
   "cell_type": "code",
   "execution_count": 30,
   "id": "d50e39e6-b4e4-46aa-88d9-a1b5250cad3e",
   "metadata": {},
   "outputs": [],
   "source": [
    "with open('/home/satrya/Documents/github/adventofcode2021/ex_2/input.txt', 'r') as txt:\n",
    "    listo = [line.rstrip('\\n') for line in txt]\n"
   ]
  },
  {
   "cell_type": "code",
   "execution_count": 43,
   "id": "fa5f5447-61c2-4e93-9f21-1b43525bad17",
   "metadata": {},
   "outputs": [],
   "source": [
    "x = 0\n",
    "y = 0\n",
    "aim = 0"
   ]
  },
  {
   "cell_type": "code",
   "execution_count": 44,
   "id": "fd83f7d8-93fb-4b39-b1e1-5a1df6c13071",
   "metadata": {},
   "outputs": [],
   "source": [
    "for step in listo:\n",
    "    f = int(step.split(' ')[1])\n",
    "    \n",
    "    if 'forward' in step:\n",
    "        x += f\n",
    "        y = y + (f * aim)\n",
    "    elif 'down' in step:\n",
    "        aim += f\n",
    "    else:\n",
    "        aim -= f"
   ]
  },
  {
   "cell_type": "code",
   "execution_count": 45,
   "id": "1b0ca922-60d4-42e3-ace3-eaa30f3134b6",
   "metadata": {},
   "outputs": [
    {
     "data": {
      "text/plain": [
       "(1905, 810499)"
      ]
     },
     "execution_count": 45,
     "metadata": {},
     "output_type": "execute_result"
    }
   ],
   "source": [
    "x, y"
   ]
  },
  {
   "cell_type": "code",
   "execution_count": 46,
   "id": "6afffb9d-9abd-4cde-88d1-53fa3a56d1ab",
   "metadata": {},
   "outputs": [
    {
     "data": {
      "text/plain": [
       "1544000595"
      ]
     },
     "execution_count": 46,
     "metadata": {},
     "output_type": "execute_result"
    }
   ],
   "source": [
    "x * y"
   ]
  },
  {
   "cell_type": "code",
   "execution_count": 41,
   "id": "adc189fb-39c2-4775-8acf-b23ff96c57d9",
   "metadata": {},
   "outputs": [
    {
     "data": {
      "text/plain": [
       "1727835"
      ]
     },
     "execution_count": 41,
     "metadata": {},
     "output_type": "execute_result"
    }
   ],
   "source": [
    "1905 * 907"
   ]
  },
  {
   "cell_type": "code",
   "execution_count": null,
   "id": "6eaf6d82-d937-43f2-b265-116fe26b8a42",
   "metadata": {},
   "outputs": [],
   "source": []
  }
 ],
 "metadata": {
  "kernelspec": {
   "display_name": "womt-env",
   "language": "python",
   "name": "womt-env"
  },
  "language_info": {
   "codemirror_mode": {
    "name": "ipython",
    "version": 3
   },
   "file_extension": ".py",
   "mimetype": "text/x-python",
   "name": "python",
   "nbconvert_exporter": "python",
   "pygments_lexer": "ipython3",
   "version": "3.8.6"
  }
 },
 "nbformat": 4,
 "nbformat_minor": 5
}
