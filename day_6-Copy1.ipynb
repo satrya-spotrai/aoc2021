{
 "cells": [
  {
   "cell_type": "code",
   "execution_count": 227,
   "id": "31b1bb06-c360-4c6c-9f52-080ceaa5ff7c",
   "metadata": {},
   "outputs": [],
   "source": [
    "import gc\n",
    "import numpy as np\n",
    "import itertools"
   ]
  },
  {
   "cell_type": "code",
   "execution_count": 108,
   "id": "f47634fd-024e-44d8-8352-f1c535f3d46f",
   "metadata": {},
   "outputs": [],
   "source": [
    "f_samples = [3,4,3,1,2]"
   ]
  },
  {
   "cell_type": "code",
   "execution_count": 109,
   "id": "2400e919-2840-4a09-81d6-0887cc214e41",
   "metadata": {},
   "outputs": [],
   "source": [
    "r_samples = [3,4,1,2,1,2,5,1,2,1,5,4,3,2,5,1,5,1,2,2,2,3,4,5,2,5,1,3,3,1,3,4,1,5,3,2,2,1,3,2,5,1,1,4,1,4,5,1,3,1,1,5,3,1,1,4,2,2,5,1,5,5,1,5,4,1,5,3,5,1,1,4,1,2,2,1,1,1,4,2,1,3,1,1,4,5,1,1,1,1,1,5,1,1,4,1,1,1,1,2,1,4,2,1,2,4,1,3,1,2,3,2,4,1,1,5,1,1,1,2,5,5,1,1,4,1,2,2,3,5,1,4,5,4,1,3,1,4,1,4,3,2,4,3,2,4,5,1,4,5,2,1,1,1,1,1,3,1,5,1,3,1,1,2,1,4,1,3,1,5,2,4,2,1,1,1,2,1,1,4,1,1,1,1,1,5,4,1,3,3,5,3,2,5,5,2,1,5,2,4,4,1,5,2,3,1,5,3,4,1,5,1,5,3,1,1,1,4,4,5,1,1,1,3,1,4,5,1,2,3,1,3,2,3,1,3,5,4,3,1,3,4,3,1,2,1,1,3,1,1,3,1,1,4,1,2,1,2,5,1,1,3,5,3,3,3,1,1,1,1,1,5,3,3,1,1,3,4,1,1,4,1,1,2,4,4,1,1,3,1,3,2,2,1,2,5,3,3,1,1]"
   ]
  },
  {
   "cell_type": "code",
   "execution_count": 31,
   "id": "42e3d177-3a6f-4609-8e7e-02b5249601d2",
   "metadata": {},
   "outputs": [],
   "source": []
  },
  {
   "cell_type": "code",
   "execution_count": 343,
   "id": "bd0eaba7-8de6-41ec-bc54-191b2e9836f4",
   "metadata": {},
   "outputs": [],
   "source": [
    "fishes = []\n",
    "\n",
    "for f in example:\n",
    "    fish = Fish(18, f)\n",
    "    fishes.append(fish)"
   ]
  },
  {
   "cell_type": "code",
   "execution_count": null,
   "id": "c3131fcd-1bfc-441a-a503-85b409cd87d6",
   "metadata": {},
   "outputs": [],
   "source": [
    "t = []\n",
    "a = Fish(256, 2)\n",
    "a.run()"
   ]
  },
  {
   "cell_type": "code",
   "execution_count": 42,
   "id": "2ee766ac-6d11-47ad-ae6e-42a2d1519c82",
   "metadata": {},
   "outputs": [
    {
     "data": {
      "text/plain": [
       "13040356"
      ]
     },
     "execution_count": 42,
     "metadata": {},
     "output_type": "execute_result"
    }
   ],
   "source": [
    "len(t)"
   ]
  },
  {
   "cell_type": "code",
   "execution_count": 39,
   "id": "7455fb16-549c-41c2-98de-76b262a77868",
   "metadata": {},
   "outputs": [
    {
     "ename": "KeyboardInterrupt",
     "evalue": "",
     "output_type": "error",
     "traceback": [
      "\u001b[0;31m---------------------------------------------------------------------------\u001b[0m",
      "\u001b[0;31mKeyboardInterrupt\u001b[0m                         Traceback (most recent call last)",
      "\u001b[0;32m/tmp/ipykernel_176179/3297281169.py\u001b[0m in \u001b[0;36m<module>\u001b[0;34m\u001b[0m\n\u001b[1;32m      2\u001b[0m \u001b[0;32mfor\u001b[0m \u001b[0mf\u001b[0m \u001b[0;32min\u001b[0m \u001b[0mexample\u001b[0m\u001b[0;34m:\u001b[0m\u001b[0;34m\u001b[0m\u001b[0;34m\u001b[0m\u001b[0m\n\u001b[1;32m      3\u001b[0m     \u001b[0ma\u001b[0m \u001b[0;34m=\u001b[0m \u001b[0mFish\u001b[0m\u001b[0;34m(\u001b[0m\u001b[0;36m200\u001b[0m\u001b[0;34m,\u001b[0m \u001b[0mf\u001b[0m\u001b[0;34m)\u001b[0m\u001b[0;34m\u001b[0m\u001b[0;34m\u001b[0m\u001b[0m\n\u001b[0;32m----> 4\u001b[0;31m     \u001b[0ma\u001b[0m\u001b[0;34m.\u001b[0m\u001b[0mrun\u001b[0m\u001b[0;34m(\u001b[0m\u001b[0;34m)\u001b[0m\u001b[0;34m\u001b[0m\u001b[0;34m\u001b[0m\u001b[0m\n\u001b[0m",
      "\u001b[0;32m/tmp/ipykernel_176179/1064301457.py\u001b[0m in \u001b[0;36mrun\u001b[0;34m(self)\u001b[0m\n\u001b[1;32m     13\u001b[0m                 \u001b[0mchild\u001b[0m \u001b[0;34m=\u001b[0m \u001b[0mFish\u001b[0m\u001b[0;34m(\u001b[0m\u001b[0mself\u001b[0m\u001b[0;34m.\u001b[0m\u001b[0mdays\u001b[0m \u001b[0;34m-\u001b[0m \u001b[0mday\u001b[0m \u001b[0;34m-\u001b[0m \u001b[0;36m1\u001b[0m\u001b[0;34m,\u001b[0m \u001b[0;36m8\u001b[0m\u001b[0;34m)\u001b[0m\u001b[0;34m\u001b[0m\u001b[0;34m\u001b[0m\u001b[0m\n\u001b[1;32m     14\u001b[0m                 \u001b[0;31m#print(f'-----{self.days - day - 1}, {8}') #\u001b[0m\u001b[0;34m\u001b[0m\u001b[0;34m\u001b[0m\u001b[0;34m\u001b[0m\u001b[0m\n\u001b[0;32m---> 15\u001b[0;31m                 \u001b[0mchild\u001b[0m\u001b[0;34m.\u001b[0m\u001b[0mrun\u001b[0m\u001b[0;34m(\u001b[0m\u001b[0;34m)\u001b[0m\u001b[0;34m\u001b[0m\u001b[0;34m\u001b[0m\u001b[0m\n\u001b[0m\u001b[1;32m     16\u001b[0m                 \u001b[0mt\u001b[0m\u001b[0;34m.\u001b[0m\u001b[0mappend\u001b[0m\u001b[0;34m(\u001b[0m\u001b[0;36m1\u001b[0m\u001b[0;34m)\u001b[0m\u001b[0;34m\u001b[0m\u001b[0;34m\u001b[0m\u001b[0m\n\u001b[1;32m     17\u001b[0m \u001b[0;34m\u001b[0m\u001b[0m\n",
      "\u001b[0;32m/tmp/ipykernel_176179/1064301457.py\u001b[0m in \u001b[0;36mrun\u001b[0;34m(self)\u001b[0m\n\u001b[1;32m     13\u001b[0m                 \u001b[0mchild\u001b[0m \u001b[0;34m=\u001b[0m \u001b[0mFish\u001b[0m\u001b[0;34m(\u001b[0m\u001b[0mself\u001b[0m\u001b[0;34m.\u001b[0m\u001b[0mdays\u001b[0m \u001b[0;34m-\u001b[0m \u001b[0mday\u001b[0m \u001b[0;34m-\u001b[0m \u001b[0;36m1\u001b[0m\u001b[0;34m,\u001b[0m \u001b[0;36m8\u001b[0m\u001b[0;34m)\u001b[0m\u001b[0;34m\u001b[0m\u001b[0;34m\u001b[0m\u001b[0m\n\u001b[1;32m     14\u001b[0m                 \u001b[0;31m#print(f'-----{self.days - day - 1}, {8}') #\u001b[0m\u001b[0;34m\u001b[0m\u001b[0;34m\u001b[0m\u001b[0;34m\u001b[0m\u001b[0m\n\u001b[0;32m---> 15\u001b[0;31m                 \u001b[0mchild\u001b[0m\u001b[0;34m.\u001b[0m\u001b[0mrun\u001b[0m\u001b[0;34m(\u001b[0m\u001b[0;34m)\u001b[0m\u001b[0;34m\u001b[0m\u001b[0;34m\u001b[0m\u001b[0m\n\u001b[0m\u001b[1;32m     16\u001b[0m                 \u001b[0mt\u001b[0m\u001b[0;34m.\u001b[0m\u001b[0mappend\u001b[0m\u001b[0;34m(\u001b[0m\u001b[0;36m1\u001b[0m\u001b[0;34m)\u001b[0m\u001b[0;34m\u001b[0m\u001b[0;34m\u001b[0m\u001b[0m\n\u001b[1;32m     17\u001b[0m \u001b[0;34m\u001b[0m\u001b[0m\n",
      "\u001b[0;32m/tmp/ipykernel_176179/1064301457.py\u001b[0m in \u001b[0;36mrun\u001b[0;34m(self)\u001b[0m\n\u001b[1;32m     13\u001b[0m                 \u001b[0mchild\u001b[0m \u001b[0;34m=\u001b[0m \u001b[0mFish\u001b[0m\u001b[0;34m(\u001b[0m\u001b[0mself\u001b[0m\u001b[0;34m.\u001b[0m\u001b[0mdays\u001b[0m \u001b[0;34m-\u001b[0m \u001b[0mday\u001b[0m \u001b[0;34m-\u001b[0m \u001b[0;36m1\u001b[0m\u001b[0;34m,\u001b[0m \u001b[0;36m8\u001b[0m\u001b[0;34m)\u001b[0m\u001b[0;34m\u001b[0m\u001b[0;34m\u001b[0m\u001b[0m\n\u001b[1;32m     14\u001b[0m                 \u001b[0;31m#print(f'-----{self.days - day - 1}, {8}') #\u001b[0m\u001b[0;34m\u001b[0m\u001b[0;34m\u001b[0m\u001b[0;34m\u001b[0m\u001b[0m\n\u001b[0;32m---> 15\u001b[0;31m                 \u001b[0mchild\u001b[0m\u001b[0;34m.\u001b[0m\u001b[0mrun\u001b[0m\u001b[0;34m(\u001b[0m\u001b[0;34m)\u001b[0m\u001b[0;34m\u001b[0m\u001b[0;34m\u001b[0m\u001b[0m\n\u001b[0m\u001b[1;32m     16\u001b[0m                 \u001b[0mt\u001b[0m\u001b[0;34m.\u001b[0m\u001b[0mappend\u001b[0m\u001b[0;34m(\u001b[0m\u001b[0;36m1\u001b[0m\u001b[0;34m)\u001b[0m\u001b[0;34m\u001b[0m\u001b[0;34m\u001b[0m\u001b[0m\n\u001b[1;32m     17\u001b[0m \u001b[0;34m\u001b[0m\u001b[0m\n",
      "\u001b[0;32m/tmp/ipykernel_176179/1064301457.py\u001b[0m in \u001b[0;36mrun\u001b[0;34m(self)\u001b[0m\n\u001b[1;32m     13\u001b[0m                 \u001b[0mchild\u001b[0m \u001b[0;34m=\u001b[0m \u001b[0mFish\u001b[0m\u001b[0;34m(\u001b[0m\u001b[0mself\u001b[0m\u001b[0;34m.\u001b[0m\u001b[0mdays\u001b[0m \u001b[0;34m-\u001b[0m \u001b[0mday\u001b[0m \u001b[0;34m-\u001b[0m \u001b[0;36m1\u001b[0m\u001b[0;34m,\u001b[0m \u001b[0;36m8\u001b[0m\u001b[0;34m)\u001b[0m\u001b[0;34m\u001b[0m\u001b[0;34m\u001b[0m\u001b[0m\n\u001b[1;32m     14\u001b[0m                 \u001b[0;31m#print(f'-----{self.days - day - 1}, {8}') #\u001b[0m\u001b[0;34m\u001b[0m\u001b[0;34m\u001b[0m\u001b[0;34m\u001b[0m\u001b[0m\n\u001b[0;32m---> 15\u001b[0;31m                 \u001b[0mchild\u001b[0m\u001b[0;34m.\u001b[0m\u001b[0mrun\u001b[0m\u001b[0;34m(\u001b[0m\u001b[0;34m)\u001b[0m\u001b[0;34m\u001b[0m\u001b[0;34m\u001b[0m\u001b[0m\n\u001b[0m\u001b[1;32m     16\u001b[0m                 \u001b[0mt\u001b[0m\u001b[0;34m.\u001b[0m\u001b[0mappend\u001b[0m\u001b[0;34m(\u001b[0m\u001b[0;36m1\u001b[0m\u001b[0;34m)\u001b[0m\u001b[0;34m\u001b[0m\u001b[0;34m\u001b[0m\u001b[0m\n\u001b[1;32m     17\u001b[0m \u001b[0;34m\u001b[0m\u001b[0m\n",
      "\u001b[0;32m/tmp/ipykernel_176179/1064301457.py\u001b[0m in \u001b[0;36mrun\u001b[0;34m(self)\u001b[0m\n\u001b[1;32m     13\u001b[0m                 \u001b[0mchild\u001b[0m \u001b[0;34m=\u001b[0m \u001b[0mFish\u001b[0m\u001b[0;34m(\u001b[0m\u001b[0mself\u001b[0m\u001b[0;34m.\u001b[0m\u001b[0mdays\u001b[0m \u001b[0;34m-\u001b[0m \u001b[0mday\u001b[0m \u001b[0;34m-\u001b[0m \u001b[0;36m1\u001b[0m\u001b[0;34m,\u001b[0m \u001b[0;36m8\u001b[0m\u001b[0;34m)\u001b[0m\u001b[0;34m\u001b[0m\u001b[0;34m\u001b[0m\u001b[0m\n\u001b[1;32m     14\u001b[0m                 \u001b[0;31m#print(f'-----{self.days - day - 1}, {8}') #\u001b[0m\u001b[0;34m\u001b[0m\u001b[0;34m\u001b[0m\u001b[0;34m\u001b[0m\u001b[0m\n\u001b[0;32m---> 15\u001b[0;31m                 \u001b[0mchild\u001b[0m\u001b[0;34m.\u001b[0m\u001b[0mrun\u001b[0m\u001b[0;34m(\u001b[0m\u001b[0;34m)\u001b[0m\u001b[0;34m\u001b[0m\u001b[0;34m\u001b[0m\u001b[0m\n\u001b[0m\u001b[1;32m     16\u001b[0m                 \u001b[0mt\u001b[0m\u001b[0;34m.\u001b[0m\u001b[0mappend\u001b[0m\u001b[0;34m(\u001b[0m\u001b[0;36m1\u001b[0m\u001b[0;34m)\u001b[0m\u001b[0;34m\u001b[0m\u001b[0;34m\u001b[0m\u001b[0m\n\u001b[1;32m     17\u001b[0m \u001b[0;34m\u001b[0m\u001b[0m\n",
      "\u001b[0;32m/tmp/ipykernel_176179/1064301457.py\u001b[0m in \u001b[0;36mrun\u001b[0;34m(self)\u001b[0m\n\u001b[1;32m     13\u001b[0m                 \u001b[0mchild\u001b[0m \u001b[0;34m=\u001b[0m \u001b[0mFish\u001b[0m\u001b[0;34m(\u001b[0m\u001b[0mself\u001b[0m\u001b[0;34m.\u001b[0m\u001b[0mdays\u001b[0m \u001b[0;34m-\u001b[0m \u001b[0mday\u001b[0m \u001b[0;34m-\u001b[0m \u001b[0;36m1\u001b[0m\u001b[0;34m,\u001b[0m \u001b[0;36m8\u001b[0m\u001b[0;34m)\u001b[0m\u001b[0;34m\u001b[0m\u001b[0;34m\u001b[0m\u001b[0m\n\u001b[1;32m     14\u001b[0m                 \u001b[0;31m#print(f'-----{self.days - day - 1}, {8}') #\u001b[0m\u001b[0;34m\u001b[0m\u001b[0;34m\u001b[0m\u001b[0;34m\u001b[0m\u001b[0m\n\u001b[0;32m---> 15\u001b[0;31m                 \u001b[0mchild\u001b[0m\u001b[0;34m.\u001b[0m\u001b[0mrun\u001b[0m\u001b[0;34m(\u001b[0m\u001b[0;34m)\u001b[0m\u001b[0;34m\u001b[0m\u001b[0;34m\u001b[0m\u001b[0m\n\u001b[0m\u001b[1;32m     16\u001b[0m                 \u001b[0mt\u001b[0m\u001b[0;34m.\u001b[0m\u001b[0mappend\u001b[0m\u001b[0;34m(\u001b[0m\u001b[0;36m1\u001b[0m\u001b[0;34m)\u001b[0m\u001b[0;34m\u001b[0m\u001b[0;34m\u001b[0m\u001b[0m\n\u001b[1;32m     17\u001b[0m \u001b[0;34m\u001b[0m\u001b[0m\n",
      "\u001b[0;32m/tmp/ipykernel_176179/1064301457.py\u001b[0m in \u001b[0;36mrun\u001b[0;34m(self)\u001b[0m\n\u001b[1;32m     13\u001b[0m                 \u001b[0mchild\u001b[0m \u001b[0;34m=\u001b[0m \u001b[0mFish\u001b[0m\u001b[0;34m(\u001b[0m\u001b[0mself\u001b[0m\u001b[0;34m.\u001b[0m\u001b[0mdays\u001b[0m \u001b[0;34m-\u001b[0m \u001b[0mday\u001b[0m \u001b[0;34m-\u001b[0m \u001b[0;36m1\u001b[0m\u001b[0;34m,\u001b[0m \u001b[0;36m8\u001b[0m\u001b[0;34m)\u001b[0m\u001b[0;34m\u001b[0m\u001b[0;34m\u001b[0m\u001b[0m\n\u001b[1;32m     14\u001b[0m                 \u001b[0;31m#print(f'-----{self.days - day - 1}, {8}') #\u001b[0m\u001b[0;34m\u001b[0m\u001b[0;34m\u001b[0m\u001b[0;34m\u001b[0m\u001b[0m\n\u001b[0;32m---> 15\u001b[0;31m                 \u001b[0mchild\u001b[0m\u001b[0;34m.\u001b[0m\u001b[0mrun\u001b[0m\u001b[0;34m(\u001b[0m\u001b[0;34m)\u001b[0m\u001b[0;34m\u001b[0m\u001b[0;34m\u001b[0m\u001b[0m\n\u001b[0m\u001b[1;32m     16\u001b[0m                 \u001b[0mt\u001b[0m\u001b[0;34m.\u001b[0m\u001b[0mappend\u001b[0m\u001b[0;34m(\u001b[0m\u001b[0;36m1\u001b[0m\u001b[0;34m)\u001b[0m\u001b[0;34m\u001b[0m\u001b[0;34m\u001b[0m\u001b[0m\n\u001b[1;32m     17\u001b[0m \u001b[0;34m\u001b[0m\u001b[0m\n",
      "\u001b[0;32m/tmp/ipykernel_176179/1064301457.py\u001b[0m in \u001b[0;36mrun\u001b[0;34m(self)\u001b[0m\n\u001b[1;32m     13\u001b[0m                 \u001b[0mchild\u001b[0m \u001b[0;34m=\u001b[0m \u001b[0mFish\u001b[0m\u001b[0;34m(\u001b[0m\u001b[0mself\u001b[0m\u001b[0;34m.\u001b[0m\u001b[0mdays\u001b[0m \u001b[0;34m-\u001b[0m \u001b[0mday\u001b[0m \u001b[0;34m-\u001b[0m \u001b[0;36m1\u001b[0m\u001b[0;34m,\u001b[0m \u001b[0;36m8\u001b[0m\u001b[0;34m)\u001b[0m\u001b[0;34m\u001b[0m\u001b[0;34m\u001b[0m\u001b[0m\n\u001b[1;32m     14\u001b[0m                 \u001b[0;31m#print(f'-----{self.days - day - 1}, {8}') #\u001b[0m\u001b[0;34m\u001b[0m\u001b[0;34m\u001b[0m\u001b[0;34m\u001b[0m\u001b[0m\n\u001b[0;32m---> 15\u001b[0;31m                 \u001b[0mchild\u001b[0m\u001b[0;34m.\u001b[0m\u001b[0mrun\u001b[0m\u001b[0;34m(\u001b[0m\u001b[0;34m)\u001b[0m\u001b[0;34m\u001b[0m\u001b[0;34m\u001b[0m\u001b[0m\n\u001b[0m\u001b[1;32m     16\u001b[0m                 \u001b[0mt\u001b[0m\u001b[0;34m.\u001b[0m\u001b[0mappend\u001b[0m\u001b[0;34m(\u001b[0m\u001b[0;36m1\u001b[0m\u001b[0;34m)\u001b[0m\u001b[0;34m\u001b[0m\u001b[0;34m\u001b[0m\u001b[0m\n\u001b[1;32m     17\u001b[0m \u001b[0;34m\u001b[0m\u001b[0m\n",
      "\u001b[0;32m/tmp/ipykernel_176179/1064301457.py\u001b[0m in \u001b[0;36mrun\u001b[0;34m(self)\u001b[0m\n\u001b[1;32m     13\u001b[0m                 \u001b[0mchild\u001b[0m \u001b[0;34m=\u001b[0m \u001b[0mFish\u001b[0m\u001b[0;34m(\u001b[0m\u001b[0mself\u001b[0m\u001b[0;34m.\u001b[0m\u001b[0mdays\u001b[0m \u001b[0;34m-\u001b[0m \u001b[0mday\u001b[0m \u001b[0;34m-\u001b[0m \u001b[0;36m1\u001b[0m\u001b[0;34m,\u001b[0m \u001b[0;36m8\u001b[0m\u001b[0;34m)\u001b[0m\u001b[0;34m\u001b[0m\u001b[0;34m\u001b[0m\u001b[0m\n\u001b[1;32m     14\u001b[0m                 \u001b[0;31m#print(f'-----{self.days - day - 1}, {8}') #\u001b[0m\u001b[0;34m\u001b[0m\u001b[0;34m\u001b[0m\u001b[0;34m\u001b[0m\u001b[0m\n\u001b[0;32m---> 15\u001b[0;31m                 \u001b[0mchild\u001b[0m\u001b[0;34m.\u001b[0m\u001b[0mrun\u001b[0m\u001b[0;34m(\u001b[0m\u001b[0;34m)\u001b[0m\u001b[0;34m\u001b[0m\u001b[0;34m\u001b[0m\u001b[0m\n\u001b[0m\u001b[1;32m     16\u001b[0m                 \u001b[0mt\u001b[0m\u001b[0;34m.\u001b[0m\u001b[0mappend\u001b[0m\u001b[0;34m(\u001b[0m\u001b[0;36m1\u001b[0m\u001b[0;34m)\u001b[0m\u001b[0;34m\u001b[0m\u001b[0;34m\u001b[0m\u001b[0m\n\u001b[1;32m     17\u001b[0m \u001b[0;34m\u001b[0m\u001b[0m\n",
      "\u001b[0;32m/tmp/ipykernel_176179/1064301457.py\u001b[0m in \u001b[0;36mrun\u001b[0;34m(self)\u001b[0m\n\u001b[1;32m     13\u001b[0m                 \u001b[0mchild\u001b[0m \u001b[0;34m=\u001b[0m \u001b[0mFish\u001b[0m\u001b[0;34m(\u001b[0m\u001b[0mself\u001b[0m\u001b[0;34m.\u001b[0m\u001b[0mdays\u001b[0m \u001b[0;34m-\u001b[0m \u001b[0mday\u001b[0m \u001b[0;34m-\u001b[0m \u001b[0;36m1\u001b[0m\u001b[0;34m,\u001b[0m \u001b[0;36m8\u001b[0m\u001b[0;34m)\u001b[0m\u001b[0;34m\u001b[0m\u001b[0;34m\u001b[0m\u001b[0m\n\u001b[1;32m     14\u001b[0m                 \u001b[0;31m#print(f'-----{self.days - day - 1}, {8}') #\u001b[0m\u001b[0;34m\u001b[0m\u001b[0;34m\u001b[0m\u001b[0;34m\u001b[0m\u001b[0m\n\u001b[0;32m---> 15\u001b[0;31m                 \u001b[0mchild\u001b[0m\u001b[0;34m.\u001b[0m\u001b[0mrun\u001b[0m\u001b[0;34m(\u001b[0m\u001b[0;34m)\u001b[0m\u001b[0;34m\u001b[0m\u001b[0;34m\u001b[0m\u001b[0m\n\u001b[0m\u001b[1;32m     16\u001b[0m                 \u001b[0mt\u001b[0m\u001b[0;34m.\u001b[0m\u001b[0mappend\u001b[0m\u001b[0;34m(\u001b[0m\u001b[0;36m1\u001b[0m\u001b[0;34m)\u001b[0m\u001b[0;34m\u001b[0m\u001b[0;34m\u001b[0m\u001b[0m\n\u001b[1;32m     17\u001b[0m \u001b[0;34m\u001b[0m\u001b[0m\n",
      "\u001b[0;32m/tmp/ipykernel_176179/1064301457.py\u001b[0m in \u001b[0;36mrun\u001b[0;34m(self)\u001b[0m\n\u001b[1;32m      8\u001b[0m     \u001b[0;32mdef\u001b[0m \u001b[0mrun\u001b[0m\u001b[0;34m(\u001b[0m\u001b[0mself\u001b[0m\u001b[0;34m)\u001b[0m\u001b[0;34m:\u001b[0m\u001b[0;34m\u001b[0m\u001b[0;34m\u001b[0m\u001b[0m\n\u001b[1;32m      9\u001b[0m         \u001b[0;32mfor\u001b[0m \u001b[0mday\u001b[0m \u001b[0;32min\u001b[0m \u001b[0mrange\u001b[0m\u001b[0;34m(\u001b[0m\u001b[0mself\u001b[0m\u001b[0;34m.\u001b[0m\u001b[0mdays\u001b[0m\u001b[0;34m)\u001b[0m\u001b[0;34m:\u001b[0m\u001b[0;34m\u001b[0m\u001b[0;34m\u001b[0m\u001b[0m\n\u001b[0;32m---> 10\u001b[0;31m             \u001b[0;32mif\u001b[0m \u001b[0mself\u001b[0m\u001b[0;34m.\u001b[0m\u001b[0mcycle\u001b[0m \u001b[0;34m==\u001b[0m \u001b[0;36m0\u001b[0m\u001b[0;34m:\u001b[0m\u001b[0;34m\u001b[0m\u001b[0;34m\u001b[0m\u001b[0m\n\u001b[0m\u001b[1;32m     11\u001b[0m                 \u001b[0mself\u001b[0m\u001b[0;34m.\u001b[0m\u001b[0mcycle\u001b[0m \u001b[0;34m=\u001b[0m \u001b[0;36m6\u001b[0m\u001b[0;34m\u001b[0m\u001b[0;34m\u001b[0m\u001b[0m\n\u001b[1;32m     12\u001b[0m \u001b[0;34m\u001b[0m\u001b[0m\n",
      "\u001b[0;31mKeyboardInterrupt\u001b[0m: "
     ]
    }
   ],
   "source": [
    "t = []\n",
    "for f in example:\n",
    "    a = Fish(200, f)\n",
    "    a.run()"
   ]
  },
  {
   "cell_type": "code",
   "execution_count": 38,
   "id": "c235f79d-8568-4324-bafc-356ba962f816",
   "metadata": {},
   "outputs": [
    {
     "data": {
      "text/plain": [
       "21"
      ]
     },
     "execution_count": 38,
     "metadata": {},
     "output_type": "execute_result"
    }
   ],
   "source": [
    "len(t)"
   ]
  },
  {
   "cell_type": "code",
   "execution_count": 4,
   "id": "f9e202ed-3f04-47a1-9ead-3e0c2549146b",
   "metadata": {},
   "outputs": [],
   "source": [
    "def count_fish(fish):\n",
    "    if len(fish.children) == 0:\n",
    "        return 0\n",
    "    else:\n",
    "        return len(fish.children) + sum([count_fish(f) for f in fish.children])"
   ]
  },
  {
   "cell_type": "code",
   "execution_count": 399,
   "id": "bfee0587-c0f6-45c5-b3ac-2cce776087f5",
   "metadata": {},
   "outputs": [],
   "source": [
    "f1 = Fish(18, 1)\n",
    "f1.run()"
   ]
  },
  {
   "cell_type": "code",
   "execution_count": 400,
   "id": "bf308103-d60c-4812-8811-45a3301ef8f2",
   "metadata": {},
   "outputs": [
    {
     "data": {
      "text/plain": [
       "7"
      ]
     },
     "execution_count": 400,
     "metadata": {},
     "output_type": "execute_result"
    }
   ],
   "source": [
    "count_fish(f1) + 1"
   ]
  },
  {
   "cell_type": "code",
   "execution_count": null,
   "id": "a3d21ab2-ac5d-40ba-a105-c8fed64d1297",
   "metadata": {},
   "outputs": [],
   "source": [
    "fishes = []\n",
    "for f in real_fishes[:1]:\n",
    "    fish = Fish(100, f)\n",
    "    fish.run()\n",
    "    \n",
    "    #fishes.append(count_fish(fish) + 1)"
   ]
  },
  {
   "cell_type": "code",
   "execution_count": null,
   "id": "5c79c8db-4e4f-4682-b7b6-64d73bcf87d8",
   "metadata": {},
   "outputs": [],
   "source": [
    "sum(fishes)"
   ]
  },
  {
   "cell_type": "code",
   "execution_count": 164,
   "id": "29e82d14-577c-4692-8e9e-74fc65861809",
   "metadata": {},
   "outputs": [
    {
     "data": {
      "text/plain": [
       "array([1, 2, 3, 4, 5])"
      ]
     },
     "execution_count": 164,
     "metadata": {},
     "output_type": "execute_result"
    }
   ],
   "source": [
    "np.unique(r_samples)"
   ]
  },
  {
   "cell_type": "code",
   "execution_count": null,
   "id": "b7353f05-0e53-4b51-abea-ed9ded229526",
   "metadata": {},
   "outputs": [],
   "source": []
  },
  {
   "cell_type": "code",
   "execution_count": 249,
   "id": "949ce824-0374-43b1-9c55-149174a86665",
   "metadata": {},
   "outputs": [
    {
     "name": "stdout",
     "output_type": "stream",
     "text": [
      "14\n",
      "8\n",
      "----\n",
      "7\n",
      "8\n",
      "----\n",
      "0\n",
      "8\n",
      "----\n"
     ]
    }
   ],
   "source": [
    "for child in f.children:\n",
    "    print(child.days)\n",
    "    print(child.cycle)\n",
    "    print('----')"
   ]
  },
  {
   "cell_type": "markdown",
   "id": "9cc65db6-41bf-473b-b60f-6ad1fc5c7078",
   "metadata": {},
   "source": [
    "## tests"
   ]
  },
  {
   "cell_type": "code",
   "execution_count": 265,
   "id": "fdd24771-bdb9-4560-a1cc-45ff20c08777",
   "metadata": {},
   "outputs": [],
   "source": [
    "test_fish = Fish(18, 3)\n",
    "test_fish.run()\n",
    "\n",
    "# test fish cycle\n",
    "assert test_fish.cycle == 6, test_fish.cycle\n",
    "\n",
    "# test fish children amount\n",
    "assert len(test_fish.children) == 3, test_fish.children\n",
    "\n",
    "# test children of children\n",
    "assert test_fish.children[0].cycle == 1, test_fish.children[0].cycle\n",
    "assert test_fish.children[1].cycle == 1, test_fish.children[1].cycle\n",
    "assert test_fish.children[2].cycle == 8, test_fish.children[2].cycle"
   ]
  },
  {
   "cell_type": "code",
   "execution_count": null,
   "id": "c479dde4-3866-44f1-8804-fbe8b7b4f783",
   "metadata": {},
   "outputs": [],
   "source": []
  },
  {
   "cell_type": "code",
   "execution_count": null,
   "id": "542bd514-8564-42eb-a8c3-d7979f4200c5",
   "metadata": {},
   "outputs": [],
   "source": []
  },
  {
   "cell_type": "code",
   "execution_count": null,
   "id": "cca0ea61-e167-4512-b135-2a93c2784dfe",
   "metadata": {},
   "outputs": [],
   "source": []
  },
  {
   "cell_type": "code",
   "execution_count": null,
   "id": "6f8d2e03-8929-4f7a-8551-045dcb5106da",
   "metadata": {},
   "outputs": [],
   "source": []
  },
  {
   "cell_type": "code",
   "execution_count": null,
   "id": "6a06cf70-3ba2-481d-a8fc-fa8743359174",
   "metadata": {},
   "outputs": [],
   "source": []
  },
  {
   "cell_type": "code",
   "execution_count": null,
   "id": "d1d8bc78-a98c-4c14-ac8c-15623c8295e5",
   "metadata": {},
   "outputs": [],
   "source": []
  },
  {
   "cell_type": "markdown",
   "id": "8c3c737e-2d23-44d4-9a12-9e8eeb7cd46c",
   "metadata": {},
   "source": [
    "## test now shit"
   ]
  },
  {
   "cell_type": "code",
   "execution_count": 1,
   "id": "db15bc3e-48fb-4bae-9695-b4bac1c3f409",
   "metadata": {},
   "outputs": [],
   "source": [
    "example = [3,4,3,1,2]"
   ]
  },
  {
   "cell_type": "code",
   "execution_count": 177,
   "id": "a4b64ded-b02b-495f-b584-293adb80a2be",
   "metadata": {},
   "outputs": [],
   "source": [
    "def masters(days, cycle):\n",
    "    # \n",
    "    #\n",
    "    children = []\n",
    "    \n",
    "    for day in range(days):\n",
    "        if cycle == 0:\n",
    "            cycle = 6\n",
    "\n",
    "            children.append(days - day - 1)\n",
    "        else:\n",
    "            cycle -= 1\n",
    "        \n",
    "    return children"
   ]
  },
  {
   "cell_type": "code",
   "execution_count": 179,
   "id": "fc1210bd-c101-4228-a744-6174db6d4570",
   "metadata": {},
   "outputs": [],
   "source": [
    "def slaves(days, cycle=8):\n",
    "    children = []\n",
    "    \n",
    "    for day in range(days):\n",
    "        if cycle == 0:\n",
    "            cycle = 6\n",
    "\n",
    "            children.append(days - day -1)\n",
    "        else:\n",
    "            cycle -= 1\n",
    "        \n",
    "    return children"
   ]
  },
  {
   "cell_type": "code",
   "execution_count": 178,
   "id": "4fb4fc45-5a59-45fb-bf57-94f263577693",
   "metadata": {},
   "outputs": [
    {
     "data": {
      "text/plain": [
       "[14, 7, 0]"
      ]
     },
     "execution_count": 178,
     "metadata": {},
     "output_type": "execute_result"
    }
   ],
   "source": [
    "masters(18, 3)"
   ]
  },
  {
   "cell_type": "code",
   "execution_count": 180,
   "id": "8393db88-73fd-44af-93b7-129dc96badfb",
   "metadata": {},
   "outputs": [
    {
     "data": {
      "text/plain": [
       "[5]"
      ]
     },
     "execution_count": 180,
     "metadata": {},
     "output_type": "execute_result"
    }
   ],
   "source": [
    "slaves(14)"
   ]
  },
  {
   "cell_type": "code",
   "execution_count": 78,
   "id": "721140b1-c4a0-4bb3-b13b-4e68d9bf7840",
   "metadata": {},
   "outputs": [
    {
     "data": {
      "text/plain": [
       "[(14, 8), (7, 8), (0, 8)]"
      ]
     },
     "execution_count": 78,
     "metadata": {},
     "output_type": "execute_result"
    }
   ],
   "source": [
    "masters(18, 3)"
   ]
  },
  {
   "cell_type": "code",
   "execution_count": 64,
   "id": "1686361a-eebc-4e7c-ae3f-33592fba4966",
   "metadata": {},
   "outputs": [
    {
     "data": {
      "text/plain": [
       "[(5, 8)]"
      ]
     },
     "execution_count": 64,
     "metadata": {},
     "output_type": "execute_result"
    }
   ],
   "source": [
    "slaves(14, 8)"
   ]
  },
  {
   "cell_type": "code",
   "execution_count": 65,
   "id": "f44d4ce3-af44-4af5-a81f-b3d42cc55e1d",
   "metadata": {},
   "outputs": [
    {
     "data": {
      "text/plain": [
       "[]"
      ]
     },
     "execution_count": 65,
     "metadata": {},
     "output_type": "execute_result"
    }
   ],
   "source": [
    "slaves(7, 8)"
   ]
  },
  {
   "cell_type": "code",
   "execution_count": 28,
   "id": "10db4d9b-3199-4e13-be18-8cc1763a386e",
   "metadata": {},
   "outputs": [
    {
     "data": {
      "text/plain": [
       "7"
      ]
     },
     "execution_count": 28,
     "metadata": {},
     "output_type": "execute_result"
    }
   ],
   "source": [
    "slaves(7, 8)"
   ]
  },
  {
   "cell_type": "code",
   "execution_count": 79,
   "id": "2543c954-e172-499c-8912-f197601e1d25",
   "metadata": {},
   "outputs": [
    {
     "data": {
      "text/plain": [
       "[(16, 8), (9, 8), (2, 8)]"
      ]
     },
     "execution_count": 79,
     "metadata": {},
     "output_type": "execute_result"
    }
   ],
   "source": [
    "masters(18, 1)"
   ]
  },
  {
   "cell_type": "code",
   "execution_count": 122,
   "id": "80b9ed90-6efa-4553-85c5-64a4d9f78a70",
   "metadata": {},
   "outputs": [
    {
     "data": {
      "text/plain": [
       "[(0, 8)]"
      ]
     },
     "execution_count": 122,
     "metadata": {},
     "output_type": "execute_result"
    }
   ],
   "source": [
    "slaves(9, 8)"
   ]
  },
  {
   "cell_type": "code",
   "execution_count": 81,
   "id": "cd2e3256-3f26-4c98-98a4-00438f16ef1b",
   "metadata": {},
   "outputs": [
    {
     "data": {
      "text/plain": [
       "[(0, 8)]"
      ]
     },
     "execution_count": 81,
     "metadata": {},
     "output_type": "execute_result"
    }
   ],
   "source": [
    "slaves(9, 8)"
   ]
  },
  {
   "cell_type": "code",
   "execution_count": 82,
   "id": "711032d8-2692-4021-be70-501f290cc510",
   "metadata": {},
   "outputs": [
    {
     "data": {
      "text/plain": [
       "[]"
      ]
     },
     "execution_count": 82,
     "metadata": {},
     "output_type": "execute_result"
    }
   ],
   "source": [
    "slaves(2, 8)"
   ]
  },
  {
   "cell_type": "code",
   "execution_count": 158,
   "id": "d91d7f84-9f20-4b9d-9af5-9944eda39721",
   "metadata": {},
   "outputs": [],
   "source": [
    "DAYS = 256 # times it loops"
   ]
  },
  {
   "cell_type": "code",
   "execution_count": 182,
   "id": "9b93a45a-7851-4176-9642-a7fa52368ce7",
   "metadata": {},
   "outputs": [],
   "source": [
    "def find_children(children):\n",
    "    if len(children) == 0:\n",
    "        return 0\n",
    "    else:\n",
    "        return len(children) + sum([find_children(slaves(d)) for d in children])"
   ]
  },
  {
   "cell_type": "code",
   "execution_count": 234,
   "id": "b51ef970-949f-4636-ad96-4148694c601c",
   "metadata": {},
   "outputs": [],
   "source": [
    "def w_find_children(children):\n",
    "    for child in children:\n",
    "        new_childs = [slaves(d) for d in children]\n",
    "        \n",
    "        all_childs = list(itertools.chain(*new_childs))\n",
    "\n",
    "    return all_childs"
   ]
  },
  {
   "cell_type": "code",
   "execution_count": 235,
   "id": "8a120e97-efc9-472b-b42c-3c6c05d24e0d",
   "metadata": {},
   "outputs": [
    {
     "data": {
      "text/plain": [
       "[7, 0, 0]"
      ]
     },
     "execution_count": 235,
     "metadata": {},
     "output_type": "execute_result"
    }
   ],
   "source": [
    "w_find_children([16, 9 ,2])"
   ]
  },
  {
   "cell_type": "code",
   "execution_count": 236,
   "id": "04934c3b-4ea5-4928-9d0a-ff644470e535",
   "metadata": {},
   "outputs": [
    {
     "data": {
      "text/plain": [
       "[]"
      ]
     },
     "execution_count": 236,
     "metadata": {},
     "output_type": "execute_result"
    }
   ],
   "source": [
    "w_find_children([7, 0, 0])"
   ]
  },
  {
   "cell_type": "code",
   "execution_count": 229,
   "id": "72e4a099-2692-445d-8cbc-f64244e7f3ed",
   "metadata": {},
   "outputs": [
    {
     "data": {
      "text/plain": [
       "[[7, 0], [0], []]"
      ]
     },
     "execution_count": 229,
     "metadata": {},
     "output_type": "execute_result"
    }
   ],
   "source": [
    "w_find_children([16, 9 ,2])"
   ]
  },
  {
   "cell_type": "code",
   "execution_count": 88,
   "id": "1a98030c-d63e-42e0-9245-e8280c02824a",
   "metadata": {},
   "outputs": [
    {
     "data": {
      "text/plain": [
       "6"
      ]
     },
     "execution_count": 88,
     "metadata": {},
     "output_type": "execute_result"
    }
   ],
   "source": [
    "find_children([(16, 8), (9, 8), (2, 8)])"
   ]
  },
  {
   "cell_type": "code",
   "execution_count": 184,
   "id": "c4ba7420-fce9-4053-90ef-989a9637ff0b",
   "metadata": {},
   "outputs": [
    {
     "data": {
      "text/plain": [
       "6"
      ]
     },
     "execution_count": 184,
     "metadata": {},
     "output_type": "execute_result"
    }
   ],
   "source": [
    "# test new\n",
    "find_children([16, 9, 2])"
   ]
  },
  {
   "cell_type": "code",
   "execution_count": 196,
   "id": "d26981be-be73-437f-b419-596bff7bb3a2",
   "metadata": {
    "tags": []
   },
   "outputs": [
    {
     "name": "stdout",
     "output_type": "stream",
     "text": [
      "CPU times: user 248 ms, sys: 4 ms, total: 252 ms\n",
      "Wall time: 252 ms\n"
     ]
    }
   ],
   "source": [
    "%%time\n",
    "\n",
    "fishes = 0\n",
    "\n",
    "for f in r_samples:\n",
    "    children = masters(80, f)\n",
    "    bloodline = find_children(children)\n",
    "    full_line = bloodline + 1\n",
    "\n",
    "    fishes += full_line"
   ]
  },
  {
   "cell_type": "code",
   "execution_count": 197,
   "id": "acb870aa-1ed0-48fd-b150-0fa322313c72",
   "metadata": {},
   "outputs": [
    {
     "data": {
      "text/plain": [
       "365131"
      ]
     },
     "execution_count": 197,
     "metadata": {},
     "output_type": "execute_result"
    }
   ],
   "source": [
    "fishes # 1"
   ]
  },
  {
   "cell_type": "code",
   "execution_count": 191,
   "id": "447de4c2-f9b5-44f8-8b5c-ff62fbced3fb",
   "metadata": {},
   "outputs": [
    {
     "data": {
      "text/plain": [
       "[14, 7, 0]"
      ]
     },
     "execution_count": 191,
     "metadata": {},
     "output_type": "execute_result"
    }
   ],
   "source": [
    "masters(18, 3)"
   ]
  },
  {
   "cell_type": "code",
   "execution_count": 201,
   "id": "d3655c20-8d48-4c93-bfb6-1058b4a78fae",
   "metadata": {},
   "outputs": [
    {
     "name": "stdout",
     "output_type": "stream",
     "text": [
      "CPU times: user 1.76 ms, sys: 0 ns, total: 1.76 ms\n",
      "Wall time: 1.76 ms\n"
     ]
    }
   ],
   "source": [
    "%%time\n",
    "\n",
    "# one master\n",
    "fishes = 0\n",
    "\n",
    "children = masters(80, 1)\n",
    "bloodline = find_children(children)\n",
    "full_line = bloodline + 1\n",
    "\n",
    "fishes += full_line"
   ]
  },
  {
   "cell_type": "code",
   "execution_count": 202,
   "id": "2661c94d-b212-4db6-bf23-e1f89c701831",
   "metadata": {},
   "outputs": [
    {
     "data": {
      "text/plain": [
       "1401"
      ]
     },
     "execution_count": 202,
     "metadata": {},
     "output_type": "execute_result"
    }
   ],
   "source": [
    "fishes"
   ]
  },
  {
   "cell_type": "code",
   "execution_count": null,
   "id": "404bd0ef-fce0-464f-be79-537cc5b3d8f9",
   "metadata": {},
   "outputs": [],
   "source": []
  },
  {
   "cell_type": "code",
   "execution_count": 292,
   "id": "7dd2afde-2347-46e5-945d-e94cffd88e27",
   "metadata": {},
   "outputs": [
    {
     "name": "stdout",
     "output_type": "stream",
     "text": [
      "CPU times: user 7 µs, sys: 0 ns, total: 7 µs\n",
      "Wall time: 8.58 µs\n"
     ]
    }
   ],
   "source": [
    "%%time\n",
    "children = masters(80, 1)"
   ]
  },
  {
   "cell_type": "code",
   "execution_count": 256,
   "id": "a85f0635-659c-4317-84bd-2b9414038584",
   "metadata": {},
   "outputs": [
    {
     "name": "stdout",
     "output_type": "stream",
     "text": [
      "CPU times: user 5.27 s, sys: 1 µs, total: 5.27 s\n",
      "Wall time: 5.27 s\n"
     ]
    }
   ],
   "source": [
    "%%time\n",
    "bloodline = find_children(children) + 1"
   ]
  },
  {
   "cell_type": "code",
   "execution_count": 247,
   "id": "3a55d44e-f62b-44f3-b676-03d2bebfdeda",
   "metadata": {},
   "outputs": [
    {
     "data": {
      "text/plain": [
       "1401"
      ]
     },
     "execution_count": 247,
     "metadata": {},
     "output_type": "execute_result"
    }
   ],
   "source": [
    "bloodline"
   ]
  },
  {
   "cell_type": "code",
   "execution_count": null,
   "id": "356893f3-6096-4102-8270-97d3c6a39015",
   "metadata": {},
   "outputs": [],
   "source": []
  },
  {
   "cell_type": "code",
   "execution_count": 239,
   "id": "1481034b-9d9a-4de5-8c69-fe77ba1e2edd",
   "metadata": {},
   "outputs": [
    {
     "data": {
      "text/plain": [
       "[98, 91, 84, 77, 70, 63, 56, 49, 42, 35, 28, 21, 14, 7, 0]"
      ]
     },
     "execution_count": 239,
     "metadata": {},
     "output_type": "execute_result"
    }
   ],
   "source": [
    "children"
   ]
  },
  {
   "cell_type": "code",
   "execution_count": 261,
   "id": "0cadc4df-5c21-4345-bad4-fe672f58444a",
   "metadata": {},
   "outputs": [],
   "source": [
    "def children_rec(children):\n",
    "    if len(children) == 0:\n",
    "        return 0\n",
    "    else:\n",
    "        new_kids = w_find_children(children)\n",
    "        return len(children) + children_rec(new_kids)"
   ]
  },
  {
   "cell_type": "code",
   "execution_count": 262,
   "id": "ae49fa93-58aa-420c-a541-de725c395f3b",
   "metadata": {},
   "outputs": [
    {
     "name": "stdout",
     "output_type": "stream",
     "text": [
      "CPU times: user 7.11 s, sys: 0 ns, total: 7.11 s\n",
      "Wall time: 7.11 s\n"
     ]
    },
    {
     "data": {
      "text/plain": [
       "7775"
      ]
     },
     "execution_count": 262,
     "metadata": {},
     "output_type": "execute_result"
    }
   ],
   "source": [
    "%%time\n",
    "\n",
    "children_rec(children)"
   ]
  },
  {
   "cell_type": "code",
   "execution_count": 291,
   "id": "e88bc171-ee4a-4159-bee0-467f152784cb",
   "metadata": {},
   "outputs": [
    {
     "data": {
      "text/plain": [
       "[]"
      ]
     },
     "execution_count": 291,
     "metadata": {},
     "output_type": "execute_result"
    }
   ],
   "source": [
    "children"
   ]
  },
  {
   "cell_type": "code",
   "execution_count": 271,
   "id": "4fe35ef5-2df7-4d74-9d7f-ab5a223d2fa6",
   "metadata": {},
   "outputs": [],
   "source": [
    "new_kids1 = w_find_children(children)"
   ]
  },
  {
   "cell_type": "code",
   "execution_count": 272,
   "id": "fde56ee8-c0b3-43f7-8dad-e4cc60a6318a",
   "metadata": {
    "collapsed": true,
    "jupyter": {
     "outputs_hidden": true
    },
    "tags": []
   },
   "outputs": [
    {
     "data": {
      "text/plain": [
       "[69,\n",
       " 62,\n",
       " 55,\n",
       " 48,\n",
       " 41,\n",
       " 34,\n",
       " 27,\n",
       " 20,\n",
       " 13,\n",
       " 6,\n",
       " 62,\n",
       " 55,\n",
       " 48,\n",
       " 41,\n",
       " 34,\n",
       " 27,\n",
       " 20,\n",
       " 13,\n",
       " 6,\n",
       " 55,\n",
       " 48,\n",
       " 41,\n",
       " 34,\n",
       " 27,\n",
       " 20,\n",
       " 13,\n",
       " 6,\n",
       " 48,\n",
       " 41,\n",
       " 34,\n",
       " 27,\n",
       " 20,\n",
       " 13,\n",
       " 6,\n",
       " 41,\n",
       " 34,\n",
       " 27,\n",
       " 20,\n",
       " 13,\n",
       " 6,\n",
       " 34,\n",
       " 27,\n",
       " 20,\n",
       " 13,\n",
       " 6,\n",
       " 27,\n",
       " 20,\n",
       " 13,\n",
       " 6,\n",
       " 20,\n",
       " 13,\n",
       " 6,\n",
       " 13,\n",
       " 6,\n",
       " 6]"
      ]
     },
     "execution_count": 272,
     "metadata": {},
     "output_type": "execute_result"
    }
   ],
   "source": [
    "new_kids1"
   ]
  },
  {
   "cell_type": "code",
   "execution_count": 268,
   "id": "ee5b40c2-7bec-452e-bb20-daa5f85a180a",
   "metadata": {},
   "outputs": [],
   "source": [
    "new_kids2 = w_find_children(new_kids1)"
   ]
  },
  {
   "cell_type": "code",
   "execution_count": 293,
   "id": "895e0ffe-6215-4049-9b37-f43323d51445",
   "metadata": {},
   "outputs": [],
   "source": [
    "for i in range(0, 10):\n",
    "    new_children = w_find_children(children)"
   ]
  },
  {
   "cell_type": "code",
   "execution_count": 310,
   "id": "239e9cd8-05d8-40d4-bbe8-b0fc74ef50f1",
   "metadata": {},
   "outputs": [],
   "source": [
    "new_children = w_find_children(new_children)"
   ]
  },
  {
   "cell_type": "code",
   "execution_count": 311,
   "id": "542eee43-6786-402a-9ea0-5e882475e386",
   "metadata": {},
   "outputs": [
    {
     "data": {
      "text/plain": [
       "0"
      ]
     },
     "execution_count": 311,
     "metadata": {},
     "output_type": "execute_result"
    }
   ],
   "source": [
    "len(new_children)"
   ]
  },
  {
   "cell_type": "code",
   "execution_count": null,
   "id": "ee85614e-af2f-411b-8b61-af4cb62bedef",
   "metadata": {},
   "outputs": [],
   "source": []
  },
  {
   "cell_type": "code",
   "execution_count": null,
   "id": "83af1937-bc65-4d91-ae9f-d5997e6916ae",
   "metadata": {},
   "outputs": [],
   "source": []
  },
  {
   "cell_type": "code",
   "execution_count": null,
   "id": "da9fd621-a4a0-44ed-891f-6b2f0d5dc05e",
   "metadata": {},
   "outputs": [],
   "source": []
  },
  {
   "cell_type": "markdown",
   "id": "a7581138-14a8-429c-9aeb-f5059f83cb4a",
   "metadata": {},
   "source": [
    "## Learn "
   ]
  },
  {
   "cell_type": "code",
   "execution_count": 333,
   "id": "655b2efb-bee1-4554-821f-f88b00620d2f",
   "metadata": {},
   "outputs": [
    {
     "data": {
      "text/plain": [
       "[3, 4, 3, 1, 2]"
      ]
     },
     "execution_count": 333,
     "metadata": {},
     "output_type": "execute_result"
    }
   ],
   "source": [
    "f_samples"
   ]
  },
  {
   "cell_type": "code",
   "execution_count": 478,
   "id": "55ac31e9-ce43-48d8-a677-e30de555a9ba",
   "metadata": {},
   "outputs": [
    {
     "data": {
      "text/plain": [
       "[0, 1, 1, 2, 1, 0, 0, 0, 0]"
      ]
     },
     "execution_count": 478,
     "metadata": {},
     "output_type": "execute_result"
    }
   ],
   "source": [
    "cycles = [0 for i in range(9)]\n",
    "\n",
    "for i in f_samples:\n",
    "    cycles[i] += 1\n",
    "\n",
    "cycles"
   ]
  },
  {
   "cell_type": "code",
   "execution_count": 479,
   "id": "0016758b-3775-470d-9a02-781c4dd6e040",
   "metadata": {},
   "outputs": [
    {
     "name": "stdout",
     "output_type": "stream",
     "text": [
      "[1, 1, 2, 1, 0, 0, 0, 0, 0]\n",
      "[1, 2, 1, 0, 0, 0, 1, 0, 1]\n",
      "[2, 1, 0, 0, 0, 1, 1, 1, 1]\n",
      "[1, 0, 0, 0, 1, 1, 3, 1, 2]\n",
      "[0, 0, 0, 1, 1, 3, 2, 2, 1]\n",
      "[0, 0, 1, 1, 3, 2, 2, 1, 0]\n",
      "[0, 1, 1, 3, 2, 2, 1, 0, 0]\n",
      "[1, 1, 3, 2, 2, 1, 0, 0, 0]\n",
      "[1, 3, 2, 2, 1, 0, 1, 0, 1]\n",
      "[3, 2, 2, 1, 0, 1, 1, 1, 1]\n",
      "[2, 2, 1, 0, 1, 1, 4, 1, 3]\n",
      "[2, 1, 0, 1, 1, 4, 3, 3, 2]\n",
      "[1, 0, 1, 1, 4, 3, 5, 2, 2]\n",
      "[0, 1, 1, 4, 3, 5, 3, 2, 1]\n",
      "[1, 1, 4, 3, 5, 3, 2, 1, 0]\n",
      "[1, 4, 3, 5, 3, 2, 2, 0, 1]\n",
      "[4, 3, 5, 3, 2, 2, 1, 1, 1]\n",
      "[3, 5, 3, 2, 2, 1, 5, 1, 4]\n"
     ]
    }
   ],
   "source": [
    "for d in range(18):\n",
    "    spawn = cycles[0]\n",
    "\n",
    "    cycles = cycles[1:] + [spawn]\n",
    "    \n",
    "    cycles[6] += spawn\n",
    "    \n",
    "    print(cycles)"
   ]
  },
  {
   "cell_type": "code",
   "execution_count": 471,
   "id": "0bd28337-74aa-4186-b3f1-fb310745a6f4",
   "metadata": {},
   "outputs": [
    {
     "data": {
      "text/plain": [
       "[2279, 3071, 3027, 3108, 4021, 3332, 5110, 1776, 2819]"
      ]
     },
     "execution_count": 471,
     "metadata": {},
     "output_type": "execute_result"
    }
   ],
   "source": [
    "cycles"
   ]
  },
  {
   "cell_type": "code",
   "execution_count": 475,
   "id": "a1397479-85c2-461f-af82-341be4ccd47d",
   "metadata": {},
   "outputs": [
    {
     "data": {
      "text/plain": [
       "5934"
      ]
     },
     "execution_count": 475,
     "metadata": {},
     "output_type": "execute_result"
    }
   ],
   "source": [
    "sum(cycles)"
   ]
  },
  {
   "cell_type": "code",
   "execution_count": null,
   "id": "c370d9a6-56a6-433c-8c65-37c10c2ee4f3",
   "metadata": {},
   "outputs": [],
   "source": []
  },
  {
   "cell_type": "code",
   "execution_count": 359,
   "id": "c2634abc-9e22-4f13-a3dc-3ad9078a7dec",
   "metadata": {},
   "outputs": [],
   "source": [
    "b = [0,1,2,3,4,5,7]"
   ]
  },
  {
   "cell_type": "code",
   "execution_count": 360,
   "id": "aa14f083-853f-44e5-94a4-0c8bcb603d03",
   "metadata": {},
   "outputs": [],
   "source": [
    "b.insert(6,6)"
   ]
  },
  {
   "cell_type": "code",
   "execution_count": 461,
   "id": "10d70241-b194-4f31-962c-21459ed6d9bf",
   "metadata": {},
   "outputs": [
    {
     "data": {
      "text/plain": [
       "[0, 1, 2, 3, 4, 5, 6, 7, 7]"
      ]
     },
     "execution_count": 461,
     "metadata": {},
     "output_type": "execute_result"
    }
   ],
   "source": [
    "b + [7]"
   ]
  },
  {
   "cell_type": "code",
   "execution_count": null,
   "id": "91aea974-bc80-454e-a861-2b08f0b58ef0",
   "metadata": {},
   "outputs": [],
   "source": []
  }
 ],
 "metadata": {
  "kernelspec": {
   "display_name": "womt-env",
   "language": "python",
   "name": "womt-env"
  },
  "language_info": {
   "codemirror_mode": {
    "name": "ipython",
    "version": 3
   },
   "file_extension": ".py",
   "mimetype": "text/x-python",
   "name": "python",
   "nbconvert_exporter": "python",
   "pygments_lexer": "ipython3",
   "version": "3.8.6"
  }
 },
 "nbformat": 4,
 "nbformat_minor": 5
}
