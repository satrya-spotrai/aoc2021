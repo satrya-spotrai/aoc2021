{
 "cells": [
  {
   "cell_type": "code",
   "execution_count": null,
   "id": "7efd0b63-596b-4815-8731-18cf367b63dd",
   "metadata": {},
   "outputs": [],
   "source": []
  },
  {
   "cell_type": "code",
   "execution_count": 33,
   "id": "fb1868d5-90fa-41bc-b310-1f30288f88e5",
   "metadata": {},
   "outputs": [],
   "source": [
    "with open('input/input_10.txt') as file:\n",
    "    rlisto = [line.rstrip('\\n') for line in file]"
   ]
  },
  {
   "cell_type": "code",
   "execution_count": 34,
   "id": "ef7c66f5-d33e-4066-8511-463f0530ddf2",
   "metadata": {},
   "outputs": [
    {
     "data": {
      "text/plain": [
       "110"
      ]
     },
     "execution_count": 34,
     "metadata": {},
     "output_type": "execute_result"
    }
   ],
   "source": [
    "len(rlisto)"
   ]
  },
  {
   "cell_type": "code",
   "execution_count": 39,
   "id": "5c687361-248c-4f2b-8140-54b2bc7d7482",
   "metadata": {},
   "outputs": [],
   "source": [
    "examp = [\n",
    "'{([(<{}[<>[]}>{[]{[(<()>',\n",
    "'[[<[([]))<([[{}[[()]]]',\n",
    "'[{[{({}]{}}([{[{{{}}([]',\n",
    "'[<(<(<(<{}))><([]([]()',\n",
    "'<{([([[(<>()){}]>(<<{{'\n",
    "]"
   ]
  },
  {
   "cell_type": "code",
   "execution_count": null,
   "id": "e94384f4-6c2d-49ad-b937-4672cc6da985",
   "metadata": {},
   "outputs": [],
   "source": []
  },
  {
   "cell_type": "code",
   "execution_count": 174,
   "id": "9e45f706-6df1-4014-8b72-a6e6218e093f",
   "metadata": {},
   "outputs": [],
   "source": [
    "def BracketsCheckOne(expr):\n",
    "    stack = []\n",
    " \n",
    "    for char in expr:\n",
    "        if char in [\"(\", \"{\", \"[\", \"<\"]:\n",
    " \n",
    "            stack.append(char)\n",
    "        else:\n",
    " \n",
    "            # IF current character is not opening\n",
    "            # bracket, then it must be closing.\n",
    "            # So stack cannot be empty at this point.\n",
    "            if not stack:\n",
    "                return False\n",
    "            current_char = stack.pop()\n",
    "            if current_char == '(':\n",
    "                if char != \")\":\n",
    "                    #print(f\"Expected ) but has {char}\")\n",
    "                    return char\n",
    "            if current_char == '{':\n",
    "                if char != \"}\":\n",
    "                    #print(\"Expected \\}\\ but has \" +char)\n",
    "                    return char\n",
    "            if current_char == '[':\n",
    "                if char != \"]\":\n",
    "                    #print(f\"Expected ] but has {char}\")\n",
    "                    return char\n",
    "            if current_char == '<':\n",
    "                if char != \">\":\n",
    "                    #print(f\"Expected > but has {char}\")\n",
    "                    return char\n",
    "     \n",
    "    return 'good'\n"
   ]
  },
  {
   "cell_type": "code",
   "execution_count": 168,
   "id": "8fc0259c-6080-4dcb-b5f7-232ecc3dc8d7",
   "metadata": {},
   "outputs": [
    {
     "data": {
      "text/plain": [
       "True"
      ]
     },
     "execution_count": 168,
     "metadata": {},
     "output_type": "execute_result"
    }
   ],
   "source": [
    "BracketsCheckOne('[({(<(())[]>[[{[]{<()<>>') == None"
   ]
  },
  {
   "cell_type": "code",
   "execution_count": 51,
   "id": "64eeb289-6463-4278-ba63-baaca308d2c3",
   "metadata": {},
   "outputs": [],
   "source": [
    "errors = []\n",
    "\n",
    "for line in rlisto:\n",
    "    errors.append(BracketsCheck(line))"
   ]
  },
  {
   "cell_type": "code",
   "execution_count": 52,
   "id": "abe9127a-0bd9-4630-bb71-64db1d1dd823",
   "metadata": {
    "collapsed": true,
    "jupyter": {
     "outputs_hidden": true
    },
    "tags": []
   },
   "outputs": [
    {
     "data": {
      "text/plain": [
       "['}',\n",
       " None,\n",
       " None,\n",
       " None,\n",
       " ']',\n",
       " None,\n",
       " None,\n",
       " None,\n",
       " None,\n",
       " None,\n",
       " None,\n",
       " ')',\n",
       " '>',\n",
       " '>',\n",
       " None,\n",
       " None,\n",
       " '>',\n",
       " ')',\n",
       " '>',\n",
       " ')',\n",
       " None,\n",
       " None,\n",
       " '}',\n",
       " None,\n",
       " None,\n",
       " ')',\n",
       " '}',\n",
       " ']',\n",
       " None,\n",
       " None,\n",
       " ')',\n",
       " None,\n",
       " None,\n",
       " ']',\n",
       " ']',\n",
       " '}',\n",
       " '}',\n",
       " None,\n",
       " None,\n",
       " None,\n",
       " ']',\n",
       " '>',\n",
       " None,\n",
       " None,\n",
       " None,\n",
       " None,\n",
       " None,\n",
       " '}',\n",
       " '>',\n",
       " ')',\n",
       " '>',\n",
       " ')',\n",
       " '}',\n",
       " ')',\n",
       " None,\n",
       " '>',\n",
       " None,\n",
       " None,\n",
       " ']',\n",
       " '}',\n",
       " ')',\n",
       " None,\n",
       " None,\n",
       " None,\n",
       " None,\n",
       " '>',\n",
       " None,\n",
       " '}',\n",
       " ')',\n",
       " None,\n",
       " ']',\n",
       " '}',\n",
       " None,\n",
       " None,\n",
       " ')',\n",
       " None,\n",
       " '>',\n",
       " None,\n",
       " ')',\n",
       " None,\n",
       " '>',\n",
       " None,\n",
       " ']',\n",
       " '}',\n",
       " None,\n",
       " '>',\n",
       " '}',\n",
       " None,\n",
       " None,\n",
       " '>',\n",
       " None,\n",
       " '}',\n",
       " None,\n",
       " None,\n",
       " None,\n",
       " ']',\n",
       " None,\n",
       " '}',\n",
       " '>',\n",
       " '}',\n",
       " ')',\n",
       " '}',\n",
       " None,\n",
       " None,\n",
       " None,\n",
       " None,\n",
       " '}',\n",
       " None,\n",
       " '>',\n",
       " '}']"
      ]
     },
     "execution_count": 52,
     "metadata": {},
     "output_type": "execute_result"
    }
   ],
   "source": [
    "errors"
   ]
  },
  {
   "cell_type": "code",
   "execution_count": 54,
   "id": "43dc53a2-0ffe-4d7b-8f89-37d83377383a",
   "metadata": {},
   "outputs": [],
   "source": [
    "points = list(filter(lambda x: x is not None, errors))"
   ]
  },
  {
   "cell_type": "code",
   "execution_count": 55,
   "id": "e775fb35-fb8f-4eb0-bf2c-7cdddba4ad2e",
   "metadata": {
    "collapsed": true,
    "jupyter": {
     "outputs_hidden": true
    },
    "tags": []
   },
   "outputs": [
    {
     "data": {
      "text/plain": [
       "['}',\n",
       " ']',\n",
       " ')',\n",
       " '>',\n",
       " '>',\n",
       " '>',\n",
       " ')',\n",
       " '>',\n",
       " ')',\n",
       " '}',\n",
       " ')',\n",
       " '}',\n",
       " ']',\n",
       " ')',\n",
       " ']',\n",
       " ']',\n",
       " '}',\n",
       " '}',\n",
       " ']',\n",
       " '>',\n",
       " '}',\n",
       " '>',\n",
       " ')',\n",
       " '>',\n",
       " ')',\n",
       " '}',\n",
       " ')',\n",
       " '>',\n",
       " ']',\n",
       " '}',\n",
       " ')',\n",
       " '>',\n",
       " '}',\n",
       " ')',\n",
       " ']',\n",
       " '}',\n",
       " ')',\n",
       " '>',\n",
       " ')',\n",
       " '>',\n",
       " ']',\n",
       " '}',\n",
       " '>',\n",
       " '}',\n",
       " '>',\n",
       " '}',\n",
       " ']',\n",
       " '}',\n",
       " '>',\n",
       " '}',\n",
       " ')',\n",
       " '}',\n",
       " '}',\n",
       " '>',\n",
       " '}']"
      ]
     },
     "execution_count": 55,
     "metadata": {},
     "output_type": "execute_result"
    }
   ],
   "source": [
    "points"
   ]
  },
  {
   "cell_type": "code",
   "execution_count": 47,
   "id": "b5e84c4b-88a6-49d2-b944-2322e6996a87",
   "metadata": {},
   "outputs": [],
   "source": [
    "score_map = {\n",
    "    ')': 3,\n",
    "    ']': 57,\n",
    "    '}': 1197,\n",
    "    '>': 25137\n",
    "}"
   ]
  },
  {
   "cell_type": "code",
   "execution_count": 58,
   "id": "858a4842-d74e-48d3-8b1f-7b5c04da8cce",
   "metadata": {},
   "outputs": [
    {
     "data": {
      "text/plain": [
       "3"
      ]
     },
     "execution_count": 58,
     "metadata": {},
     "output_type": "execute_result"
    }
   ],
   "source": [
    "score_map[')']"
   ]
  },
  {
   "cell_type": "code",
   "execution_count": 63,
   "id": "46bcd188-d5a4-4911-8c41-265f8dcd7804",
   "metadata": {},
   "outputs": [
    {
     "data": {
      "text/plain": [
       "399153"
      ]
     },
     "execution_count": 63,
     "metadata": {},
     "output_type": "execute_result"
    }
   ],
   "source": [
    "sum([score_map[point] for point in points])"
   ]
  },
  {
   "cell_type": "code",
   "execution_count": 166,
   "id": "57e2b643-6468-4453-b995-3eb1158adc36",
   "metadata": {},
   "outputs": [
    {
     "data": {
      "text/plain": [
       "'>'"
      ]
     },
     "execution_count": 166,
     "metadata": {},
     "output_type": "execute_result"
    }
   ],
   "source": [
    "BracketsCheck('[({(<(())[]><>><')"
   ]
  },
  {
   "cell_type": "code",
   "execution_count": null,
   "id": "98b9e027-5c3d-410c-81cb-d9cca10d5d88",
   "metadata": {},
   "outputs": [],
   "source": []
  },
  {
   "cell_type": "code",
   "execution_count": null,
   "id": "c4bea9ca-e821-4b42-b31c-cd7683611899",
   "metadata": {},
   "outputs": [],
   "source": []
  },
  {
   "cell_type": "markdown",
   "id": "be28fd40-cd7d-4d0d-8fc4-dd3a3a1a624d",
   "metadata": {},
   "source": [
    "## part 2"
   ]
  },
  {
   "cell_type": "code",
   "execution_count": 224,
   "id": "5a64af52-8d4f-4cf8-a003-7368c66669d7",
   "metadata": {},
   "outputs": [],
   "source": [
    "def BracketsCheck(expr):\n",
    "    stack = []\n",
    " \n",
    "    for char in expr:\n",
    "        if char in [\"(\", \"{\", \"[\", \"<\"]:\n",
    " \n",
    "            stack.append(char)\n",
    "        else:\n",
    " \n",
    "            # IF current character is not opening\n",
    "            # bracket, then it must be closing.\n",
    "            # So stack cannot be empty at this point.\n",
    "            if not stack:\n",
    "                return False\n",
    "            current_char = stack.pop()\n",
    "            if current_char == '(':\n",
    "                if char != \")\":\n",
    "                    #print(f\"Expected ) but has {char}\")\n",
    "                    return char\n",
    "            if current_char == '{':\n",
    "                if char != \"}\":\n",
    "                    #print(\"Expected \\}\\ but has \" +char)\n",
    "                    return char\n",
    "            if current_char == '[':\n",
    "                if char != \"]\":\n",
    "                    #print(f\"Expected ] but has {char}\")\n",
    "                    return char\n",
    "            if current_char == '<':\n",
    "                if char != \">\":\n",
    "                    #print(f\"Expected > but has {char}\")\n",
    "                    return char\n",
    "    \n",
    "    return stack"
   ]
  },
  {
   "cell_type": "code",
   "execution_count": 86,
   "id": "1043b539-c7df-4976-ba9a-d913486479af",
   "metadata": {},
   "outputs": [],
   "source": [
    "def get_closing(char):\n",
    "    if char == '{':\n",
    "        return '}'\n",
    "    if char == '<':\n",
    "        return '>'\n",
    "    if char == '(':\n",
    "        return ')'\n",
    "    if char == '[':\n",
    "        return ']'"
   ]
  },
  {
   "cell_type": "code",
   "execution_count": 218,
   "id": "7362d464-2a07-4d95-acf5-df120005268a",
   "metadata": {},
   "outputs": [],
   "source": [
    "score_map = {\n",
    "    ')': 1,\n",
    "    ']': 2,\n",
    "    '}': 3,\n",
    "    '>': 4\n",
    "}"
   ]
  },
  {
   "cell_type": "code",
   "execution_count": 186,
   "id": "a9113bf6-d8b2-44f6-ad55-16dfcd5e2286",
   "metadata": {},
   "outputs": [
    {
     "name": "stdout",
     "output_type": "stream",
     "text": [
      "['<', '{', '(', '[']\n"
     ]
    }
   ],
   "source": [
    "finishing = BracketsCheck('<{([{{}}[<[[[<>{}]]]>[]]')"
   ]
  },
  {
   "cell_type": "code",
   "execution_count": 187,
   "id": "2f8c0719-01bc-43e6-aaf1-74516c6e618f",
   "metadata": {},
   "outputs": [],
   "source": [
    "finishing.reverse()"
   ]
  },
  {
   "cell_type": "code",
   "execution_count": 188,
   "id": "0754ba71-968e-4db0-9cfa-8dfae77db925",
   "metadata": {},
   "outputs": [
    {
     "data": {
      "text/plain": [
       "['[', '(', '{', '<']"
      ]
     },
     "execution_count": 188,
     "metadata": {},
     "output_type": "execute_result"
    }
   ],
   "source": [
    "finishing"
   ]
  },
  {
   "cell_type": "code",
   "execution_count": 189,
   "id": "c5b19e69-90ab-402e-b35a-7349e75598fe",
   "metadata": {},
   "outputs": [
    {
     "data": {
      "text/plain": [
       "[']', ')', '}', '>']"
      ]
     },
     "execution_count": 189,
     "metadata": {},
     "output_type": "execute_result"
    }
   ],
   "source": [
    "closing = [get_closing(f) for f in finishing]\n",
    "closing"
   ]
  },
  {
   "cell_type": "code",
   "execution_count": 219,
   "id": "75092cae-891e-44f6-a003-705640187989",
   "metadata": {},
   "outputs": [
    {
     "name": "stdout",
     "output_type": "stream",
     "text": [
      "0\n",
      "20\n",
      "115\n",
      "580\n"
     ]
    }
   ],
   "source": [
    "score  = 0\n",
    "for c in closing:\n",
    "    score *= 5\n",
    "    print(score)\n",
    "    score += score_map[c]"
   ]
  },
  {
   "cell_type": "code",
   "execution_count": 191,
   "id": "a1b7fb02-84d3-4f6f-aa9b-56a057fd9622",
   "metadata": {},
   "outputs": [
    {
     "data": {
      "text/plain": [
       "294"
      ]
     },
     "execution_count": 191,
     "metadata": {},
     "output_type": "execute_result"
    }
   ],
   "source": [
    "score"
   ]
  },
  {
   "cell_type": "code",
   "execution_count": null,
   "id": "1085010c-3426-4b9a-b0d2-56ecbebcff82",
   "metadata": {},
   "outputs": [],
   "source": []
  },
  {
   "cell_type": "markdown",
   "id": "287991c0-b570-4398-912b-774ad9e399fb",
   "metadata": {},
   "source": [
    "### real thing"
   ]
  },
  {
   "cell_type": "code",
   "execution_count": 220,
   "id": "7a8e4c44-9720-4459-ac3b-24d2f6123529",
   "metadata": {},
   "outputs": [],
   "source": [
    "examp2 = [\n",
    "    '[({(<(())[]>[[{[]{<()<>>',\n",
    "    '[(()[<>])]({[<{<<[]>>(',\n",
    "    '(((({<>}<{<{<>}{[]{[]{}',\n",
    "    '{<[[]]>}<{[{[{[]{()[[[]',\n",
    "    '<{([{{}}[<[[[<>{}]]]>[]]'\n",
    "]"
   ]
  },
  {
   "cell_type": "code",
   "execution_count": 231,
   "id": "fcd30db8-2bdf-4dbc-bee8-4b2a96d24407",
   "metadata": {
    "tags": []
   },
   "outputs": [],
   "source": [
    "rlist2 = [sample for sample in rlisto if BracketsCheckOne(sample) == 'good']"
   ]
  },
  {
   "cell_type": "code",
   "execution_count": 232,
   "id": "4722131b-5c8d-4bce-9d5a-1e7c2961480f",
   "metadata": {},
   "outputs": [
    {
     "data": {
      "text/plain": [
       "55"
      ]
     },
     "execution_count": 232,
     "metadata": {},
     "output_type": "execute_result"
    }
   ],
   "source": [
    "len(rlist2)"
   ]
  },
  {
   "cell_type": "code",
   "execution_count": null,
   "id": "fd21d522-c3b4-4e57-aece-8a05d0b6bbbf",
   "metadata": {},
   "outputs": [],
   "source": []
  },
  {
   "cell_type": "code",
   "execution_count": 107,
   "id": "5ca75fd2-5d2f-4dcf-9040-4e5a7493ac82",
   "metadata": {},
   "outputs": [],
   "source": [
    "r2list = [sample for e, sample in zip(errors, rlisto) if e == None]"
   ]
  },
  {
   "cell_type": "code",
   "execution_count": 117,
   "id": "264c0432-27a2-4eb7-80c4-73826b9f3ead",
   "metadata": {},
   "outputs": [
    {
     "data": {
      "text/plain": [
       "['[<{{{[((({<<<[()[]]{()()}><{<><>}(<>{})>><<{<><>}{{}[]}>{(()())[[]{}]}>>{[[(<>[]){<>{}}][(()())(()[])]]',\n",
       " '(((<{<[[<[{(((<><>)[{}{}]){{{}<>}[()<>]})(([<>()][<>{}]){{[]()}})}[({([][])<{}<>>}{[[]<>]{()',\n",
       " '[(<{<[<<<<[[{<[]()><<>()>}[{{}<>}<()>]]<<[[]{}]>{({}())}>]((((<>())<(){}>)<{[]{}}<(){}>>)[{[[]<>]<[']"
      ]
     },
     "execution_count": 117,
     "metadata": {},
     "output_type": "execute_result"
    }
   ],
   "source": [
    "r2list[:3]"
   ]
  },
  {
   "cell_type": "code",
   "execution_count": 233,
   "id": "f8008963-cdf2-4638-9c92-9f95afaab2ee",
   "metadata": {
    "tags": []
   },
   "outputs": [],
   "source": [
    "all_scores = []\n",
    "\n",
    "for line in rlist2:\n",
    "    finishing = BracketsCheck(line)\n",
    "    finishing.reverse()\n",
    "    closing = [get_closing(f) for f in finishing]\n",
    "    \n",
    "    \n",
    "    score  = 0\n",
    "    for c in closing:\n",
    "        score *= 5\n",
    "        score += score_map[c]\n",
    "        \n",
    "    all_scores.append(score)"
   ]
  },
  {
   "cell_type": "code",
   "execution_count": 234,
   "id": "a0c9cd3d-4d60-4c24-8bae-deda04b79061",
   "metadata": {},
   "outputs": [],
   "source": [
    "all_scores_sorted = sorted(all_scores)"
   ]
  },
  {
   "cell_type": "code",
   "execution_count": 235,
   "id": "9ac995fd-2c77-4a24-bf5c-7eaa933b47b5",
   "metadata": {
    "collapsed": true,
    "jupyter": {
     "outputs_hidden": true
    },
    "tags": []
   },
   "outputs": [
    {
     "data": {
      "text/plain": [
       "[2374,\n",
       " 2837,\n",
       " 11436,\n",
       " 545963,\n",
       " 776062,\n",
       " 1447861,\n",
       " 3707094,\n",
       " 4982437,\n",
       " 9686559,\n",
       " 13196472,\n",
       " 16160568,\n",
       " 35649222,\n",
       " 37858437,\n",
       " 38238368,\n",
       " 38571217,\n",
       " 48311062,\n",
       " 75932661,\n",
       " 162011163,\n",
       " 234317494,\n",
       " 242926441,\n",
       " 324824684,\n",
       " 478006236,\n",
       " 575960534,\n",
       " 843316493,\n",
       " 1042857123,\n",
       " 1557631244,\n",
       " 2131526122,\n",
       " 2995077699,\n",
       " 3154030958,\n",
       " 3362007206,\n",
       " 4124983671,\n",
       " 4338671716,\n",
       " 4468561781,\n",
       " 4570310559,\n",
       " 4586838999,\n",
       " 4615808588,\n",
       " 4725106248,\n",
       " 4868229923,\n",
       " 5203666437,\n",
       " 5370699372,\n",
       " 7908945974,\n",
       " 9114254682,\n",
       " 10321445323,\n",
       " 15208692672,\n",
       " 17020277414,\n",
       " 17939446732,\n",
       " 23513258942,\n",
       " 23531945621,\n",
       " 23574123434,\n",
       " 23860352921,\n",
       " 24084639731,\n",
       " 27711445556,\n",
       " 28691295193,\n",
       " 28901941749,\n",
       " 28923037181]"
      ]
     },
     "execution_count": 235,
     "metadata": {},
     "output_type": "execute_result"
    }
   ],
   "source": [
    "all_scores_sorted"
   ]
  },
  {
   "cell_type": "code",
   "execution_count": 236,
   "id": "2f8a9654-7575-4f11-a13b-0239a947e0d2",
   "metadata": {},
   "outputs": [
    {
     "data": {
      "text/plain": [
       "2995077699"
      ]
     },
     "execution_count": 236,
     "metadata": {},
     "output_type": "execute_result"
    }
   ],
   "source": [
    "all_scores_sorted[27]"
   ]
  },
  {
   "cell_type": "code",
   "execution_count": null,
   "id": "c88f9bde-df58-4d0a-91d4-3a68afbaf209",
   "metadata": {},
   "outputs": [],
   "source": [
    "16450760798 # too high\n",
    "2138660588 # too low"
   ]
  },
  {
   "cell_type": "code",
   "execution_count": 196,
   "id": "450600b2-a798-4b4e-a4fe-ffc216959332",
   "metadata": {},
   "outputs": [
    {
     "data": {
      "text/plain": [
       "[1589,\n",
       " 3118,\n",
       " 4668,\n",
       " 616693,\n",
       " 979246,\n",
       " 1383731,\n",
       " 4912337,\n",
       " 8403099,\n",
       " 9238446,\n",
       " 24436173,\n",
       " 24497974,\n",
       " 26930473,\n",
       " 28665456,\n",
       " 28803918,\n",
       " 36271416,\n",
       " 36817448,\n",
       " 70919961,\n",
       " 82602749,\n",
       " 169746183,\n",
       " 234162494,\n",
       " 390355596,\n",
       " 920436413,\n",
       " 969496659,\n",
       " 1043540582,\n",
       " 1050678956,\n",
       " 1560357793,\n",
       " 1633879342,\n",
       " 2138660588,\n",
       " 2292888483,\n",
       " 3040568409,\n",
       " 3645910466,\n",
       " 3659762484,\n",
       " 4081827862,\n",
       " 4333317868,\n",
       " 4731773623,\n",
       " 4882131048,\n",
       " 5267577843,\n",
       " 5858086156,\n",
       " 5976508287,\n",
       " 6069711843,\n",
       " 7953088469,\n",
       " 8032135964,\n",
       " 8436191723,\n",
       " 11420896073,\n",
       " 12183465173,\n",
       " 14036130186,\n",
       " 14595700972,\n",
       " 16450760798,\n",
       " 17414598312,\n",
       " 22538201569,\n",
       " 23803872691,\n",
       " 26249530298,\n",
       " 27331201742,\n",
       " 30161280806,\n",
       " 30433571469]"
      ]
     },
     "execution_count": 196,
     "metadata": {},
     "output_type": "execute_result"
    }
   ],
   "source": [
    "all_scores_sorted"
   ]
  },
  {
   "cell_type": "code",
   "execution_count": 138,
   "id": "69342ac0-a0fc-481b-b931-e646a26c5030",
   "metadata": {},
   "outputs": [],
   "source": [
    "all_scores_rev"
   ]
  },
  {
   "cell_type": "code",
   "execution_count": 140,
   "id": "5926e05a-fcfb-4308-b1a0-3ace2271f8b3",
   "metadata": {},
   "outputs": [
    {
     "data": {
      "text/plain": [
       "2138660588"
      ]
     },
     "execution_count": 140,
     "metadata": {},
     "output_type": "execute_result"
    }
   ],
   "source": [
    "all_scores_sorted[27]"
   ]
  },
  {
   "cell_type": "code",
   "execution_count": 141,
   "id": "1bc21f7d-da54-4039-a92b-48a5435b01c6",
   "metadata": {},
   "outputs": [],
   "source": [
    "all_scores_sorted.reverse()"
   ]
  },
  {
   "cell_type": "code",
   "execution_count": null,
   "id": "cf95bc24-7484-43d3-91fe-f6c4feb98b2f",
   "metadata": {},
   "outputs": [],
   "source": []
  },
  {
   "cell_type": "code",
   "execution_count": null,
   "id": "47baf5eb-52c5-4d90-b39e-be7ebe3a188d",
   "metadata": {},
   "outputs": [],
   "source": []
  },
  {
   "cell_type": "code",
   "execution_count": 73,
   "id": "9be87576-6275-4869-afe8-9e5d32462a94",
   "metadata": {},
   "outputs": [
    {
     "data": {
      "image/png": "[encoded data removed]",
      "text/plain": [
       "<PIL.PngImagePlugin.PngImageFile image mode=L size=1024x1024 at 0x7FE56D728610>"
      ]
     },
     "execution_count": 73,
     "metadata": {},
     "output_type": "execute_result"
    }
   ],
   "source": [
    "from PIL import Image\n",
    "Image.open('/home/satrya/Desktop/test_inf_ob_org.png')"
   ]
  },
  {
   "cell_type": "code",
   "execution_count": null,
   "id": "917527f8-7fff-4979-bf66-bf4376b51554",
   "metadata": {},
   "outputs": [],
   "source": []
  },
  {
   "cell_type": "code",
   "execution_count": null,
   "id": "6f6c0568-dadd-4f69-9c09-f1a9380eb1ec",
   "metadata": {},
   "outputs": [],
   "source": []
  },
  {
   "cell_type": "code",
   "execution_count": null,
   "id": "f86e0899-d9c7-4779-99ee-2b7d6d3c58af",
   "metadata": {},
   "outputs": [],
   "source": []
  }
 ],
 "metadata": {
  "kernelspec": {
   "display_name": "womt-env",
   "language": "python",
   "name": "womt-env"
  },
  "language_info": {
   "codemirror_mode": {
    "name": "ipython",
    "version": 3
   },
   "file_extension": ".py",
   "mimetype": "text/x-python",
   "name": "python",
   "nbconvert_exporter": "python",
   "pygments_lexer": "ipython3",
   "version": "3.8.6"
  }
 },
 "nbformat": 4,
 "nbformat_minor": 5
}
