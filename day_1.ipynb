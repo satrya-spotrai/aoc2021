{
 "cells": [
  {
   "cell_type": "code",
   "execution_count": 7,
   "id": "807c20fd-2cc3-474d-a4ca-f84c5dc0aaad",
   "metadata": {},
   "outputs": [],
   "source": [
    "with open('/home/satrya/Documents/github/adventofcode2021/day_1/input.txt') as text:\n",
    "    inp = [int(line.rstrip('\\n')) for line in text]"
   ]
  },
  {
   "cell_type": "code",
   "execution_count": 32,
   "id": "9f6c1f66-36de-44e2-8cc6-0dccc8845ccd",
   "metadata": {},
   "outputs": [],
   "source": [
    "larger = 0"
   ]
  },
  {
   "cell_type": "code",
   "execution_count": 16,
   "id": "5537caf7-7647-4321-8f7b-0acbc5452e39",
   "metadata": {},
   "outputs": [],
   "source": [
    "for k, v in enumerate(inp):\n",
    "    if k != 0:\n",
    "        if inp[k-1] < v:\n",
    "            larger += 1"
   ]
  },
  {
   "cell_type": "code",
   "execution_count": 33,
   "id": "1eff38de-ac67-4a96-a00b-03b62ff5e0f6",
   "metadata": {},
   "outputs": [],
   "source": [
    "for k, v in enumerate(inp):\n",
    "    if k > 0:\n",
    "        set1_s = k\n",
    "        set1_e = k+3\n",
    "\n",
    "        set0_s = k-1\n",
    "        set0_e = k+2\n",
    "\n",
    "        if sum(inp[set1_s:set1_e]) > sum(inp[set0_s: set0_e]):\n",
    "            larger += 1\n",
    "\n",
    "        if set1_e-1 == 1999:\n",
    "            break"
   ]
  },
  {
   "cell_type": "code",
   "execution_count": 34,
   "id": "16361cb8-a4f9-443e-a286-85b5f08fd9c7",
   "metadata": {},
   "outputs": [
    {
     "data": {
      "text/plain": [
       "1761"
      ]
     },
     "execution_count": 34,
     "metadata": {},
     "output_type": "execute_result"
    }
   ],
   "source": [
    "larger"
   ]
  },
  {
   "cell_type": "code",
   "execution_count": 30,
   "id": "6c710792-2669-4a18-b8bc-62abd15ca5cb",
   "metadata": {},
   "outputs": [
    {
     "data": {
      "text/plain": [
       "1760"
      ]
     },
     "execution_count": 30,
     "metadata": {},
     "output_type": "execute_result"
    }
   ],
   "source": [
    "larger"
   ]
  },
  {
   "cell_type": "code",
   "execution_count": null,
   "id": "b091f173-9f61-4b08-a2bc-057deccc6e39",
   "metadata": {},
   "outputs": [],
   "source": []
  },
  {
   "cell_type": "code",
   "execution_count": null,
   "id": "8bb0ff32-cd00-43b9-8159-d8c7dbc41eb7",
   "metadata": {},
   "outputs": [],
   "source": []
  },
  {
   "cell_type": "code",
   "execution_count": null,
   "id": "b6c24ae4-b7dd-4776-87d1-9b3308a805c0",
   "metadata": {},
   "outputs": [],
   "source": []
  },
  {
   "cell_type": "code",
   "execution_count": 39,
   "id": "1b480a7d-cc24-40de-92ac-9c0378978e7d",
   "metadata": {},
   "outputs": [],
   "source": [
    "numbers = [2, 4, 5]\n",
    "\n",
    "def factplus(h):\n",
    "    if h == 0:\n",
    "        return h\n",
    "    else:\n",
    "        return h + fact(h-1)"
   ]
  },
  {
   "cell_type": "code",
   "execution_count": 40,
   "id": "764d5150-e401-487d-899f-75850c4137f7",
   "metadata": {},
   "outputs": [
    {
     "data": {
      "text/plain": [
       "21"
      ]
     },
     "execution_count": 40,
     "metadata": {},
     "output_type": "execute_result"
    }
   ],
   "source": [
    "factplus(6)"
   ]
  },
  {
   "cell_type": "code",
   "execution_count": 42,
   "id": "c857ba5f-3b8f-4a5b-97bb-2f7330d68241",
   "metadata": {},
   "outputs": [],
   "source": [
    "def fact(h):\n",
    "    if h == 1:\n",
    "        return 1\n",
    "    else:\n",
    "        return h * fact(h-1)"
   ]
  },
  {
   "cell_type": "code",
   "execution_count": 45,
   "id": "15029ba4-ecee-43fa-80a5-e296a574dbbd",
   "metadata": {},
   "outputs": [
    {
     "data": {
      "text/plain": [
       "120"
      ]
     },
     "execution_count": 45,
     "metadata": {},
     "output_type": "execute_result"
    }
   ],
   "source": [
    "fact(5)"
   ]
  },
  {
   "cell_type": "code",
   "execution_count": 47,
   "id": "a6ac7a31-dab0-4f4e-b583-8fe2d422878e",
   "metadata": {},
   "outputs": [
    {
     "data": {
      "text/plain": [
       "40320"
      ]
     },
     "execution_count": 47,
     "metadata": {},
     "output_type": "execute_result"
    }
   ],
   "source": [
    "8*7*6*5*4*3*2*1"
   ]
  },
  {
   "cell_type": "code",
   "execution_count": null,
   "id": "d2f203c6-357f-49e1-ba09-21709c96724a",
   "metadata": {},
   "outputs": [],
   "source": []
  }
 ],
 "metadata": {
  "kernelspec": {
   "display_name": "womt-env",
   "language": "python",
   "name": "womt-env"
  },
  "language_info": {
   "codemirror_mode": {
    "name": "ipython",
    "version": 3
   },
   "file_extension": ".py",
   "mimetype": "text/x-python",
   "name": "python",
   "nbconvert_exporter": "python",
   "pygments_lexer": "ipython3",
   "version": "3.8.6"
  }
 },
 "nbformat": 4,
 "nbformat_minor": 5
}
