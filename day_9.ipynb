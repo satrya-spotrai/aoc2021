{
 "cells": [
  {
   "cell_type": "code",
   "execution_count": 150,
   "id": "c93399aa-36f6-4fb8-994a-96239a65a1eb",
   "metadata": {},
   "outputs": [],
   "source": [
    "import numpy as np\n",
    "import matplotlib.pyplot as plt"
   ]
  },
  {
   "cell_type": "code",
   "execution_count": 197,
   "id": "3299f5f3-8215-4b21-91f3-f866cc8d9605",
   "metadata": {},
   "outputs": [],
   "source": [
    "example = [\n",
    "    '2199943210',\n",
    "    '3987894921',\n",
    "    '9856789892',\n",
    "    '8767896789',\n",
    "    '9899965678'\n",
    "]"
   ]
  },
  {
   "cell_type": "code",
   "execution_count": 198,
   "id": "69e2a4b5-4937-4b5b-a0f9-2613d6a5c0c5",
   "metadata": {},
   "outputs": [],
   "source": [
    "def split_line(line):\n",
    "    return [int(digit) for digit in str(line)]"
   ]
  },
  {
   "cell_type": "code",
   "execution_count": 199,
   "id": "d7f23c7c-0c78-4a2a-aa36-322b74ec18e3",
   "metadata": {},
   "outputs": [],
   "source": [
    "example = [split_line(line) for line in example]\n",
    "npexam = np.array(example)"
   ]
  },
  {
   "cell_type": "code",
   "execution_count": 200,
   "id": "79050e9f-383e-41ee-9586-64c73d0fb62c",
   "metadata": {},
   "outputs": [
    {
     "data": {
      "text/plain": [
       "array([[2, 1, 9, 9, 9, 4, 3, 2, 1, 0],\n",
       "       [3, 9, 8, 7, 8, 9, 4, 9, 2, 1],\n",
       "       [9, 8, 5, 6, 7, 8, 9, 8, 9, 2],\n",
       "       [8, 7, 6, 7, 8, 9, 6, 7, 8, 9],\n",
       "       [9, 8, 9, 9, 9, 6, 5, 6, 7, 8]])"
      ]
     },
     "execution_count": 200,
     "metadata": {},
     "output_type": "execute_result"
    }
   ],
   "source": [
    "npexam"
   ]
  },
  {
   "cell_type": "code",
   "execution_count": 201,
   "id": "a1a4d8f3-e45d-4687-8e8c-00e4233a4739",
   "metadata": {},
   "outputs": [],
   "source": [
    "height, width = npexam.shape"
   ]
  },
  {
   "cell_type": "code",
   "execution_count": 202,
   "id": "16f01e7b-cdbf-451e-9795-74c474d8e97d",
   "metadata": {},
   "outputs": [
    {
     "data": {
      "text/plain": [
       "array([[99, 99, 99, 99, 99, 99, 99, 99, 99, 99]])"
      ]
     },
     "execution_count": 202,
     "metadata": {},
     "output_type": "execute_result"
    }
   ],
   "source": [
    "hborder = np.full((1, 10), 99)\n",
    "hborder"
   ]
  },
  {
   "cell_type": "code",
   "execution_count": 203,
   "id": "cda9e249-6c71-4eda-9a50-0394b811647c",
   "metadata": {},
   "outputs": [
    {
     "data": {
      "text/plain": [
       "array([[99],\n",
       "       [99],\n",
       "       [99],\n",
       "       [99],\n",
       "       [99]])"
      ]
     },
     "execution_count": 203,
     "metadata": {},
     "output_type": "execute_result"
    }
   ],
   "source": [
    "vborder = np.full((5, 1), 99)\n",
    "vborder"
   ]
  },
  {
   "cell_type": "code",
   "execution_count": 204,
   "id": "b59d61ac-4af8-41d4-b394-19e7e121564e",
   "metadata": {},
   "outputs": [
    {
     "data": {
      "text/plain": [
       "array([[99, 99, 99, 99, 99, 99, 99, 99, 99, 99],\n",
       "       [ 2,  1,  9,  9,  9,  4,  3,  2,  1,  0],\n",
       "       [ 3,  9,  8,  7,  8,  9,  4,  9,  2,  1],\n",
       "       [ 9,  8,  5,  6,  7,  8,  9,  8,  9,  2],\n",
       "       [ 8,  7,  6,  7,  8,  9,  6,  7,  8,  9]])"
      ]
     },
     "execution_count": 204,
     "metadata": {},
     "output_type": "execute_result"
    }
   ],
   "source": [
    "top = np.vstack([hborder, npexam])[:height]\n",
    "top"
   ]
  },
  {
   "cell_type": "code",
   "execution_count": 205,
   "id": "d7d815ab-e0c2-4f2d-9a29-da4b1ec54410",
   "metadata": {},
   "outputs": [
    {
     "data": {
      "text/plain": [
       "array([[ 3,  9,  8,  7,  8,  9,  4,  9,  2,  1],\n",
       "       [ 9,  8,  5,  6,  7,  8,  9,  8,  9,  2],\n",
       "       [ 8,  7,  6,  7,  8,  9,  6,  7,  8,  9],\n",
       "       [ 9,  8,  9,  9,  9,  6,  5,  6,  7,  8],\n",
       "       [99, 99, 99, 99, 99, 99, 99, 99, 99, 99]])"
      ]
     },
     "execution_count": 205,
     "metadata": {},
     "output_type": "execute_result"
    }
   ],
   "source": [
    "bottom = np.vstack([npexam, hborder])[1:height + 1]\n",
    "bottom"
   ]
  },
  {
   "cell_type": "code",
   "execution_count": 206,
   "id": "9b2542c7-3b9a-45fe-b485-443d5d9fd69f",
   "metadata": {},
   "outputs": [
    {
     "data": {
      "text/plain": [
       "array([[ 1,  9,  9,  9,  4,  3,  2,  1,  0, 99],\n",
       "       [ 9,  8,  7,  8,  9,  4,  9,  2,  1, 99],\n",
       "       [ 8,  5,  6,  7,  8,  9,  8,  9,  2, 99],\n",
       "       [ 7,  6,  7,  8,  9,  6,  7,  8,  9, 99],\n",
       "       [ 8,  9,  9,  9,  6,  5,  6,  7,  8, 99]])"
      ]
     },
     "execution_count": 206,
     "metadata": {},
     "output_type": "execute_result"
    }
   ],
   "source": [
    "right = np.hstack([npexam[:,1:width], vborder])\n",
    "right"
   ]
  },
  {
   "cell_type": "code",
   "execution_count": 207,
   "id": "73e52e9d-1743-4ce0-9dc6-68561b48d461",
   "metadata": {},
   "outputs": [
    {
     "data": {
      "text/plain": [
       "array([[99,  2,  1,  9,  9,  9,  4,  3,  2,  1],\n",
       "       [99,  3,  9,  8,  7,  8,  9,  4,  9,  2],\n",
       "       [99,  9,  8,  5,  6,  7,  8,  9,  8,  9],\n",
       "       [99,  8,  7,  6,  7,  8,  9,  6,  7,  8],\n",
       "       [99,  9,  8,  9,  9,  9,  6,  5,  6,  7]])"
      ]
     },
     "execution_count": 207,
     "metadata": {},
     "output_type": "execute_result"
    }
   ],
   "source": [
    "left = np.hstack([vborder, npexam[:,:width-1]])\n",
    "left"
   ]
  },
  {
   "cell_type": "code",
   "execution_count": 208,
   "id": "8aaf7e85-6b07-47f4-9fbf-f73869cdb6f1",
   "metadata": {},
   "outputs": [
    {
     "data": {
      "text/plain": [
       "array([[2, 1, 9, 9, 9, 4, 3, 2, 1, 0],\n",
       "       [3, 9, 8, 7, 8, 9, 4, 9, 2, 1],\n",
       "       [9, 8, 5, 6, 7, 8, 9, 8, 9, 2],\n",
       "       [8, 7, 6, 7, 8, 9, 6, 7, 8, 9],\n",
       "       [9, 8, 9, 9, 9, 6, 5, 6, 7, 8]])"
      ]
     },
     "execution_count": 208,
     "metadata": {},
     "output_type": "execute_result"
    }
   ],
   "source": [
    "npexam"
   ]
  },
  {
   "cell_type": "code",
   "execution_count": 209,
   "id": "b9ebb945-088d-4643-ba7f-955c4fcd3929",
   "metadata": {},
   "outputs": [],
   "source": [
    "left_check = (npexam > left) * 1\n",
    "right_check = (npexam > right) * 1\n",
    "top_check = (npexam > top) * 1\n",
    "bottom_check = (npexam > bottom) * 1"
   ]
  },
  {
   "cell_type": "code",
   "execution_count": 210,
   "id": "deb6f4cf-30cf-4f4f-8d89-2d56be0025ea",
   "metadata": {},
   "outputs": [
    {
     "data": {
      "text/plain": [
       "array([[0, 0, 1, 0, 0, 0, 0, 0, 0, 0],\n",
       "       [0, 1, 0, 0, 1, 1, 0, 1, 0, 0],\n",
       "       [0, 0, 0, 1, 1, 1, 1, 0, 1, 0],\n",
       "       [0, 0, 0, 1, 1, 1, 0, 1, 1, 1],\n",
       "       [0, 0, 1, 0, 0, 0, 0, 1, 1, 1]])"
      ]
     },
     "execution_count": 210,
     "metadata": {},
     "output_type": "execute_result"
    }
   ],
   "source": [
    "left_check"
   ]
  },
  {
   "cell_type": "code",
   "execution_count": 211,
   "id": "300b5242-2bb4-4c38-9540-1e38b4fa665f",
   "metadata": {},
   "outputs": [],
   "source": [
    "stacked = np.stack([left_check, bottom_check, top_check, right_check])"
   ]
  },
  {
   "cell_type": "code",
   "execution_count": 212,
   "id": "9795ec81-0d4d-4939-9dd9-cebd7f5fbef1",
   "metadata": {},
   "outputs": [],
   "source": [
    "full_map = np.sum(stacked, axis=0)"
   ]
  },
  {
   "cell_type": "code",
   "execution_count": 213,
   "id": "5aed6698-1898-447e-911b-1fbef21a17a5",
   "metadata": {},
   "outputs": [
    {
     "data": {
      "text/plain": [
       "array([[1, 0, 2, 1, 2, 1, 1, 1, 1, 0],\n",
       "       [1, 4, 2, 1, 2, 4, 1, 4, 2, 1],\n",
       "       [3, 2, 0, 1, 1, 1, 4, 1, 4, 1],\n",
       "       [1, 1, 1, 2, 2, 4, 1, 2, 2, 3],\n",
       "       [2, 1, 2, 1, 2, 1, 0, 1, 1, 1]])"
      ]
     },
     "execution_count": 213,
     "metadata": {},
     "output_type": "execute_result"
    }
   ],
   "source": [
    "full_map"
   ]
  },
  {
   "cell_type": "code",
   "execution_count": 219,
   "id": "690c2e57-ad8d-43b0-8a01-ea54c90238f2",
   "metadata": {},
   "outputs": [
    {
     "data": {
      "text/plain": [
       "array([2, 1, 6, 6])"
      ]
     },
     "execution_count": 219,
     "metadata": {},
     "output_type": "execute_result"
    }
   ],
   "source": [
    "npexam[np.where(full_map == 0)] + 1"
   ]
  },
  {
   "cell_type": "code",
   "execution_count": null,
   "id": "edce3d91-9384-4d34-810e-d268806125c0",
   "metadata": {},
   "outputs": [],
   "source": []
  },
  {
   "cell_type": "code",
   "execution_count": null,
   "id": "57eba3a1-e00f-4c2c-a91e-1477460d1674",
   "metadata": {},
   "outputs": [],
   "source": []
  },
  {
   "cell_type": "code",
   "execution_count": null,
   "id": "c138840b-d78c-4f01-9bd4-5feeec7698eb",
   "metadata": {},
   "outputs": [],
   "source": []
  },
  {
   "cell_type": "markdown",
   "id": "1913041f-c0d7-41e3-9502-063fc534297d",
   "metadata": {},
   "source": [
    "## part 1"
   ]
  },
  {
   "cell_type": "code",
   "execution_count": 239,
   "id": "8bdeddd2-99ed-4ec2-bfdc-589b75106fc9",
   "metadata": {},
   "outputs": [],
   "source": [
    "with open('./input/input_9.txt') as file:\n",
    "    listo = [line.rstrip('\\n') for line in file]"
   ]
  },
  {
   "cell_type": "code",
   "execution_count": 240,
   "id": "6aec3359-b5e6-4f80-b094-02dfedd50edb",
   "metadata": {},
   "outputs": [],
   "source": [
    "l1 = [split_line(line) for line in listo]\n",
    "rsample = np.array(l1)"
   ]
  },
  {
   "cell_type": "code",
   "execution_count": 241,
   "id": "f8ae0e1c-2b66-44db-8521-dae392d87e81",
   "metadata": {},
   "outputs": [],
   "source": [
    "height, width = rsample.shape"
   ]
  },
  {
   "cell_type": "code",
   "execution_count": 242,
   "id": "56a6d4ae-f2d1-4995-a9d8-fb0a2fd87db7",
   "metadata": {},
   "outputs": [
    {
     "data": {
      "text/plain": [
       "(1, 100)"
      ]
     },
     "execution_count": 242,
     "metadata": {},
     "output_type": "execute_result"
    }
   ],
   "source": [
    "hborder = np.full((1, width), 99)\n",
    "hborder.shape"
   ]
  },
  {
   "cell_type": "code",
   "execution_count": 243,
   "id": "16eb21d7-3ba9-4a8c-aea1-20917e281de9",
   "metadata": {},
   "outputs": [
    {
     "data": {
      "text/plain": [
       "(100, 1)"
      ]
     },
     "execution_count": 243,
     "metadata": {},
     "output_type": "execute_result"
    }
   ],
   "source": [
    "vborder = np.full((height, 1), 99)\n",
    "vborder.shape"
   ]
  },
  {
   "cell_type": "code",
   "execution_count": 244,
   "id": "d8ff728a-99b9-4bca-9d3b-28cbc4ec3ef9",
   "metadata": {},
   "outputs": [
    {
     "data": {
      "text/plain": [
       "(100, 100)"
      ]
     },
     "execution_count": 244,
     "metadata": {},
     "output_type": "execute_result"
    }
   ],
   "source": [
    "top = np.vstack([hborder, rsample])[:height]\n",
    "top.shape"
   ]
  },
  {
   "cell_type": "code",
   "execution_count": 245,
   "id": "87f30e35-0dc3-4cd2-bc7a-bd36ea88af8c",
   "metadata": {},
   "outputs": [
    {
     "data": {
      "text/plain": [
       "(100, 100)"
      ]
     },
     "execution_count": 245,
     "metadata": {},
     "output_type": "execute_result"
    }
   ],
   "source": [
    "bottom = np.vstack([rsample, hborder])[1:height + 1]\n",
    "bottom.shape"
   ]
  },
  {
   "cell_type": "code",
   "execution_count": 246,
   "id": "dc0c80f5-237f-4c50-9d72-13a734a198e0",
   "metadata": {},
   "outputs": [
    {
     "data": {
      "text/plain": [
       "(100, 100)"
      ]
     },
     "execution_count": 246,
     "metadata": {},
     "output_type": "execute_result"
    }
   ],
   "source": [
    "right = np.hstack([rsample[:,1:width], vborder])\n",
    "right.shape"
   ]
  },
  {
   "cell_type": "code",
   "execution_count": 247,
   "id": "4ed55d26-37c2-4843-be52-623783a5c245",
   "metadata": {},
   "outputs": [
    {
     "data": {
      "text/plain": [
       "(100, 100)"
      ]
     },
     "execution_count": 247,
     "metadata": {},
     "output_type": "execute_result"
    }
   ],
   "source": [
    "left = np.hstack([vborder, rsample[:,:width-1]])\n",
    "left.shape"
   ]
  },
  {
   "cell_type": "code",
   "execution_count": 287,
   "id": "51412355-60da-49cb-bd95-a0e797340438",
   "metadata": {},
   "outputs": [],
   "source": [
    "left_check = (rsample >= left) * 1\n",
    "right_check = (rsample >= right) * 1\n",
    "top_check = (rsample >= top) * 1\n",
    "bottom_check = (rsample >= bottom) * 1"
   ]
  },
  {
   "cell_type": "code",
   "execution_count": 288,
   "id": "3ba7c43f-ffbf-493e-9442-e436db79b116",
   "metadata": {},
   "outputs": [],
   "source": [
    "stacked = np.stack([left_check, bottom_check, top_check, right_check])"
   ]
  },
  {
   "cell_type": "code",
   "execution_count": 289,
   "id": "e461e0ee-1382-4660-ae0c-c11bf863579a",
   "metadata": {},
   "outputs": [],
   "source": [
    "full_map = np.sum(stacked, axis=0)"
   ]
  },
  {
   "cell_type": "code",
   "execution_count": 290,
   "id": "319dfddd-1841-4d5c-b1c7-837753ef7dbf",
   "metadata": {},
   "outputs": [
    {
     "data": {
      "text/plain": [
       "(4, 100, 100)"
      ]
     },
     "execution_count": 290,
     "metadata": {},
     "output_type": "execute_result"
    }
   ],
   "source": [
    "stacked.shape"
   ]
  },
  {
   "cell_type": "code",
   "execution_count": 291,
   "id": "fa76cc55-d723-401c-8be9-10ef961a6d10",
   "metadata": {},
   "outputs": [],
   "source": [
    "safes = rsample[np.where(full_map == 0)]"
   ]
  },
  {
   "cell_type": "code",
   "execution_count": 292,
   "id": "08150562-6bce-4f97-b08e-e7515fd99b48",
   "metadata": {},
   "outputs": [
    {
     "data": {
      "text/plain": [
       "(array([0, 1, 2, 3, 4]), array([ 205, 3705, 2874,  659, 2557]))"
      ]
     },
     "execution_count": 292,
     "metadata": {},
     "output_type": "execute_result"
    }
   ],
   "source": [
    "np.unique(full_map, return_counts=True)"
   ]
  },
  {
   "cell_type": "code",
   "execution_count": 293,
   "id": "3d7c3f5a-c86d-4c62-90d5-09bc393fd226",
   "metadata": {},
   "outputs": [
    {
     "data": {
      "text/plain": [
       "array([[1, 3, 1, 1, 3, 1, 0, 3, 2, 2, 0, 1, 2, 2, 1],\n",
       "       [1, 0, 1, 4, 1, 4, 4, 2, 2, 2, 1, 2, 1, 1, 4],\n",
       "       [2, 1, 4, 1, 1, 1, 4, 3, 1, 1, 1, 2, 2, 2, 2],\n",
       "       [1, 4, 1, 4, 1, 4, 1, 1, 2, 2, 1, 2, 4, 1, 2],\n",
       "       [3, 2, 2, 2, 1, 2, 4, 2, 2, 2, 1, 2, 4, 1, 4],\n",
       "       [1, 2, 1, 2, 1, 2, 1, 4, 2, 2, 1, 2, 1, 4, 1],\n",
       "       [3, 3, 4, 2, 1, 1, 4, 1, 4, 2, 1, 2, 4, 1, 2],\n",
       "       [3, 2, 2, 1, 0, 4, 1, 1, 2, 4, 1, 4, 1, 2, 2],\n",
       "       [2, 1, 1, 1, 4, 4, 4, 1, 3, 1, 4, 1, 2, 2, 3],\n",
       "       [1, 2, 1, 4, 1, 4, 1, 1, 1, 1, 1, 0, 1, 1, 1],\n",
       "       [2, 1, 4, 2, 1, 2, 4, 4, 2, 1, 2, 3, 1, 2, 4],\n",
       "       [3, 4, 2, 2, 1, 2, 4, 1, 4, 4, 2, 2, 1, 4, 2],\n",
       "       [3, 2, 2, 4, 1, 3, 3, 1, 2, 4, 4, 1, 4, 1, 1],\n",
       "       [2, 2, 2, 2, 1, 2, 3, 1, 1, 1, 4, 4, 4, 4, 4],\n",
       "       [2, 2, 1, 3, 1, 2, 2, 1, 3, 4, 4, 1, 4, 4, 4]])"
      ]
     },
     "execution_count": 293,
     "metadata": {},
     "output_type": "execute_result"
    }
   ],
   "source": [
    "full_map[:15, :15]"
   ]
  },
  {
   "cell_type": "code",
   "execution_count": 294,
   "id": "2e0b059e-2610-4595-abd1-9ef8d4c6b325",
   "metadata": {},
   "outputs": [
    {
     "data": {
      "text/plain": [
       "array([[5, 6, 5, 6, 9, 2, 1, 9, 8, 7, 1, 2, 5, 6, 7],\n",
       "       [4, 3, 4, 9, 8, 9, 9, 8, 7, 6, 2, 3, 4, 5, 9],\n",
       "       [5, 4, 9, 8, 7, 8, 9, 8, 5, 4, 3, 4, 5, 6, 8],\n",
       "       [6, 9, 8, 9, 5, 9, 8, 7, 6, 5, 4, 5, 9, 7, 8],\n",
       "       [9, 8, 7, 5, 4, 5, 9, 8, 7, 6, 5, 6, 9, 8, 9],\n",
       "       [8, 7, 6, 4, 3, 4, 5, 9, 8, 7, 6, 7, 8, 9, 8],\n",
       "       [9, 7, 7, 3, 2, 3, 9, 8, 9, 8, 7, 8, 9, 6, 7],\n",
       "       [9, 6, 5, 2, 1, 9, 8, 7, 8, 9, 8, 9, 4, 5, 6],\n",
       "       [8, 5, 4, 3, 9, 9, 9, 6, 7, 4, 9, 2, 3, 4, 6],\n",
       "       [7, 6, 5, 9, 8, 9, 6, 5, 4, 3, 2, 1, 2, 3, 5],\n",
       "       [8, 7, 9, 8, 7, 8, 9, 9, 5, 4, 5, 6, 3, 4, 9],\n",
       "       [9, 9, 8, 7, 6, 7, 9, 8, 9, 9, 8, 7, 4, 9, 8],\n",
       "       [9, 8, 7, 7, 5, 7, 8, 7, 8, 9, 9, 8, 9, 8, 7],\n",
       "       [8, 7, 6, 5, 4, 6, 7, 6, 7, 8, 9, 9, 9, 9, 9],\n",
       "       [4, 3, 2, 3, 2, 3, 4, 5, 8, 9, 9, 8, 9, 9, 9]])"
      ]
     },
     "execution_count": 294,
     "metadata": {},
     "output_type": "execute_result"
    }
   ],
   "source": [
    "rsample[:15, :15]"
   ]
  },
  {
   "cell_type": "code",
   "execution_count": 297,
   "id": "203bc35e-60a5-4943-bbdc-98475d4121e9",
   "metadata": {},
   "outputs": [
    {
     "data": {
      "text/plain": [
       "452"
      ]
     },
     "execution_count": 297,
     "metadata": {},
     "output_type": "execute_result"
    }
   ],
   "source": [
    "sum(safes + 1)"
   ]
  },
  {
   "cell_type": "code",
   "execution_count": 275,
   "id": "e9666ba7-5c28-4145-bdd0-15331be643ed",
   "metadata": {},
   "outputs": [
    {
     "data": {
      "text/plain": [
       "1442"
      ]
     },
     "execution_count": 275,
     "metadata": {},
     "output_type": "execute_result"
    }
   ],
   "source": [
    "sum(safes)"
   ]
  },
  {
   "cell_type": "code",
   "execution_count": 258,
   "id": "d3bee37b-a5e5-4f9f-9564-c30ed653b6e9",
   "metadata": {},
   "outputs": [
    {
     "data": {
      "text/plain": [
       "1442"
      ]
     },
     "execution_count": 258,
     "metadata": {},
     "output_type": "execute_result"
    }
   ],
   "source": [
    "sum(list(safes))"
   ]
  },
  {
   "cell_type": "code",
   "execution_count": 176,
   "id": "b052ba31-0550-492e-b430-74455f0c7a02",
   "metadata": {},
   "outputs": [
    {
     "data": {
      "text/plain": [
       "304"
      ]
     },
     "execution_count": 176,
     "metadata": {},
     "output_type": "execute_result"
    }
   ],
   "source": [
    "len(safes)"
   ]
  },
  {
   "cell_type": "code",
   "execution_count": 164,
   "id": "5a7c5545-e7f7-4921-9ffd-3992478fcea9",
   "metadata": {},
   "outputs": [
    {
     "data": {
      "text/plain": [
       "0"
      ]
     },
     "execution_count": 164,
     "metadata": {},
     "output_type": "execute_result"
    }
   ],
   "source": [
    "full_map[0,6]"
   ]
  },
  {
   "cell_type": "code",
   "execution_count": 276,
   "id": "1af84d8c-9d08-40f8-8e9e-25b5b264aec1",
   "metadata": {},
   "outputs": [
    {
     "data": {
      "text/plain": [
       "array([[5, 6, 5, ..., 6, 5, 6],\n",
       "       [4, 3, 4, ..., 5, 4, 1],\n",
       "       [5, 4, 9, ..., 4, 3, 2],\n",
       "       ...,\n",
       "       [9, 5, 4, ..., 8, 9, 7],\n",
       "       [0, 2, 3, ..., 7, 8, 9],\n",
       "       [1, 6, 5, ..., 6, 7, 8]])"
      ]
     },
     "execution_count": 276,
     "metadata": {},
     "output_type": "execute_result"
    }
   ],
   "source": [
    "rsample"
   ]
  },
  {
   "cell_type": "code",
   "execution_count": null,
   "id": "67bf0946-89c3-4811-a040-fc5091ea852a",
   "metadata": {},
   "outputs": [],
   "source": []
  },
  {
   "cell_type": "code",
   "execution_count": null,
   "id": "d42c1531-7a62-4c4b-b5f0-303988c643f2",
   "metadata": {},
   "outputs": [],
   "source": []
  },
  {
   "cell_type": "markdown",
   "id": "aa19e419-7e47-4005-b32d-eb8934b09c95",
   "metadata": {},
   "source": [
    "## part 2"
   ]
  },
  {
   "cell_type": "code",
   "execution_count": 308,
   "id": "29620270-ca5f-464a-b8ec-276810af9fb2",
   "metadata": {},
   "outputs": [],
   "source": [
    "from skimage.measure import label"
   ]
  },
  {
   "cell_type": "code",
   "execution_count": 298,
   "id": "52a12cb4-a838-4a33-9e87-e981b9a260e2",
   "metadata": {},
   "outputs": [],
   "source": [
    "exam2 = [\n",
    "'2199943210',\n",
    "'3987894921',\n",
    "'9856789892',\n",
    "'8767896789',\n",
    "'9899965678'\n",
    "]"
   ]
  },
  {
   "cell_type": "code",
   "execution_count": 329,
   "id": "b11c90d8-764e-4396-9c08-f4aeb92c3d34",
   "metadata": {},
   "outputs": [],
   "source": [
    "l2 = [split_line(line) for line in exam2]\n",
    "examp2 = np.array(l2)"
   ]
  },
  {
   "cell_type": "code",
   "execution_count": 333,
   "id": "76f5a145-b6a7-4f9a-bce6-77f42d295c1a",
   "metadata": {},
   "outputs": [],
   "source": [
    "drawing = np.zeros((5, 10), dtype='uint8')"
   ]
  },
  {
   "cell_type": "code",
   "execution_count": 332,
   "id": "8d4bb055-246a-44cf-87ec-129f43766dd8",
   "metadata": {},
   "outputs": [
    {
     "data": {
      "text/plain": [
       "<matplotlib.image.AxesImage at 0x7fe6082c5790>"
      ]
     },
     "execution_count": 332,
     "metadata": {},
     "output_type": "execute_result"
    },
    {
     "data": {
      "image/png": "[encoded data removed]",
      "text/plain": [
       "<Figure size 432x288 with 1 Axes>"
      ]
     },
     "metadata": {
      "needs_background": "light"
     },
     "output_type": "display_data"
    }
   ],
   "source": [
    "plt.imshow(examp2)"
   ]
  },
  {
   "cell_type": "code",
   "execution_count": 314,
   "id": "76ebbc7d-5866-4e8a-82b0-24ad934eb011",
   "metadata": {},
   "outputs": [],
   "source": [
    "test2[test2 == 0] = -1"
   ]
  },
  {
   "cell_type": "code",
   "execution_count": 334,
   "id": "c34cd12d-2a31-4962-912f-f5e9d51c8e6f",
   "metadata": {},
   "outputs": [],
   "source": [
    "for i in range(9):\n",
    "    drawing[test2 == i] = 1"
   ]
  },
  {
   "cell_type": "code",
   "execution_count": 335,
   "id": "86cc654a-e7b5-4fb6-a8aa-a26e65751d54",
   "metadata": {},
   "outputs": [
    {
     "data": {
      "text/plain": [
       "<matplotlib.image.AxesImage at 0x7fe607deab50>"
      ]
     },
     "execution_count": 335,
     "metadata": {},
     "output_type": "execute_result"
    },
    {
     "data": {
      "image/png": "[encoded data removed]",
      "text/plain": [
       "<Figure size 432x288 with 1 Axes>"
      ]
     },
     "metadata": {
      "needs_background": "light"
     },
     "output_type": "display_data"
    }
   ],
   "source": [
    "plt.imshow(drawing)"
   ]
  },
  {
   "cell_type": "code",
   "execution_count": 339,
   "id": "329f02fb-3b52-4cc4-a988-2a08f020e785",
   "metadata": {},
   "outputs": [],
   "source": [
    "segments = label(drawing, connectivity=1)"
   ]
  },
  {
   "cell_type": "code",
   "execution_count": 340,
   "id": "c1e45ac2-da69-463e-821e-209610efad70",
   "metadata": {},
   "outputs": [
    {
     "data": {
      "text/plain": [
       "array([[1, 1, 0, 0, 0, 2, 2, 2, 2, 2],\n",
       "       [1, 0, 3, 3, 3, 0, 2, 0, 2, 2],\n",
       "       [0, 3, 3, 3, 3, 3, 0, 4, 0, 2],\n",
       "       [3, 3, 3, 3, 3, 0, 4, 4, 4, 0],\n",
       "       [0, 3, 0, 0, 0, 4, 4, 4, 4, 4]])"
      ]
     },
     "execution_count": 340,
     "metadata": {},
     "output_type": "execute_result"
    }
   ],
   "source": [
    "segments"
   ]
  },
  {
   "cell_type": "code",
   "execution_count": 343,
   "id": "f5d33aeb-923a-4715-8323-a81830a2cd49",
   "metadata": {},
   "outputs": [
    {
     "data": {
      "text/plain": [
       "<matplotlib.colorbar.Colorbar at 0x7fe607cc2c70>"
      ]
     },
     "execution_count": 343,
     "metadata": {},
     "output_type": "execute_result"
    },
    {
     "data": {
      "image/png": "[encoded data removed]",
      "text/plain": [
       "<Figure size 432x288 with 2 Axes>"
      ]
     },
     "metadata": {
      "needs_background": "light"
     },
     "output_type": "display_data"
    }
   ],
   "source": [
    "plt.imshow(segments)\n",
    "plt.colorbar()"
   ]
  },
  {
   "cell_type": "code",
   "execution_count": 341,
   "id": "5d8a8e05-8b9f-4620-8d03-c7b45ff8314f",
   "metadata": {},
   "outputs": [
    {
     "data": {
      "text/plain": [
       "(array([0, 1, 2, 3, 4]), array([15,  3,  9, 14,  9]))"
      ]
     },
     "execution_count": 341,
     "metadata": {},
     "output_type": "execute_result"
    }
   ],
   "source": [
    "np.unique(segments, return_counts=True)"
   ]
  },
  {
   "cell_type": "code",
   "execution_count": null,
   "id": "93e450de-4e67-44b9-85ee-605ebdf97bdf",
   "metadata": {},
   "outputs": [],
   "source": []
  },
  {
   "cell_type": "code",
   "execution_count": null,
   "id": "66d2d5fb-f964-4435-aa3b-e8c1c838fd17",
   "metadata": {},
   "outputs": [],
   "source": []
  },
  {
   "cell_type": "code",
   "execution_count": null,
   "id": "a42ebfba-2b49-4dd5-ba1b-6ca2dd9641a0",
   "metadata": {},
   "outputs": [],
   "source": [
    "# the real SHIT"
   ]
  },
  {
   "cell_type": "code",
   "execution_count": 345,
   "id": "dbfa53f1-ae78-46b9-9515-b82d5ac2f6a6",
   "metadata": {},
   "outputs": [
    {
     "data": {
      "text/plain": [
       "array([[5, 6, 5, ..., 6, 5, 6],\n",
       "       [4, 3, 4, ..., 5, 4, 1],\n",
       "       [5, 4, 9, ..., 4, 3, 2],\n",
       "       ...,\n",
       "       [9, 5, 4, ..., 8, 9, 7],\n",
       "       [0, 2, 3, ..., 7, 8, 9],\n",
       "       [1, 6, 5, ..., 6, 7, 8]])"
      ]
     },
     "execution_count": 345,
     "metadata": {},
     "output_type": "execute_result"
    }
   ],
   "source": [
    "rsample"
   ]
  },
  {
   "cell_type": "code",
   "execution_count": 346,
   "id": "757e301a-b805-4820-8ccd-38c74f76a2a5",
   "metadata": {},
   "outputs": [],
   "source": [
    "drawing = np.zeros((100, 100), dtype='uint8')"
   ]
  },
  {
   "cell_type": "code",
   "execution_count": 347,
   "id": "8c1f7752-157a-457c-8e49-90a114b9a9e4",
   "metadata": {},
   "outputs": [],
   "source": [
    "for i in range(9):\n",
    "    drawing[rsample == i] = 1"
   ]
  },
  {
   "cell_type": "code",
   "execution_count": 349,
   "id": "1166df6f-ed79-4d70-b678-9577378038bb",
   "metadata": {},
   "outputs": [],
   "source": [
    "segments = label(drawing, connectivity=1)"
   ]
  },
  {
   "cell_type": "code",
   "execution_count": 362,
   "id": "d642a655-f830-43be-acf3-f6cfd75042ba",
   "metadata": {},
   "outputs": [
    {
     "data": {
      "text/plain": [
       "<matplotlib.colorbar.Colorbar at 0x7fe607ab02e0>"
      ]
     },
     "execution_count": 362,
     "metadata": {},
     "output_type": "execute_result"
    },
    {
     "data": {
      "image/png": "[encoded data removed]",
      "text/plain": [
       "<Figure size 1080x1080 with 2 Axes>"
      ]
     },
     "metadata": {
      "needs_background": "light"
     },
     "output_type": "display_data"
    }
   ],
   "source": [
    "plt.figure(figsize=(15,15))\n",
    "plt.imshow(segments)\n",
    "plt.colorbar()"
   ]
  },
  {
   "cell_type": "code",
   "execution_count": 353,
   "id": "2dbf942d-4ed1-40c7-95ce-918b270f72da",
   "metadata": {},
   "outputs": [],
   "source": [
    "basins, counts = np.unique(segments ,return_counts=True)"
   ]
  },
  {
   "cell_type": "code",
   "execution_count": 354,
   "id": "bbd31192-8e2a-4b62-8405-b229a167bd3a",
   "metadata": {},
   "outputs": [
    {
     "data": {
      "text/plain": [
       "array([2586,   10,    2,   46,   16,   35,   32,   97,    4,   49,   61,\n",
       "         30,   38,    8,   18,   33,   36,   74,   56,   38,    6,   39,\n",
       "         11,    2,   53,    3,   66,   23,   33,   57,   82,   26,   62,\n",
       "         16,   12,   35,   97,   14,   45,   66,   95,    8,    7,   74,\n",
       "         13,   26,   28,   41,   35,    3,   46,   18,    9,   22,   21,\n",
       "         38,   84,   65,    4,    9,   54,    2,   18,   38,   84,   16,\n",
       "         26,   44,   11,   71,   53,   51,   20,   40,   63,   10,   32,\n",
       "         32,   52,    7,   72,   26,   87,    5,   74,   25,   31,   56,\n",
       "         82,    9,   35,    3,   32,   28,   37,   61,    6,   90,    4,\n",
       "         72,    3,   76,   42,   54,   41,    6,   23,   49,   28,    2,\n",
       "         22,   81,   99,   38,   67,    2,   10,   55,   34,   28,   18,\n",
       "         33,    3,   72,   57,  115,    8,   44,    4,   51,   15,    9,\n",
       "         74,   24,   69,  111,    3,   34,   28,   10,   30,   38,   31,\n",
       "         38,    2,   28,   77,   29,   19,   57,    2,    2,   27,   30,\n",
       "         86,    8,   16,   44,   49,   13,   12,   44,   55,   98,   13,\n",
       "         39,   64,   12,   11,   46,   67,   45,   71,   62,   19,   11,\n",
       "         88,   59,    4,    5,   20,   69,   17,   53,   26,   31,   15,\n",
       "          4,   64,   86,   50,   79,    4,   80,    4,   45,   69,   12,\n",
       "         21,   11,   10,    4,    4,    3,    2,    2])"
      ]
     },
     "execution_count": 354,
     "metadata": {},
     "output_type": "execute_result"
    }
   ],
   "source": [
    "counts"
   ]
  },
  {
   "cell_type": "code",
   "execution_count": 360,
   "id": "9ddc1796-8de0-4223-80bc-b0ed1a3ed864",
   "metadata": {},
   "outputs": [
    {
     "data": {
      "text/plain": [
       "[2586,\n",
       " 115,\n",
       " 111,\n",
       " 99,\n",
       " 98,\n",
       " 97,\n",
       " 97,\n",
       " 95,\n",
       " 90,\n",
       " 88,\n",
       " 87,\n",
       " 86,\n",
       " 86,\n",
       " 84,\n",
       " 84,\n",
       " 82,\n",
       " 82,\n",
       " 81,\n",
       " 80,\n",
       " 79,\n",
       " 77,\n",
       " 76,\n",
       " 74,\n",
       " 74,\n",
       " 74,\n",
       " 74,\n",
       " 72,\n",
       " 72,\n",
       " 72,\n",
       " 71,\n",
       " 71,\n",
       " 69,\n",
       " 69,\n",
       " 69,\n",
       " 67,\n",
       " 67,\n",
       " 66,\n",
       " 66,\n",
       " 65,\n",
       " 64,\n",
       " 64,\n",
       " 63,\n",
       " 62,\n",
       " 62,\n",
       " 61,\n",
       " 61,\n",
       " 59,\n",
       " 57,\n",
       " 57,\n",
       " 57,\n",
       " 56,\n",
       " 56,\n",
       " 55,\n",
       " 55,\n",
       " 54,\n",
       " 54,\n",
       " 53,\n",
       " 53,\n",
       " 53,\n",
       " 52,\n",
       " 51,\n",
       " 51,\n",
       " 50,\n",
       " 49,\n",
       " 49,\n",
       " 49,\n",
       " 46,\n",
       " 46,\n",
       " 46,\n",
       " 45,\n",
       " 45,\n",
       " 45,\n",
       " 44,\n",
       " 44,\n",
       " 44,\n",
       " 44,\n",
       " 42,\n",
       " 41,\n",
       " 41,\n",
       " 40,\n",
       " 39,\n",
       " 39,\n",
       " 38,\n",
       " 38,\n",
       " 38,\n",
       " 38,\n",
       " 38,\n",
       " 38,\n",
       " 38,\n",
       " 37,\n",
       " 36,\n",
       " 35,\n",
       " 35,\n",
       " 35,\n",
       " 35,\n",
       " 34,\n",
       " 34,\n",
       " 33,\n",
       " 33,\n",
       " 33,\n",
       " 32,\n",
       " 32,\n",
       " 32,\n",
       " 32,\n",
       " 31,\n",
       " 31,\n",
       " 31,\n",
       " 30,\n",
       " 30,\n",
       " 30,\n",
       " 29,\n",
       " 28,\n",
       " 28,\n",
       " 28,\n",
       " 28,\n",
       " 28,\n",
       " 28,\n",
       " 27,\n",
       " 26,\n",
       " 26,\n",
       " 26,\n",
       " 26,\n",
       " 26,\n",
       " 25,\n",
       " 24,\n",
       " 23,\n",
       " 23,\n",
       " 22,\n",
       " 22,\n",
       " 21,\n",
       " 21,\n",
       " 20,\n",
       " 20,\n",
       " 19,\n",
       " 19,\n",
       " 18,\n",
       " 18,\n",
       " 18,\n",
       " 18,\n",
       " 17,\n",
       " 16,\n",
       " 16,\n",
       " 16,\n",
       " 16,\n",
       " 15,\n",
       " 15,\n",
       " 14,\n",
       " 13,\n",
       " 13,\n",
       " 13,\n",
       " 12,\n",
       " 12,\n",
       " 12,\n",
       " 12,\n",
       " 11,\n",
       " 11,\n",
       " 11,\n",
       " 11,\n",
       " 11,\n",
       " 10,\n",
       " 10,\n",
       " 10,\n",
       " 10,\n",
       " 10,\n",
       " 9,\n",
       " 9,\n",
       " 9,\n",
       " 9,\n",
       " 8,\n",
       " 8,\n",
       " 8,\n",
       " 8,\n",
       " 7,\n",
       " 7,\n",
       " 6,\n",
       " 6,\n",
       " 6,\n",
       " 5,\n",
       " 5,\n",
       " 4,\n",
       " 4,\n",
       " 4,\n",
       " 4,\n",
       " 4,\n",
       " 4,\n",
       " 4,\n",
       " 4,\n",
       " 4,\n",
       " 4,\n",
       " 3,\n",
       " 3,\n",
       " 3,\n",
       " 3,\n",
       " 3,\n",
       " 3,\n",
       " 3,\n",
       " 2,\n",
       " 2,\n",
       " 2,\n",
       " 2,\n",
       " 2,\n",
       " 2,\n",
       " 2,\n",
       " 2,\n",
       " 2,\n",
       " 2]"
      ]
     },
     "execution_count": 360,
     "metadata": {},
     "output_type": "execute_result"
    }
   ],
   "source": [
    "sorted(list(counts), reverse=True)"
   ]
  },
  {
   "cell_type": "code",
   "execution_count": 361,
   "id": "12842081-4dfb-4794-87a9-94ee8668037d",
   "metadata": {},
   "outputs": [
    {
     "data": {
      "text/plain": [
       "1263735"
      ]
     },
     "execution_count": 361,
     "metadata": {},
     "output_type": "execute_result"
    }
   ],
   "source": [
    "115*111*99"
   ]
  },
  {
   "cell_type": "code",
   "execution_count": null,
   "id": "e08c6a7a-0795-46c4-91e1-e40d9dfa0034",
   "metadata": {},
   "outputs": [],
   "source": []
  }
 ],
 "metadata": {
  "kernelspec": {
   "display_name": "womt-env",
   "language": "python",
   "name": "womt-env"
  },
  "language_info": {
   "codemirror_mode": {
    "name": "ipython",
    "version": 3
   },
   "file_extension": ".py",
   "mimetype": "text/x-python",
   "name": "python",
   "nbconvert_exporter": "python",
   "pygments_lexer": "ipython3",
   "version": "3.8.6"
  }
 },
 "nbformat": 4,
 "nbformat_minor": 5
}
