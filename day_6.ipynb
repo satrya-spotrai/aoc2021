{
 "cells": [
  {
   "cell_type": "code",
   "execution_count": 2,
   "id": "f47634fd-024e-44d8-8352-f1c535f3d46f",
   "metadata": {},
   "outputs": [],
   "source": [
    "example = [3,4,3,1,2]"
   ]
  },
  {
   "cell_type": "code",
   "execution_count": 3,
   "id": "2400e919-2840-4a09-81d6-0887cc214e41",
   "metadata": {},
   "outputs": [],
   "source": [
    "real_fishes = [3,4,1,2,1,2,5,1,2,1,5,4,3,2,5,1,5,1,2,2,2,3,4,5,2,5,1,3,3,1,3,4,1,5,3,2,2,1,3,2,5,1,1,4,1,4,5,1,3,1,1,5,3,1,1,4,2,2,5,1,5,5,1,5,4,1,5,3,5,1,1,4,1,2,2,1,1,1,4,2,1,3,1,1,4,5,1,1,1,1,1,5,1,1,4,1,1,1,1,2,1,4,2,1,2,4,1,3,1,2,3,2,4,1,1,5,1,1,1,2,5,5,1,1,4,1,2,2,3,5,1,4,5,4,1,3,1,4,1,4,3,2,4,3,2,4,5,1,4,5,2,1,1,1,1,1,3,1,5,1,3,1,1,2,1,4,1,3,1,5,2,4,2,1,1,1,2,1,1,4,1,1,1,1,1,5,4,1,3,3,5,3,2,5,5,2,1,5,2,4,4,1,5,2,3,1,5,3,4,1,5,1,5,3,1,1,1,4,4,5,1,1,1,3,1,4,5,1,2,3,1,3,2,3,1,3,5,4,3,1,3,4,3,1,2,1,1,3,1,1,3,1,1,4,1,2,1,2,5,1,1,3,5,3,3,3,1,1,1,1,1,5,3,3,1,1,3,4,1,1,4,1,1,2,4,4,1,1,3,1,3,2,2,1,2,5,3,3,1,1]"
   ]
  },
  {
   "cell_type": "code",
   "execution_count": 4,
   "id": "dcc6c7df-742a-48eb-99cb-1617d9b63e99",
   "metadata": {},
   "outputs": [],
   "source": [
    "class Fish:\n",
    "    \n",
    "    def __init__(self, days, cycle = 6):\n",
    "        self.days = days\n",
    "        self.cycle = cycle\n",
    "        self.children = []\n",
    "    \n",
    "    def run(self):\n",
    "        for day in range(self.days):\n",
    "            if self.cycle == 0:\n",
    "                self.cycle = 6\n",
    "                \n",
    "                child = Fish(self.days - day - 1, 8)\n",
    "                #print(f'-----{self.days - day - 1}, {8}') # \n",
    "                child.run()\n",
    "                self.children.append(child)\n",
    "                \n",
    "            else:\n",
    "                self.cycle -= 1\n",
    "            \n",
    "            #print(f'{day},{self.cycle}')"
   ]
  },
  {
   "cell_type": "code",
   "execution_count": 343,
   "id": "bd0eaba7-8de6-41ec-bc54-191b2e9836f4",
   "metadata": {},
   "outputs": [],
   "source": [
    "fishes = []\n",
    "\n",
    "for f in example:\n",
    "    fish = Fish(18, f)\n",
    "    fishes.append(fish)"
   ]
  },
  {
   "cell_type": "code",
   "execution_count": null,
   "id": "7455fb16-549c-41c2-98de-76b262a77868",
   "metadata": {},
   "outputs": [],
   "source": [
    "a = Fish(200, 3)\n",
    "a.run()"
   ]
  },
  {
   "cell_type": "code",
   "execution_count": 4,
   "id": "f9e202ed-3f04-47a1-9ead-3e0c2549146b",
   "metadata": {},
   "outputs": [],
   "source": [
    "def count_fish(fish):\n",
    "    if len(fish.children) == 0:\n",
    "        return 0\n",
    "    else:\n",
    "        return len(fish.children) + sum([count_fish(f) for f in fish.children])"
   ]
  },
  {
   "cell_type": "code",
   "execution_count": 399,
   "id": "bfee0587-c0f6-45c5-b3ac-2cce776087f5",
   "metadata": {},
   "outputs": [],
   "source": [
    "f1 = Fish(18, 1)\n",
    "f1.run()"
   ]
  },
  {
   "cell_type": "code",
   "execution_count": 400,
   "id": "bf308103-d60c-4812-8811-45a3301ef8f2",
   "metadata": {},
   "outputs": [
    {
     "data": {
      "text/plain": [
       "7"
      ]
     },
     "execution_count": 400,
     "metadata": {},
     "output_type": "execute_result"
    }
   ],
   "source": [
    "count_fish(f1) + 1"
   ]
  },
  {
   "cell_type": "code",
   "execution_count": null,
   "id": "a3d21ab2-ac5d-40ba-a105-c8fed64d1297",
   "metadata": {},
   "outputs": [],
   "source": [
    "fishes = []\n",
    "for f in real_fishes[:1]:\n",
    "    fish = Fish(200, f)\n",
    "    fish.run()\n",
    "    \n",
    "    #fishes.append(count_fish(fish) + 1)"
   ]
  },
  {
   "cell_type": "code",
   "execution_count": null,
   "id": "5c79c8db-4e4f-4682-b7b6-64d73bcf87d8",
   "metadata": {},
   "outputs": [],
   "source": [
    "sum(fishes)"
   ]
  },
  {
   "cell_type": "code",
   "execution_count": null,
   "id": "29e82d14-577c-4692-8e9e-74fc65861809",
   "metadata": {},
   "outputs": [],
   "source": []
  },
  {
   "cell_type": "code",
   "execution_count": 249,
   "id": "949ce824-0374-43b1-9c55-149174a86665",
   "metadata": {},
   "outputs": [
    {
     "name": "stdout",
     "output_type": "stream",
     "text": [
      "14\n",
      "8\n",
      "----\n",
      "7\n",
      "8\n",
      "----\n",
      "0\n",
      "8\n",
      "----\n"
     ]
    }
   ],
   "source": [
    "for child in f.children:\n",
    "    print(child.days)\n",
    "    print(child.cycle)\n",
    "    print('----')"
   ]
  },
  {
   "cell_type": "markdown",
   "id": "9cc65db6-41bf-473b-b60f-6ad1fc5c7078",
   "metadata": {},
   "source": [
    "## tests"
   ]
  },
  {
   "cell_type": "code",
   "execution_count": 265,
   "id": "fdd24771-bdb9-4560-a1cc-45ff20c08777",
   "metadata": {},
   "outputs": [],
   "source": [
    "test_fish = Fish(18, 3)\n",
    "test_fish.run()\n",
    "\n",
    "# test fish cycle\n",
    "assert test_fish.cycle == 6, test_fish.cycle\n",
    "\n",
    "# test fish children amount\n",
    "assert len(test_fish.children) == 3, test_fish.children\n",
    "\n",
    "# test children of children\n",
    "assert test_fish.children[0].cycle == 1, test_fish.children[0].cycle\n",
    "assert test_fish.children[1].cycle == 1, test_fish.children[1].cycle\n",
    "assert test_fish.children[2].cycle == 8, test_fish.children[2].cycle"
   ]
  },
  {
   "cell_type": "code",
   "execution_count": null,
   "id": "c479dde4-3866-44f1-8804-fbe8b7b4f783",
   "metadata": {},
   "outputs": [],
   "source": []
  },
  {
   "cell_type": "code",
   "execution_count": null,
   "id": "542bd514-8564-42eb-a8c3-d7979f4200c5",
   "metadata": {},
   "outputs": [],
   "source": []
  },
  {
   "cell_type": "code",
   "execution_count": null,
   "id": "cca0ea61-e167-4512-b135-2a93c2784dfe",
   "metadata": {},
   "outputs": [],
   "source": []
  },
  {
   "cell_type": "code",
   "execution_count": null,
   "id": "6f8d2e03-8929-4f7a-8551-045dcb5106da",
   "metadata": {},
   "outputs": [],
   "source": []
  },
  {
   "cell_type": "code",
   "execution_count": null,
   "id": "6a06cf70-3ba2-481d-a8fc-fa8743359174",
   "metadata": {},
   "outputs": [],
   "source": []
  },
  {
   "cell_type": "code",
   "execution_count": null,
   "id": "d1d8bc78-a98c-4c14-ac8c-15623c8295e5",
   "metadata": {},
   "outputs": [],
   "source": []
  },
  {
   "cell_type": "code",
   "execution_count": null,
   "id": "7a0bab53-d820-4df1-9ede-a1303f468f25",
   "metadata": {},
   "outputs": [],
   "source": []
  }
 ],
 "metadata": {
  "kernelspec": {
   "display_name": "womt-env",
   "language": "python",
   "name": "womt-env"
  },
  "language_info": {
   "codemirror_mode": {
    "name": "ipython",
    "version": 3
   },
   "file_extension": ".py",
   "mimetype": "text/x-python",
   "name": "python",
   "nbconvert_exporter": "python",
   "pygments_lexer": "ipython3",
   "version": "3.8.6"
  }
 },
 "nbformat": 4,
 "nbformat_minor": 5
}
