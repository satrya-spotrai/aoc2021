{
 "cells": [
  {
   "cell_type": "code",
   "execution_count": 55,
   "id": "512d770c-b1b6-46e8-a1d7-15c5962f3567",
   "metadata": {},
   "outputs": [],
   "source": [
    "import numpy as np\n",
    "import copy\n",
    "import matplotlib.pyplot as plt"
   ]
  },
  {
   "cell_type": "code",
   "execution_count": 144,
   "id": "b1f6e469-db81-46c4-8797-b58daa4a5d45",
   "metadata": {},
   "outputs": [],
   "source": [
    "with open('input/input_15ex.txt') as file:\n",
    "    lines = [line.rstrip('\\n') for line in file]"
   ]
  },
  {
   "cell_type": "code",
   "execution_count": 145,
   "id": "e67d65ca-1761-4988-92a3-c97bbe0b65b6",
   "metadata": {},
   "outputs": [],
   "source": [
    "examp = []\n",
    "for line in lines:\n",
    "    row = [int(c) for c in line]\n",
    "    examp.append(row)\n",
    "\n",
    "examp = np.array(examp)"
   ]
  },
  {
   "cell_type": "code",
   "execution_count": 146,
   "id": "42afdc8b-c218-4805-a519-7bd5c2413637",
   "metadata": {},
   "outputs": [
    {
     "data": {
      "text/plain": [
       "<matplotlib.colorbar.Colorbar at 0x7f9a089ffe20>"
      ]
     },
     "execution_count": 146,
     "metadata": {},
     "output_type": "execute_result"
    },
    {
     "data": {
      "image/png": "[encoded data removed]",
      "text/plain": [
       "<Figure size 432x288 with 2 Axes>"
      ]
     },
     "metadata": {
      "needs_background": "light"
     },
     "output_type": "display_data"
    }
   ],
   "source": [
    "plt.imshow(examp)\n",
    "plt.colorbar()"
   ]
  },
  {
   "cell_type": "code",
   "execution_count": null,
   "id": "61ef5f99-955f-4d48-bd84-078674b248ab",
   "metadata": {},
   "outputs": [],
   "source": []
  },
  {
   "cell_type": "markdown",
   "id": "45555b4f-f1bc-4a98-b39d-331869121ab4",
   "metadata": {},
   "source": [
    "## solution attempt"
   ]
  },
  {
   "cell_type": "code",
   "execution_count": 42,
   "id": "af2668cc-f4c2-4b09-89d4-af1642a25501",
   "metadata": {},
   "outputs": [
    {
     "data": {
      "text/plain": [
       "array([[0., 1., 0., 0., 0., 0., 0., 0., 0., 0.],\n",
       "       [1., 0., 0., 0., 0., 0., 0., 0., 0., 0.],\n",
       "       [0., 0., 0., 0., 0., 0., 0., 0., 0., 0.],\n",
       "       [0., 0., 0., 0., 0., 0., 0., 0., 0., 0.],\n",
       "       [0., 0., 0., 0., 0., 0., 0., 0., 0., 0.],\n",
       "       [0., 0., 0., 0., 0., 0., 0., 0., 0., 0.],\n",
       "       [0., 0., 0., 0., 0., 0., 0., 0., 0., 0.],\n",
       "       [0., 0., 0., 0., 0., 0., 0., 0., 0., 0.],\n",
       "       [0., 0., 0., 0., 0., 0., 0., 0., 0., 0.],\n",
       "       [0., 0., 0., 0., 0., 0., 0., 0., 0., 0.]])"
      ]
     },
     "execution_count": 42,
     "metadata": {},
     "output_type": "execute_result"
    }
   ],
   "source": [
    "np.eye(10, k=-8)[::-1]"
   ]
  },
  {
   "cell_type": "code",
   "execution_count": 151,
   "id": "f03843a8-0fbb-46b2-bda0-7abff059d968",
   "metadata": {},
   "outputs": [
    {
     "data": {
      "text/plain": [
       "array([[0, 1, 6, 3, 7, 5, 1, 7, 4, 2],\n",
       "       [1, 3, 8, 1, 3, 7, 3, 6, 7, 2],\n",
       "       [2, 1, 3, 6, 5, 1, 1, 3, 2, 8],\n",
       "       [3, 6, 9, 4, 9, 3, 1, 5, 6, 9],\n",
       "       [7, 4, 6, 3, 4, 1, 7, 1, 1, 1],\n",
       "       [1, 3, 1, 9, 1, 2, 8, 1, 3, 7],\n",
       "       [1, 3, 5, 9, 9, 1, 2, 4, 2, 1],\n",
       "       [3, 1, 2, 5, 4, 2, 1, 6, 3, 9],\n",
       "       [1, 2, 9, 3, 1, 3, 8, 5, 2, 1],\n",
       "       [2, 3, 1, 1, 9, 4, 4, 5, 8, 1]])"
      ]
     },
     "execution_count": 151,
     "metadata": {},
     "output_type": "execute_result"
    }
   ],
   "source": [
    "map1 = copy.deepcopy(examp)\n",
    "map1[0,0] = 0 # only count when enter\n",
    "map1"
   ]
  },
  {
   "cell_type": "code",
   "execution_count": 152,
   "id": "a5bc3227-d805-4cf3-b26f-a63ea17ffd62",
   "metadata": {},
   "outputs": [],
   "source": [
    "# range(-8, 10):\n",
    "\n",
    "map_ = map1\n",
    "for i in range(-8, 10):\n",
    "    to_check = np.eye(10, k=i)[::-1] == 1\n",
    "    positions = np.where(to_check)\n",
    "    pos_row, pos_col = positions\n",
    "    \n",
    "    # print(examp[to_check]) # ex: [6, 3, 2]\n",
    "    # print(positions) # ex: (array([0, 1, 2]), array([2, 1, 0]))\n",
    "    \n",
    "    for kpos, node in enumerate(map_[to_check]):\n",
    "        least_value = checkNode(node, pos_row[kpos], pos_col[kpos])\n",
    "        map1[pos_row[kpos], pos_col[kpos]] = least_value"
   ]
  },
  {
   "cell_type": "code",
   "execution_count": 153,
   "id": "ed1c4ed4-8de5-4b68-9944-81f0429e4352",
   "metadata": {},
   "outputs": [
    {
     "data": {
      "text/plain": [
       "array([[ 0,  1,  7, 10, 17, 22, 23, 30, 34, 36],\n",
       "       [ 1,  4, 12, 11, 14, 21, 24, 30, 37, 38],\n",
       "       [ 3,  4,  7, 13, 18, 19, 20, 23, 25, 33],\n",
       "       [ 6, 10, 16, 17, 26, 22, 21, 26, 31, 40],\n",
       "       [13, 14, 20, 20, 24, 23, 28, 27, 28, 29],\n",
       "       [14, 17, 18, 27, 25, 25, 33, 28, 31, 36],\n",
       "       [15, 18, 23, 32, 34, 26, 28, 32, 33, 34],\n",
       "       [18, 19, 21, 26, 30, 28, 29, 35, 36, 43],\n",
       "       [19, 21, 30, 29, 30, 31, 37, 40, 38, 39],\n",
       "       [21, 24, 25, 26, 35, 35, 39, 44, 46, 40]])"
      ]
     },
     "execution_count": 153,
     "metadata": {},
     "output_type": "execute_result"
    }
   ],
   "source": [
    "map1"
   ]
  },
  {
   "cell_type": "code",
   "execution_count": 150,
   "id": "d768c7a3-59a6-4499-b239-9f6de4399a3b",
   "metadata": {},
   "outputs": [],
   "source": [
    "def checkNode(nodeval, pos_row, pos_col):\n",
    "    totvalue = 999\n",
    "    \n",
    "    # get from left and up positions\n",
    "    pre_left_pos = (pos_row, pos_col - 1)\n",
    "    pre_up_pos = (pos_row - 1, pos_col)\n",
    "    \n",
    "    # get left pos value\n",
    "    if -1 in pre_left_pos:\n",
    "        pre_left = 999\n",
    "    else:\n",
    "        pre_left = map_[pre_left_pos]\n",
    "    \n",
    "    # get up pos value\n",
    "    if -1 in pre_up_pos:\n",
    "        pre_up = 999\n",
    "    else:\n",
    "        pre_up = map_[pre_up_pos]\n",
    "    \n",
    "    post_left = pre_left + nodeval\n",
    "    post_up = pre_up + nodeval\n",
    "    \n",
    "    totval = min(totvalue, post_left, post_up)\n",
    "    \n",
    "    return totval"
   ]
  },
  {
   "cell_type": "code",
   "execution_count": 154,
   "id": "3c735c8d-a044-4880-9ceb-b27306b512db",
   "metadata": {},
   "outputs": [],
   "source": [
    "assert checkNode(3, 1, 1) == 4\n",
    "assert checkNode(6, 0, 2) == 7"
   ]
  },
  {
   "cell_type": "code",
   "execution_count": null,
   "id": "2eb03ca1-516f-491c-9128-e4f72557f989",
   "metadata": {},
   "outputs": [],
   "source": []
  },
  {
   "cell_type": "code",
   "execution_count": null,
   "id": "93fa767a-4b8c-4714-a516-b94ae0fa8fe0",
   "metadata": {},
   "outputs": [],
   "source": []
  },
  {
   "cell_type": "markdown",
   "id": "fe3a12a3-befa-42f5-9702-4537c6d51aea",
   "metadata": {},
   "source": [
    "## on real thing"
   ]
  },
  {
   "cell_type": "code",
   "execution_count": 157,
   "id": "4fca3bfa-7b6d-437d-99a0-fae12f209ee5",
   "metadata": {},
   "outputs": [],
   "source": [
    "with open('input/input_15.txt') as file:\n",
    "    lines = [line.rstrip('\\n') for line in file]"
   ]
  },
  {
   "cell_type": "code",
   "execution_count": 158,
   "id": "892a17b0-7284-44ce-8bfb-93595d178d16",
   "metadata": {},
   "outputs": [],
   "source": [
    "inpot = []\n",
    "for line in lines:\n",
    "    row = [int(c) for c in line]\n",
    "    inpot.append(row)\n",
    "\n",
    "inpot = np.array(inpot)"
   ]
  },
  {
   "cell_type": "code",
   "execution_count": 171,
   "id": "379e585a-2c62-4c2f-ada4-8e265c1e8715",
   "metadata": {},
   "outputs": [
    {
     "data": {
      "text/plain": [
       "array([[0, 4, 9, ..., 4, 9, 5],\n",
       "       [7, 2, 6, ..., 9, 2, 5],\n",
       "       [5, 1, 9, ..., 8, 9, 7],\n",
       "       ...,\n",
       "       [4, 5, 6, ..., 5, 9, 2],\n",
       "       [9, 2, 9, ..., 2, 7, 3],\n",
       "       [4, 7, 8, ..., 7, 9, 6]])"
      ]
     },
     "execution_count": 171,
     "metadata": {},
     "output_type": "execute_result"
    }
   ],
   "source": [
    "map0 = copy.deepcopy(inpot)\n",
    "map0[0,0] = 0 # only count when enter\n",
    "map0"
   ]
  },
  {
   "cell_type": "code",
   "execution_count": 172,
   "id": "f4df238f-ce84-46d3-8539-809877dc209c",
   "metadata": {},
   "outputs": [],
   "source": [
    "# range(-8, 10):\n",
    "\n",
    "map_ = map0\n",
    "for i in range(-98, 100):\n",
    "    to_check = np.eye(100, k=i)[::-1] == 1\n",
    "    positions = np.where(to_check)\n",
    "    pos_row, pos_col = positions\n",
    "    \n",
    "    # print(examp[to_check]) # ex: [6, 3, 2]\n",
    "    # print(positions) # ex: (array([0, 1, 2]), array([2, 1, 0]))\n",
    "    \n",
    "    for kpos, node in enumerate(map_[to_check]):\n",
    "        least_value = checkNode(node, pos_row[kpos], pos_col[kpos])\n",
    "        map_[pos_row[kpos], pos_col[kpos]] = least_value"
   ]
  },
  {
   "cell_type": "code",
   "execution_count": 173,
   "id": "b4d83ab8-bc0d-4fd2-94a7-5d30bcbf03eb",
   "metadata": {},
   "outputs": [
    {
     "data": {
      "text/plain": [
       "array([[  0,   4,  13, ..., 553, 562, 567],\n",
       "       [  7,   6,  12, ..., 540, 542, 547],\n",
       "       [ 12,   7,  16, ..., 529, 538, 545],\n",
       "       ...,\n",
       "       [590, 566, 504, ..., 655, 664, 666],\n",
       "       [599, 568, 513, ..., 657, 664, 667],\n",
       "       [603, 575, 521, ..., 664, 673, 673]])"
      ]
     },
     "execution_count": 173,
     "metadata": {},
     "output_type": "execute_result"
    }
   ],
   "source": [
    "map0"
   ]
  },
  {
   "cell_type": "code",
   "execution_count": null,
   "id": "73f025aa-3bab-4e89-904f-e20cf05039ba",
   "metadata": {},
   "outputs": [],
   "source": []
  },
  {
   "cell_type": "code",
   "execution_count": null,
   "id": "0712ef3d-cf4c-47a6-923f-7f718c6cc478",
   "metadata": {},
   "outputs": [],
   "source": []
  },
  {
   "cell_type": "markdown",
   "id": "f58594fd-ef17-48b6-ad41-48561703413a",
   "metadata": {},
   "source": [
    "## part 2"
   ]
  },
  {
   "cell_type": "code",
   "execution_count": 254,
   "id": "3a0cb51c-21ff-40ff-9ee9-1838944e2a26",
   "metadata": {},
   "outputs": [],
   "source": [
    "def increment(val, incr):\n",
    "    \n",
    "    if val + incr > 9:\n",
    "        val = (val + incr) - 9\n",
    "    else: \n",
    "        val += incr\n",
    "    \n",
    "    return val"
   ]
  },
  {
   "cell_type": "code",
   "execution_count": 255,
   "id": "efa3631b-ef53-4c17-a387-32a29a2f483d",
   "metadata": {},
   "outputs": [],
   "source": [
    "assert increment(8, 7) == 6\n",
    "assert increment(8, 3) == 2"
   ]
  },
  {
   "cell_type": "code",
   "execution_count": 201,
   "id": "5c802b7c-e619-48c6-8519-98308d3e9587",
   "metadata": {},
   "outputs": [],
   "source": [
    "test = np.ones((3, 3))"
   ]
  },
  {
   "cell_type": "code",
   "execution_count": 258,
   "id": "0c463ea8-46ea-4797-9651-95324fab0918",
   "metadata": {},
   "outputs": [],
   "source": [
    "incrementarr = np.vectorize(increment)"
   ]
  },
  {
   "cell_type": "code",
   "execution_count": 264,
   "id": "b6c21bb2-74d4-4182-8f8d-9ba3d7cef075",
   "metadata": {},
   "outputs": [],
   "source": [
    "assert (incrementarr(np.array([9,8,5]), 4) == np.array([4, 3, 9])).all()"
   ]
  },
  {
   "cell_type": "code",
   "execution_count": 204,
   "id": "881e6e38-4452-488b-bb0a-769bbec75bf0",
   "metadata": {},
   "outputs": [],
   "source": [
    "# 8 9 1 2 3        \n",
    "# 9 1 2 3 4\n",
    "# 1 2 3 4 5\n",
    "# 2 3 4 5 6\n",
    "# 3 4 5 6 7\n",
    "\n",
    "# ---increment map---\n",
    "# 0 1 2 3 4\n",
    "# 1 2 2 4 5\n",
    "# 2 3 4 5 6\n",
    "# 3 4 5 6 7\n",
    "# 4 5 6 7 8"
   ]
  },
  {
   "cell_type": "code",
   "execution_count": 214,
   "id": "6a6c6047-a954-4f47-a34e-5d0e911032fb",
   "metadata": {},
   "outputs": [],
   "source": [
    "tt = np.array([8])"
   ]
  },
  {
   "cell_type": "code",
   "execution_count": 287,
   "id": "828d6152-90be-4055-a072-5fa209f12769",
   "metadata": {},
   "outputs": [],
   "source": [
    "start = np.array([], dtype='uint8')\n",
    "rowstack_list = []\n",
    "colstack_list = []\n",
    "\n",
    "inc_start = 0\n",
    "inc_end = 5\n",
    "for i in range(5):\n",
    "    \n",
    "    for j in range(inc_start, inc_end):\n",
    "        incremented = incrementarr(tt, j)\n",
    "        rowstack_list.append(incremented)\n",
    "    \n",
    "    rowstack = np.hstack(rowstack_list)\n",
    "    colstack_list.append(rowstack)\n",
    "    \n",
    "    rowstack_list = []\n",
    "    rowstack = np.array([]) # reset rowstack and list for new rowline\n",
    "    \n",
    "    inc_start += 1\n",
    "    inc_end += 1"
   ]
  },
  {
   "cell_type": "code",
   "execution_count": 288,
   "id": "abcd1a68-3061-47fd-addb-7fbb1aaf2b66",
   "metadata": {},
   "outputs": [
    {
     "data": {
      "text/plain": [
       "array([[8, 9, 1, 2, 3],\n",
       "       [9, 1, 2, 3, 4],\n",
       "       [1, 2, 3, 4, 5],\n",
       "       [2, 3, 4, 5, 6],\n",
       "       [3, 4, 5, 6, 7]])"
      ]
     },
     "execution_count": 288,
     "metadata": {},
     "output_type": "execute_result"
    }
   ],
   "source": [
    "np.vstack([colstack_list])"
   ]
  },
  {
   "cell_type": "code",
   "execution_count": 232,
   "id": "c75bc431-205d-49e5-9b69-04e517e16fea",
   "metadata": {},
   "outputs": [
    {
     "data": {
      "text/plain": [
       "array([[8],\n",
       "       [8]])"
      ]
     },
     "execution_count": 232,
     "metadata": {},
     "output_type": "execute_result"
    }
   ],
   "source": [
    "np.vstack([tt, tt])"
   ]
  },
  {
   "cell_type": "code",
   "execution_count": 217,
   "id": "cdb4b466-d6fb-43d7-bd92-9c282ba24b76",
   "metadata": {},
   "outputs": [
    {
     "data": {
      "text/plain": [
       "array([8.])"
      ]
     },
     "execution_count": 217,
     "metadata": {},
     "output_type": "execute_result"
    }
   ],
   "source": [
    "np.hstack([start, tt])"
   ]
  },
  {
   "cell_type": "code",
   "execution_count": 236,
   "id": "c32bdf0f-56f3-4faa-b06f-c9ffc2b518fe",
   "metadata": {},
   "outputs": [
    {
     "data": {
      "text/plain": [
       "array([], shape=(6, 0), dtype=uint8)"
      ]
     },
     "execution_count": 236,
     "metadata": {},
     "output_type": "execute_result"
    }
   ],
   "source": [
    "stack"
   ]
  },
  {
   "cell_type": "code",
   "execution_count": 240,
   "id": "d5436778-a32f-4193-a7e0-af4e95030947",
   "metadata": {},
   "outputs": [
    {
     "data": {
      "text/plain": [
       "(2, 2)"
      ]
     },
     "execution_count": 240,
     "metadata": {},
     "output_type": "execute_result"
    }
   ],
   "source": [
    "np.vstack([np.array([1, 2]), np.array([3, 4])]).shape"
   ]
  },
  {
   "cell_type": "code",
   "execution_count": 242,
   "id": "159cec60-89ad-4268-9463-98aabab7ea8c",
   "metadata": {},
   "outputs": [
    {
     "data": {
      "text/plain": [
       "[1, 2, 3, 4, 5]"
      ]
     },
     "execution_count": 242,
     "metadata": {},
     "output_type": "execute_result"
    }
   ],
   "source": [
    "list(range(1, 6))"
   ]
  },
  {
   "cell_type": "code",
   "execution_count": null,
   "id": "170c5eb7-459e-4900-a899-ce5e997df6d3",
   "metadata": {},
   "outputs": [],
   "source": []
  }
 ],
 "metadata": {
  "kernelspec": {
   "display_name": "womt-env",
   "language": "python",
   "name": "womt-env"
  },
  "language_info": {
   "codemirror_mode": {
    "name": "ipython",
    "version": 3
   },
   "file_extension": ".py",
   "mimetype": "text/x-python",
   "name": "python",
   "nbconvert_exporter": "python",
   "pygments_lexer": "ipython3",
   "version": "3.9.7"
  }
 },
 "nbformat": 4,
 "nbformat_minor": 5
}
