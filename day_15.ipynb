{
 "cells": [
  {
   "cell_type": "code",
   "execution_count": 55,
   "id": "512d770c-b1b6-46e8-a1d7-15c5962f3567",
   "metadata": {},
   "outputs": [],
   "source": [
    "import numpy as np\n",
    "import copy\n",
    "import matplotlib.pyplot as plt"
   ]
  },
  {
   "cell_type": "code",
   "execution_count": 2,
   "id": "b1f6e469-db81-46c4-8797-b58daa4a5d45",
   "metadata": {},
   "outputs": [],
   "source": [
    "with open('input/input_15ex.txt') as file:\n",
    "    lines = [line.rstrip('\\n') for line in file]"
   ]
  },
  {
   "cell_type": "code",
   "execution_count": 3,
   "id": "e67d65ca-1761-4988-92a3-c97bbe0b65b6",
   "metadata": {},
   "outputs": [],
   "source": [
    "examp = []\n",
    "for line in lines:\n",
    "    row = [int(c) for c in line]\n",
    "    examp.append(row)\n",
    "\n",
    "examp = np.array(examp)"
   ]
  },
  {
   "cell_type": "code",
   "execution_count": 5,
   "id": "42afdc8b-c218-4805-a519-7bd5c2413637",
   "metadata": {},
   "outputs": [
    {
     "data": {
      "text/plain": [
       "<matplotlib.colorbar.Colorbar at 0x7f9a09a56fa0>"
      ]
     },
     "execution_count": 5,
     "metadata": {},
     "output_type": "execute_result"
    },
    {
     "data": {
      "image/png": "[encoded data removed]",
      "text/plain": [
       "<Figure size 432x288 with 2 Axes>"
      ]
     },
     "metadata": {
      "needs_background": "light"
     },
     "output_type": "display_data"
    }
   ],
   "source": [
    "plt.imshow(examp)\n",
    "plt.colorbar()"
   ]
  },
  {
   "cell_type": "code",
   "execution_count": 8,
   "id": "c36e729a-dcb0-4043-bf80-4b7d5d87c5a1",
   "metadata": {},
   "outputs": [
    {
     "data": {
      "text/plain": [
       "array([[1, 1, 6, 3, 7, 5, 1, 7, 4, 2],\n",
       "       [1, 3, 8, 1, 3, 7, 3, 6, 7, 2],\n",
       "       [2, 1, 3, 6, 5, 1, 1, 3, 2, 8],\n",
       "       [3, 6, 9, 4, 9, 3, 1, 5, 6, 9],\n",
       "       [7, 4, 6, 3, 4, 1, 7, 1, 1, 1],\n",
       "       [1, 3, 1, 9, 1, 2, 8, 1, 3, 7],\n",
       "       [1, 3, 5, 9, 9, 1, 2, 4, 2, 1],\n",
       "       [3, 1, 2, 5, 4, 2, 1, 6, 3, 9],\n",
       "       [1, 2, 9, 3, 1, 3, 8, 5, 2, 1],\n",
       "       [2, 3, 1, 1, 9, 4, 4, 5, 8, 1]])"
      ]
     },
     "execution_count": 8,
     "metadata": {},
     "output_type": "execute_result"
    }
   ],
   "source": [
    "examp"
   ]
  },
  {
   "cell_type": "code",
   "execution_count": null,
   "id": "61ef5f99-955f-4d48-bd84-078674b248ab",
   "metadata": {},
   "outputs": [],
   "source": []
  },
  {
   "cell_type": "markdown",
   "id": "45555b4f-f1bc-4a98-b39d-331869121ab4",
   "metadata": {},
   "source": [
    "## solution attempt"
   ]
  },
  {
   "cell_type": "code",
   "execution_count": 42,
   "id": "af2668cc-f4c2-4b09-89d4-af1642a25501",
   "metadata": {},
   "outputs": [
    {
     "data": {
      "text/plain": [
       "array([[0., 1., 0., 0., 0., 0., 0., 0., 0., 0.],\n",
       "       [1., 0., 0., 0., 0., 0., 0., 0., 0., 0.],\n",
       "       [0., 0., 0., 0., 0., 0., 0., 0., 0., 0.],\n",
       "       [0., 0., 0., 0., 0., 0., 0., 0., 0., 0.],\n",
       "       [0., 0., 0., 0., 0., 0., 0., 0., 0., 0.],\n",
       "       [0., 0., 0., 0., 0., 0., 0., 0., 0., 0.],\n",
       "       [0., 0., 0., 0., 0., 0., 0., 0., 0., 0.],\n",
       "       [0., 0., 0., 0., 0., 0., 0., 0., 0., 0.],\n",
       "       [0., 0., 0., 0., 0., 0., 0., 0., 0., 0.],\n",
       "       [0., 0., 0., 0., 0., 0., 0., 0., 0., 0.]])"
      ]
     },
     "execution_count": 42,
     "metadata": {},
     "output_type": "execute_result"
    }
   ],
   "source": [
    "np.eye(10, k=-8)[::-1]"
   ]
  },
  {
   "cell_type": "code",
   "execution_count": 53,
   "id": "46c5e1a9-0e01-472c-ade5-e55a2bb791e7",
   "metadata": {},
   "outputs": [
    {
     "name": "stdout",
     "output_type": "stream",
     "text": [
      "[8 9]\n",
      "[9 8]\n"
     ]
    }
   ],
   "source": [
    "for pos in np.where(np.eye(10, k=8)[::-1] == 1):\n",
    "    print(pos)"
   ]
  },
  {
   "cell_type": "code",
   "execution_count": 57,
   "id": "f03843a8-0fbb-46b2-bda0-7abff059d968",
   "metadata": {},
   "outputs": [],
   "source": [
    "map1 = copy.deepcopy(examp)"
   ]
  },
  {
   "cell_type": "code",
   "execution_count": 102,
   "id": "a5bc3227-d805-4cf3-b26f-a63ea17ffd62",
   "metadata": {},
   "outputs": [
    {
     "name": "stdout",
     "output_type": "stream",
     "text": [
      "2\n",
      "2\n",
      "7\n",
      "4\n",
      "3\n"
     ]
    }
   ],
   "source": [
    "#for i in range(-8, 10):\n",
    "\n",
    "for i in range(-8, -6):\n",
    "    to_check = np.eye(10, k=i)[::-1] == 1\n",
    "    positions = np.where(to_check)\n",
    "    pos_row, pos_col = positions\n",
    "    \n",
    "    # print(examp[to_check]) # ex: [6, 3, 2]\n",
    "    # print(positions) # ex: (array([0, 1, 2]), array([2, 1, 0]))\n",
    "    \n",
    "    for kpos, node in enumerate(map1[to_check]):\n",
    "        print(checkNode(node, pos_row[kpos], pos_col[kpos]))"
   ]
  },
  {
   "cell_type": "code",
   "execution_count": 95,
   "id": "d768c7a3-59a6-4499-b239-9f6de4399a3b",
   "metadata": {},
   "outputs": [],
   "source": [
    "def checkNode(nodeval, pos_row, pos_col):\n",
    "    totvalue = 999\n",
    "    \n",
    "    # get from left and up positions\n",
    "    pre_left_pos = (pos_row, pos_col - 1)\n",
    "    pre_up_pos = (pos_row - 1, pos_col)\n",
    "    \n",
    "    # get left pos value\n",
    "    if -1 in pre_left_pos:\n",
    "        pre_left = 999\n",
    "    else:\n",
    "        pre_left = map1[pre_left_pos]\n",
    "    \n",
    "    # get up pos value\n",
    "    if -1 in pre_up_pos:\n",
    "        pre_up = 999\n",
    "    else:\n",
    "        pre_up = map1[pre_up_pos]\n",
    "    \n",
    "    post_left = pre_left + nodeval\n",
    "    post_up = pre_up + nodeval\n",
    "    \n",
    "    totval = min(totvalue, post_left, post_up)\n",
    "    \n",
    "    return totval"
   ]
  },
  {
   "cell_type": "code",
   "execution_count": 99,
   "id": "3c735c8d-a044-4880-9ceb-b27306b512db",
   "metadata": {},
   "outputs": [],
   "source": [
    "assert checkNode(3, 1, 1) == 4\n",
    "assert checkNode(6, 0, 2) == 7"
   ]
  },
  {
   "cell_type": "code",
   "execution_count": null,
   "id": "2eb03ca1-516f-491c-9128-e4f72557f989",
   "metadata": {},
   "outputs": [],
   "source": []
  },
  {
   "cell_type": "code",
   "execution_count": null,
   "id": "93fa767a-4b8c-4714-a516-b94ae0fa8fe0",
   "metadata": {},
   "outputs": [],
   "source": []
  },
  {
   "cell_type": "code",
   "execution_count": null,
   "id": "cd546701-fcb5-486e-973d-8500ec8cda65",
   "metadata": {},
   "outputs": [],
   "source": []
  }
 ],
 "metadata": {
  "kernelspec": {
   "display_name": "womt-env",
   "language": "python",
   "name": "womt-env"
  },
  "language_info": {
   "codemirror_mode": {
    "name": "ipython",
    "version": 3
   },
   "file_extension": ".py",
   "mimetype": "text/x-python",
   "name": "python",
   "nbconvert_exporter": "python",
   "pygments_lexer": "ipython3",
   "version": "3.9.7"
  }
 },
 "nbformat": 4,
 "nbformat_minor": 5
}
