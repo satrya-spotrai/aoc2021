{
 "cells": [
  {
   "cell_type": "code",
   "execution_count": 55,
   "id": "512d770c-b1b6-46e8-a1d7-15c5962f3567",
   "metadata": {},
   "outputs": [],
   "source": [
    "import numpy as np\n",
    "import copy\n",
    "import matplotlib.pyplot as plt"
   ]
  },
  {
   "cell_type": "code",
   "execution_count": 144,
   "id": "b1f6e469-db81-46c4-8797-b58daa4a5d45",
   "metadata": {},
   "outputs": [],
   "source": [
    "with open('input/input_15ex.txt') as file:\n",
    "    lines = [line.rstrip('\\n') for line in file]"
   ]
  },
  {
   "cell_type": "code",
   "execution_count": 145,
   "id": "e67d65ca-1761-4988-92a3-c97bbe0b65b6",
   "metadata": {},
   "outputs": [],
   "source": [
    "examp = []\n",
    "for line in lines:\n",
    "    row = [int(c) for c in line]\n",
    "    examp.append(row)\n",
    "\n",
    "examp = np.array(examp)"
   ]
  },
  {
   "cell_type": "code",
   "execution_count": 146,
   "id": "42afdc8b-c218-4805-a519-7bd5c2413637",
   "metadata": {},
   "outputs": [
    {
     "data": {
      "text/plain": [
       "<matplotlib.colorbar.Colorbar at 0x7f9a089ffe20>"
      ]
     },
     "execution_count": 146,
     "metadata": {},
     "output_type": "execute_result"
    },
    {
     "data": {
      "image/png": "[encoded data removed]",
      "text/plain": [
       "<Figure size 432x288 with 2 Axes>"
      ]
     },
     "metadata": {
      "needs_background": "light"
     },
     "output_type": "display_data"
    }
   ],
   "source": [
    "plt.imshow(examp)\n",
    "plt.colorbar()"
   ]
  },
  {
   "cell_type": "code",
   "execution_count": null,
   "id": "61ef5f99-955f-4d48-bd84-078674b248ab",
   "metadata": {},
   "outputs": [],
   "source": []
  },
  {
   "cell_type": "markdown",
   "id": "45555b4f-f1bc-4a98-b39d-331869121ab4",
   "metadata": {},
   "source": [
    "## solution attempt"
   ]
  },
  {
   "cell_type": "code",
   "execution_count": 42,
   "id": "af2668cc-f4c2-4b09-89d4-af1642a25501",
   "metadata": {},
   "outputs": [
    {
     "data": {
      "text/plain": [
       "array([[0., 1., 0., 0., 0., 0., 0., 0., 0., 0.],\n",
       "       [1., 0., 0., 0., 0., 0., 0., 0., 0., 0.],\n",
       "       [0., 0., 0., 0., 0., 0., 0., 0., 0., 0.],\n",
       "       [0., 0., 0., 0., 0., 0., 0., 0., 0., 0.],\n",
       "       [0., 0., 0., 0., 0., 0., 0., 0., 0., 0.],\n",
       "       [0., 0., 0., 0., 0., 0., 0., 0., 0., 0.],\n",
       "       [0., 0., 0., 0., 0., 0., 0., 0., 0., 0.],\n",
       "       [0., 0., 0., 0., 0., 0., 0., 0., 0., 0.],\n",
       "       [0., 0., 0., 0., 0., 0., 0., 0., 0., 0.],\n",
       "       [0., 0., 0., 0., 0., 0., 0., 0., 0., 0.]])"
      ]
     },
     "execution_count": 42,
     "metadata": {},
     "output_type": "execute_result"
    }
   ],
   "source": [
    "np.eye(10, k=-8)[::-1]"
   ]
  },
  {
   "cell_type": "code",
   "execution_count": 151,
   "id": "f03843a8-0fbb-46b2-bda0-7abff059d968",
   "metadata": {},
   "outputs": [
    {
     "data": {
      "text/plain": [
       "array([[0, 1, 6, 3, 7, 5, 1, 7, 4, 2],\n",
       "       [1, 3, 8, 1, 3, 7, 3, 6, 7, 2],\n",
       "       [2, 1, 3, 6, 5, 1, 1, 3, 2, 8],\n",
       "       [3, 6, 9, 4, 9, 3, 1, 5, 6, 9],\n",
       "       [7, 4, 6, 3, 4, 1, 7, 1, 1, 1],\n",
       "       [1, 3, 1, 9, 1, 2, 8, 1, 3, 7],\n",
       "       [1, 3, 5, 9, 9, 1, 2, 4, 2, 1],\n",
       "       [3, 1, 2, 5, 4, 2, 1, 6, 3, 9],\n",
       "       [1, 2, 9, 3, 1, 3, 8, 5, 2, 1],\n",
       "       [2, 3, 1, 1, 9, 4, 4, 5, 8, 1]])"
      ]
     },
     "execution_count": 151,
     "metadata": {},
     "output_type": "execute_result"
    }
   ],
   "source": [
    "map1 = copy.deepcopy(examp)\n",
    "map1[0,0] = 0 # only count when enter\n",
    "map1"
   ]
  },
  {
   "cell_type": "code",
   "execution_count": 152,
   "id": "a5bc3227-d805-4cf3-b26f-a63ea17ffd62",
   "metadata": {},
   "outputs": [],
   "source": [
    "# range(-8, 10):\n",
    "\n",
    "map_ = map1\n",
    "for i in range(-8, 10):\n",
    "    to_check = np.eye(10, k=i)[::-1] == 1\n",
    "    positions = np.where(to_check)\n",
    "    pos_row, pos_col = positions\n",
    "    \n",
    "    # print(examp[to_check]) # ex: [6, 3, 2]\n",
    "    # print(positions) # ex: (array([0, 1, 2]), array([2, 1, 0]))\n",
    "    \n",
    "    for kpos, node in enumerate(map_[to_check]):\n",
    "        least_value = checkNode(node, pos_row[kpos], pos_col[kpos])\n",
    "        map1[pos_row[kpos], pos_col[kpos]] = least_value"
   ]
  },
  {
   "cell_type": "code",
   "execution_count": 153,
   "id": "ed1c4ed4-8de5-4b68-9944-81f0429e4352",
   "metadata": {},
   "outputs": [
    {
     "data": {
      "text/plain": [
       "array([[ 0,  1,  7, 10, 17, 22, 23, 30, 34, 36],\n",
       "       [ 1,  4, 12, 11, 14, 21, 24, 30, 37, 38],\n",
       "       [ 3,  4,  7, 13, 18, 19, 20, 23, 25, 33],\n",
       "       [ 6, 10, 16, 17, 26, 22, 21, 26, 31, 40],\n",
       "       [13, 14, 20, 20, 24, 23, 28, 27, 28, 29],\n",
       "       [14, 17, 18, 27, 25, 25, 33, 28, 31, 36],\n",
       "       [15, 18, 23, 32, 34, 26, 28, 32, 33, 34],\n",
       "       [18, 19, 21, 26, 30, 28, 29, 35, 36, 43],\n",
       "       [19, 21, 30, 29, 30, 31, 37, 40, 38, 39],\n",
       "       [21, 24, 25, 26, 35, 35, 39, 44, 46, 40]])"
      ]
     },
     "execution_count": 153,
     "metadata": {},
     "output_type": "execute_result"
    }
   ],
   "source": [
    "map1"
   ]
  },
  {
   "cell_type": "code",
   "execution_count": 311,
   "id": "d768c7a3-59a6-4499-b239-9f6de4399a3b",
   "metadata": {},
   "outputs": [],
   "source": [
    "def checkNode(nodeval, pos_row, pos_col):\n",
    "    totvalue = 999999999\n",
    "    \n",
    "    # get from left and up positions\n",
    "    pre_left_pos = (pos_row, pos_col - 1)\n",
    "    pre_up_pos = (pos_row - 1, pos_col)\n",
    "    \n",
    "    # get left pos value\n",
    "    if -1 in pre_left_pos:\n",
    "        pre_left = 999999999\n",
    "    else:\n",
    "        pre_left = map_[pre_left_pos]\n",
    "    \n",
    "    # get up pos value\n",
    "    if -1 in pre_up_pos:\n",
    "        pre_up = 999999999\n",
    "    else:\n",
    "        pre_up = map_[pre_up_pos]\n",
    "    \n",
    "    post_left = pre_left + nodeval\n",
    "    post_up = pre_up + nodeval\n",
    "    \n",
    "    totval = min(totvalue, post_left, post_up)\n",
    "    \n",
    "    return totval"
   ]
  },
  {
   "cell_type": "code",
   "execution_count": 312,
   "id": "3c735c8d-a044-4880-9ceb-b27306b512db",
   "metadata": {
    "collapsed": true,
    "jupyter": {
     "outputs_hidden": true
    },
    "tags": []
   },
   "outputs": [
    {
     "ename": "AssertionError",
     "evalue": "",
     "output_type": "error",
     "traceback": [
      "\u001b[0;31m---------------------------------------------------------------------------\u001b[0m",
      "\u001b[0;31mAssertionError\u001b[0m                            Traceback (most recent call last)",
      "Input \u001b[0;32mIn [312]\u001b[0m, in \u001b[0;36m<module>\u001b[0;34m\u001b[0m\n\u001b[0;32m----> 1\u001b[0m \u001b[38;5;28;01massert\u001b[39;00m checkNode(\u001b[38;5;241m3\u001b[39m, \u001b[38;5;241m1\u001b[39m, \u001b[38;5;241m1\u001b[39m) \u001b[38;5;241m==\u001b[39m \u001b[38;5;241m4\u001b[39m\n\u001b[1;32m      2\u001b[0m \u001b[38;5;28;01massert\u001b[39;00m checkNode(\u001b[38;5;241m6\u001b[39m, \u001b[38;5;241m0\u001b[39m, \u001b[38;5;241m2\u001b[39m) \u001b[38;5;241m==\u001b[39m \u001b[38;5;241m7\u001b[39m\n",
      "\u001b[0;31mAssertionError\u001b[0m: "
     ]
    }
   ],
   "source": [
    "assert checkNode(3, 1, 1) == 4\n",
    "assert checkNode(6, 0, 2) == 7"
   ]
  },
  {
   "cell_type": "code",
   "execution_count": null,
   "id": "2eb03ca1-516f-491c-9128-e4f72557f989",
   "metadata": {},
   "outputs": [],
   "source": []
  },
  {
   "cell_type": "code",
   "execution_count": null,
   "id": "93fa767a-4b8c-4714-a516-b94ae0fa8fe0",
   "metadata": {},
   "outputs": [],
   "source": []
  },
  {
   "cell_type": "markdown",
   "id": "fe3a12a3-befa-42f5-9702-4537c6d51aea",
   "metadata": {},
   "source": [
    "## on real thing"
   ]
  },
  {
   "cell_type": "code",
   "execution_count": 157,
   "id": "4fca3bfa-7b6d-437d-99a0-fae12f209ee5",
   "metadata": {},
   "outputs": [],
   "source": [
    "with open('input/input_15.txt') as file:\n",
    "    lines = [line.rstrip('\\n') for line in file]"
   ]
  },
  {
   "cell_type": "code",
   "execution_count": 158,
   "id": "892a17b0-7284-44ce-8bfb-93595d178d16",
   "metadata": {},
   "outputs": [],
   "source": [
    "inpot = []\n",
    "for line in lines:\n",
    "    row = [int(c) for c in line]\n",
    "    inpot.append(row)\n",
    "\n",
    "inpot = np.array(inpot)"
   ]
  },
  {
   "cell_type": "code",
   "execution_count": 171,
   "id": "379e585a-2c62-4c2f-ada4-8e265c1e8715",
   "metadata": {},
   "outputs": [
    {
     "data": {
      "text/plain": [
       "array([[0, 4, 9, ..., 4, 9, 5],\n",
       "       [7, 2, 6, ..., 9, 2, 5],\n",
       "       [5, 1, 9, ..., 8, 9, 7],\n",
       "       ...,\n",
       "       [4, 5, 6, ..., 5, 9, 2],\n",
       "       [9, 2, 9, ..., 2, 7, 3],\n",
       "       [4, 7, 8, ..., 7, 9, 6]])"
      ]
     },
     "execution_count": 171,
     "metadata": {},
     "output_type": "execute_result"
    }
   ],
   "source": [
    "map0 = copy.deepcopy(inpot)\n",
    "map0[0,0] = 0 # only count when enter\n",
    "map0"
   ]
  },
  {
   "cell_type": "code",
   "execution_count": 172,
   "id": "f4df238f-ce84-46d3-8539-809877dc209c",
   "metadata": {},
   "outputs": [],
   "source": [
    "# range(-8, 10):\n",
    "\n",
    "map_ = map0\n",
    "for i in range(-98, 100):\n",
    "    to_check = np.eye(100, k=i)[::-1] == 1\n",
    "    positions = np.where(to_check)\n",
    "    pos_row, pos_col = positions\n",
    "    \n",
    "    # print(examp[to_check]) # ex: [6, 3, 2]\n",
    "    # print(positions) # ex: (array([0, 1, 2]), array([2, 1, 0]))\n",
    "    \n",
    "    for kpos, node in enumerate(map_[to_check]):\n",
    "        least_value = checkNode(node, pos_row[kpos], pos_col[kpos])\n",
    "        map_[pos_row[kpos], pos_col[kpos]] = least_value"
   ]
  },
  {
   "cell_type": "code",
   "execution_count": 173,
   "id": "b4d83ab8-bc0d-4fd2-94a7-5d30bcbf03eb",
   "metadata": {},
   "outputs": [
    {
     "data": {
      "text/plain": [
       "array([[  0,   4,  13, ..., 553, 562, 567],\n",
       "       [  7,   6,  12, ..., 540, 542, 547],\n",
       "       [ 12,   7,  16, ..., 529, 538, 545],\n",
       "       ...,\n",
       "       [590, 566, 504, ..., 655, 664, 666],\n",
       "       [599, 568, 513, ..., 657, 664, 667],\n",
       "       [603, 575, 521, ..., 664, 673, 673]])"
      ]
     },
     "execution_count": 173,
     "metadata": {},
     "output_type": "execute_result"
    }
   ],
   "source": [
    "map0"
   ]
  },
  {
   "cell_type": "code",
   "execution_count": null,
   "id": "73f025aa-3bab-4e89-904f-e20cf05039ba",
   "metadata": {},
   "outputs": [],
   "source": []
  },
  {
   "cell_type": "code",
   "execution_count": null,
   "id": "0712ef3d-cf4c-47a6-923f-7f718c6cc478",
   "metadata": {},
   "outputs": [],
   "source": []
  },
  {
   "cell_type": "markdown",
   "id": "f58594fd-ef17-48b6-ad41-48561703413a",
   "metadata": {},
   "source": [
    "## part 2"
   ]
  },
  {
   "cell_type": "code",
   "execution_count": 254,
   "id": "3a0cb51c-21ff-40ff-9ee9-1838944e2a26",
   "metadata": {},
   "outputs": [],
   "source": [
    "def increment(val, incr):\n",
    "    \n",
    "    if val + incr > 9:\n",
    "        val = (val + incr) - 9\n",
    "    else: \n",
    "        val += incr\n",
    "    \n",
    "    return val"
   ]
  },
  {
   "cell_type": "code",
   "execution_count": 255,
   "id": "efa3631b-ef53-4c17-a387-32a29a2f483d",
   "metadata": {},
   "outputs": [],
   "source": [
    "assert increment(8, 7) == 6\n",
    "assert increment(8, 3) == 2"
   ]
  },
  {
   "cell_type": "code",
   "execution_count": 201,
   "id": "5c802b7c-e619-48c6-8519-98308d3e9587",
   "metadata": {},
   "outputs": [],
   "source": [
    "test = np.ones((3, 3))"
   ]
  },
  {
   "cell_type": "code",
   "execution_count": 258,
   "id": "0c463ea8-46ea-4797-9651-95324fab0918",
   "metadata": {},
   "outputs": [],
   "source": [
    "incrementarr = np.vectorize(increment)"
   ]
  },
  {
   "cell_type": "code",
   "execution_count": 264,
   "id": "b6c21bb2-74d4-4182-8f8d-9ba3d7cef075",
   "metadata": {},
   "outputs": [],
   "source": [
    "assert (incrementarr(np.array([9,8,5]), 4) == np.array([4, 3, 9])).all()"
   ]
  },
  {
   "cell_type": "code",
   "execution_count": 204,
   "id": "881e6e38-4452-488b-bb0a-769bbec75bf0",
   "metadata": {},
   "outputs": [],
   "source": [
    "# 8 9 1 2 3        \n",
    "# 9 1 2 3 4\n",
    "# 1 2 3 4 5\n",
    "# 2 3 4 5 6\n",
    "# 3 4 5 6 7\n",
    "\n",
    "# ---increment map---\n",
    "# 0 1 2 3 4\n",
    "# 1 2 2 4 5\n",
    "# 2 3 4 5 6\n",
    "# 3 4 5 6 7\n",
    "# 4 5 6 7 8"
   ]
  },
  {
   "cell_type": "code",
   "execution_count": 289,
   "id": "6a6c6047-a954-4f47-a34e-5d0e911032fb",
   "metadata": {},
   "outputs": [],
   "source": [
    "tt = np.array([8])\n",
    "tt2 = np.ones((2, 2))"
   ]
  },
  {
   "cell_type": "code",
   "execution_count": 290,
   "id": "828d6152-90be-4055-a072-5fa209f12769",
   "metadata": {},
   "outputs": [],
   "source": [
    "start = np.array([], dtype='uint8')\n",
    "rowstack_list = []\n",
    "colstack_list = []\n",
    "\n",
    "inc_start = 0\n",
    "inc_end = 5\n",
    "for i in range(5):\n",
    "    \n",
    "    for j in range(inc_start, inc_end):\n",
    "        incremented = incrementarr(tt2, j)\n",
    "        rowstack_list.append(incremented)\n",
    "    \n",
    "    rowstack = np.hstack(rowstack_list)\n",
    "    colstack_list.append(rowstack)\n",
    "    \n",
    "    rowstack_list = []\n",
    "    rowstack = np.array([]) # reset rowstack and list for new rowline\n",
    "    \n",
    "    inc_start += 1\n",
    "    inc_end += 1"
   ]
  },
  {
   "cell_type": "code",
   "execution_count": 292,
   "id": "4a6189e8-b239-4492-8bfc-d3c00af68485",
   "metadata": {},
   "outputs": [
    {
     "data": {
      "text/plain": [
       "array([[1., 1., 2., 2., 3., 3., 4., 4., 5., 5.],\n",
       "       [1., 1., 2., 2., 3., 3., 4., 4., 5., 5.],\n",
       "       [2., 2., 3., 3., 4., 4., 5., 5., 6., 6.],\n",
       "       [2., 2., 3., 3., 4., 4., 5., 5., 6., 6.],\n",
       "       [3., 3., 4., 4., 5., 5., 6., 6., 7., 7.],\n",
       "       [3., 3., 4., 4., 5., 5., 6., 6., 7., 7.],\n",
       "       [4., 4., 5., 5., 6., 6., 7., 7., 8., 8.],\n",
       "       [4., 4., 5., 5., 6., 6., 7., 7., 8., 8.],\n",
       "       [5., 5., 6., 6., 7., 7., 8., 8., 9., 9.],\n",
       "       [5., 5., 6., 6., 7., 7., 8., 8., 9., 9.]])"
      ]
     },
     "execution_count": 292,
     "metadata": {},
     "output_type": "execute_result"
    }
   ],
   "source": [
    "np.vstack(colstack_list)"
   ]
  },
  {
   "cell_type": "code",
   "execution_count": 288,
   "id": "abcd1a68-3061-47fd-addb-7fbb1aaf2b66",
   "metadata": {},
   "outputs": [
    {
     "data": {
      "text/plain": [
       "array([[8, 9, 1, 2, 3],\n",
       "       [9, 1, 2, 3, 4],\n",
       "       [1, 2, 3, 4, 5],\n",
       "       [2, 3, 4, 5, 6],\n",
       "       [3, 4, 5, 6, 7]])"
      ]
     },
     "execution_count": 288,
     "metadata": {},
     "output_type": "execute_result"
    }
   ],
   "source": [
    "np.vstack([colstack_list])"
   ]
  },
  {
   "cell_type": "code",
   "execution_count": null,
   "id": "170c5eb7-459e-4900-a899-ce5e997df6d3",
   "metadata": {},
   "outputs": [],
   "source": []
  },
  {
   "cell_type": "markdown",
   "id": "92c782ef-4caf-4600-9488-269c48863ea6",
   "metadata": {},
   "source": [
    "### check on real shit"
   ]
  },
  {
   "cell_type": "code",
   "execution_count": 513,
   "id": "75a1c592-5b65-4b92-bc55-154483a415b1",
   "metadata": {},
   "outputs": [],
   "source": [
    "# with open('input/input_15ex3.txt') as file:\n",
    "#     lines = [line.rstrip('\\n') for line in file]\n",
    "    \n",
    "# examp3 = []\n",
    "# for line in lines:\n",
    "#     row = [int(c) for c in line]\n",
    "#     examp3.append(row)\n",
    "\n",
    "# examp3 = np.array(examp3)\n",
    "\n",
    "with open('input/input_15.txt') as file:\n",
    "    lines = [line.rstrip('\\n') for line in file]\n",
    "    \n",
    "rinput = []\n",
    "for line in lines:\n",
    "    row = [int(c) for c in line]\n",
    "    rinput.append(row)\n",
    "\n",
    "rinput = np.array(rinput)"
   ]
  },
  {
   "cell_type": "code",
   "execution_count": null,
   "id": "1f91a3f8-0eef-47a2-a473-e46e10f07b8c",
   "metadata": {},
   "outputs": [],
   "source": []
  },
  {
   "cell_type": "code",
   "execution_count": 364,
   "id": "8c228488-388b-4c1f-bd5c-15675503991b",
   "metadata": {},
   "outputs": [],
   "source": [
    "input_inp = copy.deepcopy(examp3)"
   ]
  },
  {
   "cell_type": "code",
   "execution_count": 366,
   "id": "bbe8bbca-89f4-4e0a-ac58-3b006fe6ab78",
   "metadata": {},
   "outputs": [
    {
     "data": {
      "text/plain": [
       "(100, 100)"
      ]
     },
     "execution_count": 366,
     "metadata": {},
     "output_type": "execute_result"
    }
   ],
   "source": [
    "input_inp.shape"
   ]
  },
  {
   "cell_type": "code",
   "execution_count": 367,
   "id": "0f5301a2-f2b9-421e-8175-637cc9e71b5f",
   "metadata": {},
   "outputs": [],
   "source": [
    "start = np.array([], dtype='uint8')\n",
    "rowstack_list = []\n",
    "colstack_list = []\n",
    "\n",
    "inc_start = 0\n",
    "inc_end = 5\n",
    "for i in range(5):\n",
    "    \n",
    "    for j in range(inc_start, inc_end):\n",
    "        incremented = incrementarr(input_inp, j)\n",
    "        rowstack_list.append(incremented)\n",
    "    \n",
    "    rowstack = np.hstack(rowstack_list)\n",
    "    colstack_list.append(rowstack)\n",
    "    \n",
    "    rowstack_list = []\n",
    "    rowstack = np.array([]) # reset rowstack and list for new rowline\n",
    "    \n",
    "    inc_start += 1\n",
    "    inc_end += 1\n",
    "    \n",
    "full_gen_input = np.vstack(colstack_list)"
   ]
  },
  {
   "cell_type": "code",
   "execution_count": null,
   "id": "d8e7ec49-4fd2-409d-b1c2-804e380e5714",
   "metadata": {},
   "outputs": [],
   "source": [
    "# 7448759796\n",
    "# 6337648685"
   ]
  },
  {
   "cell_type": "markdown",
   "id": "470de74c-17ff-4036-813d-e5bd38537e31",
   "metadata": {},
   "source": [
    "<b>try it</b>"
   ]
  },
  {
   "cell_type": "code",
   "execution_count": 372,
   "id": "7bbc96a1-3011-4eda-88a5-657a8a8d362d",
   "metadata": {},
   "outputs": [],
   "source": [
    "with open('input/input_15ex2.txt') as file:\n",
    "    lines = [line.rstrip('\\n') for line in file]\n",
    "    \n",
    "examp2 = []\n",
    "for line in lines:\n",
    "    row = [int(c) for c in line]\n",
    "    examp2.append(row)\n",
    "\n",
    "examp2 = np.array(examp2)"
   ]
  },
  {
   "cell_type": "code",
   "execution_count": 355,
   "id": "4c6549d8-b932-4162-b467-723d2e884225",
   "metadata": {},
   "outputs": [
    {
     "data": {
      "text/plain": [
       "(50, 50)"
      ]
     },
     "execution_count": 355,
     "metadata": {},
     "output_type": "execute_result"
    }
   ],
   "source": []
  },
  {
   "cell_type": "code",
   "execution_count": 369,
   "id": "592f2f0e-c5a4-4eb9-b18e-25e07494af17",
   "metadata": {},
   "outputs": [
    {
     "data": {
      "text/plain": [
       "array([[0, 4, 9, ..., 8, 4, 9],\n",
       "       [7, 2, 6, ..., 4, 6, 9],\n",
       "       [5, 1, 9, ..., 3, 4, 2],\n",
       "       ...,\n",
       "       [8, 9, 1, ..., 4, 8, 1],\n",
       "       [4, 6, 4, ..., 1, 6, 2],\n",
       "       [8, 2, 3, ..., 6, 8, 5]])"
      ]
     },
     "execution_count": 369,
     "metadata": {},
     "output_type": "execute_result"
    }
   ],
   "source": [
    "map0 = copy.deepcopy(full_gen_input)\n",
    "map0[0, 0] = 0 # only count when enter\n",
    "map0"
   ]
  },
  {
   "cell_type": "code",
   "execution_count": 370,
   "id": "7df90e1c-4107-47a1-8ea1-c6fa996926b2",
   "metadata": {},
   "outputs": [],
   "source": [
    "map_ = map0\n",
    "for i in range(-498, 500):\n",
    "    to_check = np.eye(500, k=i)[::-1] == 1\n",
    "    positions = np.where(to_check)\n",
    "    pos_row, pos_col = positions\n",
    "    \n",
    "    # print(examp[to_check]) # ex: [6, 3, 2]\n",
    "    # print(positions) # ex: (array([0, 1, 2]), array([2, 1, 0]))\n",
    "    \n",
    "    for kpos, node in enumerate(map_[to_check]):\n",
    "        least_value = checkNode(node, pos_row[kpos], pos_col[kpos])\n",
    "        map_[pos_row[kpos], pos_col[kpos]] = least_value"
   ]
  },
  {
   "cell_type": "code",
   "execution_count": 371,
   "id": "b7970a72-5572-4633-a873-17842521fffc",
   "metadata": {},
   "outputs": [
    {
     "data": {
      "text/plain": [
       "array([[   0,    4,   13, ..., 2399, 2403, 2412],\n",
       "       [   7,    6,   12, ..., 2205, 2211, 2220],\n",
       "       [  12,    7,   16, ..., 2190, 2194, 2196],\n",
       "       ...,\n",
       "       [2499, 2283, 2259, ..., 2894, 2902, 2903],\n",
       "       [2503, 2289, 2263, ..., 2895, 2901, 2903],\n",
       "       [2511, 2291, 2266, ..., 2901, 2909, 2908]])"
      ]
     },
     "execution_count": 371,
     "metadata": {},
     "output_type": "execute_result"
    }
   ],
   "source": [
    "map_"
   ]
  },
  {
   "cell_type": "code",
   "execution_count": 325,
   "id": "af658741-a650-4dfe-9fdf-c6235492d89a",
   "metadata": {},
   "outputs": [
    {
     "data": {
      "text/plain": [
       "array([[False,  True, False, ..., False, False, False],\n",
       "       [ True, False, False, ..., False, False, False],\n",
       "       [False, False, False, ..., False, False, False],\n",
       "       ...,\n",
       "       [False, False, False, ..., False, False, False],\n",
       "       [False, False, False, ..., False, False, False],\n",
       "       [False, False, False, ..., False, False, False]])"
      ]
     },
     "execution_count": 325,
     "metadata": {},
     "output_type": "execute_result"
    }
   ],
   "source": [
    "np.eye(500, k=-498)[::-1] == 1"
   ]
  },
  {
   "cell_type": "code",
   "execution_count": null,
   "id": "ca56b81e-32e6-4d5a-8a17-d1a65943933a",
   "metadata": {},
   "outputs": [],
   "source": []
  },
  {
   "cell_type": "code",
   "execution_count": null,
   "id": "7886eb74-3a44-4917-8c74-0c565a43887d",
   "metadata": {},
   "outputs": [],
   "source": []
  },
  {
   "cell_type": "markdown",
   "id": "6e48e4cd-f296-4eff-9e5a-7e7a32af78f6",
   "metadata": {},
   "source": [
    "## test expand"
   ]
  },
  {
   "cell_type": "code",
   "execution_count": 378,
   "id": "90951d57-ca5e-4c7f-ae69-a9bec090158a",
   "metadata": {},
   "outputs": [],
   "source": [
    "def expand(input_inp):\n",
    "    start = np.array([], dtype='uint8')\n",
    "    rowstack_list = []\n",
    "    colstack_list = []\n",
    "\n",
    "    inc_start = 0\n",
    "    inc_end = 5\n",
    "    for i in range(5):\n",
    "\n",
    "        for j in range(inc_start, inc_end):\n",
    "            incremented = incrementarr(input_inp, j)\n",
    "            rowstack_list.append(incremented)\n",
    "\n",
    "        rowstack = np.hstack(rowstack_list)\n",
    "        colstack_list.append(rowstack)\n",
    "\n",
    "        rowstack_list = []\n",
    "        rowstack = np.array([]) # reset rowstack and list for new rowline\n",
    "\n",
    "        inc_start += 1\n",
    "        inc_end += 1\n",
    "\n",
    "    full_gen_input = np.vstack(colstack_list)\n",
    "    \n",
    "    return full_gen_input"
   ]
  },
  {
   "cell_type": "code",
   "execution_count": 376,
   "id": "468dd886-37ba-4eb8-b506-95139a03a43f",
   "metadata": {},
   "outputs": [],
   "source": [
    "test1 = np.array([\n",
    "    [0]\n",
    "])"
   ]
  },
  {
   "cell_type": "code",
   "execution_count": 382,
   "id": "1bea2e18-3663-4be8-a697-53646a2438d7",
   "metadata": {},
   "outputs": [
    {
     "data": {
      "text/plain": [
       "array([[0, 1, 2, 3, 4],\n",
       "       [1, 2, 3, 4, 5],\n",
       "       [2, 3, 4, 5, 6],\n",
       "       [3, 4, 5, 6, 7],\n",
       "       [4, 5, 6, 7, 8]])"
      ]
     },
     "execution_count": 382,
     "metadata": {},
     "output_type": "execute_result"
    }
   ],
   "source": [
    "expanded = expand(test1)\n",
    "expanded"
   ]
  },
  {
   "cell_type": "code",
   "execution_count": 383,
   "id": "340c2f14-3517-42ca-9604-0c9302aedfda",
   "metadata": {},
   "outputs": [
    {
     "data": {
      "text/plain": [
       "(5, 5)"
      ]
     },
     "execution_count": 383,
     "metadata": {},
     "output_type": "execute_result"
    }
   ],
   "source": [
    "expanded.shape"
   ]
  },
  {
   "cell_type": "code",
   "execution_count": 405,
   "id": "5b92076e-06e5-4467-a4c1-8df48849fda5",
   "metadata": {},
   "outputs": [
    {
     "data": {
      "text/plain": [
       "array([[0, 0, 1, 1, 2, 2, 3, 3, 4, 4],\n",
       "       [0, 0, 1, 1, 2, 2, 3, 3, 4, 4],\n",
       "       [1, 1, 2, 2, 3, 3, 4, 4, 5, 5],\n",
       "       [1, 1, 2, 2, 3, 3, 4, 4, 5, 5],\n",
       "       [2, 2, 3, 3, 4, 4, 5, 5, 6, 6],\n",
       "       [2, 2, 3, 3, 4, 4, 5, 5, 6, 6],\n",
       "       [3, 3, 4, 4, 5, 5, 6, 6, 7, 7],\n",
       "       [3, 3, 4, 4, 5, 5, 6, 6, 7, 7],\n",
       "       [4, 4, 5, 5, 6, 6, 7, 7, 8, 8],\n",
       "       [4, 4, 5, 5, 6, 6, 7, 7, 8, 8]])"
      ]
     },
     "execution_count": 405,
     "metadata": {},
     "output_type": "execute_result"
    }
   ],
   "source": [
    "test2 = np.array([\n",
    "    [0, 0],\n",
    "    [0, 0]\n",
    "])\n",
    "expanded2 = expand(test2)\n",
    "expanded2"
   ]
  },
  {
   "cell_type": "code",
   "execution_count": 411,
   "id": "3927bf5f-c026-48e4-8932-2106ff1d6747",
   "metadata": {},
   "outputs": [
    {
     "data": {
      "text/plain": [
       "2.0"
      ]
     },
     "execution_count": 411,
     "metadata": {},
     "output_type": "execute_result"
    }
   ],
   "source": [
    "expanded2.shape[0] / 5"
   ]
  },
  {
   "cell_type": "code",
   "execution_count": 426,
   "id": "63677b24-9a57-4733-97ce-471a58dbbdc1",
   "metadata": {},
   "outputs": [
    {
     "name": "stdout",
     "output_type": "stream",
     "text": [
      "2\n",
      "4\n",
      "6\n",
      "8\n",
      "10\n"
     ]
    }
   ],
   "source": [
    "for i in range(2, 12, 2):\n",
    "    print(i)"
   ]
  },
  {
   "cell_type": "code",
   "execution_count": null,
   "id": "c5215450-180d-4514-ab02-25c65c7fcdb7",
   "metadata": {},
   "outputs": [],
   "source": []
  },
  {
   "cell_type": "code",
   "execution_count": 493,
   "id": "33f1e8d8-93ff-492b-afaf-66107e126093",
   "metadata": {},
   "outputs": [],
   "source": [
    "def testo(expanded):\n",
    "    shape = expanded.shape[0]\n",
    "    step = int(shape / 5)\n",
    "\n",
    "    for i in range(step, shape+1, step):\n",
    "        for j in list(range(step, shape+step, step)):\n",
    "            partition = expanded[i-step:i, j-step:j]\n",
    "            \n",
    "            # not for the last column\n",
    "            if j != shape:\n",
    "                next_partition = expanded[i-step:i, j:j+step]\n",
    "                #print(f'{i-step}:{i},{j-step}:{j}', partition)\n",
    "                \n",
    "                assert (incrementarr(partition,1) == next_partition).all(), f'{i-step}:{i},{j-step}:{j} | {i-step}:{i}, {j}:{j+step}'\n",
    "        \n",
    "testo(expanded2)"
   ]
  },
  {
   "cell_type": "code",
   "execution_count": 514,
   "id": "68e71922-d6cd-4691-980a-6c58a62b2502",
   "metadata": {},
   "outputs": [
    {
     "data": {
      "text/plain": [
       "(500, 500)"
      ]
     },
     "execution_count": 514,
     "metadata": {},
     "output_type": "execute_result"
    }
   ],
   "source": [
    "rinput_expanded = expand(rinput)\n",
    "rinput_expanded.shape"
   ]
  },
  {
   "cell_type": "code",
   "execution_count": 515,
   "id": "a4666466-4592-4253-9354-67d6cc578c7c",
   "metadata": {},
   "outputs": [],
   "source": [
    "testo(rinput_expanded)"
   ]
  },
  {
   "cell_type": "code",
   "execution_count": 517,
   "id": "888c4114-7b72-4a02-91bc-f3bedb870e5b",
   "metadata": {},
   "outputs": [
    {
     "data": {
      "text/plain": [
       "array([[0, 4, 9, ..., 8, 4, 9],\n",
       "       [7, 2, 6, ..., 4, 6, 9],\n",
       "       [5, 1, 9, ..., 3, 4, 2],\n",
       "       ...,\n",
       "       [8, 9, 1, ..., 4, 8, 1],\n",
       "       [4, 6, 4, ..., 1, 6, 2],\n",
       "       [8, 2, 3, ..., 6, 8, 5]])"
      ]
     },
     "execution_count": 517,
     "metadata": {},
     "output_type": "execute_result"
    }
   ],
   "source": [
    "rinput_expanded[0, 0] = 0\n",
    "rinput_expanded"
   ]
  },
  {
   "cell_type": "code",
   "execution_count": 518,
   "id": "3e94d9e8-c84a-4128-9df6-322d39536f76",
   "metadata": {},
   "outputs": [],
   "source": [
    "map_ = copy.deepcopy(rinput_expanded)\n",
    "for i in range(-498, 500):\n",
    "    to_check = np.eye(500, k=i)[::-1] == 1\n",
    "    positions = np.where(to_check)\n",
    "    pos_row, pos_col = positions\n",
    "    \n",
    "    # print(examp[to_check]) # ex: [6, 3, 2]\n",
    "    # print(positions) # ex: (array([0, 1, 2]), array([2, 1, 0]))\n",
    "    \n",
    "    for kpos, node in enumerate(map_[to_check]):\n",
    "        least_value = checkNode(node, pos_row[kpos], pos_col[kpos])\n",
    "        map_[pos_row[kpos], pos_col[kpos]] = least_value"
   ]
  },
  {
   "cell_type": "code",
   "execution_count": 520,
   "id": "fde4d77b-faa4-4522-a522-e6c577cab33a",
   "metadata": {},
   "outputs": [
    {
     "data": {
      "text/plain": [
       "2213"
      ]
     },
     "execution_count": 520,
     "metadata": {},
     "output_type": "execute_result"
    }
   ],
   "source": [
    "map_[400,400]"
   ]
  },
  {
   "cell_type": "code",
   "execution_count": null,
   "id": "09690b7e-dd08-4281-819a-ea2ea258df11",
   "metadata": {},
   "outputs": [],
   "source": []
  }
 ],
 "metadata": {
  "kernelspec": {
   "display_name": "womt-env",
   "language": "python",
   "name": "womt-env"
  },
  "language_info": {
   "codemirror_mode": {
    "name": "ipython",
    "version": 3
   },
   "file_extension": ".py",
   "mimetype": "text/x-python",
   "name": "python",
   "nbconvert_exporter": "python",
   "pygments_lexer": "ipython3",
   "version": "3.9.7"
  }
 },
 "nbformat": 4,
 "nbformat_minor": 5
}
