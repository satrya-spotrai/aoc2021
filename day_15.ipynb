{
 "cells": [
  {
   "cell_type": "code",
   "execution_count": 11,
   "id": "512d770c-b1b6-46e8-a1d7-15c5962f3567",
   "metadata": {},
   "outputs": [],
   "source": [
    "import numpy as np\n",
    "import matplotlib.pyplot as plt"
   ]
  },
  {
   "cell_type": "code",
   "execution_count": 5,
   "id": "b1f6e469-db81-46c4-8797-b58daa4a5d45",
   "metadata": {},
   "outputs": [],
   "source": [
    "with open('input/input_15ex.txt') as file:\n",
    "    lines = [line.rstrip('\\n') for line in file]"
   ]
  },
  {
   "cell_type": "code",
   "execution_count": 9,
   "id": "e67d65ca-1761-4988-92a3-c97bbe0b65b6",
   "metadata": {},
   "outputs": [],
   "source": [
    "examp = []\n",
    "for line in lines:\n",
    "    row = [int(c) for c in line]\n",
    "    examp.append(row)\n",
    "\n",
    "examp = np.array(examp)"
   ]
  },
  {
   "cell_type": "code",
   "execution_count": 12,
   "id": "42afdc8b-c218-4805-a519-7bd5c2413637",
   "metadata": {},
   "outputs": [
    {
     "data": {
      "text/plain": [
       "<matplotlib.image.AxesImage at 0x7fcf6a2ed0a0>"
      ]
     },
     "execution_count": 12,
     "metadata": {},
     "output_type": "execute_result"
    },
    {
     "data": {
      "image/png": "[encoded data removed]",
      "text/plain": [
       "<Figure size 432x288 with 1 Axes>"
      ]
     },
     "metadata": {
      "needs_background": "light"
     },
     "output_type": "display_data"
    }
   ],
   "source": [
    "plt.imshow(examp)"
   ]
  },
  {
   "cell_type": "code",
   "execution_count": 14,
   "id": "a4dca6d8-1af5-48c6-b873-b624bdb88348",
   "metadata": {},
   "outputs": [
    {
     "name": "stdout",
     "output_type": "stream",
     "text": [
      "37\n",
      "41\n",
      "32\n",
      "55\n",
      "35\n",
      "36\n",
      "37\n",
      "36\n",
      "35\n",
      "38\n"
     ]
    }
   ],
   "source": [
    "for i in range(10):\n",
    "    print(np.sum(examp[i, :10]))"
   ]
  },
  {
   "cell_type": "code",
   "execution_count": 15,
   "id": "7e0422d7-96a1-4472-a9f8-57597fba53c2",
   "metadata": {},
   "outputs": [
    {
     "name": "stdout",
     "output_type": "stream",
     "text": [
      "22\n",
      "27\n",
      "50\n",
      "44\n",
      "52\n",
      "29\n",
      "36\n",
      "43\n",
      "38\n",
      "41\n"
     ]
    }
   ],
   "source": [
    "for i in range(10):\n",
    "    print(np.sum(examp[:, i]))"
   ]
  },
  {
   "cell_type": "code",
   "execution_count": null,
   "id": "c36e729a-dcb0-4043-bf80-4b7d5d87c5a1",
   "metadata": {},
   "outputs": [],
   "source": []
  }
 ],
 "metadata": {
  "kernelspec": {
   "display_name": "womt-env",
   "language": "python",
   "name": "womt-env"
  },
  "language_info": {
   "codemirror_mode": {
    "name": "ipython",
    "version": 3
   },
   "file_extension": ".py",
   "mimetype": "text/x-python",
   "name": "python",
   "nbconvert_exporter": "python",
   "pygments_lexer": "ipython3",
   "version": "3.8.6"
  }
 },
 "nbformat": 4,
 "nbformat_minor": 5
}
