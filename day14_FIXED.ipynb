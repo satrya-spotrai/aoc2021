{
 "cells": [
  {
   "cell_type": "code",
   "execution_count": 2,
   "id": "7f7dfc49-bdad-405a-8ece-60112d8ac059",
   "metadata": {},
   "outputs": [],
   "source": [
    "start = \"NNCB\""
   ]
  },
  {
   "cell_type": "code",
   "execution_count": 88,
   "id": "949b3360-9b32-47b5-ba7f-793bc1880778",
   "metadata": {},
   "outputs": [
    {
     "name": "stdout",
     "output_type": "stream",
     "text": [
      "CK -> N\n",
      "VP -> B\n",
      "CF -> S\n",
      "FO -> V\n",
      "VC -> S\n",
      "BV -> V\n",
      "NP -> P\n",
      "SN -> C\n",
      "KN -> V\n",
      "NF -> P\n",
      "SB -> C\n",
      "PC -> B\n",
      "OB -> V\n",
      "NS -> O\n",
      "FH -> S\n",
      "NK -> S\n",
      "HO -> V\n",
      "NV -> O\n",
      "FV -> O\n",
      "FB -> S\n",
      "PS -> S\n",
      "FN -> K\n",
      "HS -> O\n",
      "CB -> K\n",
      "HV -> P\n",
      "NH -> C\n",
      "BO -> B\n",
      "FF -> N\n",
      "PO -> F\n",
      "BB -> N\n",
      "PN -> C\n",
      "BP -> C\n",
      "HN -> K\n",
      "CO -> P\n",
      "BF -> H\n",
      "BC -> S\n",
      "CV -> B\n",
      "VV -> F\n",
      "FS -> B\n",
      "BN -> P\n",
      "VK -> S\n",
      "PV -> V\n",
      "PP -> B\n",
      "PH -> N\n",
      "SS -> O\n",
      "SK -> S\n",
      "NC -> P\n",
      "ON -> F\n",
      "NB -> N\n",
      "CC -> N\n",
      "SF -> H\n",
      "PF -> H\n",
      "OV -> O\n",
      "KH -> C\n",
      "CP -> V\n",
      "PK -> O\n",
      "KC -> K\n",
      "KK -> C\n",
      "KF -> B\n",
      "HP -> C\n",
      "FK -> H\n",
      "BH -> K\n",
      "VN -> H\n",
      "OO -> S\n",
      "SC -> K\n",
      "SP -> B\n",
      "KO -> V\n",
      "KV -> F\n",
      "HK -> N\n",
      "FP -> N\n",
      "NN -> B\n",
      "VS -> O\n",
      "HC -> K\n",
      "BK -> N\n",
      "KS -> K\n",
      "VB -> O\n",
      "OH -> F\n",
      "KB -> F\n",
      "KP -> H\n",
      "HB -> N\n",
      "NO -> N\n",
      "OF -> O\n",
      "BS -> H\n",
      "VO -> H\n",
      "SH -> O\n",
      "SV -> K\n",
      "HF -> C\n",
      "CS -> F\n",
      "FC -> N\n",
      "VH -> H\n",
      "OP -> K\n",
      "OK -> H\n",
      "PB -> K\n",
      "HH -> S\n",
      "OC -> V\n",
      "VF -> B\n",
      "CH -> K\n",
      "CN -> C\n",
      "SO -> P\n",
      "OS -> O\n"
     ]
    }
   ],
   "source": [
    "rules = \"\"\"CK -> N\n",
    "VP -> B\n",
    "CF -> S\n",
    "FO -> V\n",
    "VC -> S\n",
    "BV -> V\n",
    "NP -> P\n",
    "SN -> C\n",
    "KN -> V\n",
    "NF -> P\n",
    "SB -> C\n",
    "PC -> B\n",
    "OB -> V\n",
    "NS -> O\n",
    "FH -> S\n",
    "NK -> S\n",
    "HO -> V\n",
    "NV -> O\n",
    "FV -> O\n",
    "FB -> S\n",
    "PS -> S\n",
    "FN -> K\n",
    "HS -> O\n",
    "CB -> K\n",
    "HV -> P\n",
    "NH -> C\n",
    "BO -> B\n",
    "FF -> N\n",
    "PO -> F\n",
    "BB -> N\n",
    "PN -> C\n",
    "BP -> C\n",
    "HN -> K\n",
    "CO -> P\n",
    "BF -> H\n",
    "BC -> S\n",
    "CV -> B\n",
    "VV -> F\n",
    "FS -> B\n",
    "BN -> P\n",
    "VK -> S\n",
    "PV -> V\n",
    "PP -> B\n",
    "PH -> N\n",
    "SS -> O\n",
    "SK -> S\n",
    "NC -> P\n",
    "ON -> F\n",
    "NB -> N\n",
    "CC -> N\n",
    "SF -> H\n",
    "PF -> H\n",
    "OV -> O\n",
    "KH -> C\n",
    "CP -> V\n",
    "PK -> O\n",
    "KC -> K\n",
    "KK -> C\n",
    "KF -> B\n",
    "HP -> C\n",
    "FK -> H\n",
    "BH -> K\n",
    "VN -> H\n",
    "OO -> S\n",
    "SC -> K\n",
    "SP -> B\n",
    "KO -> V\n",
    "KV -> F\n",
    "HK -> N\n",
    "FP -> N\n",
    "NN -> B\n",
    "VS -> O\n",
    "HC -> K\n",
    "BK -> N\n",
    "KS -> K\n",
    "VB -> O\n",
    "OH -> F\n",
    "KB -> F\n",
    "KP -> H\n",
    "HB -> N\n",
    "NO -> N\n",
    "OF -> O\n",
    "BS -> H\n",
    "VO -> H\n",
    "SH -> O\n",
    "SV -> K\n",
    "HF -> C\n",
    "CS -> F\n",
    "FC -> N\n",
    "VH -> H\n",
    "OP -> K\n",
    "OK -> H\n",
    "PB -> K\n",
    "HH -> S\n",
    "OC -> V\n",
    "VF -> B\n",
    "CH -> K\n",
    "CN -> C\n",
    "SO -> P\n",
    "OS -> O\"\"\".split('\\n')\n",
    "\n",
    "for rule in rules:\n",
    "    print(rule)\n",
    "\n",
    "rules = [rule.split(\" -> \") for rule in rules]\n",
    "\n",
    "rules = {\n",
    "    pair: [pair[0] + insert, insert + pair[1]] for pair, insert in rules\n",
    "}"
   ]
  },
  {
   "cell_type": "code",
   "execution_count": 89,
   "id": "5d0dda99-59fb-4245-b006-3c2b845d0385",
   "metadata": {},
   "outputs": [
    {
     "data": {
      "text/plain": [
       "{'CK': ['CN', 'NK'],\n",
       " 'VP': ['VB', 'BP'],\n",
       " 'CF': ['CS', 'SF'],\n",
       " 'FO': ['FV', 'VO'],\n",
       " 'VC': ['VS', 'SC'],\n",
       " 'BV': ['BV', 'VV'],\n",
       " 'NP': ['NP', 'PP'],\n",
       " 'SN': ['SC', 'CN'],\n",
       " 'KN': ['KV', 'VN'],\n",
       " 'NF': ['NP', 'PF'],\n",
       " 'SB': ['SC', 'CB'],\n",
       " 'PC': ['PB', 'BC'],\n",
       " 'OB': ['OV', 'VB'],\n",
       " 'NS': ['NO', 'OS'],\n",
       " 'FH': ['FS', 'SH'],\n",
       " 'NK': ['NS', 'SK'],\n",
       " 'HO': ['HV', 'VO'],\n",
       " 'NV': ['NO', 'OV'],\n",
       " 'FV': ['FO', 'OV'],\n",
       " 'FB': ['FS', 'SB'],\n",
       " 'PS': ['PS', 'SS'],\n",
       " 'FN': ['FK', 'KN'],\n",
       " 'HS': ['HO', 'OS'],\n",
       " 'CB': ['CK', 'KB'],\n",
       " 'HV': ['HP', 'PV'],\n",
       " 'NH': ['NC', 'CH'],\n",
       " 'BO': ['BB', 'BO'],\n",
       " 'FF': ['FN', 'NF'],\n",
       " 'PO': ['PF', 'FO'],\n",
       " 'BB': ['BN', 'NB'],\n",
       " 'PN': ['PC', 'CN'],\n",
       " 'BP': ['BC', 'CP'],\n",
       " 'HN': ['HK', 'KN'],\n",
       " 'CO': ['CP', 'PO'],\n",
       " 'BF': ['BH', 'HF'],\n",
       " 'BC': ['BS', 'SC'],\n",
       " 'CV': ['CB', 'BV'],\n",
       " 'VV': ['VF', 'FV'],\n",
       " 'FS': ['FB', 'BS'],\n",
       " 'BN': ['BP', 'PN'],\n",
       " 'VK': ['VS', 'SK'],\n",
       " 'PV': ['PV', 'VV'],\n",
       " 'PP': ['PB', 'BP'],\n",
       " 'PH': ['PN', 'NH'],\n",
       " 'SS': ['SO', 'OS'],\n",
       " 'SK': ['SS', 'SK'],\n",
       " 'NC': ['NP', 'PC'],\n",
       " 'ON': ['OF', 'FN'],\n",
       " 'NB': ['NN', 'NB'],\n",
       " 'CC': ['CN', 'NC'],\n",
       " 'SF': ['SH', 'HF'],\n",
       " 'PF': ['PH', 'HF'],\n",
       " 'OV': ['OO', 'OV'],\n",
       " 'KH': ['KC', 'CH'],\n",
       " 'CP': ['CV', 'VP'],\n",
       " 'PK': ['PO', 'OK'],\n",
       " 'KC': ['KK', 'KC'],\n",
       " 'KK': ['KC', 'CK'],\n",
       " 'KF': ['KB', 'BF'],\n",
       " 'HP': ['HC', 'CP'],\n",
       " 'FK': ['FH', 'HK'],\n",
       " 'BH': ['BK', 'KH'],\n",
       " 'VN': ['VH', 'HN'],\n",
       " 'OO': ['OS', 'SO'],\n",
       " 'SC': ['SK', 'KC'],\n",
       " 'SP': ['SB', 'BP'],\n",
       " 'KO': ['KV', 'VO'],\n",
       " 'KV': ['KF', 'FV'],\n",
       " 'HK': ['HN', 'NK'],\n",
       " 'FP': ['FN', 'NP'],\n",
       " 'NN': ['NB', 'BN'],\n",
       " 'VS': ['VO', 'OS'],\n",
       " 'HC': ['HK', 'KC'],\n",
       " 'BK': ['BN', 'NK'],\n",
       " 'KS': ['KK', 'KS'],\n",
       " 'VB': ['VO', 'OB'],\n",
       " 'OH': ['OF', 'FH'],\n",
       " 'KB': ['KF', 'FB'],\n",
       " 'KP': ['KH', 'HP'],\n",
       " 'HB': ['HN', 'NB'],\n",
       " 'NO': ['NN', 'NO'],\n",
       " 'OF': ['OO', 'OF'],\n",
       " 'BS': ['BH', 'HS'],\n",
       " 'VO': ['VH', 'HO'],\n",
       " 'SH': ['SO', 'OH'],\n",
       " 'SV': ['SK', 'KV'],\n",
       " 'HF': ['HC', 'CF'],\n",
       " 'CS': ['CF', 'FS'],\n",
       " 'FC': ['FN', 'NC'],\n",
       " 'VH': ['VH', 'HH'],\n",
       " 'OP': ['OK', 'KP'],\n",
       " 'OK': ['OH', 'HK'],\n",
       " 'PB': ['PK', 'KB'],\n",
       " 'HH': ['HS', 'SH'],\n",
       " 'OC': ['OV', 'VC'],\n",
       " 'VF': ['VB', 'BF'],\n",
       " 'CH': ['CK', 'KH'],\n",
       " 'CN': ['CC', 'CN'],\n",
       " 'SO': ['SP', 'PO'],\n",
       " 'OS': ['OO', 'OS']}"
      ]
     },
     "execution_count": 89,
     "metadata": {},
     "output_type": "execute_result"
    }
   ],
   "source": [
    "# mapping of the generated pair of the og\n",
    "rules"
   ]
  },
  {
   "cell_type": "code",
   "execution_count": 97,
   "id": "27538b76-8160-44b7-ae8b-81210018ee07",
   "metadata": {},
   "outputs": [],
   "source": [
    "options = []\n",
    "for pair, childs in rules.items():\n",
    "    options += childs"
   ]
  },
  {
   "cell_type": "code",
   "execution_count": 96,
   "id": "c302b4fa-ada4-4c61-b050-39f5cb4f1f65",
   "metadata": {},
   "outputs": [
    {
     "data": {
      "text/plain": [
       "['FN', 'NP']"
      ]
     },
     "execution_count": 96,
     "metadata": {},
     "output_type": "execute_result"
    }
   ],
   "source": [
    "rules['FP']"
   ]
  },
  {
   "cell_type": "code",
   "execution_count": 5,
   "id": "749bb7ff-5974-4073-8aa5-9cb6cbefd090",
   "metadata": {},
   "outputs": [],
   "source": [
    "from collections import defaultdict"
   ]
  },
  {
   "cell_type": "code",
   "execution_count": 6,
   "id": "2e983a1e-518a-49bf-937e-caa3dc1a6662",
   "metadata": {},
   "outputs": [
    {
     "data": {
      "text/plain": [
       "defaultdict(int, {'NN': 1, 'NC': 1, 'CB': 1})"
      ]
     },
     "execution_count": 6,
     "metadata": {},
     "output_type": "execute_result"
    }
   ],
   "source": [
    "def make_polymer(word):\n",
    "    \"\"\"\n",
    "    create entries for all pairs:count for [i in lengt-1] \n",
    "    if cross same pair increment count\n",
    "    \"\"\"\n",
    "    poly = defaultdict(int)\n",
    "    for i in range(len(word) - 1):\n",
    "        poly[word[i: i + 2]] += 1\n",
    "    return poly\n",
    "\n",
    "make_polymer(\"NNCB\")"
   ]
  },
  {
   "cell_type": "code",
   "execution_count": 21,
   "id": "3750c170-52fa-4376-a585-16239e7423f7",
   "metadata": {},
   "outputs": [
    {
     "data": {
      "text/plain": [
       "defaultdict(int, {'NC': 1, 'CN': 1, 'NB': 1, 'BC': 1, 'CH': 1, 'HB': 1})"
      ]
     },
     "execution_count": 21,
     "metadata": {},
     "output_type": "execute_result"
    }
   ],
   "source": [
    "make_polymer(\"NCNBCHB\")"
   ]
  },
  {
   "cell_type": "code",
   "execution_count": 101,
   "id": "94cc4b41-65e7-4653-900e-f348d0854746",
   "metadata": {
    "collapsed": true,
    "jupyter": {
     "outputs_hidden": true
    },
    "tags": []
   },
   "outputs": [
    {
     "data": {
      "text/plain": [
       "defaultdict(int,\n",
       "            {'SO': 2,\n",
       "             'OH': 2,\n",
       "             'HS': 2,\n",
       "             'SH': 2,\n",
       "             'HN': 1,\n",
       "             'NB': 1,\n",
       "             'BP': 1,\n",
       "             'PN': 1,\n",
       "             'NP': 1,\n",
       "             'PF': 1,\n",
       "             'FS': 1,\n",
       "             'SB': 1,\n",
       "             'BS': 1,\n",
       "             'SC': 1,\n",
       "             'CN': 2,\n",
       "             'NK': 1,\n",
       "             'KV': 1,\n",
       "             'VN': 1,\n",
       "             'NC': 1,\n",
       "             'CH': 1,\n",
       "             'HK': 1,\n",
       "             'KC': 1,\n",
       "             'CC': 1,\n",
       "             'NN': 1,\n",
       "             'NO': 1,\n",
       "             'OO': 1,\n",
       "             'OS': 1,\n",
       "             'HP': 1,\n",
       "             'PV': 1,\n",
       "             'VB': 1,\n",
       "             'BF': 1,\n",
       "             'FN': 1,\n",
       "             'NF': 1})"
      ]
     },
     "execution_count": 101,
     "metadata": {},
     "output_type": "execute_result"
    }
   ],
   "source": [
    "def apply(polymer, rules):\n",
    "    \"\"\"\n",
    "    \n",
    "    \"\"\"\n",
    "    new = defaultdict(int)\n",
    "    \n",
    "    # for the current pairs in polymer \n",
    "    for pair, n in polymer.items():\n",
    "        if pair in rules:\n",
    "            # {'CH': ['CB', 'BH'],\n",
    "            #  'HH': ['HN', 'NH'],\n",
    "            #  'CB': ['CH', 'HB'],\n",
    "            #  'NH': ['NC', 'CH'],\n",
    "            #  'HB': ['HC', 'CB'],\n",
    "            #  'HC': ['HB', 'BC'],\n",
    "            #  'HN': ['HC', 'CN'],\n",
    "            #  'NN': ['NC', 'CN'],\n",
    "            #  'BH': ['BH', 'HH'],\n",
    "            #  'NC': ['NB', 'BC'],\n",
    "            #  'NB': ['NB', 'BB'],\n",
    "            #  'BN': ['BB', 'BN'],\n",
    "            #  'BB': ['BN', 'NB'],\n",
    "            #  'BC': ['BB', 'BC'],\n",
    "            #  'CC': ['CN', 'NC'],\n",
    "            #  'CN': ['CC', 'CN']}\n",
    "            for replace in rules[pair]:\n",
    "                # increment the generated pairs\n",
    "                # print('for: ',pair, f'child {replace} + 1')\n",
    "                new[replace] += n\n",
    "        else:\n",
    "            # create entry for unknown pair with n of pair? \n",
    "            new[pair] = n\n",
    "            \n",
    "    return new\n",
    "\n",
    "#apply(make_polymer(\"NNCB\"), rules)\n",
    "apply(make_polymer(\"SHHBNFBCKNHCNOSHHVFF\"), rules)"
   ]
  },
  {
   "cell_type": "code",
   "execution_count": 102,
   "id": "38e0444b-8c66-46c2-8fcc-eda60191c0f5",
   "metadata": {},
   "outputs": [
    {
     "data": {
      "text/plain": [
       "defaultdict(int,\n",
       "            {'SC': 312491742496,\n",
       "             'CB': 217409150479,\n",
       "             'BC': 310642771073,\n",
       "             'CP': 240963340684,\n",
       "             'PH': 112980598938,\n",
       "             'HF': 200310561995,\n",
       "             'FV': 254656609104,\n",
       "             'VO': 394187448647,\n",
       "             'OO': 1135581376280,\n",
       "             'OS': 1848782432146,\n",
       "             'SP': 405292353087,\n",
       "             'PO': 451946590939,\n",
       "             'SO': 810608753733,\n",
       "             'SB': 314337357688,\n",
       "             'BP': 404689008174,\n",
       "             'PF': 225967736819,\n",
       "             'FO': 353294374839,\n",
       "             'SS': 322938734325,\n",
       "             'SK': 645880643261,\n",
       "             'KK': 586349861681,\n",
       "             'KC': 1172711855195,\n",
       "             'CN': 1139620019646,\n",
       "             'NK': 333394224421,\n",
       "             'CK': 449775811922,\n",
       "             'NC': 313158576440,\n",
       "             'CC': 569819025932,\n",
       "             'NO': 166688931839,\n",
       "             'NS': 166695742339,\n",
       "             'NP': 313175506238,\n",
       "             'PP': 156593248608,\n",
       "             'PB': 186595532379,\n",
       "             'PC': 216582929478,\n",
       "             'NB': 166813964661,\n",
       "             'BN': 127001120418,\n",
       "             'NN': 166764860625,\n",
       "             'KF': 147037894906,\n",
       "             'FB': 223395340116,\n",
       "             'BH': 174428006676,\n",
       "             'BS': 240954388522,\n",
       "             'CH': 95804366153,\n",
       "             'HK': 129798394192,\n",
       "             'CS': 66765925647,\n",
       "             'SF': 66765925647,\n",
       "             'BK': 87216896120,\n",
       "             'KH': 135119398716,\n",
       "             'HO': 308925051294,\n",
       "             'HC': 138769440555,\n",
       "             'PV': 154464599947,\n",
       "             'VV': 137480797991,\n",
       "             'VH': 412726672806,\n",
       "             'HH': 206362260662,\n",
       "             'HV': 154462858100,\n",
       "             'BV': 120491268902,\n",
       "             'VF': 68742256512,\n",
       "             'VB': 126157643711,\n",
       "             'BF': 107892434193,\n",
       "             'OV': 317738685623,\n",
       "             'OB': 63081458428,\n",
       "             'HS': 223660187565,\n",
       "             'SH': 162736729522,\n",
       "             'HP': 77231940036,\n",
       "             'KB': 275525446616,\n",
       "             'OH': 104696395455,\n",
       "             'FS': 171254829214,\n",
       "             'PK': 93302454379,\n",
       "             'OK': 46654237852,\n",
       "             'KN': 37085477573,\n",
       "             'HN': 74170658512,\n",
       "             'CF': 133535021219,\n",
       "             'OF': 104697941787,\n",
       "             'FH': 52348619804,\n",
       "             'CV': 120483679487,\n",
       "             'VP': 120483679487,\n",
       "             'PN': 119995384827,\n",
       "             'NH': 56488304179,\n",
       "             'KV': 18542589141,\n",
       "             'VN': 18542589141})"
      ]
     },
     "execution_count": 102,
     "metadata": {},
     "output_type": "execute_result"
    }
   ],
   "source": [
    "def apply_n(polymer, rules, n):\n",
    "    for _ in range(n):\n",
    "        polymer = apply(polymer, rules)\n",
    "    return polymer\n",
    "\n",
    "result = apply_n(make_polymer(\"SHHBNFBCKNHCNOSHHVFF\"), rules, 40)\n",
    "result"
   ]
  },
  {
   "cell_type": "code",
   "execution_count": 104,
   "id": "db5507ca-c547-4c2f-b225-ec2bbd4723bd",
   "metadata": {},
   "outputs": [],
   "source": [
    "def polymer_counter(result):\n",
    "    counts = defaultdict(int)\n",
    "    for pair, cnt in result.items():\n",
    "        counts[pair[0]] += cnt\n",
    "    \n",
    "    #counts['B'] += 1\n",
    "    \n",
    "    return counts"
   ]
  },
  {
   "cell_type": "code",
   "execution_count": 105,
   "id": "08f60ea9-f2c5-4362-b41a-f4050a4d8526",
   "metadata": {},
   "outputs": [],
   "source": [
    "counts = polymer_counter(result)"
   ]
  },
  {
   "cell_type": "code",
   "execution_count": 106,
   "id": "b2cf5e86-d185-43cf-a627-7f6f36516893",
   "metadata": {},
   "outputs": [
    {
     "data": {
      "text/plain": [
       "defaultdict(int,\n",
       "            {'S': 3041052239759,\n",
       "             'C': 3034176341169,\n",
       "             'B': 1573315894078,\n",
       "             'P': 1718429076314,\n",
       "             'H': 1513691352911,\n",
       "             'F': 1054949773077,\n",
       "             'V': 1278321088295,\n",
       "             'O': 3621232527571,\n",
       "             'K': 2372372523828,\n",
       "             'N': 1683180110742})"
      ]
     },
     "execution_count": 106,
     "metadata": {},
     "output_type": "execute_result"
    }
   ],
   "source": [
    "counts"
   ]
  },
  {
   "cell_type": "code",
   "execution_count": 109,
   "id": "45178d5b-7948-4e48-a36a-69b0be1460af",
   "metadata": {},
   "outputs": [
    {
     "data": {
      "text/plain": [
       "(3621232527571, 1054949773077)"
      ]
     },
     "execution_count": 109,
     "metadata": {},
     "output_type": "execute_result"
    }
   ],
   "source": [
    "max(counts.values()), min(counts.values())"
   ]
  },
  {
   "cell_type": "code",
   "execution_count": 110,
   "id": "49da99ff-44b3-4bc2-a29e-dceba4225c60",
   "metadata": {},
   "outputs": [
    {
     "data": {
      "text/plain": [
       "2566282754493"
      ]
     },
     "execution_count": 110,
     "metadata": {},
     "output_type": "execute_result"
    }
   ],
   "source": [
    "3621232527571 - 1054949773078"
   ]
  },
  {
   "cell_type": "code",
   "execution_count": null,
   "id": "68f896e6-7436-4f2a-983c-4e092862e66b",
   "metadata": {},
   "outputs": [],
   "source": []
  }
 ],
 "metadata": {
  "kernelspec": {
   "display_name": "womt-env",
   "language": "python",
   "name": "womt-env"
  },
  "language_info": {
   "codemirror_mode": {
    "name": "ipython",
    "version": 3
   },
   "file_extension": ".py",
   "mimetype": "text/x-python",
   "name": "python",
   "nbconvert_exporter": "python",
   "pygments_lexer": "ipython3",
   "version": "3.9.7"
  }
 },
 "nbformat": 4,
 "nbformat_minor": 5
}
