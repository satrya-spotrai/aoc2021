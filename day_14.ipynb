{
 "cells": [
  {
   "cell_type": "code",
   "execution_count": 151,
   "id": "1c9f34b3-47ac-454b-ba7e-a89706fb5427",
   "metadata": {},
   "outputs": [],
   "source": [
    "from sys import getsizeof"
   ]
  },
  {
   "cell_type": "code",
   "execution_count": 97,
   "id": "5bc66bd9-f124-4c1a-a0ca-b5a1abb1ecbd",
   "metadata": {},
   "outputs": [],
   "source": [
    "with open('input/input_14ex.txt') as file:\n",
    "    listo = [line.rstrip('\\n') for line in file]"
   ]
  },
  {
   "cell_type": "code",
   "execution_count": 98,
   "id": "b0818668-aede-4e9c-aa8a-088f61bbbbbe",
   "metadata": {},
   "outputs": [],
   "source": [
    "rsample = listo[0]"
   ]
  },
  {
   "cell_type": "code",
   "execution_count": 99,
   "id": "d35c73b9-16ca-4b66-b643-8fdf9b5d1832",
   "metadata": {},
   "outputs": [],
   "source": [
    "mapp = {}\n",
    "for line in listo[2:]:\n",
    "    idx, val = line.split(' -> ')\n",
    "    mapp[idx]  = val"
   ]
  },
  {
   "cell_type": "code",
   "execution_count": 100,
   "id": "3cc551e4-66ca-4c01-81d1-1eb1b6401853",
   "metadata": {},
   "outputs": [
    {
     "data": {
      "text/plain": [
       "'NNCB'"
      ]
     },
     "execution_count": 100,
     "metadata": {},
     "output_type": "execute_result"
    }
   ],
   "source": [
    "rsample"
   ]
  },
  {
   "cell_type": "code",
   "execution_count": 101,
   "id": "7946e91f-e5a1-46c1-9f69-935cee81d620",
   "metadata": {
    "tags": []
   },
   "outputs": [
    {
     "data": {
      "text/plain": [
       "{'CH': 'B',\n",
       " 'HH': 'N',\n",
       " 'CB': 'H',\n",
       " 'NH': 'C',\n",
       " 'HB': 'C',\n",
       " 'HC': 'B',\n",
       " 'HN': 'C',\n",
       " 'NN': 'C',\n",
       " 'BH': 'H',\n",
       " 'NC': 'B',\n",
       " 'NB': 'B',\n",
       " 'BN': 'B',\n",
       " 'BB': 'N',\n",
       " 'BC': 'B',\n",
       " 'CC': 'N',\n",
       " 'CN': 'C'}"
      ]
     },
     "execution_count": 101,
     "metadata": {},
     "output_type": "execute_result"
    }
   ],
   "source": [
    "mapp"
   ]
  },
  {
   "cell_type": "code",
   "execution_count": 146,
   "id": "3e3021fb-0887-4390-b18b-5729c57d5de1",
   "metadata": {},
   "outputs": [],
   "source": [
    "def run(inp):\n",
    "    used_pairs = set()\n",
    "    output = ''\n",
    "    total_pairs = len(inp) - 1\n",
    "    \n",
    "    p1 = 0\n",
    "    p2 = 1\n",
    "    \n",
    "    for pair in range(total_pairs):\n",
    "        pair_idx = inp[p1] + inp[p2]\n",
    "        value = mapp[pair_idx]\n",
    "        used_pairs.add(pair_idx)\n",
    "        \n",
    "        output += inp[p1] + value\n",
    "        \n",
    "        p1 += 1\n",
    "        p2 += 1\n",
    "    \n",
    "    output += inp[-1]\n",
    "    \n",
    "    print(used_pairs)\n",
    "    \n",
    "    return output"
   ]
  },
  {
   "cell_type": "code",
   "execution_count": 147,
   "id": "85f266a3-5470-4b93-b1c5-a14bd0d29c9c",
   "metadata": {},
   "outputs": [
    {
     "name": "stdout",
     "output_type": "stream",
     "text": [
      "{'CB', 'NN', 'NC'}\n"
     ]
    },
    {
     "data": {
      "text/plain": [
       "'NCNBCHB'"
      ]
     },
     "execution_count": 147,
     "metadata": {},
     "output_type": "execute_result"
    }
   ],
   "source": [
    "run('NNCB')"
   ]
  },
  {
   "cell_type": "code",
   "execution_count": 149,
   "id": "2604477e-aceb-47a0-8b16-b40d63d5ae3e",
   "metadata": {},
   "outputs": [
    {
     "data": {
      "text/plain": [
       "3"
      ]
     },
     "execution_count": 149,
     "metadata": {},
     "output_type": "execute_result"
    }
   ],
   "source": [
    "q = {'NN', 'NC', 'CB'}\n",
    "q.add('NC')\n",
    "len(q)"
   ]
  },
  {
   "cell_type": "code",
   "execution_count": 150,
   "id": "54b462df-153b-4230-81b8-1dc4ee951e4f",
   "metadata": {},
   "outputs": [
    {
     "name": "stdout",
     "output_type": "stream",
     "text": [
      "{'CB', 'NN', 'NC'}\n",
      "0 7\n",
      "------------------------\n",
      "{'HB', 'CH', 'NC', 'NB', 'BC', 'CN'}\n",
      "1 13\n",
      "------------------------\n",
      "{'HC', 'CC', 'BH', 'NB', 'BC', 'CB', 'BB', 'CN'}\n",
      "2 25\n",
      "------------------------\n",
      "{'HB', 'BN', 'CC', 'NC', 'CH', 'BH', 'NB', 'BC', 'HH', 'BB', 'CN'}\n",
      "3 49\n",
      "------------------------\n",
      "{'HN', 'HC', 'CC', 'CB', 'NC', 'BH', 'NB', 'BC', 'HH', 'CN', 'BB', 'NH', 'BN'}\n",
      "4 97\n",
      "------------------------\n",
      "{'HN', 'HC', 'HB', 'BN', 'CC', 'NC', 'CH', 'BH', 'NB', 'BC', 'HH', 'BB', 'NH', 'CN'}\n",
      "5 193\n",
      "------------------------\n",
      "{'HN', 'HC', 'HB', 'CC', 'CB', 'NC', 'CH', 'BH', 'NB', 'BC', 'HH', 'CN', 'BB', 'NH', 'BN'}\n",
      "6 385\n",
      "------------------------\n",
      "{'HN', 'HC', 'HB', 'BN', 'CC', 'NC', 'CH', 'BH', 'NB', 'BC', 'HH', 'CB', 'BB', 'NH', 'CN'}\n",
      "7 769\n",
      "------------------------\n",
      "{'HN', 'HC', 'HB', 'CC', 'CB', 'NC', 'CH', 'BH', 'NB', 'BC', 'HH', 'CN', 'BB', 'NH', 'BN'}\n",
      "8 1537\n",
      "------------------------\n",
      "{'HN', 'HC', 'HB', 'BN', 'CC', 'NC', 'CH', 'BH', 'NB', 'BC', 'HH', 'CB', 'BB', 'NH', 'CN'}\n",
      "9 3073\n",
      "------------------------\n",
      "CPU times: user 5.19 ms, sys: 3.86 ms, total: 9.05 ms\n",
      "Wall time: 8.53 ms\n"
     ]
    }
   ],
   "source": [
    "%%time\n",
    "\n",
    "start = rsample\n",
    "for k, i in enumerate(range(10)):\n",
    "    \n",
    "    output = run(start)\n",
    "    print(k, len(output))\n",
    "    print('------------------------')\n",
    "    \n",
    "    start = output"
   ]
  },
  {
   "cell_type": "code",
   "execution_count": 84,
   "id": "2726ea52-2859-4e8c-b477-c8ec10841bdf",
   "metadata": {},
   "outputs": [],
   "source": [
    "countmap = {unique: 0 for unique in list(set(output))}"
   ]
  },
  {
   "cell_type": "code",
   "execution_count": 81,
   "id": "4b56d25f-91ca-4ad1-a003-75be655f2365",
   "metadata": {},
   "outputs": [],
   "source": [
    "for char in output:\n",
    "    countmap[char] += 1"
   ]
  },
  {
   "cell_type": "code",
   "execution_count": 82,
   "id": "98b9ee2a-5182-4a06-85f8-2f982a062762",
   "metadata": {},
   "outputs": [
    {
     "data": {
      "text/plain": [
       "{'N': 865, 'B': 1749, 'H': 161, 'C': 298}"
      ]
     },
     "execution_count": 82,
     "metadata": {},
     "output_type": "execute_result"
    }
   ],
   "source": [
    "countmap"
   ]
  },
  {
   "cell_type": "code",
   "execution_count": 83,
   "id": "326a597c-6fd7-4793-96fb-a162c7454c97",
   "metadata": {},
   "outputs": [
    {
     "data": {
      "text/plain": [
       "[161, 298, 865, 1749]"
      ]
     },
     "execution_count": 83,
     "metadata": {},
     "output_type": "execute_result"
    }
   ],
   "source": [
    "sorted(countmap.values())"
   ]
  },
  {
   "cell_type": "code",
   "execution_count": 85,
   "id": "e58ee092-1633-48e6-a0fc-2137d067ef53",
   "metadata": {},
   "outputs": [
    {
     "data": {
      "text/plain": [
       "{'N': 0, 'B': 0, 'H': 0, 'C': 0}"
      ]
     },
     "execution_count": 85,
     "metadata": {},
     "output_type": "execute_result"
    }
   ],
   "source": [
    "countmap"
   ]
  },
  {
   "cell_type": "code",
   "execution_count": 130,
   "id": "52371526-8c26-4644-b8b6-90afdcee9137",
   "metadata": {},
   "outputs": [
    {
     "data": {
      "text/plain": [
       "25165825"
      ]
     },
     "execution_count": 130,
     "metadata": {},
     "output_type": "execute_result"
    }
   ],
   "source": [
    "len(output)"
   ]
  },
  {
   "cell_type": "code",
   "execution_count": 152,
   "id": "0a26b891-f9f8-42cf-b9db-8a8365dee8e6",
   "metadata": {},
   "outputs": [
    {
     "data": {
      "text/plain": [
       "3122"
      ]
     },
     "execution_count": 152,
     "metadata": {},
     "output_type": "execute_result"
    }
   ],
   "source": [
    "getsizeof(output)"
   ]
  },
  {
   "cell_type": "code",
   "execution_count": null,
   "id": "93045d06-9314-4c97-93e6-b6c45219563a",
   "metadata": {},
   "outputs": [],
   "source": []
  },
  {
   "cell_type": "code",
   "execution_count": 168,
   "id": "fc83c7b6-1496-40fe-b16c-fa7c9b9882cd",
   "metadata": {},
   "outputs": [
    {
     "name": "stdout",
     "output_type": "stream",
     "text": [
      "CPU times: user 30.4 s, sys: 0 ns, total: 30.4 s\n",
      "Wall time: 30.4 s\n"
     ]
    }
   ],
   "source": [
    "%%time\n",
    "\n",
    "testdict = []\n",
    "for i in range(1000000000):\n",
    "    pass"
   ]
  },
  {
   "cell_type": "code",
   "execution_count": 162,
   "id": "0794f83f-e0fe-4333-b6f5-8f1492fbee40",
   "metadata": {},
   "outputs": [
    {
     "data": {
      "text/plain": [
       "8697456"
      ]
     },
     "execution_count": 162,
     "metadata": {},
     "output_type": "execute_result"
    }
   ],
   "source": [
    "getsizeof(testdict)"
   ]
  },
  {
   "cell_type": "code",
   "execution_count": null,
   "id": "abf7bf10-b584-4ce3-ba12-65cc907bdfeb",
   "metadata": {},
   "outputs": [],
   "source": []
  },
  {
   "cell_type": "code",
   "execution_count": null,
   "id": "71be2d10-0956-47d0-9c10-56943adbd38d",
   "metadata": {},
   "outputs": [],
   "source": []
  },
  {
   "cell_type": "markdown",
   "id": "f9be9d88-f367-499f-bbb9-e59a6a87f7b6",
   "metadata": {},
   "source": [
    "## experimenting"
   ]
  },
  {
   "cell_type": "code",
   "execution_count": 135,
   "id": "e1aef3a4-5c2f-467b-a101-e5eb99783bc6",
   "metadata": {},
   "outputs": [
    {
     "name": "stdout",
     "output_type": "stream",
     "text": [
      "0 :  3\n",
      "1 :  5\n",
      "2 :  9\n",
      "3 :  17\n",
      "4 :  33\n",
      "5 :  65\n",
      "6 :  129\n",
      "7 :  257\n",
      "8 :  513\n",
      "9 :  1025\n",
      "10 :  2049\n",
      "11 :  4097\n",
      "12 :  8193\n",
      "13 :  16385\n",
      "14 :  32769\n",
      "15 :  65537\n",
      "16 :  131073\n",
      "17 :  262145\n",
      "18 :  524289\n",
      "19 :  1048577\n",
      "20 :  2097153\n",
      "21 :  4194305\n",
      "22 :  8388609\n",
      "23 :  16777217\n",
      "24 :  33554433\n",
      "25 :  67108865\n",
      "26 :  134217729\n",
      "27 :  268435457\n",
      "28 :  536870913\n",
      "29 :  1073741825\n",
      "30 :  2147483649\n",
      "31 :  4294967297\n",
      "32 :  8589934593\n",
      "33 :  17179869185\n",
      "34 :  34359738369\n",
      "35 :  68719476737\n",
      "36 :  137438953473\n",
      "37 :  274877906945\n",
      "38 :  549755813889\n",
      "39 :  1099511627777\n"
     ]
    }
   ],
   "source": [
    "pos = 2\n",
    "for i in range(40):\n",
    "    pos = (pos * 2) - 1\n",
    "    print(i, ': ', pos)"
   ]
  },
  {
   "cell_type": "code",
   "execution_count": 136,
   "id": "4448b9b0-464e-4495-be75-53d629c89354",
   "metadata": {},
   "outputs": [
    {
     "name": "stdout",
     "output_type": "stream",
     "text": [
      "0 :  3\n",
      "1 :  5\n"
     ]
    }
   ],
   "source": [
    "pos = 2\n",
    "for i in range(2):\n",
    "    pos = (pos * 2) - 1\n",
    "    print(i, ': ', pos)"
   ]
  },
  {
   "cell_type": "code",
   "execution_count": null,
   "id": "77406d45-ccb6-449b-a3c0-7901b6e957ea",
   "metadata": {},
   "outputs": [],
   "source": []
  }
 ],
 "metadata": {
  "kernelspec": {
   "display_name": "womt-env",
   "language": "python",
   "name": "womt-env"
  },
  "language_info": {
   "codemirror_mode": {
    "name": "ipython",
    "version": 3
   },
   "file_extension": ".py",
   "mimetype": "text/x-python",
   "name": "python",
   "nbconvert_exporter": "python",
   "pygments_lexer": "ipython3",
   "version": "3.8.6"
  }
 },
 "nbformat": 4,
 "nbformat_minor": 5
}
