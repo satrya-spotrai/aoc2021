{
 "cells": [
  {
   "cell_type": "code",
   "execution_count": 113,
   "id": "da7b1153-a6c9-4d22-9880-352696e44baf",
   "metadata": {},
   "outputs": [],
   "source": [
    "import numpy as np\n",
    "import matplotlib.pyplot as plt"
   ]
  },
  {
   "cell_type": "code",
   "execution_count": 95,
   "id": "1cd50a5e-abdc-418f-96ec-98383ba2c766",
   "metadata": {},
   "outputs": [],
   "source": [
    "examp1 = np.array([\n",
    "    [1,1,1,1,1],\n",
    "[1,9,9,9,1],\n",
    "[1,9,1,9,1],\n",
    "[1,9,9,9,1],\n",
    "[1,1,1,1,1],\n",
    "])"
   ]
  },
  {
   "cell_type": "code",
   "execution_count": 107,
   "id": "e2d9383d-997f-4884-b978-247da545564b",
   "metadata": {},
   "outputs": [],
   "source": [
    "examp2 = np.array([\n",
    "    [5,4,8,3,1,4,3,2,2,3],\n",
    "    [2,7,4,5,8,5,4,7,1,1],\n",
    "    [5,2,6,4,5,5,6,1,7,3],\n",
    "    [6,1,4,1,3,3,6,1,4,6],\n",
    "    [6,3,5,7,3,8,5,4,7,8],\n",
    "    [4,1,6,7,5,2,4,6,4,5],\n",
    "    [2,1,7,6,8,4,1,7,2,1],\n",
    "    [6,8,8,2,8,8,1,1,3,4],\n",
    "    [4,8,4,6,8,4,8,5,5,4],\n",
    "    [5,2,8,3,7,5,1,5,2,6]\n",
    "])"
   ]
  },
  {
   "cell_type": "code",
   "execution_count": 121,
   "id": "0691f5d4-2656-44b7-8425-ede7daf5ec3d",
   "metadata": {},
   "outputs": [],
   "source": [
    "real_input = np.array([\n",
    "    [8,2,7,1,6,5,3,8,3,6],\n",
    "    [7,5,6,7,6,2,6,7,7,5],\n",
    "    [2,3,1,5,7,1,3,3,1,6],\n",
    "    [6,5,4,2,6,5,5,3,1,5],\n",
    "    [2,4,5,3,6,3,7,3,3,3],\n",
    "    [1,2,4,7,2,6,4,3,2,8],\n",
    "    [2,3,2,5,1,4,6,6,1,4],\n",
    "    [2,1,1,5,8,4,3,1,7,1],\n",
    "    [6,1,8,2,3,7,6,2,8,2],\n",
    "    [2,3,8,4,7,3,8,6,7,5]\n",
    "])"
   ]
  },
  {
   "cell_type": "code",
   "execution_count": 109,
   "id": "b2a2da80-dc5d-4985-b7c7-061d0802c750",
   "metadata": {},
   "outputs": [],
   "source": [
    "def handle_step(octos):\n",
    "    \n",
    "    rows, cols = np.where(octos > 9)\n",
    "    \n",
    "    # check return\n",
    "    if len(rows) == 0:\n",
    "        return octos\n",
    "    \n",
    "    max_len = octos.shape[0]\n",
    "    \n",
    "    for row, col in zip(rows, cols):\n",
    "        # register exploded\n",
    "        exploded_.append((row, col))\n",
    "        \n",
    "        min_y = max(row-1, 0)\n",
    "        max_y = min(row+2, max_len)\n",
    "        min_x = max(col-1, 0)\n",
    "        max_x = min(col+2, max_len)\n",
    "        \n",
    "        # print(f'{row, col}:{min_y, max_y, min_x, max_x}')\n",
    "        \n",
    "        octos[min_y: max_y, min_x:max_x] += 1\n",
    "        \n",
    "    # set already exploded to 0\n",
    "    for row, col in exploded_:\n",
    "        octos[row, col] = 0\n",
    "    \n",
    "    return handle_step(octos)"
   ]
  },
  {
   "cell_type": "code",
   "execution_count": 132,
   "id": "008ac006-56af-4297-9486-3c0efc28935f",
   "metadata": {},
   "outputs": [
    {
     "name": "stdout",
     "output_type": "stream",
     "text": [
      "267\n",
      "CPU times: user 22.6 ms, sys: 2.08 ms, total: 24.6 ms\n",
      "Wall time: 23.9 ms\n"
     ]
    }
   ],
   "source": [
    "%%time\n",
    "\n",
    "rsample = real_input.copy()\n",
    "\n",
    "total_flashes = 0\n",
    "\n",
    "for step in range(268):\n",
    "    rsample += 1\n",
    "    \n",
    "    exploded_ = []\n",
    "    \n",
    "    aftermath = handle_step(rsample)\n",
    "    \n",
    "    total_flashes += len(exploded_)\n",
    "    \n",
    "    if len(exploded_) == 100:\n",
    "        print(step)"
   ]
  },
  {
   "cell_type": "code",
   "execution_count": 123,
   "id": "ff9a743d-1c58-4fae-94b1-0c717e78ced5",
   "metadata": {},
   "outputs": [
    {
     "data": {
      "text/plain": [
       "1562"
      ]
     },
     "execution_count": 123,
     "metadata": {},
     "output_type": "execute_result"
    }
   ],
   "source": [
    "total_flashes"
   ]
  },
  {
   "cell_type": "code",
   "execution_count": 133,
   "id": "32d70c09-3013-4908-84d8-f7583ecbc1b5",
   "metadata": {},
   "outputs": [
    {
     "data": {
      "text/plain": [
       "<matplotlib.image.AxesImage at 0x7f509eecaf70>"
      ]
     },
     "execution_count": 133,
     "metadata": {},
     "output_type": "execute_result"
    },
    {
     "data": {
      "image/png": "[encoded data removed]",
      "text/plain": [
       "<Figure size 432x288 with 1 Axes>"
      ]
     },
     "metadata": {
      "needs_background": "light"
     },
     "output_type": "display_data"
    }
   ],
   "source": [
    "plt.imshow(rsample)"
   ]
  },
  {
   "cell_type": "code",
   "execution_count": 126,
   "id": "7dbedcd2-4e28-40dc-b9de-0f79f17f2097",
   "metadata": {},
   "outputs": [
    {
     "data": {
      "text/plain": [
       "(10, 10)"
      ]
     },
     "execution_count": 126,
     "metadata": {},
     "output_type": "execute_result"
    }
   ],
   "source": [
    "rsample.shape"
   ]
  },
  {
   "cell_type": "code",
   "execution_count": null,
   "id": "ad7d9e6d-740e-4559-8aec-b71ccf5aab8d",
   "metadata": {},
   "outputs": [],
   "source": []
  },
  {
   "cell_type": "code",
   "execution_count": null,
   "id": "42330b12-2a89-404c-b5aa-3b9944b9d322",
   "metadata": {},
   "outputs": [],
   "source": []
  }
 ],
 "metadata": {
  "kernelspec": {
   "display_name": "womt-env",
   "language": "python",
   "name": "womt-env"
  },
  "language_info": {
   "codemirror_mode": {
    "name": "ipython",
    "version": 3
   },
   "file_extension": ".py",
   "mimetype": "text/x-python",
   "name": "python",
   "nbconvert_exporter": "python",
   "pygments_lexer": "ipython3",
   "version": "3.8.6"
  }
 },
 "nbformat": 4,
 "nbformat_minor": 5
}
