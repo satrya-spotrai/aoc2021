{
 "cells": [
  {
   "cell_type": "code",
   "execution_count": 1,
   "id": "4e985c61-3f4f-4047-973a-f024161aab90",
   "metadata": {},
   "outputs": [],
   "source": [
    "import numpy as np \n",
    "import matplotlib.pyplot as plt"
   ]
  },
  {
   "cell_type": "code",
   "execution_count": 6,
   "id": "1f1008d0-cfe0-4dd5-a389-69d580bd4a56",
   "metadata": {},
   "outputs": [],
   "source": [
    "def read_file(input_loc):\n",
    "    with open(input_loc) as file:\n",
    "        listo = [line.rstrip('\\n') for line in file]\n",
    "    \n",
    "    return listo"
   ]
  },
  {
   "cell_type": "code",
   "execution_count": 9,
   "id": "0feb0474-7378-4ec8-b28c-1747482d4ac8",
   "metadata": {},
   "outputs": [],
   "source": [
    "examp1 = read_file('input/input_13ex.txt')"
   ]
  },
  {
   "cell_type": "code",
   "execution_count": 12,
   "id": "47f2d33c-21fd-42a0-a255-6a37016b5193",
   "metadata": {},
   "outputs": [
    {
     "data": {
      "text/plain": [
       "['6,10',\n",
       " '0,14',\n",
       " '9,10',\n",
       " '0,3',\n",
       " '10,4',\n",
       " '4,11',\n",
       " '6,0',\n",
       " '6,12',\n",
       " '4,1',\n",
       " '0,13',\n",
       " '10,12',\n",
       " '3,4',\n",
       " '3,0',\n",
       " '8,4',\n",
       " '1,10',\n",
       " '2,14',\n",
       " '8,10',\n",
       " '9,0',\n",
       " '',\n",
       " 'fold along y=7',\n",
       " 'fold along x=5']"
      ]
     },
     "execution_count": 12,
     "metadata": {},
     "output_type": "execute_result"
    }
   ],
   "source": [
    "examp1"
   ]
  },
  {
   "cell_type": "code",
   "execution_count": 22,
   "id": "f2a809d6-8d0f-44b5-a93a-c8b64d0a5281",
   "metadata": {},
   "outputs": [
    {
     "data": {
      "text/plain": [
       "['', 'fold along y=7', 'fold along x=5']"
      ]
     },
     "execution_count": 22,
     "metadata": {},
     "output_type": "execute_result"
    }
   ],
   "source": [
    "examp1[18:]"
   ]
  },
  {
   "cell_type": "code",
   "execution_count": 156,
   "id": "da5578f0-68c0-4ed9-90f1-5af956c80f3a",
   "metadata": {},
   "outputs": [],
   "source": [
    "def generate_array(inp):\n",
    "    csplit = inp.index('')\n",
    "    raw_coords = inp[:csplit]\n",
    "    \n",
    "    folds = inp[csplit+1:]\n",
    "    foldsr = [f.split(' ')[2] for f in folds]\n",
    "    foldpr = [(f[0], int(f[2:])) for f in foldsr]\n",
    "    \n",
    "    coords_str = [line.split(',') for line in raw_coords]\n",
    "    coords = [(int(col), int(row)) for col, row in coords_str]\n",
    "    \n",
    "    width = max([col for col, row in coords]) + 1\n",
    "    height = max([row for col, row in coords]) + 1\n",
    "    \n",
    "    if width % 2 == 0:\n",
    "        width += 1\n",
    "    \n",
    "    print(width, height)\n",
    "    \n",
    "    canvas = np.zeros((height, width))\n",
    "    \n",
    "    return coords, foldpr, canvas"
   ]
  },
  {
   "cell_type": "code",
   "execution_count": 83,
   "id": "f8cd2ffb-aa7d-46ac-934f-d864766ebd3e",
   "metadata": {},
   "outputs": [],
   "source": [
    "def draw_points(coords, canvas):\n",
    "    for col, row in coords:\n",
    "        canvas[row, col] = 1\n",
    "        \n",
    "    return canvas"
   ]
  },
  {
   "cell_type": "code",
   "execution_count": 84,
   "id": "c817bae7-cdb4-43b3-b5a7-811856794fb7",
   "metadata": {},
   "outputs": [],
   "source": [
    "coords, folds, canvas = generate_array(examp1)"
   ]
  },
  {
   "cell_type": "code",
   "execution_count": 47,
   "id": "7096e10b-664a-4282-8f07-7124b44a7e7b",
   "metadata": {},
   "outputs": [
    {
     "data": {
      "text/plain": [
       "['fold along y=7', 'fold along x=5']"
      ]
     },
     "execution_count": 47,
     "metadata": {},
     "output_type": "execute_result"
    }
   ],
   "source": [
    "folds"
   ]
  },
  {
   "cell_type": "code",
   "execution_count": 85,
   "id": "cbbb66f3-f41d-4b91-8bf0-24ef568fc3ef",
   "metadata": {},
   "outputs": [
    {
     "data": {
      "text/plain": [
       "array([[0., 0., 0., 1., 0., 0., 1., 0., 0., 1., 0.],\n",
       "       [0., 0., 0., 0., 1., 0., 0., 0., 0., 0., 0.],\n",
       "       [0., 0., 0., 0., 0., 0., 0., 0., 0., 0., 0.],\n",
       "       [1., 0., 0., 0., 0., 0., 0., 0., 0., 0., 0.],\n",
       "       [0., 0., 0., 1., 0., 0., 0., 0., 1., 0., 1.],\n",
       "       [0., 0., 0., 0., 0., 0., 0., 0., 0., 0., 0.],\n",
       "       [0., 0., 0., 0., 0., 0., 0., 0., 0., 0., 0.],\n",
       "       [0., 0., 0., 0., 0., 0., 0., 0., 0., 0., 0.],\n",
       "       [0., 0., 0., 0., 0., 0., 0., 0., 0., 0., 0.],\n",
       "       [0., 0., 0., 0., 0., 0., 0., 0., 0., 0., 0.],\n",
       "       [0., 1., 0., 0., 0., 0., 1., 0., 1., 1., 0.],\n",
       "       [0., 0., 0., 0., 1., 0., 0., 0., 0., 0., 0.],\n",
       "       [0., 0., 0., 0., 0., 0., 1., 0., 0., 0., 1.],\n",
       "       [1., 0., 0., 0., 0., 0., 0., 0., 0., 0., 0.],\n",
       "       [1., 0., 1., 0., 0., 0., 0., 0., 0., 0., 0.]])"
      ]
     },
     "execution_count": 85,
     "metadata": {},
     "output_type": "execute_result"
    }
   ],
   "source": [
    "draw_points(coords, canvas)"
   ]
  },
  {
   "cell_type": "code",
   "execution_count": 51,
   "id": "aace5ea7-b20b-4be9-8838-7205fa1e9908",
   "metadata": {},
   "outputs": [
    {
     "data": {
      "text/plain": [
       "<matplotlib.image.AxesImage at 0x7fbb2d0df3d0>"
      ]
     },
     "execution_count": 51,
     "metadata": {},
     "output_type": "execute_result"
    },
    {
     "data": {
      "image/png": "[encoded data removed]",
      "text/plain": [
       "<Figure size 432x288 with 1 Axes>"
      ]
     },
     "metadata": {
      "needs_background": "light"
     },
     "output_type": "display_data"
    }
   ],
   "source": [
    "plt.imshow(canvas)"
   ]
  },
  {
   "cell_type": "code",
   "execution_count": null,
   "id": "b5e96537-c167-4f52-b10b-c12c00d2fce6",
   "metadata": {},
   "outputs": [],
   "source": [
    "# fold "
   ]
  },
  {
   "cell_type": "code",
   "execution_count": 93,
   "id": "aaee29fc-acae-4aa7-8cb5-815296fe0f76",
   "metadata": {},
   "outputs": [],
   "source": [
    "canvasc = canvas.copy()"
   ]
  },
  {
   "cell_type": "code",
   "execution_count": 126,
   "id": "4938737a-3e9e-4455-a754-019e23eb12e4",
   "metadata": {},
   "outputs": [],
   "source": [
    "def folding(fold, canvas):\n",
    "    orient, line = fold\n",
    "    \n",
    "    if orient == 'y':\n",
    "        top = canvas[:line]\n",
    "        bottom = canvas[line+1:]\n",
    "        \n",
    "        bottom_flipped = np.flipud(bottom)\n",
    "        \n",
    "        merged = top + bottom_flipped\n",
    "    \n",
    "        return merged\n",
    "    \n",
    "    if orient == 'x':\n",
    "        left = canvas[:, :line]\n",
    "        right = canvas[:, line+1:]\n",
    "        \n",
    "        print(left.shape, right.shape)\n",
    "        \n",
    "        flipped_right = np.fliplr(right)\n",
    "        \n",
    "        merged = left + flipped_right\n",
    "        \n",
    "        return merged"
   ]
  },
  {
   "cell_type": "code",
   "execution_count": 94,
   "id": "8050e5d9-bd2a-45b9-8259-6be1cf64c432",
   "metadata": {},
   "outputs": [],
   "source": [
    "fold1 = folding(folds[0], canvasc)"
   ]
  },
  {
   "cell_type": "code",
   "execution_count": 96,
   "id": "83795b16-a2cd-4648-9ce6-0e558ec16d83",
   "metadata": {},
   "outputs": [
    {
     "data": {
      "text/plain": [
       "<matplotlib.image.AxesImage at 0x7fbb24fdaac0>"
      ]
     },
     "execution_count": 96,
     "metadata": {},
     "output_type": "execute_result"
    },
    {
     "data": {
      "image/png": "[encoded data removed]",
      "text/plain": [
       "<Figure size 432x288 with 1 Axes>"
      ]
     },
     "metadata": {
      "needs_background": "light"
     },
     "output_type": "display_data"
    }
   ],
   "source": [
    "plt.imshow(fold1)"
   ]
  },
  {
   "cell_type": "code",
   "execution_count": 105,
   "id": "b2a146c8-f961-4850-87cb-a00c8e9cf0b9",
   "metadata": {},
   "outputs": [
    {
     "data": {
      "text/plain": [
       "<matplotlib.image.AxesImage at 0x7fbb24f42070>"
      ]
     },
     "execution_count": 105,
     "metadata": {},
     "output_type": "execute_result"
    },
    {
     "data": {
      "image/png": "[encoded data removed]",
      "text/plain": [
       "<Figure size 432x288 with 1 Axes>"
      ]
     },
     "metadata": {
      "needs_background": "light"
     },
     "output_type": "display_data"
    }
   ],
   "source": [
    "plt.imshow(folding(folds[1], fold1))"
   ]
  },
  {
   "cell_type": "code",
   "execution_count": null,
   "id": "18e5e70c-2187-49a7-aeaf-c3119e90b16f",
   "metadata": {},
   "outputs": [],
   "source": []
  },
  {
   "cell_type": "markdown",
   "id": "9ece10f3-70aa-4b3c-914a-ea00522120df",
   "metadata": {},
   "source": [
    "## part 1 on REAL thing"
   ]
  },
  {
   "cell_type": "code",
   "execution_count": 107,
   "id": "432b704d-13a3-434b-b536-4fbc1cb16c3f",
   "metadata": {},
   "outputs": [],
   "source": [
    "rsample = read_file('input/input_13.txt')"
   ]
  },
  {
   "cell_type": "code",
   "execution_count": 157,
   "id": "e18d2192-5bb2-4563-a737-165e2aacae22",
   "metadata": {},
   "outputs": [
    {
     "name": "stdout",
     "output_type": "stream",
     "text": [
      "1311 895\n"
     ]
    }
   ],
   "source": [
    "coords, folds, canvas = generate_array(rsample)"
   ]
  },
  {
   "cell_type": "code",
   "execution_count": 158,
   "id": "0c0b5674-d572-44d2-ab10-8679810cc486",
   "metadata": {
    "tags": []
   },
   "outputs": [
    {
     "data": {
      "text/plain": [
       "array([[0., 0., 0., ..., 0., 0., 0.],\n",
       "       [0., 0., 0., ..., 0., 0., 0.],\n",
       "       [0., 0., 0., ..., 0., 0., 0.],\n",
       "       ...,\n",
       "       [0., 0., 0., ..., 0., 0., 0.],\n",
       "       [0., 0., 0., ..., 0., 0., 0.],\n",
       "       [0., 0., 0., ..., 0., 0., 0.]])"
      ]
     },
     "execution_count": 158,
     "metadata": {},
     "output_type": "execute_result"
    }
   ],
   "source": [
    "draw_points(coords, canvas)"
   ]
  },
  {
   "cell_type": "code",
   "execution_count": 170,
   "id": "7832c3b4-cf79-4d89-b8f1-9cc49ca44b5e",
   "metadata": {
    "collapsed": true,
    "jupyter": {
     "outputs_hidden": true
    },
    "tags": []
   },
   "outputs": [
    {
     "data": {
      "text/plain": [
       "<matplotlib.image.AxesImage at 0x7fbb232f9ca0>"
      ]
     },
     "execution_count": 170,
     "metadata": {},
     "output_type": "execute_result"
    },
    {
     "data": {
      "image/png": "[encoded data removed]",
      "text/plain": [
       "<Figure size 720x720 with 1 Axes>"
      ]
     },
     "metadata": {
      "needs_background": "light"
     },
     "output_type": "display_data"
    }
   ],
   "source": [
    "plt.figure(figsize=(10, 10))\n",
    "plt.imshow(canvas)"
   ]
  },
  {
   "cell_type": "code",
   "execution_count": null,
   "id": "e0e30d35-ff33-4d4a-852d-7b8135d107db",
   "metadata": {},
   "outputs": [],
   "source": []
  },
  {
   "cell_type": "code",
   "execution_count": 175,
   "id": "e1993137-ccb6-4151-a26d-28f3278b8331",
   "metadata": {},
   "outputs": [
    {
     "name": "stdout",
     "output_type": "stream",
     "text": [
      "('x', 655)\n",
      "(895, 655) (895, 655)\n",
      "('y', 447)\n",
      "('x', 327)\n",
      "(447, 327) (447, 327)\n",
      "('y', 223)\n",
      "('x', 163)\n",
      "(223, 163) (223, 163)\n",
      "('y', 111)\n",
      "('x', 81)\n",
      "(111, 81) (111, 81)\n",
      "('y', 55)\n",
      "('x', 40)\n",
      "(55, 40) (55, 40)\n",
      "('y', 27)\n",
      "('y', 13)\n",
      "('y', 6)\n"
     ]
    }
   ],
   "source": [
    "canvasc = canvas.copy()\n",
    "\n",
    "for fold in folds:\n",
    "    print(fold)\n",
    "    canvasc = folding(fold, canvasc)"
   ]
  },
  {
   "cell_type": "code",
   "execution_count": 176,
   "id": "6a7599ca-bcdc-4194-8ee4-f46cedeb1944",
   "metadata": {},
   "outputs": [
    {
     "data": {
      "text/plain": [
       "(102,)"
      ]
     },
     "execution_count": 176,
     "metadata": {},
     "output_type": "execute_result"
    }
   ],
   "source": [
    "np.where(canvasc > 0)[0].shape"
   ]
  },
  {
   "cell_type": "code",
   "execution_count": 178,
   "id": "5f31a2d2-0a02-4643-a918-d4d44249549a",
   "metadata": {},
   "outputs": [
    {
     "data": {
      "text/plain": [
       "<matplotlib.image.AxesImage at 0x7fbb23235190>"
      ]
     },
     "execution_count": 178,
     "metadata": {},
     "output_type": "execute_result"
    },
    {
     "data": {
      "image/png": "[encoded data removed]",
      "text/plain": [
       "<Figure size 432x288 with 1 Axes>"
      ]
     },
     "metadata": {
      "needs_background": "light"
     },
     "output_type": "display_data"
    }
   ],
   "source": [
    "plt.imshow(canvasc > 0)"
   ]
  },
  {
   "cell_type": "code",
   "execution_count": null,
   "id": "b1bcc723-9c1b-4cb8-a4b1-7fb25f117975",
   "metadata": {},
   "outputs": [],
   "source": [
    "# 102 too low"
   ]
  }
 ],
 "metadata": {
  "kernelspec": {
   "display_name": "womt-env",
   "language": "python",
   "name": "womt-env"
  },
  "language_info": {
   "codemirror_mode": {
    "name": "ipython",
    "version": 3
   },
   "file_extension": ".py",
   "mimetype": "text/x-python",
   "name": "python",
   "nbconvert_exporter": "python",
   "pygments_lexer": "ipython3",
   "version": "3.8.6"
  }
 },
 "nbformat": 4,
 "nbformat_minor": 5
}
